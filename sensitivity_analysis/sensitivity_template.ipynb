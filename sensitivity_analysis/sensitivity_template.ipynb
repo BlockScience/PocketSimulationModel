{
 "cells": [
  {
   "cell_type": "markdown",
   "id": "62f5d75a-6693-420c-b90c-da2b96fc0b68",
   "metadata": {},
   "source": [
    "# This is a non-functioning template to be used to create sensitivity plots for the Pocket cadCAD simulations"
   ]
  },
  {
   "cell_type": "code",
   "execution_count": null,
   "id": "0738425b-6873-47f2-8761-6f876cc4068b",
   "metadata": {},
   "outputs": [],
   "source": [
    "import pandas as pd\n",
    "import matplotlib.pyplot as plt\n",
    "import numpy as np\n"
   ]
  },
  {
   "cell_type": "code",
   "execution_count": null,
   "id": "ed79e3bc-91df-4cf2-b3ff-2db980e48fee",
   "metadata": {},
   "outputs": [],
   "source": [
    "import sys\n",
    "sys.path.insert(1, '.')\n",
    "import threshold_inequalities as TI"
   ]
  },
  {
   "cell_type": "code",
   "execution_count": null,
   "id": "ee49b2fc-c804-47a6-9ef4-a9689a5facbd",
   "metadata": {},
   "outputs": [],
   "source": [
    "# The scenario dataframe should be loaded here\n",
    "# df = load scenario dataframe"
   ]
  },
  {
   "cell_type": "code",
   "execution_count": null,
   "id": "c27b0a2d-ed6d-445a-b7b6-dddd8d20db7c",
   "metadata": {},
   "outputs": [],
   "source": [
    "# The control parameters for this scenario is a set with the exact names of the parameters in strings\n",
    "# that are swept over in this scenario--these names should match exactly the parameter names in the columns\n",
    "# of cadCAD's results DataFrame\n",
    "\n",
    "control_params = {\n",
    "    ...\n",
    "}"
   ]
  },
  {
   "cell_type": "code",
   "execution_count": null,
   "id": "cd0a0bb3-6198-4f81-8313-6469c0a1e12d",
   "metadata": {},
   "outputs": [],
   "source": [
    "# The threshold inequality values that are applicable to each threshold inequality for this scenario\n",
    "# is a dictionary keyed by the threshold inequality identifier in THRESHOLD_INEQUALITIES, with\n",
    "# values as given by the communication between Pocket and BSCI (https://hackmd.io/@blockscience/S1wdmDgvT)\n",
    "# Those values from (min, max, frac) which are not applicable should be set to 'None'\n",
    "\n",
    "threshold_values = {\n",
    "    # threshold_inequality_identifier : [min_value_if_any, max_value_if_any, frac_value_if_any]\n",
    "    # e.g. 'servicer_npv' : [750, None, 0.9]\n",
    "\n",
    "}"
   ]
  },
  {
   "cell_type": "code",
   "execution_count": null,
   "id": "5fbacc26-70ca-42d8-8c33-131aa0fea5dd",
   "metadata": {},
   "outputs": [],
   "source": [
    "# This code necessary data post-processing for the library to be applied\n",
    "# This should take place after the scenarios have run, but before the dataframe is stored for later retrieval\n",
    "# Note that the 'configs' object below is populated with scenario parameters from the cadCAD scenario run, \n",
    "# with \"M\" the parameter container\n",
    "# df = pd.DataFrame(records)\n",
    "\n",
    "# Drop all intermediate substeps\n",
    "# first_ind = (df.substep == 0) & (df.timestep == 0)\n",
    "# last_ind = df.substep == max(df.substep)\n",
    "# inds_to_drop = (first_ind | last_ind)\n",
    "# df = df.loc[inds_to_drop].drop(columns=['substep'])\n",
    "\n",
    "# Attribute parameters to each row\n",
    "# df = df.assign(**configs[0].sim_config['M'])\n",
    "# for i, (_, n_df) in enumerate(df.groupby(['simulation', 'subset', 'run'])):\n",
    "#     df.loc[n_df.index] = n_df.assign(**configs[i].sim_config['M'])\n",
    "\n",
    "# **Communication issue #308 (https://github.com/BlockScience/PocketSimulationModel/issues/308), this post-processing is already performed in the cadCAD workflow**"
   ]
  },
  {
   "cell_type": "code",
   "execution_count": null,
   "id": "db094453-40ef-45a2-86e5-aead881614c0",
   "metadata": {},
   "outputs": [],
   "source": [
    "# This code block performs sensitivity analysis on the parameter constellations\n",
    "# by plotting the decision tree and feature importance associated with each threshold inequality\n",
    "\n",
    "from cadcad_machine_search.visualizations import param_sensitivity_plot\n",
    "\n",
    "# Each threshold inequality is iterated over and the resulting plot is performed\n",
    "for ti in threshold_values.keys():\n",
    "    test_df = THRESHOLD_INEQUALITIES[ti](*threshold_values[ti])\n",
    "    test_df = drop_unnecessary_columns(test_df, control_params)\n",
    "    param_sensitivity_plot(df_test, control_params, ti + '_threshold', ti + ' inequality threshold')\n"
   ]
  }
 ],
 "metadata": {
  "kernelspec": {
   "display_name": "Python 3 (ipykernel)",
   "language": "python",
   "name": "python3"
  },
  "language_info": {
   "codemirror_mode": {
    "name": "ipython",
    "version": 3
   },
   "file_extension": ".py",
   "mimetype": "text/x-python",
   "name": "python",
   "nbconvert_exporter": "python",
   "pygments_lexer": "ipython3",
   "version": "3.9.18"
  }
 },
 "nbformat": 4,
 "nbformat_minor": 5
}
