{
 "cells": [
  {
   "cell_type": "code",
   "execution_count": 1,
   "id": "c050817c",
   "metadata": {},
   "outputs": [],
   "source": [
    "import pandas as pd\n",
    "import os\n",
    "from copy import deepcopy\n",
    "import numpy as np\n",
    "from math import isclose\n",
    "\n",
    "os.chdir(\"..\")\n"
   ]
  },
  {
   "cell_type": "code",
   "execution_count": 2,
   "id": "59656a95",
   "metadata": {},
   "outputs": [],
   "source": [
    "kpis = pd.read_csv(\"simulation_data/gateway_viability_sweep_ag1_.csv\", index_col=0)"
   ]
  },
  {
   "cell_type": "code",
   "execution_count": 4,
   "id": "39bc4333",
   "metadata": {},
   "outputs": [
    {
     "data": {
      "text/plain": [
       "['Net Minting Rate',\n",
       " 'KPI C',\n",
       " 'Experiment Name',\n",
       " 'State Set',\n",
       " 'Params Set',\n",
       " 'timestep',\n",
       " 'KPI E',\n",
       " 'KPI 1',\n",
       " 'KPI 3',\n",
       " 'KPI 11',\n",
       " 'KPI 14',\n",
       " 'total_relays',\n",
       " 'processed_relays',\n",
       " 'kpi_a',\n",
       " 'floating_supply',\n",
       " 'circulating_supply',\n",
       " 'dao_value_capture',\n",
       " 'POKT_burned_cummulative',\n",
       " 'POKT_minted_cummulative',\n",
       " 'POKT_net_mint_cummulative',\n",
       " 'burn_rate_cummulative',\n",
       " 'mint_rate_cummulative',\n",
       " 'net_mint_rate_cummulative']"
      ]
     },
     "execution_count": 4,
     "metadata": {},
     "output_type": "execute_result"
    }
   ],
   "source": [
    "[col for col in kpis.columns if not \"param\" in col]"
   ]
  },
  {
   "cell_type": "code",
   "execution_count": 7,
   "id": "7da28c1f",
   "metadata": {},
   "outputs": [
    {
     "data": {
      "text/plain": [
       "0     -6.329316e+10\n",
       "1     -5.458601e+10\n",
       "2      1.447123e+11\n",
       "3      1.843516e+11\n",
       "4      7.686125e+11\n",
       "           ...     \n",
       "283    6.589974e+11\n",
       "284    1.971990e+12\n",
       "285    1.857029e+12\n",
       "286    5.925113e+12\n",
       "287    5.936564e+12\n",
       "Name: KPI 1, Length: 288, dtype: float64"
      ]
     },
     "execution_count": 7,
     "metadata": {},
     "output_type": "execute_result"
    }
   ],
   "source": [
    "kpis[\"KPI 1\"] #Servicer NPV"
   ]
  },
  {
   "cell_type": "code",
   "execution_count": 8,
   "id": "25996f00",
   "metadata": {},
   "outputs": [
    {
     "data": {
      "text/plain": [
       "0     -8.185215e+10\n",
       "1     -8.077186e+10\n",
       "2     -2.222146e+11\n",
       "3     -2.714901e+11\n",
       "4     -8.744452e+11\n",
       "           ...     \n",
       "283   -3.402813e+13\n",
       "284   -3.414151e+13\n",
       "285   -3.409033e+13\n",
       "286   -3.440236e+13\n",
       "287   -3.430726e+13\n",
       "Name: KPI 3, Length: 288, dtype: float64"
      ]
     },
     "execution_count": 8,
     "metadata": {},
     "output_type": "execute_result"
    }
   ],
   "source": [
    "kpis[\"KPI 3\"] #Gateway NPV"
   ]
  },
  {
   "cell_type": "code",
   "execution_count": 10,
   "id": "3faa65b5",
   "metadata": {},
   "outputs": [
    {
     "data": {
      "text/plain": [
       "0      1.518397e+16\n",
       "1      1.518153e+16\n",
       "2      1.518092e+16\n",
       "3      1.518029e+16\n",
       "4      1.518670e+16\n",
       "           ...     \n",
       "283    1.521606e+16\n",
       "284    1.522189e+16\n",
       "285    1.522147e+16\n",
       "286    1.524091e+16\n",
       "287    1.524109e+16\n",
       "Name: circulating_supply, Length: 288, dtype: float64"
      ]
     },
     "execution_count": 10,
     "metadata": {},
     "output_type": "execute_result"
    }
   ],
   "source": [
    "kpis[\"circulating_supply\"] # KPI 4: POKT Circulating Supply"
   ]
  },
  {
   "cell_type": "code",
   "execution_count": 13,
   "id": "0334be3b",
   "metadata": {},
   "outputs": [
    {
     "data": {
      "text/plain": [
       "Index(['KPI 1', 'KPI 3', 'circulating_supply', 'floating_supply',\n",
       "       'dao_value_capture'],\n",
       "      dtype='object')"
      ]
     },
     "execution_count": 13,
     "metadata": {},
     "output_type": "execute_result"
    }
   ],
   "source": [
    "network_viability_cols = [\"KPI 1\",  #Servicer NPV\n",
    "                          \"KPI 3\",  #Gateway NPV\n",
    "                          \"circulating_supply\", \n",
    "                          \"floating_supply\", # available supply?\n",
    "                          # TODO: find inflation column\n",
    "                          \"dao_value_capture\"]\n",
    "network_viability_df = kpis[network_viability_cols]\n",
    "network_viability_df.columns"
   ]
  },
  {
   "cell_type": "code",
   "execution_count": 21,
   "id": "83324b1f",
   "metadata": {},
   "outputs": [
    {
     "data": {
      "text/plain": [
       "True"
      ]
     },
     "execution_count": 21,
     "metadata": {},
     "output_type": "execute_result"
    }
   ],
   "source": [
    "(network_viability_df[\"KPI 1\"] > 0.3).mean() >= 0.7"
   ]
  },
  {
   "cell_type": "markdown",
   "id": "be167d98",
   "metadata": {},
   "source": [
    "## Network Viability"
   ]
  },
  {
   "cell_type": "code",
   "execution_count": null,
   "id": "fdb5f8e9",
   "metadata": {},
   "outputs": [],
   "source": [
    "# Network Viability\n",
    "# Threshold Inequality 1\n",
    "# Servicer NPV\n",
    "\n",
    "bar_s1 = 750 # POKT Threshold Value\n",
    "bar_s2 = 0.9 # Fraction of Monte Carlo Sims\n",
    "\n",
    "def servicer_npv_gt_s1_geq_s2(df: pd.DataFrame,\n",
    "                              col_name = \"KPI 1\",\n",
    "                              min_pokt_threshold: float = None,\n",
    "                              frac_monte_carlo_sims: float = None) -> int:\n",
    "    if min_pokt_threshold is None:\n",
    "        min_pokt_threshold = bar_s1\n",
    "    if frac_monte_carlo_sims is None:\n",
    "        frac_monte_carlo_sims = bar_s2\n",
    "    \n",
    "    threshold_met = (df[col_name] > min_pokt_threshold).mean() >= frac_monte_carlo_sims\n",
    "\n",
    "    return threshold_met\n",
    "\n",
    "servicer_npv_gt_s1_geq_s2(network_viability_df)"
   ]
  },
  {
   "cell_type": "code",
   "execution_count": 26,
   "id": "e8b4dce3",
   "metadata": {},
   "outputs": [
    {
     "data": {
      "text/plain": [
       "False"
      ]
     },
     "execution_count": 26,
     "metadata": {},
     "output_type": "execute_result"
    }
   ],
   "source": [
    "# Network Viability\n",
    "# Threshold Inequality 2\n",
    "# Gateway NPV\n",
    "\n",
    "bar_t1 = 7500 # Minimum Gateway NPV Threshold\n",
    "bar_t2 = 0.9 #Monte Carlo Simulation Fraction\n",
    "\n",
    "def gateway_npv_gt_t1_geq_t2(df: pd.DataFrame,\n",
    "                              col_name = \"KPI 3\",\n",
    "                              min_pokt_threshold: float = None,\n",
    "                              frac_monte_carlo_sims: float = None) -> int:\n",
    "    if min_pokt_threshold is None:\n",
    "        min_pokt_threshold = bar_t1\n",
    "    if frac_monte_carlo_sims is None:\n",
    "        frac_monte_carlo_sims = bar_t2\n",
    "    \n",
    "    threshold_met = (df[col_name] > min_pokt_threshold).mean() >= frac_monte_carlo_sims\n",
    "\n",
    "    return threshold_met\n",
    "\n",
    "gateway_npv_gt_t1_geq_t2(kpis)"
   ]
  },
  {
   "cell_type": "code",
   "execution_count": 29,
   "id": "b8f7f6e6",
   "metadata": {},
   "outputs": [
    {
     "ename": "SyntaxError",
     "evalue": "expected ':' (2489983902.py, line 10)",
     "output_type": "error",
     "traceback": [
      "\u001b[1;36m  Cell \u001b[1;32mIn[29], line 10\u001b[1;36m\u001b[0m\n\u001b[1;33m    threshold_val:float = None)\u001b[0m\n\u001b[1;37m                               ^\u001b[0m\n\u001b[1;31mSyntaxError\u001b[0m\u001b[1;31m:\u001b[0m expected ':'\n"
     ]
    }
   ],
   "source": [
    "# Network Viability\n",
    "# Threshold Inequality 5\n",
    "# Relationship Between Circulating Supply and Available Supply\n",
    "\n",
    "v_1 = 0.3\n",
    "\n",
    "def ratio_circ_to_available_supply_gt_v1(df: pd.DataFrame,\n",
    "                                         circ_supply_col:str = \"circulating_supply\",\n",
    "                                         available_supply_col:str = \"floating_supply\",\n",
    "                                         threshold_val:float = None\n",
    "                                         ):\n",
    "    if threshold_val is None:\n",
    "        threshold_val = v_1\n",
    "    threshold_met = (df[circ_supply_col]/df[available_supply_col]).mean() > threshold_val\n",
    "    return threshold_met\n",
    "\n"
   ]
  },
  {
   "cell_type": "code",
   "execution_count": null,
   "id": "e54a2d60",
   "metadata": {},
   "outputs": [],
   "source": []
  }
 ],
 "metadata": {
  "kernelspec": {
   "display_name": "Python 3 (ipykernel)",
   "language": "python",
   "name": "python3"
  },
  "language_info": {
   "codemirror_mode": {
    "name": "ipython",
    "version": 3
   },
   "file_extension": ".py",
   "mimetype": "text/x-python",
   "name": "python",
   "nbconvert_exporter": "python",
   "pygments_lexer": "ipython3",
   "version": "3.11.4"
  }
 },
 "nbformat": 4,
 "nbformat_minor": 5
}
