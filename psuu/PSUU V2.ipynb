{
 "cells": [
  {
   "cell_type": "code",
   "execution_count": 1,
   "id": "59025132",
   "metadata": {},
   "outputs": [
    {
     "name": "stderr",
     "output_type": "stream",
     "text": [
      "/Users/seanmcowen/opt/anaconda3/envs/BlockScience/lib/python3.9/site-packages/tqdm/auto.py:22: TqdmWarning: IProgress not found. Please update jupyter and ipywidgets. See https://ipywidgets.readthedocs.io/en/stable/user_install.html\n",
      "  from .autonotebook import tqdm as notebook_tqdm\n"
     ]
    },
    {
     "ename": "AssertionError",
     "evalue": "",
     "output_type": "error",
     "traceback": [
      "\u001b[0;31m---------------------------------------------------------------------------\u001b[0m",
      "\u001b[0;31mAssertionError\u001b[0m                            Traceback (most recent call last)",
      "\u001b[0;32m/var/folders/y0/fwkpk2ps087b_2qxvhjstrfr0000gn/T/ipykernel_62530/2942868848.py\u001b[0m in \u001b[0;36m<module>\u001b[0;34m\u001b[0m\n\u001b[1;32m     21\u001b[0m \u001b[0mvariable_params\u001b[0m \u001b[0;34m=\u001b[0m \u001b[0mscenario_configs\u001b[0m\u001b[0;34m[\u001b[0m\u001b[0msweep_family\u001b[0m\u001b[0;34m]\u001b[0m\u001b[0;34m[\u001b[0m\u001b[0;34m'variable_params'\u001b[0m\u001b[0;34m]\u001b[0m\u001b[0;34m\u001b[0m\u001b[0;34m\u001b[0m\u001b[0m\n\u001b[1;32m     22\u001b[0m \u001b[0mcontrol_params\u001b[0m \u001b[0;34m=\u001b[0m \u001b[0mscenario_configs\u001b[0m\u001b[0;34m[\u001b[0m\u001b[0msweep_family\u001b[0m\u001b[0;34m]\u001b[0m\u001b[0;34m[\u001b[0m\u001b[0;34m'control_params'\u001b[0m\u001b[0;34m]\u001b[0m\u001b[0;34m\u001b[0m\u001b[0;34m\u001b[0m\u001b[0m\n\u001b[0;32m---> 23\u001b[0;31m \u001b[0;32massert\u001b[0m \u001b[0;32mFalse\u001b[0m\u001b[0;34m\u001b[0m\u001b[0;34m\u001b[0m\u001b[0m\n\u001b[0m\u001b[1;32m     24\u001b[0m \u001b[0mparams_to_evolve\u001b[0m \u001b[0;34m=\u001b[0m \u001b[0;34m{\u001b[0m\u001b[0;34m}\u001b[0m\u001b[0;34m\u001b[0m\u001b[0;34m\u001b[0m\u001b[0m\n\u001b[1;32m     25\u001b[0m \u001b[0;32mfor\u001b[0m \u001b[0mx\u001b[0m \u001b[0;32min\u001b[0m \u001b[0mvariable_params\u001b[0m\u001b[0;34m:\u001b[0m\u001b[0;34m\u001b[0m\u001b[0;34m\u001b[0m\u001b[0m\n",
      "\u001b[0;31mAssertionError\u001b[0m: "
     ]
    }
   ],
   "source": [
    "import pandas as pd\n",
    "import os\n",
    "from copy import deepcopy\n",
    "import numpy as np\n",
    "from math import isclose\n",
    "\n",
    "os.chdir(\"..\")\n",
    "from adaptive_multigrid import give_data_individual_names, find_best_individual_name, build_individual_dict_from_param_grid, update_param_grid\n",
    "from psuu import scenario_configs, build_next_param_config_code\n",
    "from model.config.params import *\n",
    "\n",
    "\n",
    "\n",
    "sweep = \"gateway_viability_sweep_ag1_\"\n",
    "sweep_family = sweep[:sweep.index(\"_ag\")+3]\n",
    "kpis = pd.read_csv(\"simulation_data/{}.csv\".format(sweep), index_col=0)\n",
    "\n",
    "exec(\"param_config = {}\".format(sweep))\n",
    "next_name = sweep[:-2] + str(int(sweep[-2]) + 1) + \"_\"\n",
    "fitness_func = scenario_configs[sweep_family]['fitness_function']\n",
    "variable_params = scenario_configs[sweep_family]['variable_params']\n",
    "control_params = scenario_configs[sweep_family]['control_params']\n",
    "assert False\n",
    "params_to_evolve = {}\n",
    "for x in variable_params:\n",
    "    params_to_evolve[x] = param_config[x]\n",
    "\n",
    "params_for_setup_only = {}\n",
    "for x in control_params:\n",
    "    params_for_setup_only[x] = param_config[x]\n",
    "\n",
    "initial_param_grid = params_to_evolve\n",
    "other_params_to_sweep = params_for_setup_only\n",
    "\n",
    "new_param_grid = deepcopy(initial_param_grid)\n",
    "new_best_name = \"\"\n",
    "new_best_fitness = -np.inf\n",
    "times_repeat_best_name = 0\n",
    "times_repeat_best_fitness = 0\n",
    "\n",
    "old_param_grid = deepcopy(new_param_grid)\n",
    "old_best_name = new_best_name\n",
    "old_best_fitness = new_best_fitness\n",
    "\n",
    "individual_dict = build_individual_dict_from_param_grid(old_param_grid)\n",
    "        \n",
    "        \n",
    "\n",
    "data = kpis\n",
    "data = give_data_individual_names(data)\n",
    "\n",
    "new_best_name, new_best_val = find_best_individual_name(\n",
    "            data, fitness_func=fitness_func, name_biased_towards=old_best_name\n",
    "        )\n",
    "\n",
    "assert not (\n",
    "            new_best_name is None\n",
    "        ), \"The best individual should be somewhere in this dictionary.\"\n",
    "print(new_best_name)\n",
    "\n",
    "new_best_individual = individual_dict[new_best_name]\n",
    "\n",
    "if new_best_name == old_best_name:\n",
    "    times_repeat_best_name = times_repeat_best_name + 1\n",
    "else:\n",
    "    times_repeat_best_name = 0\n",
    "\n",
    "if isclose(new_best_fitness, old_best_fitness):\n",
    "    times_repeat_best_fitness = times_repeat_best_fitness + 1\n",
    "else:\n",
    "    times_repeat_best_fitness = 0\n",
    "    \n",
    "new_param_grid = update_param_grid(\n",
    "                old_param_grid=old_param_grid, best_individual=new_best_individual\n",
    "            )"
   ]
  },
  {
   "cell_type": "code",
   "execution_count": 44,
   "id": "e018f977",
   "metadata": {},
   "outputs": [],
   "source": [
    "thresholds = {\"a1\": .1,\n",
    "             \"a2\": .9,\n",
    "             \"s1\": 750*1e6,\n",
    "             \"s2\": .9,\n",
    "             \"t1\": 7500*1e6,\n",
    "             \"t2\": .9}\n",
    "grouping = kpis.groupby([\"param_\" + x for x in variable_params])"
   ]
  },
  {
   "cell_type": "code",
   "execution_count": 52,
   "id": "858dd313",
   "metadata": {},
   "outputs": [
    {
     "name": "stdout",
     "output_type": "stream",
     "text": [
      "Threshold Servicer Capital Costs    0.0\n",
      "Threshold Servicer NPV              0.0\n",
      "Threshold Gateway NPV               0.0\n",
      "dtype: float64\n"
     ]
    }
   ],
   "source": [
    "# Get average cost\n",
    "thresh1 = grouping.apply(lambda x: x[\"KPI 14\"].mean())\n",
    "# Check if bounded between\n",
    "thresh1 = (thresh1 > thresholds[\"a1\"]) & (thresh1 < thresholds[\"a2\"])\n",
    "\n",
    "# Check average monte carlo success for servicer NPV\n",
    "thresh2 = grouping.apply(lambda x: (x[\"KPI 1\"] > thresholds[\"s1\"]).mean())\n",
    "# Check number of successful parameter constellations\n",
    "thresh2 = thresh2 > thresholds[\"s2\"]\n",
    "\n",
    "# Check average monte carlo success for gateway NPV\n",
    "thresh3 = grouping.apply(lambda x: (x[\"KPI 3\"] > thresholds[\"t1\"]).mean())\n",
    "# Check number of successful parameter constellations\n",
    "thresh3 = thresh3 > thresholds[\"t2\"]\n",
    "\n",
    "thresh = pd.concat([thresh1, thresh2, thresh3], axis=1)\n",
    "thresh.columns = [\"Threshold Servicer Capital Costs\", \"Threshold Servicer NPV\", \"Threshold Gateway NPV\"]\n",
    "print(thresh.mean())"
   ]
  },
  {
   "cell_type": "code",
   "execution_count": null,
   "id": "c4150def",
   "metadata": {},
   "outputs": [],
   "source": []
  },
  {
   "cell_type": "code",
   "execution_count": 34,
   "id": "29b0b1db",
   "metadata": {},
   "outputs": [
    {
     "data": {
      "text/plain": [
       "True"
      ]
     },
     "execution_count": 34,
     "metadata": {},
     "output_type": "execute_result"
    }
   ],
   "source": [
    "kpis[\"KPI 1\"].max() > 750*1e6"
   ]
  },
  {
   "cell_type": "code",
   "execution_count": 25,
   "id": "259b9331",
   "metadata": {},
   "outputs": [],
   "source": [
    "scores[\"Servicer Capital Costs\"] = ((scores[\"KPI 14\"] > thresholds[\"a1\"]) & (scores[\"KPI 14\"] < thresholds[\"a2\"]))\n"
   ]
  },
  {
   "cell_type": "code",
   "execution_count": 26,
   "id": "564a815e",
   "metadata": {},
   "outputs": [
    {
     "data": {
      "text/plain": [
       "0       False\n",
       "1       False\n",
       "2       False\n",
       "3       False\n",
       "4       False\n",
       "        ...  \n",
       "1435    False\n",
       "1436    False\n",
       "1437    False\n",
       "1438    False\n",
       "1439    False\n",
       "Name: Servicer Capital Costs, Length: 1440, dtype: bool"
      ]
     },
     "execution_count": 26,
     "metadata": {},
     "output_type": "execute_result"
    }
   ],
   "source": [
    "scores[\"Servicer Capital Costs\"]"
   ]
  },
  {
   "cell_type": "code",
   "execution_count": 16,
   "id": "cd56d384",
   "metadata": {},
   "outputs": [
    {
     "data": {
      "text/plain": [
       "['Net Minting Rate',\n",
       " 'KPI C',\n",
       " 'Experiment Name',\n",
       " 'State Set',\n",
       " 'Params Set',\n",
       " 'timestep',\n",
       " 'param_minimum_stake_servicer',\n",
       " 'param_minimum_stake_period_servicer',\n",
       " 'param_minimum_pause_time',\n",
       " 'param_max_chains_servicer',\n",
       " 'param_relays_to_tokens_multiplier',\n",
       " 'param_slash_fraction_downtime',\n",
       " 'param_downtime_jail_duration',\n",
       " 'param_minimum_servicers_per_session',\n",
       " 'param_maximum_servicers_per_session',\n",
       " 'param_application_fee_per_relay',\n",
       " 'param_minimum_application_stake',\n",
       " 'param_app_burn_per_session',\n",
       " 'param_app_burn_per_relay',\n",
       " 'param_block_proposer_allocation',\n",
       " 'param_dao_allocation',\n",
       " 'param_servicer_allocation',\n",
       " 'param_stake_per_app_delegation',\n",
       " 'param_gateway_fee_per_relay',\n",
       " 'param_gateway_minimum_stake',\n",
       " 'param_session_token_bucket_coefficient',\n",
       " 'param_dao_fee_percentage',\n",
       " 'param_validator_fee_percentage',\n",
       " 'param_transaction_fee',\n",
       " 'param_min_bootstrap_gateway_fee_per_relay',\n",
       " 'param_maturity_relay_charge',\n",
       " 'param_gateway_bootstrap_unwind_start',\n",
       " 'param_gateway_bootstrap_end',\n",
       " 'param_supply_grow_cap',\n",
       " 'param_servicer_bootstrap_end',\n",
       " 'param_max_bootstrap_servicer_cost_per_relay',\n",
       " 'param_servicer_bootstrap_unwind_start',\n",
       " 'param_maturity_relay_cost',\n",
       " 'param_oracle_treatment_time_mean',\n",
       " 'param_kpi_3_R',\n",
       " 'param_application_max_number',\n",
       " 'param_servicer_max_number',\n",
       " 'param_service_max_number',\n",
       " 'param_gateway_max_number',\n",
       " 'param_service_max_number_link',\n",
       " 'param_application_leave_probability',\n",
       " 'param_gateway_leave_probability',\n",
       " 'param_service_leave_probability',\n",
       " 'param_servicer_leave_probability',\n",
       " 'param_service_unlinking_probability',\n",
       " 'param_gateway_undelegation_probability',\n",
       " 'param_relays_per_session_gamma_distribution_shape',\n",
       " 'param_relays_per_session_gamma_distribution_scale',\n",
       " 'param_average_session_per_application',\n",
       " 'param_servicer_jailing_probability',\n",
       " 'param_uses_gateway_probability',\n",
       " 'param_applications_use_min_servicers',\n",
       " 'param_applications_use_max_servicers',\n",
       " 'param_lambda_ewm_revenue_expectation',\n",
       " 'param_service_linking_probability_normal',\n",
       " 'param_service_linking_probability_just_joined',\n",
       " 'param_kick_bottom_probability',\n",
       " 'param_oracle_price_kde_bandwidth',\n",
       " 'param_oracle_price_interarrival_time_flag',\n",
       " 'param_event',\n",
       " 'param_servicer_service_density_starting',\n",
       " 'param_application_join_function',\n",
       " 'param_servicer_join_function',\n",
       " 'param_service_join_function',\n",
       " 'param_gateway_join_function',\n",
       " 'param_service_linking_function',\n",
       " 'param_gateway_delegation_function',\n",
       " 'param_relay_requests_function',\n",
       " 'param_submit_relay_requests_function',\n",
       " 'param_submit_relay_requests_policy_function',\n",
       " 'param_application_leave_function',\n",
       " 'param_service_leave_function',\n",
       " 'param_servicer_leave_function',\n",
       " 'param_gateway_leave_function',\n",
       " 'param_service_unlinking_function',\n",
       " 'param_gateway_undelegation_function',\n",
       " 'param_servicer_stake_function',\n",
       " 'param_application_stake_function',\n",
       " 'param_jailing_function',\n",
       " 'param_gateway_stake_function',\n",
       " 'KPI E',\n",
       " 'KPI 1',\n",
       " 'KPI 3',\n",
       " 'KPI 11',\n",
       " 'KPI 14',\n",
       " 'total_relays',\n",
       " 'processed_relays',\n",
       " 'kpi_a',\n",
       " 'floating_supply',\n",
       " 'circulating_supply',\n",
       " 'dao_value_capture',\n",
       " 'POKT_burned_cummulative',\n",
       " 'POKT_minted_cummulative',\n",
       " 'POKT_net_mint_cummulative',\n",
       " 'burn_rate_cummulative',\n",
       " 'mint_rate_cummulative',\n",
       " 'net_mint_rate_cummulative']"
      ]
     },
     "execution_count": 16,
     "metadata": {},
     "output_type": "execute_result"
    }
   ],
   "source": [
    "list(scores.columns)"
   ]
  },
  {
   "cell_type": "code",
   "execution_count": 9,
   "id": "15bb366a",
   "metadata": {},
   "outputs": [
    {
     "data": {
      "text/plain": [
       "<pandas.core.groupby.generic.DataFrameGroupBy object at 0x7fd8da541610>"
      ]
     },
     "execution_count": 9,
     "metadata": {},
     "output_type": "execute_result"
    }
   ],
   "source": [
    "grouping.apply(lambda x: )"
   ]
  },
  {
   "cell_type": "code",
   "execution_count": 2,
   "id": "ea475bd4",
   "metadata": {},
   "outputs": [
    {
     "name": "stdout",
     "output_type": "stream",
     "text": [
      "Add the following to model/config/params.py:\n",
      "\n",
      "gateway_viability_sweep_ag6_ = build_params(\"Base\")\n",
      "gateway_viability_sweep_ag6_[\"session_token_bucket_coefficient\"] = [189.0625, 200.78125]\n",
      "gateway_viability_sweep_ag6_[\"gateway_fee_per_relay\"] = [21.875, 22.1875]\n",
      "gateway_viability_sweep_ag6_[\"application_fee_per_relay\"] = [25.625, 25.9375]\n",
      "gateway_viability_sweep_ag6_[\"gateway_minimum_stake\"] = [137500000000.0, 140625000000.0]\n",
      "gateway_viability_sweep_ag6_[\"minimum_application_stake\"] = [187500000000.0, 190625000000.0]\n",
      "gateway_viability_sweep_ag6_[\"application_max_number\"] = [5, 20, 100]\n",
      "gateway_viability_sweep_ag6_[\"relays_per_session_gamma_distribution_scale\"] = [100000, 300000, 900000]\n",
      "create_sweep(\"gateway_viability_sweep_ag6_\",gateway_viability_sweep_ag6_,config_option_map_sweep)\n",
      "\n",
      "\n",
      "Add the following to model/config/experiment.py:\n",
      "\n",
      "for i in range(1, 289):\n",
      "    experimental_setups[\"gateway_viability_sweep_ag6_{}\".format(i)] = {\n",
      "        \"config_option_state\": \"Base\",\n",
      "        \"config_option_params\": \"gateway_viability_sweep_ag6_{}\".format(i),\n",
      "        \"monte_carlo_n\": 5,\n",
      "        \"T\": 365,\n",
      "    }\n",
      "\n",
      "\n",
      "Add the following to GRID_NUMBERS in cloud_utility.py\n",
      "\"gateway_viability_sweep_ag6_\": 288\n"
     ]
    }
   ],
   "source": [
    "\n",
    "build_next_param_config_code(\n",
    "    next_name, new_param_grid, control_params, param_config\n",
    ")"
   ]
  },
  {
   "cell_type": "code",
   "execution_count": null,
   "id": "768beb4f",
   "metadata": {},
   "outputs": [],
   "source": []
  },
  {
   "cell_type": "code",
   "execution_count": 4,
   "id": "cc440ad1",
   "metadata": {},
   "outputs": [
    {
     "data": {
      "text/plain": [
       "['Net Minting Rate',\n",
       " 'KPI C',\n",
       " 'Experiment Name',\n",
       " 'State Set',\n",
       " 'Params Set',\n",
       " 'timestep',\n",
       " 'param_minimum_stake_servicer',\n",
       " 'param_minimum_stake_period_servicer',\n",
       " 'param_minimum_pause_time',\n",
       " 'param_max_chains_servicer',\n",
       " 'param_relays_to_tokens_multiplier',\n",
       " 'param_slash_fraction_downtime',\n",
       " 'param_downtime_jail_duration',\n",
       " 'param_minimum_servicers_per_session',\n",
       " 'param_maximum_servicers_per_session',\n",
       " 'param_application_fee_per_relay',\n",
       " 'param_minimum_application_stake',\n",
       " 'param_app_burn_per_session',\n",
       " 'param_app_burn_per_relay',\n",
       " 'param_block_proposer_allocation',\n",
       " 'param_dao_allocation',\n",
       " 'param_servicer_allocation',\n",
       " 'param_stake_per_app_delegation',\n",
       " 'param_gateway_fee_per_relay',\n",
       " 'param_gateway_minimum_stake',\n",
       " 'param_session_token_bucket_coefficient',\n",
       " 'param_dao_fee_percentage',\n",
       " 'param_validator_fee_percentage',\n",
       " 'param_transaction_fee',\n",
       " 'param_min_bootstrap_gateway_fee_per_relay',\n",
       " 'param_maturity_relay_charge',\n",
       " 'param_gateway_bootstrap_unwind_start',\n",
       " 'param_gateway_bootstrap_end',\n",
       " 'param_supply_grow_cap',\n",
       " 'param_servicer_bootstrap_end',\n",
       " 'param_max_bootstrap_servicer_cost_per_relay',\n",
       " 'param_servicer_bootstrap_unwind_start',\n",
       " 'param_maturity_relay_cost',\n",
       " 'param_oracle_treatment_time_mean',\n",
       " 'param_kpi_3_R',\n",
       " 'param_application_max_number',\n",
       " 'param_servicer_max_number',\n",
       " 'param_service_max_number',\n",
       " 'param_gateway_max_number',\n",
       " 'param_service_max_number_link',\n",
       " 'param_application_leave_probability',\n",
       " 'param_gateway_leave_probability',\n",
       " 'param_service_leave_probability',\n",
       " 'param_servicer_leave_probability',\n",
       " 'param_service_unlinking_probability',\n",
       " 'param_gateway_undelegation_probability',\n",
       " 'param_relays_per_session_gamma_distribution_shape',\n",
       " 'param_relays_per_session_gamma_distribution_scale',\n",
       " 'param_average_session_per_application',\n",
       " 'param_servicer_jailing_probability',\n",
       " 'param_uses_gateway_probability',\n",
       " 'param_applications_use_min_servicers',\n",
       " 'param_applications_use_max_servicers',\n",
       " 'param_lambda_ewm_revenue_expectation',\n",
       " 'param_service_linking_probability_normal',\n",
       " 'param_service_linking_probability_just_joined',\n",
       " 'param_kick_bottom_probability',\n",
       " 'param_oracle_price_kde_bandwidth',\n",
       " 'param_oracle_price_interarrival_time_flag',\n",
       " 'param_event',\n",
       " 'param_servicer_service_density_starting',\n",
       " 'param_application_join_function',\n",
       " 'param_servicer_join_function',\n",
       " 'param_service_join_function',\n",
       " 'param_gateway_join_function',\n",
       " 'param_service_linking_function',\n",
       " 'param_gateway_delegation_function',\n",
       " 'param_relay_requests_function',\n",
       " 'param_submit_relay_requests_function',\n",
       " 'param_submit_relay_requests_policy_function',\n",
       " 'param_application_leave_function',\n",
       " 'param_service_leave_function',\n",
       " 'param_servicer_leave_function',\n",
       " 'param_gateway_leave_function',\n",
       " 'param_service_unlinking_function',\n",
       " 'param_gateway_undelegation_function',\n",
       " 'param_servicer_stake_function',\n",
       " 'param_application_stake_function',\n",
       " 'param_jailing_function',\n",
       " 'param_gateway_stake_function',\n",
       " 'KPI E',\n",
       " 'KPI 1',\n",
       " 'KPI 3',\n",
       " 'KPI 11',\n",
       " 'KPI 14',\n",
       " 'total_relays',\n",
       " 'processed_relays',\n",
       " 'kpi_a',\n",
       " 'floating_supply',\n",
       " 'circulating_supply',\n",
       " 'dao_value_capture',\n",
       " 'POKT_burned_cummulative',\n",
       " 'POKT_minted_cummulative',\n",
       " 'POKT_net_mint_cummulative',\n",
       " 'burn_rate_cummulative',\n",
       " 'mint_rate_cummulative',\n",
       " 'net_mint_rate_cummulative']"
      ]
     },
     "execution_count": 4,
     "metadata": {},
     "output_type": "execute_result"
    }
   ],
   "source": [
    "list(kpis.columns)"
   ]
  },
  {
   "cell_type": "code",
   "execution_count": null,
   "id": "4617cc7c",
   "metadata": {},
   "outputs": [],
   "source": []
  },
  {
   "cell_type": "code",
   "execution_count": null,
   "id": "5cff85e7",
   "metadata": {},
   "outputs": [],
   "source": []
  }
 ],
 "metadata": {
  "kernelspec": {
   "display_name": "Python 3 (ipykernel)",
   "language": "python",
   "name": "python3"
  },
  "language_info": {
   "codemirror_mode": {
    "name": "ipython",
    "version": 3
   },
   "file_extension": ".py",
   "mimetype": "text/x-python",
   "name": "python",
   "nbconvert_exporter": "python",
   "pygments_lexer": "ipython3",
   "version": "3.9.12"
  }
 },
 "nbformat": 4,
 "nbformat_minor": 5
}
