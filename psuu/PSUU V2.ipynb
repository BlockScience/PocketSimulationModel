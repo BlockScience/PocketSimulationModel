{
 "cells": [
  {
   "cell_type": "code",
   "execution_count": 1,
   "id": "27c05e1f",
   "metadata": {},
   "outputs": [
    {
     "name": "stderr",
     "output_type": "stream",
     "text": [
      "/Users/seanmcowen/opt/anaconda3/envs/BlockScience/lib/python3.9/site-packages/tqdm/auto.py:22: TqdmWarning: IProgress not found. Please update jupyter and ipywidgets. See https://ipywidgets.readthedocs.io/en/stable/user_install.html\n",
      "  from .autonotebook import tqdm as notebook_tqdm\n"
     ]
    }
   ],
   "source": [
    "import pandas as pd\n",
    "import os\n",
    "from copy import deepcopy\n",
    "import numpy as np\n",
    "from math import isclose\n",
    "\n",
    "os.chdir(\"..\")\n",
    "kpis = pd.read_csv(\"simulation_data/gateway_viability_sweep_ag1_.csv\", index_col=0)\n",
    "from adaptive_multigrid import give_data_individual_names, find_best_individual_name, build_individual_dict_from_param_grid, update_param_grid\n",
    "from gvs_threshold_calc import calc_gvs_thresh_ineq_met"
   ]
  },
  {
   "cell_type": "code",
   "execution_count": null,
   "id": "4617cc7c",
   "metadata": {},
   "outputs": [],
   "source": []
  },
  {
   "cell_type": "code",
   "execution_count": 5,
   "id": "0bf562b2",
   "metadata": {},
   "outputs": [
    {
     "data": {
      "text/plain": [
       "Index(['Net Minting Rate', 'KPI C', 'Experiment Name', 'State Set',\n",
       "       'Params Set', 'timestep', 'param_minimum_stake_servicer',\n",
       "       'param_minimum_stake_period_servicer', 'param_minimum_pause_time',\n",
       "       'param_max_chains_servicer',\n",
       "       ...\n",
       "       'kpi_a', 'floating_supply', 'circulating_supply', 'dao_value_capture',\n",
       "       'POKT_burned_cummulative', 'POKT_minted_cummulative',\n",
       "       'POKT_net_mint_cummulative', 'burn_rate_cummulative',\n",
       "       'mint_rate_cummulative', 'net_mint_rate_cummulative'],\n",
       "      dtype='object', length=102)"
      ]
     },
     "execution_count": 5,
     "metadata": {},
     "output_type": "execute_result"
    }
   ],
   "source": [
    "kpis.columns"
   ]
  },
  {
   "cell_type": "code",
   "execution_count": null,
   "id": "5cff85e7",
   "metadata": {},
   "outputs": [],
   "source": []
  }
 ],
 "metadata": {
  "kernelspec": {
   "display_name": "Python 3 (ipykernel)",
   "language": "python",
   "name": "python3"
  },
  "language_info": {
   "codemirror_mode": {
    "name": "ipython",
    "version": 3
   },
   "file_extension": ".py",
   "mimetype": "text/x-python",
   "name": "python",
   "nbconvert_exporter": "python",
   "pygments_lexer": "ipython3",
   "version": "3.9.12"
  }
 },
 "nbformat": 4,
 "nbformat_minor": 5
}
