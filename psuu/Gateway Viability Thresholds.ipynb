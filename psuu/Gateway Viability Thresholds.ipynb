{
 "cells": [
  {
   "cell_type": "code",
   "execution_count": 1,
   "id": "580dfd7d",
   "metadata": {},
   "outputs": [
    {
     "name": "stderr",
     "output_type": "stream",
     "text": [
      "/Users/seanmcowen/opt/anaconda3/envs/BlockScience/lib/python3.9/site-packages/tqdm/auto.py:22: TqdmWarning: IProgress not found. Please update jupyter and ipywidgets. See https://ipywidgets.readthedocs.io/en/stable/user_install.html\n",
      "  from .autonotebook import tqdm as notebook_tqdm\n"
     ]
    }
   ],
   "source": [
    "# SETUP\n",
    "\n",
    "import pandas as pd\n",
    "import os\n",
    "from copy import deepcopy\n",
    "import numpy as np\n",
    "from math import isclose\n",
    "\n",
    "os.chdir(\"..\")\n",
    "from adaptive_multigrid import give_data_individual_names, find_best_individual_name, build_individual_dict_from_param_grid, update_param_grid\n",
    "from psuu import scenario_configs, build_next_param_config_code\n",
    "from model.config.params import *\n",
    "\n",
    "\n",
    "\n",
    "sweep = \"gateway_viability_sweep_ag1_\"\n",
    "sweep_family = sweep[:sweep.index(\"_ag\")+3]\n",
    "kpis = pd.read_csv(\"simulation_data/{}.csv\".format(sweep), index_col=0)\n",
    "\n",
    "exec(\"param_config = {}\".format(sweep))\n",
    "next_name = sweep[:-2] + str(int(sweep[-2]) + 1) + \"_\"\n",
    "fitness_func = scenario_configs[sweep_family]['fitness_function']\n",
    "variable_params = scenario_configs[sweep_family]['variable_params']\n",
    "control_params = scenario_configs[sweep_family]['control_params']"
   ]
  },
  {
   "cell_type": "code",
   "execution_count": 2,
   "id": "80888525",
   "metadata": {},
   "outputs": [
    {
     "name": "stdout",
     "output_type": "stream",
     "text": [
      "Threshold Servicer Capital Costs    0.0\n",
      "Threshold Servicer NPV              0.0\n",
      "Threshold Gateway NPV               0.0\n",
      "dtype: float64\n"
     ]
    }
   ],
   "source": [
    "thresholds = {\"a1\": .1,\n",
    "             \"a2\": .9,\n",
    "             \"s1\": 750*1e6,\n",
    "             \"s2\": .9,\n",
    "             \"t1\": 7500*1e6,\n",
    "             \"t2\": .9}\n",
    "grouping = kpis.groupby([\"param_\" + x for x in variable_params])\n",
    "\n",
    "# Get average cost\n",
    "thresh1 = grouping.apply(lambda x: x[\"KPI 14\"].mean())\n",
    "# Check if bounded between\n",
    "thresh1 = (thresh1 > thresholds[\"a1\"]) & (thresh1 < thresholds[\"a2\"])\n",
    "\n",
    "# Check average monte carlo success for servicer NPV\n",
    "thresh2 = grouping.apply(lambda x: (x[\"KPI 1\"] > thresholds[\"s1\"]).mean())\n",
    "# Check number of successful parameter constellations\n",
    "thresh2 = thresh2 > thresholds[\"s2\"]\n",
    "\n",
    "# Check average monte carlo success for gateway NPV\n",
    "thresh3 = grouping.apply(lambda x: (x[\"KPI 3\"] > thresholds[\"t1\"]).mean())\n",
    "# Check number of successful parameter constellations\n",
    "thresh3 = thresh3 > thresholds[\"t2\"]\n",
    "\n",
    "thresh = pd.concat([thresh1, thresh2, thresh3], axis=1)\n",
    "thresh.columns = [\"Threshold Servicer Capital Costs\", \"Threshold Servicer NPV\", \"Threshold Gateway NPV\"]\n",
    "print(thresh.mean())"
   ]
  },
  {
   "cell_type": "code",
   "execution_count": 6,
   "id": "37bc9280",
   "metadata": {},
   "outputs": [
    {
     "data": {
      "text/html": [
       "<div>\n",
       "<style scoped>\n",
       "    .dataframe tbody tr th:only-of-type {\n",
       "        vertical-align: middle;\n",
       "    }\n",
       "\n",
       "    .dataframe tbody tr th {\n",
       "        vertical-align: top;\n",
       "    }\n",
       "\n",
       "    .dataframe thead th {\n",
       "        text-align: right;\n",
       "    }\n",
       "</style>\n",
       "<table border=\"1\" class=\"dataframe\">\n",
       "  <thead>\n",
       "    <tr style=\"text-align: right;\">\n",
       "      <th></th>\n",
       "      <th>KPI 1</th>\n",
       "      <th>KPI 3</th>\n",
       "      <th>KPI 14</th>\n",
       "    </tr>\n",
       "  </thead>\n",
       "  <tbody>\n",
       "    <tr>\n",
       "      <th>count</th>\n",
       "      <td>1.440000e+03</td>\n",
       "      <td>1440.000000</td>\n",
       "      <td>1440.000000</td>\n",
       "    </tr>\n",
       "    <tr>\n",
       "      <th>mean</th>\n",
       "      <td>-8.497433e+09</td>\n",
       "      <td>-96529.034382</td>\n",
       "      <td>40.446563</td>\n",
       "    </tr>\n",
       "    <tr>\n",
       "      <th>std</th>\n",
       "      <td>5.774389e+09</td>\n",
       "      <td>96262.619642</td>\n",
       "      <td>57.945847</td>\n",
       "    </tr>\n",
       "    <tr>\n",
       "      <th>min</th>\n",
       "      <td>-1.471072e+10</td>\n",
       "      <td>-258517.656254</td>\n",
       "      <td>3.347403</td>\n",
       "    </tr>\n",
       "    <tr>\n",
       "      <th>25%</th>\n",
       "      <td>-1.398806e+10</td>\n",
       "      <td>-185000.000000</td>\n",
       "      <td>10.164852</td>\n",
       "    </tr>\n",
       "    <tr>\n",
       "      <th>50%</th>\n",
       "      <td>-1.074065e+10</td>\n",
       "      <td>-87719.995060</td>\n",
       "      <td>22.225275</td>\n",
       "    </tr>\n",
       "    <tr>\n",
       "      <th>75%</th>\n",
       "      <td>-1.492377e+09</td>\n",
       "      <td>-1428.648016</td>\n",
       "      <td>53.600293</td>\n",
       "    </tr>\n",
       "    <tr>\n",
       "      <th>max</th>\n",
       "      <td>3.179284e+09</td>\n",
       "      <td>-986.474193</td>\n",
       "      <td>1297.367310</td>\n",
       "    </tr>\n",
       "  </tbody>\n",
       "</table>\n",
       "</div>"
      ],
      "text/plain": [
       "              KPI 1          KPI 3       KPI 14\n",
       "count  1.440000e+03    1440.000000  1440.000000\n",
       "mean  -8.497433e+09  -96529.034382    40.446563\n",
       "std    5.774389e+09   96262.619642    57.945847\n",
       "min   -1.471072e+10 -258517.656254     3.347403\n",
       "25%   -1.398806e+10 -185000.000000    10.164852\n",
       "50%   -1.074065e+10  -87719.995060    22.225275\n",
       "75%   -1.492377e+09   -1428.648016    53.600293\n",
       "max    3.179284e+09    -986.474193  1297.367310"
      ]
     },
     "execution_count": 6,
     "metadata": {},
     "output_type": "execute_result"
    }
   ],
   "source": [
    "kpis[[\"KPI 1\", \"KPI 3\", \"KPI 14\"]].describe()"
   ]
  },
  {
   "cell_type": "code",
   "execution_count": null,
   "id": "be2736f0",
   "metadata": {},
   "outputs": [],
   "source": []
  }
 ],
 "metadata": {
  "kernelspec": {
   "display_name": "Python 3 (ipykernel)",
   "language": "python",
   "name": "python3"
  },
  "language_info": {
   "codemirror_mode": {
    "name": "ipython",
    "version": 3
   },
   "file_extension": ".py",
   "mimetype": "text/x-python",
   "name": "python",
   "nbconvert_exporter": "python",
   "pygments_lexer": "ipython3",
   "version": "3.9.12"
  }
 },
 "nbformat": 4,
 "nbformat_minor": 5
}
