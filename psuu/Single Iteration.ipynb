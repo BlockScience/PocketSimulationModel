{
 "cells": [
  {
   "cell_type": "code",
   "execution_count": 1,
   "id": "436aa696",
   "metadata": {},
   "outputs": [
    {
     "name": "stderr",
     "output_type": "stream",
     "text": [
      "/Users/seanmcowen/opt/anaconda3/envs/BlockScience/lib/python3.9/site-packages/tqdm/auto.py:22: TqdmWarning: IProgress not found. Please update jupyter and ipywidgets. See https://ipywidgets.readthedocs.io/en/stable/user_install.html\n",
      "  from .autonotebook import tqdm as notebook_tqdm\n"
     ]
    }
   ],
   "source": [
    "# SETUP\n",
    "from IPython.display import display\n",
    "import pandas as pd\n",
    "import os\n",
    "from copy import deepcopy\n",
    "import numpy as np\n",
    "from math import isclose\n",
    "\n",
    "os.chdir(\"..\")\n",
    "#from adaptive_multigrid import give_data_individual_names, find_best_individual_name, build_individual_dict_from_param_grid, update_param_grid\n",
    "from psuu import scenario_configs, build_next_param_config_code, THRESHOLD_INEQUALITIES_MAP, compute_threshold_inequalities, load_kpis, load_sweep, select_best_parameter_constellation, update_param_grid\n",
    "from model.config.params import *\n",
    "\n",
    "sweep = \"gateway_viability_sweep_ag1_\"\n",
    "(sweep_family,\n",
    "kpis,\n",
    "param_config,\n",
    "next_name,\n",
    "variable_params,\n",
    "control_params,\n",
    "threshold_inequalities,\n",
    "threshold_parameters) = load_sweep(sweep)\n",
    "\n",
    "df_thresholds = compute_threshold_inequalities(\n",
    "    kpis, variable_params, threshold_parameters, threshold_inequalities\n",
    ")\n",
    "df_thresholds[\"Score\"] = df_thresholds.astype(int).sum(axis=1)"
   ]
  },
  {
   "cell_type": "code",
   "execution_count": 2,
   "id": "bb987aa9",
   "metadata": {},
   "outputs": [],
   "source": [
    "\n",
    "\n",
    "best_param_grid = select_best_parameter_constellation(df_thresholds, variable_params)"
   ]
  },
  {
   "cell_type": "code",
   "execution_count": 3,
   "id": "d5e56993",
   "metadata": {},
   "outputs": [
    {
     "name": "stdout",
     "output_type": "stream",
     "text": [
      "10 20 100\n"
     ]
    },
    {
     "ename": "Exception",
     "evalue": "Something is wrong. The best individual does not have its values close to either the prior upper or lower bound.",
     "output_type": "error",
     "traceback": [
      "\u001b[0;31m---------------------------------------------------------------------------\u001b[0m",
      "\u001b[0;31mException\u001b[0m                                 Traceback (most recent call last)",
      "\u001b[0;32m/var/folders/y0/fwkpk2ps087b_2qxvhjstrfr0000gn/T/ipykernel_89814/1322012724.py\u001b[0m in \u001b[0;36m<module>\u001b[0;34m\u001b[0m\n\u001b[0;32m----> 1\u001b[0;31m \u001b[0mupdate_param_grid\u001b[0m\u001b[0;34m(\u001b[0m\u001b[0mparam_config\u001b[0m\u001b[0;34m,\u001b[0m \u001b[0mbest_param_grid\u001b[0m\u001b[0;34m)\u001b[0m\u001b[0;34m\u001b[0m\u001b[0;34m\u001b[0m\u001b[0m\n\u001b[0m",
      "\u001b[0;32m~/Dropbox/BlockScience/PocketSimulationModel/psuu/core.py\u001b[0m in \u001b[0;36mupdate_param_grid\u001b[0;34m(old_param_grid, best_individual, relevant_keys)\u001b[0m\n\u001b[1;32m    290\u001b[0m             \u001b[0;32melse\u001b[0m\u001b[0;34m:\u001b[0m\u001b[0;34m\u001b[0m\u001b[0;34m\u001b[0m\u001b[0m\n\u001b[1;32m    291\u001b[0m                 \u001b[0mprint\u001b[0m\u001b[0;34m(\u001b[0m\u001b[0mlb\u001b[0m\u001b[0;34m,\u001b[0m \u001b[0mbest_val\u001b[0m\u001b[0;34m,\u001b[0m \u001b[0mub\u001b[0m\u001b[0;34m)\u001b[0m\u001b[0;34m\u001b[0m\u001b[0;34m\u001b[0m\u001b[0m\n\u001b[0;32m--> 292\u001b[0;31m                 raise Exception(\n\u001b[0m\u001b[1;32m    293\u001b[0m                     \u001b[0;34m\"Something is wrong. The best individual does not have its values close to either the prior upper or lower bound.\"\u001b[0m\u001b[0;34m\u001b[0m\u001b[0;34m\u001b[0m\u001b[0m\n\u001b[1;32m    294\u001b[0m                 )\n",
      "\u001b[0;31mException\u001b[0m: Something is wrong. The best individual does not have its values close to either the prior upper or lower bound."
     ]
    }
   ],
   "source": [
    "new_param_grid = update_param_grid(param_config, best_param_grid)"
   ]
  },
  {
   "cell_type": "code",
   "execution_count": 4,
   "id": "a96fcceb",
   "metadata": {},
   "outputs": [
    {
     "ename": "NameError",
     "evalue": "name 'new_param_grid' is not defined",
     "output_type": "error",
     "traceback": [
      "\u001b[0;31m---------------------------------------------------------------------------\u001b[0m",
      "\u001b[0;31mNameError\u001b[0m                                 Traceback (most recent call last)",
      "\u001b[0;32m/var/folders/y0/fwkpk2ps087b_2qxvhjstrfr0000gn/T/ipykernel_89814/3452594210.py\u001b[0m in \u001b[0;36m<module>\u001b[0;34m\u001b[0m\n\u001b[1;32m      1\u001b[0m build_next_param_config_code(\n\u001b[0;32m----> 2\u001b[0;31m     \u001b[0mnext_name\u001b[0m\u001b[0;34m,\u001b[0m \u001b[0mnew_param_grid\u001b[0m\u001b[0;34m,\u001b[0m \u001b[0mcontrol_params\u001b[0m\u001b[0;34m,\u001b[0m \u001b[0mparam_config\u001b[0m\u001b[0;34m\u001b[0m\u001b[0;34m\u001b[0m\u001b[0m\n\u001b[0m\u001b[1;32m      3\u001b[0m )\n",
      "\u001b[0;31mNameError\u001b[0m: name 'new_param_grid' is not defined"
     ]
    }
   ],
   "source": [
    "build_next_param_config_code(\n",
    "    next_name, new_param_grid, control_params, param_config\n",
    ")"
   ]
  },
  {
   "cell_type": "code",
   "execution_count": 4,
   "id": "bea344f5",
   "metadata": {},
   "outputs": [
    {
     "ename": "NameError",
     "evalue": "name 'param' is not defined",
     "output_type": "error",
     "traceback": [
      "\u001b[0;31m---------------------------------------------------------------------------\u001b[0m",
      "\u001b[0;31mNameError\u001b[0m                                 Traceback (most recent call last)",
      "\u001b[0;32m/var/folders/y0/fwkpk2ps087b_2qxvhjstrfr0000gn/T/ipykernel_89792/3267381344.py\u001b[0m in \u001b[0;36m<module>\u001b[0;34m\u001b[0m\n\u001b[0;32m----> 1\u001b[0;31m \u001b[0mparam\u001b[0m\u001b[0;34m\u001b[0m\u001b[0;34m\u001b[0m\u001b[0m\n\u001b[0m",
      "\u001b[0;31mNameError\u001b[0m: name 'param' is not defined"
     ]
    }
   ],
   "source": [
    "param"
   ]
  },
  {
   "cell_type": "code",
   "execution_count": null,
   "id": "272dc894",
   "metadata": {},
   "outputs": [],
   "source": []
  },
  {
   "cell_type": "code",
   "execution_count": 5,
   "id": "5d6a8781",
   "metadata": {},
   "outputs": [
    {
     "data": {
      "text/plain": [
       "param_session_token_bucket_coefficient  param_gateway_fee_per_relay  param_application_fee_per_relay  param_gateway_minimum_stake  param_minimum_application_stake\n",
       "25                                      20.0                         20                               1.000000e+11                 1.000000e+10                       1\n",
       "                                                                                                                                   2.000000e+10                       1\n",
       "                                                                                                      2.000000e+11                 1.000000e+10                       1\n",
       "                                                                                                                                   2.000000e+10                       1\n",
       "                                                                     30                               1.000000e+11                 1.000000e+10                       1\n",
       "                                                                                                                                   2.000000e+10                       1\n",
       "                                                                                                      2.000000e+11                 1.000000e+10                       1\n",
       "                                                                                                                                   2.000000e+10                       1\n",
       "                                        30.0                         20                               1.000000e+11                 1.000000e+10                       1\n",
       "                                                                                                                                   2.000000e+10                       1\n",
       "                                                                                                      2.000000e+11                 1.000000e+10                       1\n",
       "                                                                                                                                   2.000000e+10                       1\n",
       "                                                                     30                               1.000000e+11                 1.000000e+10                       1\n",
       "                                                                                                                                   2.000000e+10                       1\n",
       "                                                                                                      2.000000e+11                 1.000000e+10                       1\n",
       "                                                                                                                                   2.000000e+10                       1\n",
       "400                                     20.0                         20                               1.000000e+11                 1.000000e+10                       1\n",
       "                                                                                                                                   2.000000e+10                       1\n",
       "                                                                                                      2.000000e+11                 1.000000e+10                       1\n",
       "                                                                                                                                   2.000000e+10                       1\n",
       "                                                                     30                               1.000000e+11                 1.000000e+10                       1\n",
       "                                                                                                                                   2.000000e+10                       1\n",
       "                                                                                                      2.000000e+11                 1.000000e+10                       1\n",
       "                                                                                                                                   2.000000e+10                       1\n",
       "                                        30.0                         20                               1.000000e+11                 1.000000e+10                       1\n",
       "                                                                                                                                   2.000000e+10                       1\n",
       "                                                                                                      2.000000e+11                 1.000000e+10                       1\n",
       "                                                                                                                                   2.000000e+10                       1\n",
       "                                                                     30                               1.000000e+11                 1.000000e+10                       1\n",
       "                                                                                                                                   2.000000e+10                       1\n",
       "                                                                                                      2.000000e+11                 1.000000e+10                       1\n",
       "                                                                                                                                   2.000000e+10                       1\n",
       "dtype: int64"
      ]
     },
     "execution_count": 5,
     "metadata": {},
     "output_type": "execute_result"
    }
   ],
   "source": [
    "display(df_thresholds)\n",
    "\n",
    "print(df_thresholds.mean())"
   ]
  },
  {
   "cell_type": "code",
   "execution_count": null,
   "id": "4f17e31e",
   "metadata": {},
   "outputs": [],
   "source": []
  },
  {
   "cell_type": "code",
   "execution_count": null,
   "id": "85dc6d3e",
   "metadata": {},
   "outputs": [],
   "source": []
  },
  {
   "cell_type": "code",
   "execution_count": null,
   "id": "8f26e05c",
   "metadata": {},
   "outputs": [],
   "source": []
  },
  {
   "cell_type": "code",
   "execution_count": null,
   "id": "a9d2511e",
   "metadata": {},
   "outputs": [],
   "source": []
  },
  {
   "cell_type": "code",
   "execution_count": null,
   "id": "4dae1bab",
   "metadata": {},
   "outputs": [],
   "source": []
  },
  {
   "cell_type": "code",
   "execution_count": 1,
   "id": "780066dd",
   "metadata": {},
   "outputs": [
    {
     "name": "stderr",
     "output_type": "stream",
     "text": [
      "/Users/seanmcowen/opt/anaconda3/envs/BlockScience/lib/python3.9/site-packages/tqdm/auto.py:22: TqdmWarning: IProgress not found. Please update jupyter and ipywidgets. See https://ipywidgets.readthedocs.io/en/stable/user_install.html\n",
      "  from .autonotebook import tqdm as notebook_tqdm\n"
     ]
    }
   ],
   "source": [
    "import pandas as pd\n",
    "import os\n",
    "from copy import deepcopy\n",
    "import numpy as np\n",
    "from math import isclose\n",
    "\n",
    "os.chdir(\"..\")\n",
    "from adaptive_multigrid import give_data_individual_names, find_best_individual_name, build_individual_dict_from_param_grid, update_param_grid\n",
    "from gvs_threshold_calc import calc_gvs_thresh_ineq_met\n",
    "from model.config.params import *\n",
    "\n",
    "\n",
    "fitness_func = calc_gvs_thresh_ineq_met\n",
    "sweep = \"gateway_viability_sweep_ag5_\"\n",
    "kpis = pd.read_csv(\"simulation_data/{}.csv\".format(sweep), index_col=0)\n",
    "exec(\"param_config = {}\".format(sweep))\n",
    "next_name = sweep[:-2] + str(int(sweep[-2]) + 1) + \"_\"\n",
    "\n",
    "variable_params = ['session_token_bucket_coefficient', 'gateway_fee_per_relay', 'application_fee_per_relay', 'gateway_minimum_stake', 'minimum_application_stake']\n",
    "control_params = ['application_max_number', 'relays_per_session_gamma_distribution_scale']\n",
    "\n",
    "params_to_evolve = {}\n",
    "for x in variable_params:\n",
    "    params_to_evolve[x] = param_config[x]\n",
    "\n",
    "params_for_setup_only = {}\n",
    "for x in control_params:\n",
    "    params_for_setup_only[x] = param_config[x]\n",
    "\n",
    "initial_param_grid = params_to_evolve\n",
    "other_params_to_sweep = params_for_setup_only\n",
    "\n",
    "\n"
   ]
  },
  {
   "cell_type": "code",
   "execution_count": 2,
   "id": "9bf6ac5b",
   "metadata": {},
   "outputs": [
    {
     "name": "stdout",
     "output_type": "stream",
     "text": [
      "Building the individual dict.\n",
      "Individual dict is {'stbc:189.0625_gfpr:21.875_afpr:25.625_gms:137500000000.0_ams:187500000000.0': {'session_token_bucket_coefficient': 189.0625, 'gateway_fee_per_relay': 21.875, 'application_fee_per_relay': 25.625, 'gateway_minimum_stake': 137500000000.0, 'minimum_application_stake': 187500000000.0}, 'stbc:189.0625_gfpr:21.875_afpr:25.625_gms:137500000000.0_ams:193750000000.0': {'session_token_bucket_coefficient': 189.0625, 'gateway_fee_per_relay': 21.875, 'application_fee_per_relay': 25.625, 'gateway_minimum_stake': 137500000000.0, 'minimum_application_stake': 193750000000.0}, 'stbc:189.0625_gfpr:21.875_afpr:25.625_gms:143750000000.0_ams:187500000000.0': {'session_token_bucket_coefficient': 189.0625, 'gateway_fee_per_relay': 21.875, 'application_fee_per_relay': 25.625, 'gateway_minimum_stake': 143750000000.0, 'minimum_application_stake': 187500000000.0}, 'stbc:189.0625_gfpr:21.875_afpr:25.625_gms:143750000000.0_ams:193750000000.0': {'session_token_bucket_coefficient': 189.0625, 'gateway_fee_per_relay': 21.875, 'application_fee_per_relay': 25.625, 'gateway_minimum_stake': 143750000000.0, 'minimum_application_stake': 193750000000.0}, 'stbc:189.0625_gfpr:21.875_afpr:26.25_gms:137500000000.0_ams:187500000000.0': {'session_token_bucket_coefficient': 189.0625, 'gateway_fee_per_relay': 21.875, 'application_fee_per_relay': 26.25, 'gateway_minimum_stake': 137500000000.0, 'minimum_application_stake': 187500000000.0}, 'stbc:189.0625_gfpr:21.875_afpr:26.25_gms:137500000000.0_ams:193750000000.0': {'session_token_bucket_coefficient': 189.0625, 'gateway_fee_per_relay': 21.875, 'application_fee_per_relay': 26.25, 'gateway_minimum_stake': 137500000000.0, 'minimum_application_stake': 193750000000.0}, 'stbc:189.0625_gfpr:21.875_afpr:26.25_gms:143750000000.0_ams:187500000000.0': {'session_token_bucket_coefficient': 189.0625, 'gateway_fee_per_relay': 21.875, 'application_fee_per_relay': 26.25, 'gateway_minimum_stake': 143750000000.0, 'minimum_application_stake': 187500000000.0}, 'stbc:189.0625_gfpr:21.875_afpr:26.25_gms:143750000000.0_ams:193750000000.0': {'session_token_bucket_coefficient': 189.0625, 'gateway_fee_per_relay': 21.875, 'application_fee_per_relay': 26.25, 'gateway_minimum_stake': 143750000000.0, 'minimum_application_stake': 193750000000.0}, 'stbc:189.0625_gfpr:22.5_afpr:25.625_gms:137500000000.0_ams:187500000000.0': {'session_token_bucket_coefficient': 189.0625, 'gateway_fee_per_relay': 22.5, 'application_fee_per_relay': 25.625, 'gateway_minimum_stake': 137500000000.0, 'minimum_application_stake': 187500000000.0}, 'stbc:189.0625_gfpr:22.5_afpr:25.625_gms:137500000000.0_ams:193750000000.0': {'session_token_bucket_coefficient': 189.0625, 'gateway_fee_per_relay': 22.5, 'application_fee_per_relay': 25.625, 'gateway_minimum_stake': 137500000000.0, 'minimum_application_stake': 193750000000.0}, 'stbc:189.0625_gfpr:22.5_afpr:25.625_gms:143750000000.0_ams:187500000000.0': {'session_token_bucket_coefficient': 189.0625, 'gateway_fee_per_relay': 22.5, 'application_fee_per_relay': 25.625, 'gateway_minimum_stake': 143750000000.0, 'minimum_application_stake': 187500000000.0}, 'stbc:189.0625_gfpr:22.5_afpr:25.625_gms:143750000000.0_ams:193750000000.0': {'session_token_bucket_coefficient': 189.0625, 'gateway_fee_per_relay': 22.5, 'application_fee_per_relay': 25.625, 'gateway_minimum_stake': 143750000000.0, 'minimum_application_stake': 193750000000.0}, 'stbc:189.0625_gfpr:22.5_afpr:26.25_gms:137500000000.0_ams:187500000000.0': {'session_token_bucket_coefficient': 189.0625, 'gateway_fee_per_relay': 22.5, 'application_fee_per_relay': 26.25, 'gateway_minimum_stake': 137500000000.0, 'minimum_application_stake': 187500000000.0}, 'stbc:189.0625_gfpr:22.5_afpr:26.25_gms:137500000000.0_ams:193750000000.0': {'session_token_bucket_coefficient': 189.0625, 'gateway_fee_per_relay': 22.5, 'application_fee_per_relay': 26.25, 'gateway_minimum_stake': 137500000000.0, 'minimum_application_stake': 193750000000.0}, 'stbc:189.0625_gfpr:22.5_afpr:26.25_gms:143750000000.0_ams:187500000000.0': {'session_token_bucket_coefficient': 189.0625, 'gateway_fee_per_relay': 22.5, 'application_fee_per_relay': 26.25, 'gateway_minimum_stake': 143750000000.0, 'minimum_application_stake': 187500000000.0}, 'stbc:189.0625_gfpr:22.5_afpr:26.25_gms:143750000000.0_ams:193750000000.0': {'session_token_bucket_coefficient': 189.0625, 'gateway_fee_per_relay': 22.5, 'application_fee_per_relay': 26.25, 'gateway_minimum_stake': 143750000000.0, 'minimum_application_stake': 193750000000.0}, 'stbc:212.5_gfpr:21.875_afpr:25.625_gms:137500000000.0_ams:187500000000.0': {'session_token_bucket_coefficient': 212.5, 'gateway_fee_per_relay': 21.875, 'application_fee_per_relay': 25.625, 'gateway_minimum_stake': 137500000000.0, 'minimum_application_stake': 187500000000.0}, 'stbc:212.5_gfpr:21.875_afpr:25.625_gms:137500000000.0_ams:193750000000.0': {'session_token_bucket_coefficient': 212.5, 'gateway_fee_per_relay': 21.875, 'application_fee_per_relay': 25.625, 'gateway_minimum_stake': 137500000000.0, 'minimum_application_stake': 193750000000.0}, 'stbc:212.5_gfpr:21.875_afpr:25.625_gms:143750000000.0_ams:187500000000.0': {'session_token_bucket_coefficient': 212.5, 'gateway_fee_per_relay': 21.875, 'application_fee_per_relay': 25.625, 'gateway_minimum_stake': 143750000000.0, 'minimum_application_stake': 187500000000.0}, 'stbc:212.5_gfpr:21.875_afpr:25.625_gms:143750000000.0_ams:193750000000.0': {'session_token_bucket_coefficient': 212.5, 'gateway_fee_per_relay': 21.875, 'application_fee_per_relay': 25.625, 'gateway_minimum_stake': 143750000000.0, 'minimum_application_stake': 193750000000.0}, 'stbc:212.5_gfpr:21.875_afpr:26.25_gms:137500000000.0_ams:187500000000.0': {'session_token_bucket_coefficient': 212.5, 'gateway_fee_per_relay': 21.875, 'application_fee_per_relay': 26.25, 'gateway_minimum_stake': 137500000000.0, 'minimum_application_stake': 187500000000.0}, 'stbc:212.5_gfpr:21.875_afpr:26.25_gms:137500000000.0_ams:193750000000.0': {'session_token_bucket_coefficient': 212.5, 'gateway_fee_per_relay': 21.875, 'application_fee_per_relay': 26.25, 'gateway_minimum_stake': 137500000000.0, 'minimum_application_stake': 193750000000.0}, 'stbc:212.5_gfpr:21.875_afpr:26.25_gms:143750000000.0_ams:187500000000.0': {'session_token_bucket_coefficient': 212.5, 'gateway_fee_per_relay': 21.875, 'application_fee_per_relay': 26.25, 'gateway_minimum_stake': 143750000000.0, 'minimum_application_stake': 187500000000.0}, 'stbc:212.5_gfpr:21.875_afpr:26.25_gms:143750000000.0_ams:193750000000.0': {'session_token_bucket_coefficient': 212.5, 'gateway_fee_per_relay': 21.875, 'application_fee_per_relay': 26.25, 'gateway_minimum_stake': 143750000000.0, 'minimum_application_stake': 193750000000.0}, 'stbc:212.5_gfpr:22.5_afpr:25.625_gms:137500000000.0_ams:187500000000.0': {'session_token_bucket_coefficient': 212.5, 'gateway_fee_per_relay': 22.5, 'application_fee_per_relay': 25.625, 'gateway_minimum_stake': 137500000000.0, 'minimum_application_stake': 187500000000.0}, 'stbc:212.5_gfpr:22.5_afpr:25.625_gms:137500000000.0_ams:193750000000.0': {'session_token_bucket_coefficient': 212.5, 'gateway_fee_per_relay': 22.5, 'application_fee_per_relay': 25.625, 'gateway_minimum_stake': 137500000000.0, 'minimum_application_stake': 193750000000.0}, 'stbc:212.5_gfpr:22.5_afpr:25.625_gms:143750000000.0_ams:187500000000.0': {'session_token_bucket_coefficient': 212.5, 'gateway_fee_per_relay': 22.5, 'application_fee_per_relay': 25.625, 'gateway_minimum_stake': 143750000000.0, 'minimum_application_stake': 187500000000.0}, 'stbc:212.5_gfpr:22.5_afpr:25.625_gms:143750000000.0_ams:193750000000.0': {'session_token_bucket_coefficient': 212.5, 'gateway_fee_per_relay': 22.5, 'application_fee_per_relay': 25.625, 'gateway_minimum_stake': 143750000000.0, 'minimum_application_stake': 193750000000.0}, 'stbc:212.5_gfpr:22.5_afpr:26.25_gms:137500000000.0_ams:187500000000.0': {'session_token_bucket_coefficient': 212.5, 'gateway_fee_per_relay': 22.5, 'application_fee_per_relay': 26.25, 'gateway_minimum_stake': 137500000000.0, 'minimum_application_stake': 187500000000.0}, 'stbc:212.5_gfpr:22.5_afpr:26.25_gms:137500000000.0_ams:193750000000.0': {'session_token_bucket_coefficient': 212.5, 'gateway_fee_per_relay': 22.5, 'application_fee_per_relay': 26.25, 'gateway_minimum_stake': 137500000000.0, 'minimum_application_stake': 193750000000.0}, 'stbc:212.5_gfpr:22.5_afpr:26.25_gms:143750000000.0_ams:187500000000.0': {'session_token_bucket_coefficient': 212.5, 'gateway_fee_per_relay': 22.5, 'application_fee_per_relay': 26.25, 'gateway_minimum_stake': 143750000000.0, 'minimum_application_stake': 187500000000.0}, 'stbc:212.5_gfpr:22.5_afpr:26.25_gms:143750000000.0_ams:193750000000.0': {'session_token_bucket_coefficient': 212.5, 'gateway_fee_per_relay': 22.5, 'application_fee_per_relay': 26.25, 'gateway_minimum_stake': 143750000000.0, 'minimum_application_stake': 193750000000.0}}\n",
      "Finding names to use for individual.\n"
     ]
    },
    {
     "name": "stdout",
     "output_type": "stream",
     "text": [
      "We have added individual names for the various parameter combinations.\n",
      "The DataFrame now looks like                                                     Net Minting Rate  \\\n",
      "individual_name                                                        \n",
      "stbc:189.0625_gfpr:21.875_afpr:25.625_gms:13750...          0.000007   \n",
      "stbc:189.0625_gfpr:21.875_afpr:25.625_gms:13750...          0.000007   \n",
      "stbc:189.0625_gfpr:21.875_afpr:25.625_gms:13750...          0.000007   \n",
      "stbc:189.0625_gfpr:21.875_afpr:25.625_gms:13750...          0.000006   \n",
      "stbc:189.0625_gfpr:21.875_afpr:25.625_gms:13750...          0.000006   \n",
      "\n",
      "                                                       KPI C  \\\n",
      "individual_name                                                \n",
      "stbc:189.0625_gfpr:21.875_afpr:25.625_gms:13750...  0.212434   \n",
      "stbc:189.0625_gfpr:21.875_afpr:25.625_gms:13750...  0.186075   \n",
      "stbc:189.0625_gfpr:21.875_afpr:25.625_gms:13750...  0.157042   \n",
      "stbc:189.0625_gfpr:21.875_afpr:25.625_gms:13750...  0.152674   \n",
      "stbc:189.0625_gfpr:21.875_afpr:25.625_gms:13750...  0.220208   \n",
      "\n",
      "                                                                  Experiment Name  \\\n",
      "individual_name                                                                     \n",
      "stbc:189.0625_gfpr:21.875_afpr:25.625_gms:13750...  gateway_viability_sweep_ag5_1   \n",
      "stbc:189.0625_gfpr:21.875_afpr:25.625_gms:13750...  gateway_viability_sweep_ag5_1   \n",
      "stbc:189.0625_gfpr:21.875_afpr:25.625_gms:13750...  gateway_viability_sweep_ag5_1   \n",
      "stbc:189.0625_gfpr:21.875_afpr:25.625_gms:13750...  gateway_viability_sweep_ag5_1   \n",
      "stbc:189.0625_gfpr:21.875_afpr:25.625_gms:13750...  gateway_viability_sweep_ag5_1   \n",
      "\n",
      "                                                   State Set  \\\n",
      "individual_name                                                \n",
      "stbc:189.0625_gfpr:21.875_afpr:25.625_gms:13750...      Base   \n",
      "stbc:189.0625_gfpr:21.875_afpr:25.625_gms:13750...      Base   \n",
      "stbc:189.0625_gfpr:21.875_afpr:25.625_gms:13750...      Base   \n",
      "stbc:189.0625_gfpr:21.875_afpr:25.625_gms:13750...      Base   \n",
      "stbc:189.0625_gfpr:21.875_afpr:25.625_gms:13750...      Base   \n",
      "\n",
      "                                                                       Params Set  \\\n",
      "individual_name                                                                     \n",
      "stbc:189.0625_gfpr:21.875_afpr:25.625_gms:13750...  gateway_viability_sweep_ag5_1   \n",
      "stbc:189.0625_gfpr:21.875_afpr:25.625_gms:13750...  gateway_viability_sweep_ag5_1   \n",
      "stbc:189.0625_gfpr:21.875_afpr:25.625_gms:13750...  gateway_viability_sweep_ag5_1   \n",
      "stbc:189.0625_gfpr:21.875_afpr:25.625_gms:13750...  gateway_viability_sweep_ag5_1   \n",
      "stbc:189.0625_gfpr:21.875_afpr:25.625_gms:13750...  gateway_viability_sweep_ag5_1   \n",
      "\n",
      "                                                    timestep  \\\n",
      "individual_name                                                \n",
      "stbc:189.0625_gfpr:21.875_afpr:25.625_gms:13750...       365   \n",
      "stbc:189.0625_gfpr:21.875_afpr:25.625_gms:13750...       365   \n",
      "stbc:189.0625_gfpr:21.875_afpr:25.625_gms:13750...       365   \n",
      "stbc:189.0625_gfpr:21.875_afpr:25.625_gms:13750...       365   \n",
      "stbc:189.0625_gfpr:21.875_afpr:25.625_gms:13750...       365   \n",
      "\n",
      "                                                    param_minimum_stake_servicer  \\\n",
      "individual_name                                                                    \n",
      "stbc:189.0625_gfpr:21.875_afpr:25.625_gms:13750...                  1.500000e+10   \n",
      "stbc:189.0625_gfpr:21.875_afpr:25.625_gms:13750...                  1.500000e+10   \n",
      "stbc:189.0625_gfpr:21.875_afpr:25.625_gms:13750...                  1.500000e+10   \n",
      "stbc:189.0625_gfpr:21.875_afpr:25.625_gms:13750...                  1.500000e+10   \n",
      "stbc:189.0625_gfpr:21.875_afpr:25.625_gms:13750...                  1.500000e+10   \n",
      "\n",
      "                                                    param_minimum_stake_period_servicer  \\\n",
      "individual_name                                                                           \n",
      "stbc:189.0625_gfpr:21.875_afpr:25.625_gms:13750...                                   10   \n",
      "stbc:189.0625_gfpr:21.875_afpr:25.625_gms:13750...                                   10   \n",
      "stbc:189.0625_gfpr:21.875_afpr:25.625_gms:13750...                                   10   \n",
      "stbc:189.0625_gfpr:21.875_afpr:25.625_gms:13750...                                   10   \n",
      "stbc:189.0625_gfpr:21.875_afpr:25.625_gms:13750...                                   10   \n",
      "\n",
      "                                                    param_minimum_pause_time  \\\n",
      "individual_name                                                                \n",
      "stbc:189.0625_gfpr:21.875_afpr:25.625_gms:13750...                        10   \n",
      "stbc:189.0625_gfpr:21.875_afpr:25.625_gms:13750...                        10   \n",
      "stbc:189.0625_gfpr:21.875_afpr:25.625_gms:13750...                        10   \n",
      "stbc:189.0625_gfpr:21.875_afpr:25.625_gms:13750...                        10   \n",
      "stbc:189.0625_gfpr:21.875_afpr:25.625_gms:13750...                        10   \n",
      "\n",
      "                                                    param_max_chains_servicer  \\\n",
      "individual_name                                                                 \n",
      "stbc:189.0625_gfpr:21.875_afpr:25.625_gms:13750...                         15   \n",
      "stbc:189.0625_gfpr:21.875_afpr:25.625_gms:13750...                         15   \n",
      "stbc:189.0625_gfpr:21.875_afpr:25.625_gms:13750...                         15   \n",
      "stbc:189.0625_gfpr:21.875_afpr:25.625_gms:13750...                         15   \n",
      "stbc:189.0625_gfpr:21.875_afpr:25.625_gms:13750...                         15   \n",
      "\n",
      "                                                    ...  kpi_a  \\\n",
      "individual_name                                     ...          \n",
      "stbc:189.0625_gfpr:21.875_afpr:25.625_gms:13750...  ...    1.0   \n",
      "stbc:189.0625_gfpr:21.875_afpr:25.625_gms:13750...  ...    1.0   \n",
      "stbc:189.0625_gfpr:21.875_afpr:25.625_gms:13750...  ...    1.0   \n",
      "stbc:189.0625_gfpr:21.875_afpr:25.625_gms:13750...  ...    1.0   \n",
      "stbc:189.0625_gfpr:21.875_afpr:25.625_gms:13750...  ...    1.0   \n",
      "\n",
      "                                                    floating_supply  \\\n",
      "individual_name                                                       \n",
      "stbc:189.0625_gfpr:21.875_afpr:25.625_gms:13750...     1.521527e+15   \n",
      "stbc:189.0625_gfpr:21.875_afpr:25.625_gms:13750...     1.521527e+15   \n",
      "stbc:189.0625_gfpr:21.875_afpr:25.625_gms:13750...     1.521527e+15   \n",
      "stbc:189.0625_gfpr:21.875_afpr:25.625_gms:13750...     1.521527e+15   \n",
      "stbc:189.0625_gfpr:21.875_afpr:25.625_gms:13750...     1.521527e+15   \n",
      "\n",
      "                                                    circulating_supply  \\\n",
      "individual_name                                                          \n",
      "stbc:189.0625_gfpr:21.875_afpr:25.625_gms:13750...        1.518108e+15   \n",
      "stbc:189.0625_gfpr:21.875_afpr:25.625_gms:13750...        1.518167e+15   \n",
      "stbc:189.0625_gfpr:21.875_afpr:25.625_gms:13750...        1.517717e+15   \n",
      "stbc:189.0625_gfpr:21.875_afpr:25.625_gms:13750...        1.517837e+15   \n",
      "stbc:189.0625_gfpr:21.875_afpr:25.625_gms:13750...        1.517657e+15   \n",
      "\n",
      "                                                    dao_value_capture  \\\n",
      "individual_name                                                         \n",
      "stbc:189.0625_gfpr:21.875_afpr:25.625_gms:13750...       7.972682e-07   \n",
      "stbc:189.0625_gfpr:21.875_afpr:25.625_gms:13750...       7.879485e-07   \n",
      "stbc:189.0625_gfpr:21.875_afpr:25.625_gms:13750...       8.054292e-07   \n",
      "stbc:189.0625_gfpr:21.875_afpr:25.625_gms:13750...       7.791503e-07   \n",
      "stbc:189.0625_gfpr:21.875_afpr:25.625_gms:13750...       7.479996e-07   \n",
      "\n",
      "                                                    POKT_burned_cummulative  \\\n",
      "individual_name                                                               \n",
      "stbc:189.0625_gfpr:21.875_afpr:25.625_gms:13750...             2.115934e+09   \n",
      "stbc:189.0625_gfpr:21.875_afpr:25.625_gms:13750...             2.030438e+09   \n",
      "stbc:189.0625_gfpr:21.875_afpr:25.625_gms:13750...             2.083278e+09   \n",
      "stbc:189.0625_gfpr:21.875_afpr:25.625_gms:13750...             2.015324e+09   \n",
      "stbc:189.0625_gfpr:21.875_afpr:25.625_gms:13750...             1.878236e+09   \n",
      "\n",
      "                                                    POKT_minted_cummulative  \\\n",
      "individual_name                                                               \n",
      "stbc:189.0625_gfpr:21.875_afpr:25.625_gms:13750...             1.212988e+10   \n",
      "stbc:189.0625_gfpr:21.875_afpr:25.625_gms:13750...             1.198809e+10   \n",
      "stbc:189.0625_gfpr:21.875_afpr:25.625_gms:13750...             1.225405e+10   \n",
      "stbc:189.0625_gfpr:21.875_afpr:25.625_gms:13750...             1.185423e+10   \n",
      "stbc:189.0625_gfpr:21.875_afpr:25.625_gms:13750...             1.138028e+10   \n",
      "\n",
      "                                                    POKT_net_mint_cummulative  \\\n",
      "individual_name                                                                 \n",
      "stbc:189.0625_gfpr:21.875_afpr:25.625_gms:13750...               1.001395e+10   \n",
      "stbc:189.0625_gfpr:21.875_afpr:25.625_gms:13750...               9.957651e+09   \n",
      "stbc:189.0625_gfpr:21.875_afpr:25.625_gms:13750...               1.017077e+10   \n",
      "stbc:189.0625_gfpr:21.875_afpr:25.625_gms:13750...               9.838904e+09   \n",
      "stbc:189.0625_gfpr:21.875_afpr:25.625_gms:13750...               9.502046e+09   \n",
      "\n",
      "                                                    burn_rate_cummulative  \\\n",
      "individual_name                                                             \n",
      "stbc:189.0625_gfpr:21.875_afpr:25.625_gms:13750...               0.000001   \n",
      "stbc:189.0625_gfpr:21.875_afpr:25.625_gms:13750...               0.000001   \n",
      "stbc:189.0625_gfpr:21.875_afpr:25.625_gms:13750...               0.000001   \n",
      "stbc:189.0625_gfpr:21.875_afpr:25.625_gms:13750...               0.000001   \n",
      "stbc:189.0625_gfpr:21.875_afpr:25.625_gms:13750...               0.000001   \n",
      "\n",
      "                                                    mint_rate_cummulative  \\\n",
      "individual_name                                                             \n",
      "stbc:189.0625_gfpr:21.875_afpr:25.625_gms:13750...               0.000008   \n",
      "stbc:189.0625_gfpr:21.875_afpr:25.625_gms:13750...               0.000008   \n",
      "stbc:189.0625_gfpr:21.875_afpr:25.625_gms:13750...               0.000008   \n",
      "stbc:189.0625_gfpr:21.875_afpr:25.625_gms:13750...               0.000008   \n",
      "stbc:189.0625_gfpr:21.875_afpr:25.625_gms:13750...               0.000007   \n",
      "\n",
      "                                                    net_mint_rate_cummulative  \n",
      "individual_name                                                                \n",
      "stbc:189.0625_gfpr:21.875_afpr:25.625_gms:13750...                   0.000007  \n",
      "stbc:189.0625_gfpr:21.875_afpr:25.625_gms:13750...                   0.000007  \n",
      "stbc:189.0625_gfpr:21.875_afpr:25.625_gms:13750...                   0.000007  \n",
      "stbc:189.0625_gfpr:21.875_afpr:25.625_gms:13750...                   0.000006  \n",
      "stbc:189.0625_gfpr:21.875_afpr:25.625_gms:13750...                   0.000006  \n",
      "\n",
      "[5 rows x 102 columns].\n",
      "stbc:189.0625_gfpr:21.875_afpr:25.625_gms:137500000000.0_ams:193750000000.0\n"
     ]
    }
   ],
   "source": [
    "new_param_grid = deepcopy(initial_param_grid)\n",
    "new_best_name = \"\"\n",
    "new_best_fitness = -np.inf\n",
    "times_repeat_best_name = 0\n",
    "times_repeat_best_fitness = 0\n",
    "\n",
    "old_param_grid = deepcopy(new_param_grid)\n",
    "old_best_name = new_best_name\n",
    "old_best_fitness = new_best_fitness\n",
    "\n",
    "individual_dict = build_individual_dict_from_param_grid(old_param_grid)\n",
    "        \n",
    "        \n",
    "\n",
    "data = kpis\n",
    "data = give_data_individual_names(data)\n",
    "\n",
    "new_best_name, new_best_val = find_best_individual_name(\n",
    "            data, fitness_func=fitness_func, name_biased_towards=old_best_name\n",
    "        )\n",
    "\n",
    "assert not (\n",
    "            new_best_name is None\n",
    "        ), \"The best individual should be somewhere in this dictionary.\"\n",
    "print(new_best_name)\n",
    "\n",
    "new_best_individual = individual_dict[new_best_name]\n",
    "\n",
    "if new_best_name == old_best_name:\n",
    "    times_repeat_best_name = times_repeat_best_name + 1\n",
    "else:\n",
    "    times_repeat_best_name = 0\n",
    "\n",
    "if isclose(new_best_fitness, old_best_fitness):\n",
    "    times_repeat_best_fitness = times_repeat_best_fitness + 1\n",
    "else:\n",
    "    times_repeat_best_fitness = 0\n",
    "    \n",
    "new_param_grid = update_param_grid(\n",
    "                old_param_grid=old_param_grid, best_individual=new_best_individual\n",
    "            )"
   ]
  },
  {
   "cell_type": "code",
   "execution_count": 3,
   "id": "1488f821",
   "metadata": {},
   "outputs": [
    {
     "name": "stdout",
     "output_type": "stream",
     "text": [
      "Add the following to model/config/params.py:\n",
      "\n",
      "gateway_viability_sweep_ag6_ = build_params(\"Base\")\n",
      "gateway_viability_sweep_ag6_[\"session_token_bucket_coefficient\"] = [189.0625, 200.78125]\n",
      "gateway_viability_sweep_ag6_[\"gateway_fee_per_relay\"] = [21.875, 22.1875]\n",
      "gateway_viability_sweep_ag6_[\"application_fee_per_relay\"] = [25.625, 25.9375]\n",
      "gateway_viability_sweep_ag6_[\"gateway_minimum_stake\"] = [137500000000.0, 140625000000.0]\n",
      "gateway_viability_sweep_ag6_[\"minimum_application_stake\"] = [190625000000.0, 193750000000.0]\n",
      "gateway_viability_sweep_ag6_[\"application_max_number\"] = [5, 20, 100]\n",
      "gateway_viability_sweep_ag6_[\"relays_per_session_gamma_distribution_scale\"] = [100000, 300000, 900000]\n",
      "create_sweep(\"gateway_viability_sweep_ag6_\",gateway_viability_sweep_ag6_,config_option_map_sweep)\n",
      "\n",
      "\n",
      "Add the following to model/config/experiment.py:\n",
      "\n",
      "for i in range(1, 289):\n",
      "    experimental_setups[\"gateway_viability_sweep_ag6_{}\".format(i)] = {\n",
      "        \"config_option_state\": \"Base\",\n",
      "        \"config_option_params\": \"gateway_viability_sweep_ag6_{}\".format(i),\n",
      "        \"monte_carlo_n\": 5,\n",
      "        \"T\": 365,\n",
      "    }\n",
      "\n",
      "\n",
      "Add the following to GRID_NUMBERS in cloud_utility.py\n",
      "\"gateway_viability_sweep_ag6_\": 288\n"
     ]
    }
   ],
   "source": [
    "from psuu import build_next_param_config_code\n",
    "\n"
   ]
  },
  {
   "cell_type": "code",
   "execution_count": null,
   "id": "caf0ef6d",
   "metadata": {},
   "outputs": [],
   "source": []
  }
 ],
 "metadata": {
  "kernelspec": {
   "display_name": "Python 3 (ipykernel)",
   "language": "python",
   "name": "python3"
  },
  "language_info": {
   "codemirror_mode": {
    "name": "ipython",
    "version": 3
   },
   "file_extension": ".py",
   "mimetype": "text/x-python",
   "name": "python",
   "nbconvert_exporter": "python",
   "pygments_lexer": "ipython3",
   "version": "3.9.12"
  }
 },
 "nbformat": 4,
 "nbformat_minor": 5
}
