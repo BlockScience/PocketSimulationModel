{
 "cells": [
  {
   "cell_type": "code",
   "execution_count": 1,
   "id": "780066dd",
   "metadata": {},
   "outputs": [
    {
     "name": "stderr",
     "output_type": "stream",
     "text": [
      "/Users/seanmcowen/opt/anaconda3/envs/BlockScience/lib/python3.9/site-packages/tqdm/auto.py:22: TqdmWarning: IProgress not found. Please update jupyter and ipywidgets. See https://ipywidgets.readthedocs.io/en/stable/user_install.html\n",
      "  from .autonotebook import tqdm as notebook_tqdm\n"
     ]
    }
   ],
   "source": [
    "import pandas as pd\n",
    "import os\n",
    "from copy import deepcopy\n",
    "import numpy as np\n",
    "from math import isclose\n",
    "\n",
    "os.chdir(\"..\")\n",
    "from adaptive_multigrid import give_data_individual_names, find_best_individual_name, build_individual_dict_from_param_grid, update_param_grid\n",
    "from gvs_threshold_calc import calc_gvs_thresh_ineq_met\n",
    "from model.config.params import *\n",
    "\n",
    "\n",
    "fitness_func = calc_gvs_thresh_ineq_met\n",
    "sweep = \"gateway_viability_sweep_ag3_\"\n",
    "kpis = pd.read_csv(\"simulation_data/{}.csv\".format(sweep), index_col=0)\n",
    "exec(\"param_config = {}\".format(sweep))\n",
    "next_name = sweep[:-2] + str(int(sweep[-2]) + 1) + \"_\"\n",
    "\n",
    "variable_params = ['session_token_bucket_coefficient', 'gateway_fee_per_relay', 'application_fee_per_relay', 'gateway_minimum_stake', 'minimum_application_stake']\n",
    "control_params = ['application_max_number', 'relays_per_session_gamma_distribution_scale']\n",
    "\n",
    "params_to_evolve = {}\n",
    "for x in variable_params:\n",
    "    params_to_evolve[x] = gateway_viability_sweep_ag2_[x]\n",
    "\n",
    "params_for_setup_only = {}\n",
    "for x in control_params:\n",
    "    params_for_setup_only[x] = gateway_viability_sweep_ag2_[x]\n",
    "\n",
    "initial_param_grid = params_to_evolve\n",
    "other_params_to_sweep = params_for_setup_only\n",
    "\n",
    "\n"
   ]
  },
  {
   "cell_type": "code",
   "execution_count": null,
   "id": "5829c3b9",
   "metadata": {},
   "outputs": [],
   "source": []
  },
  {
   "cell_type": "code",
   "execution_count": null,
   "id": "925379c2",
   "metadata": {},
   "outputs": [],
   "source": []
  },
  {
   "cell_type": "code",
   "execution_count": null,
   "id": "1bbf876a",
   "metadata": {},
   "outputs": [],
   "source": []
  },
  {
   "cell_type": "code",
   "execution_count": null,
   "id": "fc2fd0f2",
   "metadata": {},
   "outputs": [],
   "source": []
  },
  {
   "cell_type": "code",
   "execution_count": 2,
   "id": "9bf6ac5b",
   "metadata": {},
   "outputs": [
    {
     "name": "stdout",
     "output_type": "stream",
     "text": [
      "Building the individual dict.\n",
      "Individual dict is {'stbc:25.0_gfpr:20.0_afpr:25.0_gms:100000000000.0_ams:150000000000.0': {'session_token_bucket_coefficient': 25.0, 'gateway_fee_per_relay': 20.0, 'application_fee_per_relay': 25.0, 'gateway_minimum_stake': 100000000000.0, 'minimum_application_stake': 150000000000.0}, 'stbc:25.0_gfpr:20.0_afpr:25.0_gms:100000000000.0_ams:200000000000.0': {'session_token_bucket_coefficient': 25.0, 'gateway_fee_per_relay': 20.0, 'application_fee_per_relay': 25.0, 'gateway_minimum_stake': 100000000000.0, 'minimum_application_stake': 200000000000.0}, 'stbc:25.0_gfpr:20.0_afpr:25.0_gms:150000000000.0_ams:150000000000.0': {'session_token_bucket_coefficient': 25.0, 'gateway_fee_per_relay': 20.0, 'application_fee_per_relay': 25.0, 'gateway_minimum_stake': 150000000000.0, 'minimum_application_stake': 150000000000.0}, 'stbc:25.0_gfpr:20.0_afpr:25.0_gms:150000000000.0_ams:200000000000.0': {'session_token_bucket_coefficient': 25.0, 'gateway_fee_per_relay': 20.0, 'application_fee_per_relay': 25.0, 'gateway_minimum_stake': 150000000000.0, 'minimum_application_stake': 200000000000.0}, 'stbc:25.0_gfpr:20.0_afpr:30.0_gms:100000000000.0_ams:150000000000.0': {'session_token_bucket_coefficient': 25.0, 'gateway_fee_per_relay': 20.0, 'application_fee_per_relay': 30.0, 'gateway_minimum_stake': 100000000000.0, 'minimum_application_stake': 150000000000.0}, 'stbc:25.0_gfpr:20.0_afpr:30.0_gms:100000000000.0_ams:200000000000.0': {'session_token_bucket_coefficient': 25.0, 'gateway_fee_per_relay': 20.0, 'application_fee_per_relay': 30.0, 'gateway_minimum_stake': 100000000000.0, 'minimum_application_stake': 200000000000.0}, 'stbc:25.0_gfpr:20.0_afpr:30.0_gms:150000000000.0_ams:150000000000.0': {'session_token_bucket_coefficient': 25.0, 'gateway_fee_per_relay': 20.0, 'application_fee_per_relay': 30.0, 'gateway_minimum_stake': 150000000000.0, 'minimum_application_stake': 150000000000.0}, 'stbc:25.0_gfpr:20.0_afpr:30.0_gms:150000000000.0_ams:200000000000.0': {'session_token_bucket_coefficient': 25.0, 'gateway_fee_per_relay': 20.0, 'application_fee_per_relay': 30.0, 'gateway_minimum_stake': 150000000000.0, 'minimum_application_stake': 200000000000.0}, 'stbc:25.0_gfpr:25.0_afpr:25.0_gms:100000000000.0_ams:150000000000.0': {'session_token_bucket_coefficient': 25.0, 'gateway_fee_per_relay': 25.0, 'application_fee_per_relay': 25.0, 'gateway_minimum_stake': 100000000000.0, 'minimum_application_stake': 150000000000.0}, 'stbc:25.0_gfpr:25.0_afpr:25.0_gms:100000000000.0_ams:200000000000.0': {'session_token_bucket_coefficient': 25.0, 'gateway_fee_per_relay': 25.0, 'application_fee_per_relay': 25.0, 'gateway_minimum_stake': 100000000000.0, 'minimum_application_stake': 200000000000.0}, 'stbc:25.0_gfpr:25.0_afpr:25.0_gms:150000000000.0_ams:150000000000.0': {'session_token_bucket_coefficient': 25.0, 'gateway_fee_per_relay': 25.0, 'application_fee_per_relay': 25.0, 'gateway_minimum_stake': 150000000000.0, 'minimum_application_stake': 150000000000.0}, 'stbc:25.0_gfpr:25.0_afpr:25.0_gms:150000000000.0_ams:200000000000.0': {'session_token_bucket_coefficient': 25.0, 'gateway_fee_per_relay': 25.0, 'application_fee_per_relay': 25.0, 'gateway_minimum_stake': 150000000000.0, 'minimum_application_stake': 200000000000.0}, 'stbc:25.0_gfpr:25.0_afpr:30.0_gms:100000000000.0_ams:150000000000.0': {'session_token_bucket_coefficient': 25.0, 'gateway_fee_per_relay': 25.0, 'application_fee_per_relay': 30.0, 'gateway_minimum_stake': 100000000000.0, 'minimum_application_stake': 150000000000.0}, 'stbc:25.0_gfpr:25.0_afpr:30.0_gms:100000000000.0_ams:200000000000.0': {'session_token_bucket_coefficient': 25.0, 'gateway_fee_per_relay': 25.0, 'application_fee_per_relay': 30.0, 'gateway_minimum_stake': 100000000000.0, 'minimum_application_stake': 200000000000.0}, 'stbc:25.0_gfpr:25.0_afpr:30.0_gms:150000000000.0_ams:150000000000.0': {'session_token_bucket_coefficient': 25.0, 'gateway_fee_per_relay': 25.0, 'application_fee_per_relay': 30.0, 'gateway_minimum_stake': 150000000000.0, 'minimum_application_stake': 150000000000.0}, 'stbc:25.0_gfpr:25.0_afpr:30.0_gms:150000000000.0_ams:200000000000.0': {'session_token_bucket_coefficient': 25.0, 'gateway_fee_per_relay': 25.0, 'application_fee_per_relay': 30.0, 'gateway_minimum_stake': 150000000000.0, 'minimum_application_stake': 200000000000.0}, 'stbc:212.5_gfpr:20.0_afpr:25.0_gms:100000000000.0_ams:150000000000.0': {'session_token_bucket_coefficient': 212.5, 'gateway_fee_per_relay': 20.0, 'application_fee_per_relay': 25.0, 'gateway_minimum_stake': 100000000000.0, 'minimum_application_stake': 150000000000.0}, 'stbc:212.5_gfpr:20.0_afpr:25.0_gms:100000000000.0_ams:200000000000.0': {'session_token_bucket_coefficient': 212.5, 'gateway_fee_per_relay': 20.0, 'application_fee_per_relay': 25.0, 'gateway_minimum_stake': 100000000000.0, 'minimum_application_stake': 200000000000.0}, 'stbc:212.5_gfpr:20.0_afpr:25.0_gms:150000000000.0_ams:150000000000.0': {'session_token_bucket_coefficient': 212.5, 'gateway_fee_per_relay': 20.0, 'application_fee_per_relay': 25.0, 'gateway_minimum_stake': 150000000000.0, 'minimum_application_stake': 150000000000.0}, 'stbc:212.5_gfpr:20.0_afpr:25.0_gms:150000000000.0_ams:200000000000.0': {'session_token_bucket_coefficient': 212.5, 'gateway_fee_per_relay': 20.0, 'application_fee_per_relay': 25.0, 'gateway_minimum_stake': 150000000000.0, 'minimum_application_stake': 200000000000.0}, 'stbc:212.5_gfpr:20.0_afpr:30.0_gms:100000000000.0_ams:150000000000.0': {'session_token_bucket_coefficient': 212.5, 'gateway_fee_per_relay': 20.0, 'application_fee_per_relay': 30.0, 'gateway_minimum_stake': 100000000000.0, 'minimum_application_stake': 150000000000.0}, 'stbc:212.5_gfpr:20.0_afpr:30.0_gms:100000000000.0_ams:200000000000.0': {'session_token_bucket_coefficient': 212.5, 'gateway_fee_per_relay': 20.0, 'application_fee_per_relay': 30.0, 'gateway_minimum_stake': 100000000000.0, 'minimum_application_stake': 200000000000.0}, 'stbc:212.5_gfpr:20.0_afpr:30.0_gms:150000000000.0_ams:150000000000.0': {'session_token_bucket_coefficient': 212.5, 'gateway_fee_per_relay': 20.0, 'application_fee_per_relay': 30.0, 'gateway_minimum_stake': 150000000000.0, 'minimum_application_stake': 150000000000.0}, 'stbc:212.5_gfpr:20.0_afpr:30.0_gms:150000000000.0_ams:200000000000.0': {'session_token_bucket_coefficient': 212.5, 'gateway_fee_per_relay': 20.0, 'application_fee_per_relay': 30.0, 'gateway_minimum_stake': 150000000000.0, 'minimum_application_stake': 200000000000.0}, 'stbc:212.5_gfpr:25.0_afpr:25.0_gms:100000000000.0_ams:150000000000.0': {'session_token_bucket_coefficient': 212.5, 'gateway_fee_per_relay': 25.0, 'application_fee_per_relay': 25.0, 'gateway_minimum_stake': 100000000000.0, 'minimum_application_stake': 150000000000.0}, 'stbc:212.5_gfpr:25.0_afpr:25.0_gms:100000000000.0_ams:200000000000.0': {'session_token_bucket_coefficient': 212.5, 'gateway_fee_per_relay': 25.0, 'application_fee_per_relay': 25.0, 'gateway_minimum_stake': 100000000000.0, 'minimum_application_stake': 200000000000.0}, 'stbc:212.5_gfpr:25.0_afpr:25.0_gms:150000000000.0_ams:150000000000.0': {'session_token_bucket_coefficient': 212.5, 'gateway_fee_per_relay': 25.0, 'application_fee_per_relay': 25.0, 'gateway_minimum_stake': 150000000000.0, 'minimum_application_stake': 150000000000.0}, 'stbc:212.5_gfpr:25.0_afpr:25.0_gms:150000000000.0_ams:200000000000.0': {'session_token_bucket_coefficient': 212.5, 'gateway_fee_per_relay': 25.0, 'application_fee_per_relay': 25.0, 'gateway_minimum_stake': 150000000000.0, 'minimum_application_stake': 200000000000.0}, 'stbc:212.5_gfpr:25.0_afpr:30.0_gms:100000000000.0_ams:150000000000.0': {'session_token_bucket_coefficient': 212.5, 'gateway_fee_per_relay': 25.0, 'application_fee_per_relay': 30.0, 'gateway_minimum_stake': 100000000000.0, 'minimum_application_stake': 150000000000.0}, 'stbc:212.5_gfpr:25.0_afpr:30.0_gms:100000000000.0_ams:200000000000.0': {'session_token_bucket_coefficient': 212.5, 'gateway_fee_per_relay': 25.0, 'application_fee_per_relay': 30.0, 'gateway_minimum_stake': 100000000000.0, 'minimum_application_stake': 200000000000.0}, 'stbc:212.5_gfpr:25.0_afpr:30.0_gms:150000000000.0_ams:150000000000.0': {'session_token_bucket_coefficient': 212.5, 'gateway_fee_per_relay': 25.0, 'application_fee_per_relay': 30.0, 'gateway_minimum_stake': 150000000000.0, 'minimum_application_stake': 150000000000.0}, 'stbc:212.5_gfpr:25.0_afpr:30.0_gms:150000000000.0_ams:200000000000.0': {'session_token_bucket_coefficient': 212.5, 'gateway_fee_per_relay': 25.0, 'application_fee_per_relay': 30.0, 'gateway_minimum_stake': 150000000000.0, 'minimum_application_stake': 200000000000.0}}\n",
      "Finding names to use for individual.\n"
     ]
    },
    {
     "name": "stdout",
     "output_type": "stream",
     "text": [
      "We have added individual names for the various parameter combinations.\n",
      "The DataFrame now looks like                                                     Net Minting Rate  \\\n",
      "individual_name                                                        \n",
      "stbc:25.0_gfpr:20.0_afpr:25.0_gms:100000000000....          0.000007   \n",
      "stbc:25.0_gfpr:20.0_afpr:25.0_gms:100000000000....          0.000006   \n",
      "stbc:25.0_gfpr:20.0_afpr:25.0_gms:100000000000....          0.000007   \n",
      "stbc:25.0_gfpr:20.0_afpr:25.0_gms:100000000000....          0.000006   \n",
      "stbc:25.0_gfpr:20.0_afpr:25.0_gms:100000000000....          0.000007   \n",
      "\n",
      "                                                       KPI C  \\\n",
      "individual_name                                                \n",
      "stbc:25.0_gfpr:20.0_afpr:25.0_gms:100000000000....  0.173062   \n",
      "stbc:25.0_gfpr:20.0_afpr:25.0_gms:100000000000....  0.178044   \n",
      "stbc:25.0_gfpr:20.0_afpr:25.0_gms:100000000000....  0.223872   \n",
      "stbc:25.0_gfpr:20.0_afpr:25.0_gms:100000000000....  0.198511   \n",
      "stbc:25.0_gfpr:20.0_afpr:25.0_gms:100000000000....  0.196783   \n",
      "\n",
      "                                                                  Experiment Name  \\\n",
      "individual_name                                                                     \n",
      "stbc:25.0_gfpr:20.0_afpr:25.0_gms:100000000000....  gateway_viability_sweep_ag2_1   \n",
      "stbc:25.0_gfpr:20.0_afpr:25.0_gms:100000000000....  gateway_viability_sweep_ag2_1   \n",
      "stbc:25.0_gfpr:20.0_afpr:25.0_gms:100000000000....  gateway_viability_sweep_ag2_1   \n",
      "stbc:25.0_gfpr:20.0_afpr:25.0_gms:100000000000....  gateway_viability_sweep_ag2_1   \n",
      "stbc:25.0_gfpr:20.0_afpr:25.0_gms:100000000000....  gateway_viability_sweep_ag2_1   \n",
      "\n",
      "                                                   State Set  \\\n",
      "individual_name                                                \n",
      "stbc:25.0_gfpr:20.0_afpr:25.0_gms:100000000000....      Base   \n",
      "stbc:25.0_gfpr:20.0_afpr:25.0_gms:100000000000....      Base   \n",
      "stbc:25.0_gfpr:20.0_afpr:25.0_gms:100000000000....      Base   \n",
      "stbc:25.0_gfpr:20.0_afpr:25.0_gms:100000000000....      Base   \n",
      "stbc:25.0_gfpr:20.0_afpr:25.0_gms:100000000000....      Base   \n",
      "\n",
      "                                                                       Params Set  \\\n",
      "individual_name                                                                     \n",
      "stbc:25.0_gfpr:20.0_afpr:25.0_gms:100000000000....  gateway_viability_sweep_ag2_1   \n",
      "stbc:25.0_gfpr:20.0_afpr:25.0_gms:100000000000....  gateway_viability_sweep_ag2_1   \n",
      "stbc:25.0_gfpr:20.0_afpr:25.0_gms:100000000000....  gateway_viability_sweep_ag2_1   \n",
      "stbc:25.0_gfpr:20.0_afpr:25.0_gms:100000000000....  gateway_viability_sweep_ag2_1   \n",
      "stbc:25.0_gfpr:20.0_afpr:25.0_gms:100000000000....  gateway_viability_sweep_ag2_1   \n",
      "\n",
      "                                                    timestep  \\\n",
      "individual_name                                                \n",
      "stbc:25.0_gfpr:20.0_afpr:25.0_gms:100000000000....       365   \n",
      "stbc:25.0_gfpr:20.0_afpr:25.0_gms:100000000000....       365   \n",
      "stbc:25.0_gfpr:20.0_afpr:25.0_gms:100000000000....       365   \n",
      "stbc:25.0_gfpr:20.0_afpr:25.0_gms:100000000000....       365   \n",
      "stbc:25.0_gfpr:20.0_afpr:25.0_gms:100000000000....       365   \n",
      "\n",
      "                                                    param_minimum_stake_servicer  \\\n",
      "individual_name                                                                    \n",
      "stbc:25.0_gfpr:20.0_afpr:25.0_gms:100000000000....                  1.500000e+10   \n",
      "stbc:25.0_gfpr:20.0_afpr:25.0_gms:100000000000....                  1.500000e+10   \n",
      "stbc:25.0_gfpr:20.0_afpr:25.0_gms:100000000000....                  1.500000e+10   \n",
      "stbc:25.0_gfpr:20.0_afpr:25.0_gms:100000000000....                  1.500000e+10   \n",
      "stbc:25.0_gfpr:20.0_afpr:25.0_gms:100000000000....                  1.500000e+10   \n",
      "\n",
      "                                                    param_minimum_stake_period_servicer  \\\n",
      "individual_name                                                                           \n",
      "stbc:25.0_gfpr:20.0_afpr:25.0_gms:100000000000....                                   10   \n",
      "stbc:25.0_gfpr:20.0_afpr:25.0_gms:100000000000....                                   10   \n",
      "stbc:25.0_gfpr:20.0_afpr:25.0_gms:100000000000....                                   10   \n",
      "stbc:25.0_gfpr:20.0_afpr:25.0_gms:100000000000....                                   10   \n",
      "stbc:25.0_gfpr:20.0_afpr:25.0_gms:100000000000....                                   10   \n",
      "\n",
      "                                                    param_minimum_pause_time  \\\n",
      "individual_name                                                                \n",
      "stbc:25.0_gfpr:20.0_afpr:25.0_gms:100000000000....                        10   \n",
      "stbc:25.0_gfpr:20.0_afpr:25.0_gms:100000000000....                        10   \n",
      "stbc:25.0_gfpr:20.0_afpr:25.0_gms:100000000000....                        10   \n",
      "stbc:25.0_gfpr:20.0_afpr:25.0_gms:100000000000....                        10   \n",
      "stbc:25.0_gfpr:20.0_afpr:25.0_gms:100000000000....                        10   \n",
      "\n",
      "                                                    param_max_chains_servicer  \\\n",
      "individual_name                                                                 \n",
      "stbc:25.0_gfpr:20.0_afpr:25.0_gms:100000000000....                         15   \n",
      "stbc:25.0_gfpr:20.0_afpr:25.0_gms:100000000000....                         15   \n",
      "stbc:25.0_gfpr:20.0_afpr:25.0_gms:100000000000....                         15   \n",
      "stbc:25.0_gfpr:20.0_afpr:25.0_gms:100000000000....                         15   \n",
      "stbc:25.0_gfpr:20.0_afpr:25.0_gms:100000000000....                         15   \n",
      "\n",
      "                                                    ...  kpi_a  \\\n",
      "individual_name                                     ...          \n",
      "stbc:25.0_gfpr:20.0_afpr:25.0_gms:100000000000....  ...    1.0   \n",
      "stbc:25.0_gfpr:20.0_afpr:25.0_gms:100000000000....  ...    1.0   \n",
      "stbc:25.0_gfpr:20.0_afpr:25.0_gms:100000000000....  ...    1.0   \n",
      "stbc:25.0_gfpr:20.0_afpr:25.0_gms:100000000000....  ...    1.0   \n",
      "stbc:25.0_gfpr:20.0_afpr:25.0_gms:100000000000....  ...    1.0   \n",
      "\n",
      "                                                    floating_supply  \\\n",
      "individual_name                                                       \n",
      "stbc:25.0_gfpr:20.0_afpr:25.0_gms:100000000000....     1.521527e+15   \n",
      "stbc:25.0_gfpr:20.0_afpr:25.0_gms:100000000000....     1.521527e+15   \n",
      "stbc:25.0_gfpr:20.0_afpr:25.0_gms:100000000000....     1.521528e+15   \n",
      "stbc:25.0_gfpr:20.0_afpr:25.0_gms:100000000000....     1.521527e+15   \n",
      "stbc:25.0_gfpr:20.0_afpr:25.0_gms:100000000000....     1.521528e+15   \n",
      "\n",
      "                                                    circulating_supply  \\\n",
      "individual_name                                                          \n",
      "stbc:25.0_gfpr:20.0_afpr:25.0_gms:100000000000....        1.517837e+15   \n",
      "stbc:25.0_gfpr:20.0_afpr:25.0_gms:100000000000....        1.517822e+15   \n",
      "stbc:25.0_gfpr:20.0_afpr:25.0_gms:100000000000....        1.517823e+15   \n",
      "stbc:25.0_gfpr:20.0_afpr:25.0_gms:100000000000....        1.518017e+15   \n",
      "stbc:25.0_gfpr:20.0_afpr:25.0_gms:100000000000....        1.518003e+15   \n",
      "\n",
      "                                                    dao_value_capture  \\\n",
      "individual_name                                                         \n",
      "stbc:25.0_gfpr:20.0_afpr:25.0_gms:100000000000....       7.741292e-07   \n",
      "stbc:25.0_gfpr:20.0_afpr:25.0_gms:100000000000....       7.736222e-07   \n",
      "stbc:25.0_gfpr:20.0_afpr:25.0_gms:100000000000....       8.181578e-07   \n",
      "stbc:25.0_gfpr:20.0_afpr:25.0_gms:100000000000....       7.475254e-07   \n",
      "stbc:25.0_gfpr:20.0_afpr:25.0_gms:100000000000....       8.150956e-07   \n",
      "\n",
      "                                                    POKT_burned_cummulative  \\\n",
      "individual_name                                                               \n",
      "stbc:25.0_gfpr:20.0_afpr:25.0_gms:100000000000....             1.837946e+09   \n",
      "stbc:25.0_gfpr:20.0_afpr:25.0_gms:100000000000....             2.033387e+09   \n",
      "stbc:25.0_gfpr:20.0_afpr:25.0_gms:100000000000....             2.006542e+09   \n",
      "stbc:25.0_gfpr:20.0_afpr:25.0_gms:100000000000....             1.933541e+09   \n",
      "stbc:25.0_gfpr:20.0_afpr:25.0_gms:100000000000....             2.108295e+09   \n",
      "\n",
      "                                                    POKT_minted_cummulative  \\\n",
      "individual_name                                                               \n",
      "stbc:25.0_gfpr:20.0_afpr:25.0_gms:100000000000....             1.177783e+10   \n",
      "stbc:25.0_gfpr:20.0_afpr:25.0_gms:100000000000....             1.177012e+10   \n",
      "stbc:25.0_gfpr:20.0_afpr:25.0_gms:100000000000....             1.244771e+10   \n",
      "stbc:25.0_gfpr:20.0_afpr:25.0_gms:100000000000....             1.137307e+10   \n",
      "stbc:25.0_gfpr:20.0_afpr:25.0_gms:100000000000....             1.240112e+10   \n",
      "\n",
      "                                                    POKT_net_mint_cummulative  \\\n",
      "individual_name                                                                 \n",
      "stbc:25.0_gfpr:20.0_afpr:25.0_gms:100000000000....               9.939889e+09   \n",
      "stbc:25.0_gfpr:20.0_afpr:25.0_gms:100000000000....               9.736732e+09   \n",
      "stbc:25.0_gfpr:20.0_afpr:25.0_gms:100000000000....               1.044117e+10   \n",
      "stbc:25.0_gfpr:20.0_afpr:25.0_gms:100000000000....               9.439526e+09   \n",
      "stbc:25.0_gfpr:20.0_afpr:25.0_gms:100000000000....               1.029282e+10   \n",
      "\n",
      "                                                    burn_rate_cummulative  \\\n",
      "individual_name                                                             \n",
      "stbc:25.0_gfpr:20.0_afpr:25.0_gms:100000000000....               0.000001   \n",
      "stbc:25.0_gfpr:20.0_afpr:25.0_gms:100000000000....               0.000001   \n",
      "stbc:25.0_gfpr:20.0_afpr:25.0_gms:100000000000....               0.000001   \n",
      "stbc:25.0_gfpr:20.0_afpr:25.0_gms:100000000000....               0.000001   \n",
      "stbc:25.0_gfpr:20.0_afpr:25.0_gms:100000000000....               0.000001   \n",
      "\n",
      "                                                    mint_rate_cummulative  \\\n",
      "individual_name                                                             \n",
      "stbc:25.0_gfpr:20.0_afpr:25.0_gms:100000000000....               0.000008   \n",
      "stbc:25.0_gfpr:20.0_afpr:25.0_gms:100000000000....               0.000008   \n",
      "stbc:25.0_gfpr:20.0_afpr:25.0_gms:100000000000....               0.000008   \n",
      "stbc:25.0_gfpr:20.0_afpr:25.0_gms:100000000000....               0.000007   \n",
      "stbc:25.0_gfpr:20.0_afpr:25.0_gms:100000000000....               0.000008   \n",
      "\n",
      "                                                    net_mint_rate_cummulative  \n",
      "individual_name                                                                \n",
      "stbc:25.0_gfpr:20.0_afpr:25.0_gms:100000000000....                   0.000007  \n",
      "stbc:25.0_gfpr:20.0_afpr:25.0_gms:100000000000....                   0.000006  \n",
      "stbc:25.0_gfpr:20.0_afpr:25.0_gms:100000000000....                   0.000007  \n",
      "stbc:25.0_gfpr:20.0_afpr:25.0_gms:100000000000....                   0.000006  \n",
      "stbc:25.0_gfpr:20.0_afpr:25.0_gms:100000000000....                   0.000007  \n",
      "\n",
      "[5 rows x 102 columns].\n",
      "stbc:25.0_gfpr:25.0_afpr:25.0_gms:100000000000.0_ams:200000000000.0\n"
     ]
    }
   ],
   "source": [
    "new_param_grid = deepcopy(initial_param_grid)\n",
    "new_best_name = \"\"\n",
    "new_best_fitness = -np.inf\n",
    "times_repeat_best_name = 0\n",
    "times_repeat_best_fitness = 0\n",
    "\n",
    "old_param_grid = deepcopy(new_param_grid)\n",
    "old_best_name = new_best_name\n",
    "old_best_fitness = new_best_fitness\n",
    "\n",
    "individual_dict = build_individual_dict_from_param_grid(old_param_grid)\n",
    "        \n",
    "        \n",
    "\n",
    "data = kpis\n",
    "data = give_data_individual_names(data)\n",
    "\n",
    "new_best_name, new_best_val = find_best_individual_name(\n",
    "            data, fitness_func=fitness_func, name_biased_towards=old_best_name\n",
    "        )\n",
    "\n",
    "assert not (\n",
    "            new_best_name is None\n",
    "        ), \"The best individual should be somewhere in this dictionary.\"\n",
    "print(new_best_name)\n",
    "\n",
    "new_best_individual = individual_dict[new_best_name]\n",
    "\n",
    "if new_best_name == old_best_name:\n",
    "    times_repeat_best_name = times_repeat_best_name + 1\n",
    "else:\n",
    "    times_repeat_best_name = 0\n",
    "\n",
    "if isclose(new_best_fitness, old_best_fitness):\n",
    "    times_repeat_best_fitness = times_repeat_best_fitness + 1\n",
    "else:\n",
    "    times_repeat_best_fitness = 0\n",
    "    \n",
    "new_param_grid = update_param_grid(\n",
    "                old_param_grid=old_param_grid, best_individual=new_best_individual\n",
    "            )"
   ]
  },
  {
   "cell_type": "code",
   "execution_count": 6,
   "id": "ce22b67e",
   "metadata": {},
   "outputs": [
    {
     "data": {
      "text/plain": [
       "{'session_token_bucket_coefficient': [118.75, 212.5],\n",
       " 'gateway_fee_per_relay': [20.0, 22.5],\n",
       " 'application_fee_per_relay': [25.0, 27.5],\n",
       " 'gateway_minimum_stake': [125000000000.0, 150000000000.0],\n",
       " 'minimum_application_stake': [175000000000.0, 200000000000.0]}"
      ]
     },
     "execution_count": 6,
     "metadata": {},
     "output_type": "execute_result"
    }
   ],
   "source": [
    "new_param_grid"
   ]
  },
  {
   "cell_type": "code",
   "execution_count": 30,
   "id": "1488f821",
   "metadata": {},
   "outputs": [
    {
     "name": "stdout",
     "output_type": "stream",
     "text": [
      "Add the following to model/config/params.py:\n",
      "\n",
      "gateway_viability_sweep_ag3_ = build_params(\"Base\")\n",
      "gateway_viability_sweep_ag3_[\"session_token_bucket_coefficient\"] = [25.0, 118.75]\n",
      "gateway_viability_sweep_ag3_[\"gateway_fee_per_relay\"] = [22.5, 25.0]\n",
      "gateway_viability_sweep_ag3_[\"application_fee_per_relay\"] = [25.0, 27.5]\n",
      "gateway_viability_sweep_ag3_[\"gateway_minimum_stake\"] = [100000000000.0, 125000000000.0]\n",
      "gateway_viability_sweep_ag3_[\"minimum_application_stake\"] = [175000000000.0, 200000000000.0]\n",
      "gateway_viability_sweep_ag3_[\"application_max_number\"] = [5, 20, 100]\n",
      "gateway_viability_sweep_ag3_[\"relays_per_session_gamma_distribution_scale\"] = [100000, 300000, 900000]\n"
     ]
    }
   ],
   "source": [
    "from psuu import build_next_param_config_code\n",
    "\n",
    "build_next_param_config_code(\n",
    "    next_name, new_param_grid, control_params, param_config\n",
    ")"
   ]
  },
  {
   "cell_type": "code",
   "execution_count": 21,
   "id": "d174707c",
   "metadata": {},
   "outputs": [
    {
     "name": "stdout",
     "output_type": "stream",
     "text": [
      "application_max_number\n",
      "relays_per_session_gamma_distribution_scale\n"
     ]
    }
   ],
   "source": [
    "for x in control_params:\n",
    "    print(x)"
   ]
  },
  {
   "cell_type": "code",
   "execution_count": 26,
   "id": "0acf06f2",
   "metadata": {},
   "outputs": [
    {
     "data": {
      "text/plain": [
       "[100000, 300000, 900000]"
      ]
     },
     "execution_count": 26,
     "metadata": {},
     "output_type": "execute_result"
    }
   ],
   "source": [
    "param_config[x]"
   ]
  },
  {
   "cell_type": "code",
   "execution_count": 17,
   "id": "c2e866a0",
   "metadata": {},
   "outputs": [
    {
     "data": {
      "text/plain": [
       "'[100000000000.0, 125000000000.0]'"
      ]
     },
     "execution_count": 17,
     "metadata": {},
     "output_type": "execute_result"
    }
   ],
   "source": [
    "str(new_param_grid[\"gateway_minimum_stake\"])"
   ]
  },
  {
   "cell_type": "code",
   "execution_count": 11,
   "id": "0d8d2de4",
   "metadata": {},
   "outputs": [],
   "source": [
    "\n",
    "gateway_viability_sweep_ag3_[\"session_token_bucket_coefficient\"] = [118.75, 212.5]\n",
    "gateway_viability_sweep_ag3_[\"gateway_fee_per_relay\"] = [20.0, 22.5]\n",
    "gateway_viability_sweep_ag3_[\"application_fee_per_relay\"] = [25.0, 27.5]\n",
    "gateway_viability_sweep_ag3_[\"gateway_minimum_stake\"] = [125000000000.0, 150000000000.0]\n",
    "gateway_viability_sweep_ag3_[\"minimum_application_stake\"] = [\n",
    "    175000000000.0,\n",
    "    200000000000.0,\n",
    "]\n",
    "gateway_viability_sweep_ag3_[\"application_max_number\"] = [5, 20, 100]\n",
    "gateway_viability_sweep_ag3_[\"relays_per_session_gamma_distribution_scale\"] = [\n",
    "    100000,\n",
    "    300000,\n",
    "    900000,\n",
    "]\n",
    "\n",
    "create_sweep(\n",
    "    \"gateway_viability_sweep_ag3_\",\n",
    "    gateway_viability_sweep_ag3_,\n",
    "    config_option_map_sweep,\n",
    ")"
   ]
  },
  {
   "cell_type": "code",
   "execution_count": 10,
   "id": "4744abc2",
   "metadata": {},
   "outputs": [
    {
     "data": {
      "text/plain": [
       "'gateway_viability_sweep_ag3_'"
      ]
     },
     "execution_count": 10,
     "metadata": {},
     "output_type": "execute_result"
    }
   ],
   "source": []
  },
  {
   "cell_type": "code",
   "execution_count": 3,
   "id": "c3d4036b",
   "metadata": {},
   "outputs": [
    {
     "data": {
      "text/plain": [
       "{'minimum_stake_servicer': [15000000000.0],\n",
       " 'minimum_stake_period_servicer': [10],\n",
       " 'minimum_pause_time': [10],\n",
       " 'max_chains_servicer': [15],\n",
       " 'relays_to_tokens_multiplier': [161.29],\n",
       " 'slash_fraction_downtime': [1e-06],\n",
       " 'downtime_jail_duration': [3600000000000],\n",
       " 'minimum_servicers_per_session': [1],\n",
       " 'maximum_servicers_per_session': [5],\n",
       " 'application_fee_per_relay': [25.0, 30.0],\n",
       " 'minimum_application_stake': [150000000000.0, 200000000000.0],\n",
       " 'app_burn_per_session': [0],\n",
       " 'app_burn_per_relay': [0],\n",
       " 'block_proposer_allocation': [0.05],\n",
       " 'dao_allocation': [0.1],\n",
       " 'servicer_allocation': [0.85],\n",
       " 'stake_per_app_delegation': [15000000000.0],\n",
       " 'gateway_fee_per_relay': [20.0, 25.0],\n",
       " 'gateway_minimum_stake': [100000000000.0, 150000000000.0],\n",
       " 'session_token_bucket_coefficient': [25.0, 212.5],\n",
       " 'dao_fee_percentage': [0.1],\n",
       " 'validator_fee_percentage': [0.9],\n",
       " 'transaction_fee': [0.01],\n",
       " 'min_bootstrap_gateway_fee_per_relay': [8.5e-07],\n",
       " 'maturity_relay_charge': [1.971e-06],\n",
       " 'gateway_bootstrap_unwind_start': [3],\n",
       " 'gateway_bootstrap_end': [20],\n",
       " 'supply_grow_cap': [0.05],\n",
       " 'servicer_bootstrap_end': [10],\n",
       " 'max_bootstrap_servicer_cost_per_relay': [5e-06],\n",
       " 'servicer_bootstrap_unwind_start': [1.5],\n",
       " 'maturity_relay_cost': [1.4782499999999998e-06],\n",
       " 'oracle_treatment_time_mean': [10],\n",
       " 'kpi_3_R': [1.632e-05],\n",
       " 'application_max_number': [5, 20, 100],\n",
       " 'servicer_max_number': [20],\n",
       " 'service_max_number': [10],\n",
       " 'gateway_max_number': [25],\n",
       " 'service_max_number_link': [15],\n",
       " 'application_leave_probability': [0.02],\n",
       " 'gateway_leave_probability': [0.005],\n",
       " 'service_leave_probability': [0.0025],\n",
       " 'servicer_leave_probability': [0.015],\n",
       " 'service_unlinking_probability': [0.01],\n",
       " 'gateway_undelegation_probability': [0.01],\n",
       " 'relays_per_session_gamma_distribution_shape': [5],\n",
       " 'relays_per_session_gamma_distribution_scale': [100000, 300000, 900000],\n",
       " 'average_session_per_application': [24],\n",
       " 'servicer_jailing_probability': [0.001],\n",
       " 'uses_gateway_probability': [0.5],\n",
       " 'applications_use_min_servicers': [1],\n",
       " 'applications_use_max_servicers': [3],\n",
       " 'lambda_ewm_revenue_expectation': [0.9],\n",
       " 'service_linking_probability_normal': [0.01],\n",
       " 'service_linking_probability_just_joined': [0.5],\n",
       " 'kick_bottom_probability': [0.5],\n",
       " 'oracle_price_kde_bandwidth': [0.30745369958511376],\n",
       " 'oracle_price_interarrival_time_flag': [1],\n",
       " 'event': [None],\n",
       " 'servicer_service_density_starting': [None],\n",
       " 'application_join_function': ['simple_unfiform'],\n",
       " 'servicer_join_function': ['simple_unfiform'],\n",
       " 'service_join_function': ['simple_unfiform'],\n",
       " 'gateway_join_function': ['simple_unfiform'],\n",
       " 'service_linking_function': ['basic'],\n",
       " 'gateway_delegation_function': ['basic'],\n",
       " 'relay_requests_function': ['test'],\n",
       " 'submit_relay_requests_function': ['basic_gamma'],\n",
       " 'submit_relay_requests_policy_function': ['V1'],\n",
       " 'application_leave_function': ['basic'],\n",
       " 'service_leave_function': ['basic'],\n",
       " 'servicer_leave_function': ['basic'],\n",
       " 'gateway_leave_function': ['basic'],\n",
       " 'service_unlinking_function': ['basic'],\n",
       " 'gateway_undelegation_function': ['basic'],\n",
       " 'servicer_stake_function': ['basic'],\n",
       " 'application_stake_function': ['basic'],\n",
       " 'jailing_function': ['basic'],\n",
       " 'gateway_stake_function': ['basic']}"
      ]
     },
     "execution_count": 3,
     "metadata": {},
     "output_type": "execute_result"
    }
   ],
   "source": [
    "gateway_viability_sweep_ag2_"
   ]
  },
  {
   "cell_type": "code",
   "execution_count": null,
   "id": "caf0ef6d",
   "metadata": {},
   "outputs": [],
   "source": []
  }
 ],
 "metadata": {
  "kernelspec": {
   "display_name": "Python 3 (ipykernel)",
   "language": "python",
   "name": "python3"
  },
  "language_info": {
   "codemirror_mode": {
    "name": "ipython",
    "version": 3
   },
   "file_extension": ".py",
   "mimetype": "text/x-python",
   "name": "python",
   "nbconvert_exporter": "python",
   "pygments_lexer": "ipython3",
   "version": "3.9.12"
  }
 },
 "nbformat": 4,
 "nbformat_minor": 5
}
