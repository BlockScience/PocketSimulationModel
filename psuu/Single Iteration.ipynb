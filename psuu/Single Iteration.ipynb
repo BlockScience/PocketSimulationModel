{
 "cells": [
  {
   "cell_type": "code",
   "execution_count": 1,
   "id": "c050817c",
   "metadata": {},
   "outputs": [
    {
     "name": "stderr",
     "output_type": "stream",
     "text": [
      "/Users/seanmcowen/opt/anaconda3/envs/BlockScience/lib/python3.9/site-packages/tqdm/auto.py:22: TqdmWarning: IProgress not found. Please update jupyter and ipywidgets. See https://ipywidgets.readthedocs.io/en/stable/user_install.html\n",
      "  from .autonotebook import tqdm as notebook_tqdm\n"
     ]
    }
   ],
   "source": [
    "import pandas as pd\n",
    "import os\n",
    "os.chdir(\"..\")\n",
    "kpis = pd.read_csv(\"simulation_data/gateway_viability_sweep_ag1_.csv\", index_col=0)\n",
    "from adaptive_multigrid import give_data_individual_names"
   ]
  },
  {
   "cell_type": "code",
   "execution_count": null,
   "id": "5829c3b9",
   "metadata": {},
   "outputs": [],
   "source": [
    "\n"
   ]
  },
  {
   "cell_type": "code",
   "execution_count": null,
   "id": "95d008e3",
   "metadata": {},
   "outputs": [],
   "source": []
  },
  {
   "cell_type": "code",
   "execution_count": 3,
   "id": "9bf6ac5b",
   "metadata": {},
   "outputs": [
    {
     "name": "stdout",
     "output_type": "stream",
     "text": [
      "Finding names to use for individual.\n",
      "['param_application_fee_per_relay', 'param_gateway_fee_per_relay', 'param_gateway_minimum_stake', 'param_session_token_bucket_coefficient', 'param_application_minimum_stake']\n"
     ]
    },
    {
     "ename": "AssertionError",
     "evalue": "",
     "output_type": "error",
     "traceback": [
      "\u001b[0;31m---------------------------------------------------------------------------\u001b[0m",
      "\u001b[0;31mAssertionError\u001b[0m                            Traceback (most recent call last)",
      "\u001b[0;32m/var/folders/y0/fwkpk2ps087b_2qxvhjstrfr0000gn/T/ipykernel_46929/1363132823.py\u001b[0m in \u001b[0;36m<module>\u001b[0;34m\u001b[0m\n\u001b[1;32m      8\u001b[0m \u001b[0;31m# TODO: update from mock to actual.\"\"\"\u001b[0m\u001b[0;34m\u001b[0m\u001b[0;34m\u001b[0m\u001b[0m\n\u001b[1;32m      9\u001b[0m \u001b[0mdata\u001b[0m \u001b[0;34m=\u001b[0m \u001b[0mkpis\u001b[0m\u001b[0;34m\u001b[0m\u001b[0;34m\u001b[0m\u001b[0m\n\u001b[0;32m---> 10\u001b[0;31m \u001b[0mdata\u001b[0m \u001b[0;34m=\u001b[0m \u001b[0mgive_data_individual_names\u001b[0m\u001b[0;34m(\u001b[0m\u001b[0mdata\u001b[0m\u001b[0;34m)\u001b[0m\u001b[0;34m\u001b[0m\u001b[0;34m\u001b[0m\u001b[0m\n\u001b[0m\u001b[1;32m     11\u001b[0m \u001b[0;34m\u001b[0m\u001b[0m\n\u001b[1;32m     12\u001b[0m new_best_name, new_best_val = find_best_individual_name(\n",
      "\u001b[0;32m~/Dropbox/BlockScience/PocketSimulationModel/psuu/adaptive_multigrid.py\u001b[0m in \u001b[0;36mgive_data_individual_names\u001b[0;34m(df, col_name, replacement_dict_to_use)\u001b[0m\n\u001b[1;32m    111\u001b[0m     ]\n\u001b[1;32m    112\u001b[0m     \u001b[0mprint\u001b[0m\u001b[0;34m(\u001b[0m\u001b[0mbinary_param_cols\u001b[0m\u001b[0;34m)\u001b[0m\u001b[0;34m\u001b[0m\u001b[0;34m\u001b[0m\u001b[0m\n\u001b[0;32m--> 113\u001b[0;31m     \u001b[0;32massert\u001b[0m \u001b[0mall\u001b[0m\u001b[0;34m(\u001b[0m\u001b[0;34m[\u001b[0m\u001b[0mcol\u001b[0m \u001b[0;32min\u001b[0m \u001b[0mreplacement_dict_to_use\u001b[0m\u001b[0;34m.\u001b[0m\u001b[0mkeys\u001b[0m\u001b[0;34m(\u001b[0m\u001b[0;34m)\u001b[0m \u001b[0;32mfor\u001b[0m \u001b[0mcol\u001b[0m \u001b[0;32min\u001b[0m \u001b[0mbinary_param_cols\u001b[0m\u001b[0;34m]\u001b[0m\u001b[0;34m)\u001b[0m\u001b[0;34m\u001b[0m\u001b[0;34m\u001b[0m\u001b[0m\n\u001b[0m\u001b[1;32m    114\u001b[0m \u001b[0;34m\u001b[0m\u001b[0m\n\u001b[1;32m    115\u001b[0m     df[col_name] = df.apply(\n",
      "\u001b[0;31mAssertionError\u001b[0m: "
     ]
    }
   ],
   "source": [
    "\"\"\"old_param_grid = deepcopy(new_param_grid)\n",
    "old_best_name = new_best_name\n",
    "old_best_fitness = new_best_fitness\n",
    "\n",
    "individual_dict = build_individual_dict_from_param_grid(old_param_grid)\n",
    "print(individual_dict)\n",
    "\n",
    "# TODO: update from mock to actual.\"\"\"\n",
    "data = kpis\n",
    "data = give_data_individual_names(data)\n",
    "\n",
    "new_best_name, new_best_val = find_best_individual_name(\n",
    "            data, fitness_func=fitness_func, name_biased_towards=old_best_name\n",
    "        )\n",
    "\n",
    "assert not (\n",
    "            new_best_name is None\n",
    "        ), \"The best individual should be somewhere in this dictionary.\"\n",
    "print(new_best_name)\n",
    "\n",
    "new_best_individual = individual_dict[new_best_name]\n",
    "\n",
    "if new_best_name == old_best_name:\n",
    "    times_repeat_best_name = times_repeat_best_name + 1\n",
    "else:\n",
    "    times_repeat_best_name = 0\n",
    "\n",
    "if isclose(new_best_fitness, old_best_fitness):\n",
    "    times_repeat_best_fitness = times_repeat_best_fitness + 1\n",
    "else:\n",
    "    times_repeat_best_fitness = 0"
   ]
  },
  {
   "cell_type": "code",
   "execution_count": null,
   "id": "7d4c8a9c",
   "metadata": {},
   "outputs": [],
   "source": []
  }
 ],
 "metadata": {
  "kernelspec": {
   "display_name": "Python 3 (ipykernel)",
   "language": "python",
   "name": "python3"
  },
  "language_info": {
   "codemirror_mode": {
    "name": "ipython",
    "version": 3
   },
   "file_extension": ".py",
   "mimetype": "text/x-python",
   "name": "python",
   "nbconvert_exporter": "python",
   "pygments_lexer": "ipython3",
   "version": "3.9.12"
  }
 },
 "nbformat": 4,
 "nbformat_minor": 5
}
