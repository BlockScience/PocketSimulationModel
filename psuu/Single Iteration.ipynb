{
 "cells": [
  {
   "cell_type": "code",
   "execution_count": 1,
   "id": "c050817c",
   "metadata": {},
   "outputs": [
    {
     "name": "stderr",
     "output_type": "stream",
     "text": [
      "/Users/seanmcowen/opt/anaconda3/envs/BlockScience/lib/python3.9/site-packages/tqdm/auto.py:22: TqdmWarning: IProgress not found. Please update jupyter and ipywidgets. See https://ipywidgets.readthedocs.io/en/stable/user_install.html\n",
      "  from .autonotebook import tqdm as notebook_tqdm\n"
     ]
    }
   ],
   "source": [
    "import pandas as pd\n",
    "import os\n",
    "from copy import deepcopy\n",
    "import numpy as np\n",
    "\n",
    "os.chdir(\"..\")\n",
    "kpis = pd.read_csv(\"simulation_data/gateway_viability_sweep_ag1_.csv\", index_col=0)\n",
    "from adaptive_multigrid import give_data_individual_names, find_best_individual_name\n",
    "from gvs_threshold_calc import calc_gvs_thresh_ineq_met"
   ]
  },
  {
   "cell_type": "code",
   "execution_count": 2,
   "id": "5829c3b9",
   "metadata": {},
   "outputs": [],
   "source": [
    "fitness_func = calc_gvs_thresh_ineq_met\n"
   ]
  },
  {
   "cell_type": "code",
   "execution_count": 5,
   "id": "95d008e3",
   "metadata": {},
   "outputs": [],
   "source": [
    "params_to_evolve = {\n",
    "                     \"relays_to_tokens_multiplier\" : [25, 400],\n",
    "                     \"gateway_fee_per_relay\" : [20, 30], \n",
    "                     \"application_fee_per_relay\" : [20, 30],\n",
    "                      \"gateway_minimum_stake\" :  [100000 * 1e6, 200000 * 1e6],\n",
    "                      \"application_minimum_stake\" : [100000 * 1e6,\n",
    "                                                     200000 * 1e6,\n",
    "                                                            ]\n",
    "                   }\n",
    "\n",
    "params_for_setup_only = {\n",
    "                      \"application_max_number\" : [5, 20, 100],\n",
    "                   \"relays_per_session_gamma_distribution_scale\" : [100000,\n",
    "                                                                    300000,\n",
    "                                                                    900000]\n",
    "                    }\n",
    "\n",
    "initial_param_grid = params_to_evolve,\n",
    "other_params_to_sweep = params_for_setup_only"
   ]
  },
  {
   "cell_type": "code",
   "execution_count": 7,
   "id": "9bf6ac5b",
   "metadata": {},
   "outputs": [
    {
     "ename": "NameError",
     "evalue": "name 'np' is not defined",
     "output_type": "error",
     "traceback": [
      "\u001b[0;31m---------------------------------------------------------------------------\u001b[0m",
      "\u001b[0;31mNameError\u001b[0m                                 Traceback (most recent call last)",
      "\u001b[0;32m/var/folders/y0/fwkpk2ps087b_2qxvhjstrfr0000gn/T/ipykernel_7991/2129971311.py\u001b[0m in \u001b[0;36m<module>\u001b[0;34m\u001b[0m\n\u001b[1;32m      1\u001b[0m \u001b[0mnew_param_grid\u001b[0m \u001b[0;34m=\u001b[0m \u001b[0mdeepcopy\u001b[0m\u001b[0;34m(\u001b[0m\u001b[0minitial_param_grid\u001b[0m\u001b[0;34m)\u001b[0m\u001b[0;34m\u001b[0m\u001b[0;34m\u001b[0m\u001b[0m\n\u001b[1;32m      2\u001b[0m \u001b[0mnew_best_name\u001b[0m \u001b[0;34m=\u001b[0m \u001b[0;34m\"\"\u001b[0m\u001b[0;34m\u001b[0m\u001b[0;34m\u001b[0m\u001b[0m\n\u001b[0;32m----> 3\u001b[0;31m \u001b[0mnew_best_fitness\u001b[0m \u001b[0;34m=\u001b[0m \u001b[0;34m-\u001b[0m\u001b[0mnp\u001b[0m\u001b[0;34m.\u001b[0m\u001b[0minf\u001b[0m\u001b[0;34m\u001b[0m\u001b[0;34m\u001b[0m\u001b[0m\n\u001b[0m\u001b[1;32m      4\u001b[0m \u001b[0;34m\u001b[0m\u001b[0m\n\u001b[1;32m      5\u001b[0m \u001b[0mold_param_grid\u001b[0m \u001b[0;34m=\u001b[0m \u001b[0mdeepcopy\u001b[0m\u001b[0;34m(\u001b[0m\u001b[0mnew_param_grid\u001b[0m\u001b[0;34m)\u001b[0m\u001b[0;34m\u001b[0m\u001b[0;34m\u001b[0m\u001b[0m\n",
      "\u001b[0;31mNameError\u001b[0m: name 'np' is not defined"
     ]
    }
   ],
   "source": [
    "new_param_grid = deepcopy(initial_param_grid)\n",
    "new_best_name = \"\"\n",
    "new_best_fitness = -np.inf\n",
    "\n",
    "old_param_grid = deepcopy(new_param_grid)\n",
    "old_best_name = new_best_name\n",
    "old_best_fitness = new_best_fitness\n",
    "\n",
    "individual_dict = build_individual_dict_from_param_grid(old_param_grid)\n",
    "        \n",
    "        \n",
    "\n",
    "data = kpis\n",
    "data = give_data_individual_names(data)\n",
    "\n",
    "new_best_name, new_best_val = find_best_individual_name(\n",
    "            data, fitness_func=fitness_func, name_biased_towards=old_best_name\n",
    "        )\n",
    "\n",
    "assert not (\n",
    "            new_best_name is None\n",
    "        ), \"The best individual should be somewhere in this dictionary.\"\n",
    "print(new_best_name)\n",
    "\n",
    "new_best_individual = individual_dict[new_best_name]\n",
    "\n",
    "if new_best_name == old_best_name:\n",
    "    times_repeat_best_name = times_repeat_best_name + 1\n",
    "else:\n",
    "    times_repeat_best_name = 0\n",
    "\n",
    "if isclose(new_best_fitness, old_best_fitness):\n",
    "    times_repeat_best_fitness = times_repeat_best_fitness + 1\n",
    "else:\n",
    "    times_repeat_best_fitness = 0"
   ]
  },
  {
   "cell_type": "code",
   "execution_count": null,
   "id": "7d4c8a9c",
   "metadata": {},
   "outputs": [],
   "source": []
  }
 ],
 "metadata": {
  "kernelspec": {
   "display_name": "Python 3 (ipykernel)",
   "language": "python",
   "name": "python3"
  },
  "language_info": {
   "codemirror_mode": {
    "name": "ipython",
    "version": 3
   },
   "file_extension": ".py",
   "mimetype": "text/x-python",
   "name": "python",
   "nbconvert_exporter": "python",
   "pygments_lexer": "ipython3",
   "version": "3.9.12"
  }
 },
 "nbformat": 4,
 "nbformat_minor": 5
}
