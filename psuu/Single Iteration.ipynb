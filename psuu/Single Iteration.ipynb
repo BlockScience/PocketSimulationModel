{
 "cells": [
  {
   "cell_type": "code",
   "execution_count": 1,
   "id": "c050817c",
   "metadata": {},
   "outputs": [
    {
     "name": "stderr",
     "output_type": "stream",
     "text": [
      "/Users/seanmcowen/opt/anaconda3/envs/BlockScience/lib/python3.9/site-packages/tqdm/auto.py:22: TqdmWarning: IProgress not found. Please update jupyter and ipywidgets. See https://ipywidgets.readthedocs.io/en/stable/user_install.html\n",
      "  from .autonotebook import tqdm as notebook_tqdm\n"
     ]
    }
   ],
   "source": [
    "import pandas as pd\n",
    "import os\n",
    "from copy import deepcopy\n",
    "import numpy as np\n",
    "from math import isclose\n",
    "\n",
    "os.chdir(\"..\")\n",
    "kpis = pd.read_csv(\"simulation_data/gateway_viability_sweep_ag1_.csv\", index_col=0)\n",
    "from adaptive_multigrid import give_data_individual_names, find_best_individual_name, build_individual_dict_from_param_grid, update_param_grid\n",
    "from gvs_threshold_calc import calc_gvs_thresh_ineq_met"
   ]
  },
  {
   "cell_type": "code",
   "execution_count": 2,
   "id": "5829c3b9",
   "metadata": {},
   "outputs": [],
   "source": [
    "fitness_func = calc_gvs_thresh_ineq_met\n"
   ]
  },
  {
   "cell_type": "code",
   "execution_count": 3,
   "id": "95d008e3",
   "metadata": {},
   "outputs": [],
   "source": [
    "params_to_evolve = {\n",
    "                     \"session_token_bucket_coefficient\" : [25, 400],\n",
    "                     \"gateway_fee_per_relay\" : [20.0, 30.0], \n",
    "                     \"application_fee_per_relay\" : [20, 30],\n",
    "                      \"gateway_minimum_stake\" :  [100000 * 1e6, 200000 * 1e6],\n",
    "                      \"minimum_application_stake\" : [100000 * 1e6,\n",
    "                                                     200000 * 1e6,\n",
    "                                                            ]\n",
    "                   }\n",
    "\n",
    "params_for_setup_only = {\n",
    "                      \"application_max_number\" : [5, 20, 100],\n",
    "                   \"relays_per_session_gamma_distribution_scale\" : [100000,\n",
    "                                                                    300000,\n",
    "                                                                    900000]\n",
    "                    }\n",
    "\n",
    "initial_param_grid = params_to_evolve\n",
    "other_params_to_sweep = params_for_setup_only"
   ]
  },
  {
   "cell_type": "code",
   "execution_count": 4,
   "id": "9bf6ac5b",
   "metadata": {},
   "outputs": [
    {
     "name": "stdout",
     "output_type": "stream",
     "text": [
      "Building the individual dict.\n",
      "Individual dict is {'stbc:25_gfpr:20.0_afpr:20_gms:100000000000.0_ams:100000000000.0': {'session_token_bucket_coefficient': 25, 'gateway_fee_per_relay': 20.0, 'application_fee_per_relay': 20, 'gateway_minimum_stake': 100000000000.0, 'minimum_application_stake': 100000000000.0}, 'stbc:25_gfpr:20.0_afpr:20_gms:100000000000.0_ams:200000000000.0': {'session_token_bucket_coefficient': 25, 'gateway_fee_per_relay': 20.0, 'application_fee_per_relay': 20, 'gateway_minimum_stake': 100000000000.0, 'minimum_application_stake': 200000000000.0}, 'stbc:25_gfpr:20.0_afpr:20_gms:200000000000.0_ams:100000000000.0': {'session_token_bucket_coefficient': 25, 'gateway_fee_per_relay': 20.0, 'application_fee_per_relay': 20, 'gateway_minimum_stake': 200000000000.0, 'minimum_application_stake': 100000000000.0}, 'stbc:25_gfpr:20.0_afpr:20_gms:200000000000.0_ams:200000000000.0': {'session_token_bucket_coefficient': 25, 'gateway_fee_per_relay': 20.0, 'application_fee_per_relay': 20, 'gateway_minimum_stake': 200000000000.0, 'minimum_application_stake': 200000000000.0}, 'stbc:25_gfpr:20.0_afpr:30_gms:100000000000.0_ams:100000000000.0': {'session_token_bucket_coefficient': 25, 'gateway_fee_per_relay': 20.0, 'application_fee_per_relay': 30, 'gateway_minimum_stake': 100000000000.0, 'minimum_application_stake': 100000000000.0}, 'stbc:25_gfpr:20.0_afpr:30_gms:100000000000.0_ams:200000000000.0': {'session_token_bucket_coefficient': 25, 'gateway_fee_per_relay': 20.0, 'application_fee_per_relay': 30, 'gateway_minimum_stake': 100000000000.0, 'minimum_application_stake': 200000000000.0}, 'stbc:25_gfpr:20.0_afpr:30_gms:200000000000.0_ams:100000000000.0': {'session_token_bucket_coefficient': 25, 'gateway_fee_per_relay': 20.0, 'application_fee_per_relay': 30, 'gateway_minimum_stake': 200000000000.0, 'minimum_application_stake': 100000000000.0}, 'stbc:25_gfpr:20.0_afpr:30_gms:200000000000.0_ams:200000000000.0': {'session_token_bucket_coefficient': 25, 'gateway_fee_per_relay': 20.0, 'application_fee_per_relay': 30, 'gateway_minimum_stake': 200000000000.0, 'minimum_application_stake': 200000000000.0}, 'stbc:25_gfpr:30.0_afpr:20_gms:100000000000.0_ams:100000000000.0': {'session_token_bucket_coefficient': 25, 'gateway_fee_per_relay': 30.0, 'application_fee_per_relay': 20, 'gateway_minimum_stake': 100000000000.0, 'minimum_application_stake': 100000000000.0}, 'stbc:25_gfpr:30.0_afpr:20_gms:100000000000.0_ams:200000000000.0': {'session_token_bucket_coefficient': 25, 'gateway_fee_per_relay': 30.0, 'application_fee_per_relay': 20, 'gateway_minimum_stake': 100000000000.0, 'minimum_application_stake': 200000000000.0}, 'stbc:25_gfpr:30.0_afpr:20_gms:200000000000.0_ams:100000000000.0': {'session_token_bucket_coefficient': 25, 'gateway_fee_per_relay': 30.0, 'application_fee_per_relay': 20, 'gateway_minimum_stake': 200000000000.0, 'minimum_application_stake': 100000000000.0}, 'stbc:25_gfpr:30.0_afpr:20_gms:200000000000.0_ams:200000000000.0': {'session_token_bucket_coefficient': 25, 'gateway_fee_per_relay': 30.0, 'application_fee_per_relay': 20, 'gateway_minimum_stake': 200000000000.0, 'minimum_application_stake': 200000000000.0}, 'stbc:25_gfpr:30.0_afpr:30_gms:100000000000.0_ams:100000000000.0': {'session_token_bucket_coefficient': 25, 'gateway_fee_per_relay': 30.0, 'application_fee_per_relay': 30, 'gateway_minimum_stake': 100000000000.0, 'minimum_application_stake': 100000000000.0}, 'stbc:25_gfpr:30.0_afpr:30_gms:100000000000.0_ams:200000000000.0': {'session_token_bucket_coefficient': 25, 'gateway_fee_per_relay': 30.0, 'application_fee_per_relay': 30, 'gateway_minimum_stake': 100000000000.0, 'minimum_application_stake': 200000000000.0}, 'stbc:25_gfpr:30.0_afpr:30_gms:200000000000.0_ams:100000000000.0': {'session_token_bucket_coefficient': 25, 'gateway_fee_per_relay': 30.0, 'application_fee_per_relay': 30, 'gateway_minimum_stake': 200000000000.0, 'minimum_application_stake': 100000000000.0}, 'stbc:25_gfpr:30.0_afpr:30_gms:200000000000.0_ams:200000000000.0': {'session_token_bucket_coefficient': 25, 'gateway_fee_per_relay': 30.0, 'application_fee_per_relay': 30, 'gateway_minimum_stake': 200000000000.0, 'minimum_application_stake': 200000000000.0}, 'stbc:400_gfpr:20.0_afpr:20_gms:100000000000.0_ams:100000000000.0': {'session_token_bucket_coefficient': 400, 'gateway_fee_per_relay': 20.0, 'application_fee_per_relay': 20, 'gateway_minimum_stake': 100000000000.0, 'minimum_application_stake': 100000000000.0}, 'stbc:400_gfpr:20.0_afpr:20_gms:100000000000.0_ams:200000000000.0': {'session_token_bucket_coefficient': 400, 'gateway_fee_per_relay': 20.0, 'application_fee_per_relay': 20, 'gateway_minimum_stake': 100000000000.0, 'minimum_application_stake': 200000000000.0}, 'stbc:400_gfpr:20.0_afpr:20_gms:200000000000.0_ams:100000000000.0': {'session_token_bucket_coefficient': 400, 'gateway_fee_per_relay': 20.0, 'application_fee_per_relay': 20, 'gateway_minimum_stake': 200000000000.0, 'minimum_application_stake': 100000000000.0}, 'stbc:400_gfpr:20.0_afpr:20_gms:200000000000.0_ams:200000000000.0': {'session_token_bucket_coefficient': 400, 'gateway_fee_per_relay': 20.0, 'application_fee_per_relay': 20, 'gateway_minimum_stake': 200000000000.0, 'minimum_application_stake': 200000000000.0}, 'stbc:400_gfpr:20.0_afpr:30_gms:100000000000.0_ams:100000000000.0': {'session_token_bucket_coefficient': 400, 'gateway_fee_per_relay': 20.0, 'application_fee_per_relay': 30, 'gateway_minimum_stake': 100000000000.0, 'minimum_application_stake': 100000000000.0}, 'stbc:400_gfpr:20.0_afpr:30_gms:100000000000.0_ams:200000000000.0': {'session_token_bucket_coefficient': 400, 'gateway_fee_per_relay': 20.0, 'application_fee_per_relay': 30, 'gateway_minimum_stake': 100000000000.0, 'minimum_application_stake': 200000000000.0}, 'stbc:400_gfpr:20.0_afpr:30_gms:200000000000.0_ams:100000000000.0': {'session_token_bucket_coefficient': 400, 'gateway_fee_per_relay': 20.0, 'application_fee_per_relay': 30, 'gateway_minimum_stake': 200000000000.0, 'minimum_application_stake': 100000000000.0}, 'stbc:400_gfpr:20.0_afpr:30_gms:200000000000.0_ams:200000000000.0': {'session_token_bucket_coefficient': 400, 'gateway_fee_per_relay': 20.0, 'application_fee_per_relay': 30, 'gateway_minimum_stake': 200000000000.0, 'minimum_application_stake': 200000000000.0}, 'stbc:400_gfpr:30.0_afpr:20_gms:100000000000.0_ams:100000000000.0': {'session_token_bucket_coefficient': 400, 'gateway_fee_per_relay': 30.0, 'application_fee_per_relay': 20, 'gateway_minimum_stake': 100000000000.0, 'minimum_application_stake': 100000000000.0}, 'stbc:400_gfpr:30.0_afpr:20_gms:100000000000.0_ams:200000000000.0': {'session_token_bucket_coefficient': 400, 'gateway_fee_per_relay': 30.0, 'application_fee_per_relay': 20, 'gateway_minimum_stake': 100000000000.0, 'minimum_application_stake': 200000000000.0}, 'stbc:400_gfpr:30.0_afpr:20_gms:200000000000.0_ams:100000000000.0': {'session_token_bucket_coefficient': 400, 'gateway_fee_per_relay': 30.0, 'application_fee_per_relay': 20, 'gateway_minimum_stake': 200000000000.0, 'minimum_application_stake': 100000000000.0}, 'stbc:400_gfpr:30.0_afpr:20_gms:200000000000.0_ams:200000000000.0': {'session_token_bucket_coefficient': 400, 'gateway_fee_per_relay': 30.0, 'application_fee_per_relay': 20, 'gateway_minimum_stake': 200000000000.0, 'minimum_application_stake': 200000000000.0}, 'stbc:400_gfpr:30.0_afpr:30_gms:100000000000.0_ams:100000000000.0': {'session_token_bucket_coefficient': 400, 'gateway_fee_per_relay': 30.0, 'application_fee_per_relay': 30, 'gateway_minimum_stake': 100000000000.0, 'minimum_application_stake': 100000000000.0}, 'stbc:400_gfpr:30.0_afpr:30_gms:100000000000.0_ams:200000000000.0': {'session_token_bucket_coefficient': 400, 'gateway_fee_per_relay': 30.0, 'application_fee_per_relay': 30, 'gateway_minimum_stake': 100000000000.0, 'minimum_application_stake': 200000000000.0}, 'stbc:400_gfpr:30.0_afpr:30_gms:200000000000.0_ams:100000000000.0': {'session_token_bucket_coefficient': 400, 'gateway_fee_per_relay': 30.0, 'application_fee_per_relay': 30, 'gateway_minimum_stake': 200000000000.0, 'minimum_application_stake': 100000000000.0}, 'stbc:400_gfpr:30.0_afpr:30_gms:200000000000.0_ams:200000000000.0': {'session_token_bucket_coefficient': 400, 'gateway_fee_per_relay': 30.0, 'application_fee_per_relay': 30, 'gateway_minimum_stake': 200000000000.0, 'minimum_application_stake': 200000000000.0}}\n",
      "Finding names to use for individual.\n"
     ]
    },
    {
     "name": "stdout",
     "output_type": "stream",
     "text": [
      "We have added individual names for the various parameter combinations.\n",
      "The DataFrame now looks like                                                     Net Minting Rate  \\\n",
      "individual_name                                                        \n",
      "stbc:25_gfpr:20.0_afpr:20_gms:100000000000.0_am...          0.000006   \n",
      "stbc:25_gfpr:20.0_afpr:20_gms:100000000000.0_am...          0.000006   \n",
      "stbc:25_gfpr:20.0_afpr:20_gms:100000000000.0_am...          0.000006   \n",
      "stbc:25_gfpr:20.0_afpr:20_gms:100000000000.0_am...          0.000006   \n",
      "stbc:25_gfpr:20.0_afpr:20_gms:100000000000.0_am...          0.000006   \n",
      "\n",
      "                                                       KPI C  \\\n",
      "individual_name                                                \n",
      "stbc:25_gfpr:20.0_afpr:20_gms:100000000000.0_am...  0.202283   \n",
      "stbc:25_gfpr:20.0_afpr:20_gms:100000000000.0_am...  0.164268   \n",
      "stbc:25_gfpr:20.0_afpr:20_gms:100000000000.0_am...  0.195693   \n",
      "stbc:25_gfpr:20.0_afpr:20_gms:100000000000.0_am...  0.226077   \n",
      "stbc:25_gfpr:20.0_afpr:20_gms:100000000000.0_am...  0.175255   \n",
      "\n",
      "                                                                  Experiment Name  \\\n",
      "individual_name                                                                     \n",
      "stbc:25_gfpr:20.0_afpr:20_gms:100000000000.0_am...  gateway_viability_sweep_ag1_1   \n",
      "stbc:25_gfpr:20.0_afpr:20_gms:100000000000.0_am...  gateway_viability_sweep_ag1_1   \n",
      "stbc:25_gfpr:20.0_afpr:20_gms:100000000000.0_am...  gateway_viability_sweep_ag1_1   \n",
      "stbc:25_gfpr:20.0_afpr:20_gms:100000000000.0_am...  gateway_viability_sweep_ag1_1   \n",
      "stbc:25_gfpr:20.0_afpr:20_gms:100000000000.0_am...  gateway_viability_sweep_ag1_1   \n",
      "\n",
      "                                                   State Set  \\\n",
      "individual_name                                                \n",
      "stbc:25_gfpr:20.0_afpr:20_gms:100000000000.0_am...      Base   \n",
      "stbc:25_gfpr:20.0_afpr:20_gms:100000000000.0_am...      Base   \n",
      "stbc:25_gfpr:20.0_afpr:20_gms:100000000000.0_am...      Base   \n",
      "stbc:25_gfpr:20.0_afpr:20_gms:100000000000.0_am...      Base   \n",
      "stbc:25_gfpr:20.0_afpr:20_gms:100000000000.0_am...      Base   \n",
      "\n",
      "                                                                       Params Set  \\\n",
      "individual_name                                                                     \n",
      "stbc:25_gfpr:20.0_afpr:20_gms:100000000000.0_am...  gateway_viability_sweep_ag1_1   \n",
      "stbc:25_gfpr:20.0_afpr:20_gms:100000000000.0_am...  gateway_viability_sweep_ag1_1   \n",
      "stbc:25_gfpr:20.0_afpr:20_gms:100000000000.0_am...  gateway_viability_sweep_ag1_1   \n",
      "stbc:25_gfpr:20.0_afpr:20_gms:100000000000.0_am...  gateway_viability_sweep_ag1_1   \n",
      "stbc:25_gfpr:20.0_afpr:20_gms:100000000000.0_am...  gateway_viability_sweep_ag1_1   \n",
      "\n",
      "                                                    timestep  \\\n",
      "individual_name                                                \n",
      "stbc:25_gfpr:20.0_afpr:20_gms:100000000000.0_am...       365   \n",
      "stbc:25_gfpr:20.0_afpr:20_gms:100000000000.0_am...       365   \n",
      "stbc:25_gfpr:20.0_afpr:20_gms:100000000000.0_am...       365   \n",
      "stbc:25_gfpr:20.0_afpr:20_gms:100000000000.0_am...       365   \n",
      "stbc:25_gfpr:20.0_afpr:20_gms:100000000000.0_am...       365   \n",
      "\n",
      "                                                    param_minimum_stake_servicer  \\\n",
      "individual_name                                                                    \n",
      "stbc:25_gfpr:20.0_afpr:20_gms:100000000000.0_am...                  1.500000e+10   \n",
      "stbc:25_gfpr:20.0_afpr:20_gms:100000000000.0_am...                  1.500000e+10   \n",
      "stbc:25_gfpr:20.0_afpr:20_gms:100000000000.0_am...                  1.500000e+10   \n",
      "stbc:25_gfpr:20.0_afpr:20_gms:100000000000.0_am...                  1.500000e+10   \n",
      "stbc:25_gfpr:20.0_afpr:20_gms:100000000000.0_am...                  1.500000e+10   \n",
      "\n",
      "                                                    param_minimum_stake_period_servicer  \\\n",
      "individual_name                                                                           \n",
      "stbc:25_gfpr:20.0_afpr:20_gms:100000000000.0_am...                                   10   \n",
      "stbc:25_gfpr:20.0_afpr:20_gms:100000000000.0_am...                                   10   \n",
      "stbc:25_gfpr:20.0_afpr:20_gms:100000000000.0_am...                                   10   \n",
      "stbc:25_gfpr:20.0_afpr:20_gms:100000000000.0_am...                                   10   \n",
      "stbc:25_gfpr:20.0_afpr:20_gms:100000000000.0_am...                                   10   \n",
      "\n",
      "                                                    param_minimum_pause_time  \\\n",
      "individual_name                                                                \n",
      "stbc:25_gfpr:20.0_afpr:20_gms:100000000000.0_am...                        10   \n",
      "stbc:25_gfpr:20.0_afpr:20_gms:100000000000.0_am...                        10   \n",
      "stbc:25_gfpr:20.0_afpr:20_gms:100000000000.0_am...                        10   \n",
      "stbc:25_gfpr:20.0_afpr:20_gms:100000000000.0_am...                        10   \n",
      "stbc:25_gfpr:20.0_afpr:20_gms:100000000000.0_am...                        10   \n",
      "\n",
      "                                                    param_max_chains_servicer  \\\n",
      "individual_name                                                                 \n",
      "stbc:25_gfpr:20.0_afpr:20_gms:100000000000.0_am...                         15   \n",
      "stbc:25_gfpr:20.0_afpr:20_gms:100000000000.0_am...                         15   \n",
      "stbc:25_gfpr:20.0_afpr:20_gms:100000000000.0_am...                         15   \n",
      "stbc:25_gfpr:20.0_afpr:20_gms:100000000000.0_am...                         15   \n",
      "stbc:25_gfpr:20.0_afpr:20_gms:100000000000.0_am...                         15   \n",
      "\n",
      "                                                    ...  kpi_a  \\\n",
      "individual_name                                     ...          \n",
      "stbc:25_gfpr:20.0_afpr:20_gms:100000000000.0_am...  ...    1.0   \n",
      "stbc:25_gfpr:20.0_afpr:20_gms:100000000000.0_am...  ...    1.0   \n",
      "stbc:25_gfpr:20.0_afpr:20_gms:100000000000.0_am...  ...    1.0   \n",
      "stbc:25_gfpr:20.0_afpr:20_gms:100000000000.0_am...  ...    1.0   \n",
      "stbc:25_gfpr:20.0_afpr:20_gms:100000000000.0_am...  ...    1.0   \n",
      "\n",
      "                                                    floating_supply  \\\n",
      "individual_name                                                       \n",
      "stbc:25_gfpr:20.0_afpr:20_gms:100000000000.0_am...     1.521527e+15   \n",
      "stbc:25_gfpr:20.0_afpr:20_gms:100000000000.0_am...     1.521527e+15   \n",
      "stbc:25_gfpr:20.0_afpr:20_gms:100000000000.0_am...     1.521527e+15   \n",
      "stbc:25_gfpr:20.0_afpr:20_gms:100000000000.0_am...     1.521527e+15   \n",
      "stbc:25_gfpr:20.0_afpr:20_gms:100000000000.0_am...     1.521527e+15   \n",
      "\n",
      "                                                    circulating_supply  \\\n",
      "individual_name                                                          \n",
      "stbc:25_gfpr:20.0_afpr:20_gms:100000000000.0_am...        1.517852e+15   \n",
      "stbc:25_gfpr:20.0_afpr:20_gms:100000000000.0_am...        1.517972e+15   \n",
      "stbc:25_gfpr:20.0_afpr:20_gms:100000000000.0_am...        1.518167e+15   \n",
      "stbc:25_gfpr:20.0_afpr:20_gms:100000000000.0_am...        1.518002e+15   \n",
      "stbc:25_gfpr:20.0_afpr:20_gms:100000000000.0_am...        1.517552e+15   \n",
      "\n",
      "                                                    dao_value_capture  \\\n",
      "individual_name                                                         \n",
      "stbc:25_gfpr:20.0_afpr:20_gms:100000000000.0_am...       7.463837e-07   \n",
      "stbc:25_gfpr:20.0_afpr:20_gms:100000000000.0_am...       7.570275e-07   \n",
      "stbc:25_gfpr:20.0_afpr:20_gms:100000000000.0_am...       7.475849e-07   \n",
      "stbc:25_gfpr:20.0_afpr:20_gms:100000000000.0_am...       7.445042e-07   \n",
      "stbc:25_gfpr:20.0_afpr:20_gms:100000000000.0_am...       7.687366e-07   \n",
      "\n",
      "                                                    POKT_burned_cummulative  \\\n",
      "individual_name                                                               \n",
      "stbc:25_gfpr:20.0_afpr:20_gms:100000000000.0_am...             1.909333e+09   \n",
      "stbc:25_gfpr:20.0_afpr:20_gms:100000000000.0_am...             1.811040e+09   \n",
      "stbc:25_gfpr:20.0_afpr:20_gms:100000000000.0_am...             1.933665e+09   \n",
      "stbc:25_gfpr:20.0_afpr:20_gms:100000000000.0_am...             1.712333e+09   \n",
      "stbc:25_gfpr:20.0_afpr:20_gms:100000000000.0_am...             2.028162e+09   \n",
      "\n",
      "                                                    POKT_minted_cummulative  \\\n",
      "individual_name                                                               \n",
      "stbc:25_gfpr:20.0_afpr:20_gms:100000000000.0_am...             1.135570e+10   \n",
      "stbc:25_gfpr:20.0_afpr:20_gms:100000000000.0_am...             1.151764e+10   \n",
      "stbc:25_gfpr:20.0_afpr:20_gms:100000000000.0_am...             1.137397e+10   \n",
      "stbc:25_gfpr:20.0_afpr:20_gms:100000000000.0_am...             1.132710e+10   \n",
      "stbc:25_gfpr:20.0_afpr:20_gms:100000000000.0_am...             1.169579e+10   \n",
      "\n",
      "                                                    POKT_net_mint_cummulative  \\\n",
      "individual_name                                                                 \n",
      "stbc:25_gfpr:20.0_afpr:20_gms:100000000000.0_am...               9.446365e+09   \n",
      "stbc:25_gfpr:20.0_afpr:20_gms:100000000000.0_am...               9.706599e+09   \n",
      "stbc:25_gfpr:20.0_afpr:20_gms:100000000000.0_am...               9.440307e+09   \n",
      "stbc:25_gfpr:20.0_afpr:20_gms:100000000000.0_am...               9.614770e+09   \n",
      "stbc:25_gfpr:20.0_afpr:20_gms:100000000000.0_am...               9.667625e+09   \n",
      "\n",
      "                                                    burn_rate_cummulative  \\\n",
      "individual_name                                                             \n",
      "stbc:25_gfpr:20.0_afpr:20_gms:100000000000.0_am...               0.000001   \n",
      "stbc:25_gfpr:20.0_afpr:20_gms:100000000000.0_am...               0.000001   \n",
      "stbc:25_gfpr:20.0_afpr:20_gms:100000000000.0_am...               0.000001   \n",
      "stbc:25_gfpr:20.0_afpr:20_gms:100000000000.0_am...               0.000001   \n",
      "stbc:25_gfpr:20.0_afpr:20_gms:100000000000.0_am...               0.000001   \n",
      "\n",
      "                                                    mint_rate_cummulative  \\\n",
      "individual_name                                                             \n",
      "stbc:25_gfpr:20.0_afpr:20_gms:100000000000.0_am...               0.000007   \n",
      "stbc:25_gfpr:20.0_afpr:20_gms:100000000000.0_am...               0.000008   \n",
      "stbc:25_gfpr:20.0_afpr:20_gms:100000000000.0_am...               0.000007   \n",
      "stbc:25_gfpr:20.0_afpr:20_gms:100000000000.0_am...               0.000007   \n",
      "stbc:25_gfpr:20.0_afpr:20_gms:100000000000.0_am...               0.000008   \n",
      "\n",
      "                                                    net_mint_rate_cummulative  \n",
      "individual_name                                                                \n",
      "stbc:25_gfpr:20.0_afpr:20_gms:100000000000.0_am...                   0.000006  \n",
      "stbc:25_gfpr:20.0_afpr:20_gms:100000000000.0_am...                   0.000006  \n",
      "stbc:25_gfpr:20.0_afpr:20_gms:100000000000.0_am...                   0.000006  \n",
      "stbc:25_gfpr:20.0_afpr:20_gms:100000000000.0_am...                   0.000006  \n",
      "stbc:25_gfpr:20.0_afpr:20_gms:100000000000.0_am...                   0.000006  \n",
      "\n",
      "[5 rows x 102 columns].\n",
      "stbc:25_gfpr:20.0_afpr:30_gms:100000000000.0_ams:200000000000.0\n"
     ]
    }
   ],
   "source": [
    "new_param_grid = deepcopy(initial_param_grid)\n",
    "new_best_name = \"\"\n",
    "new_best_fitness = -np.inf\n",
    "times_repeat_best_name = 0\n",
    "times_repeat_best_fitness = 0\n",
    "\n",
    "old_param_grid = deepcopy(new_param_grid)\n",
    "old_best_name = new_best_name\n",
    "old_best_fitness = new_best_fitness\n",
    "\n",
    "individual_dict = build_individual_dict_from_param_grid(old_param_grid)\n",
    "        \n",
    "        \n",
    "\n",
    "data = kpis\n",
    "data = give_data_individual_names(data)\n",
    "\n",
    "new_best_name, new_best_val = find_best_individual_name(\n",
    "            data, fitness_func=fitness_func, name_biased_towards=old_best_name\n",
    "        )\n",
    "\n",
    "assert not (\n",
    "            new_best_name is None\n",
    "        ), \"The best individual should be somewhere in this dictionary.\"\n",
    "print(new_best_name)\n",
    "\n",
    "new_best_individual = individual_dict[new_best_name]\n",
    "\n",
    "if new_best_name == old_best_name:\n",
    "    times_repeat_best_name = times_repeat_best_name + 1\n",
    "else:\n",
    "    times_repeat_best_name = 0\n",
    "\n",
    "if isclose(new_best_fitness, old_best_fitness):\n",
    "    times_repeat_best_fitness = times_repeat_best_fitness + 1\n",
    "else:\n",
    "    times_repeat_best_fitness = 0\n",
    "    \n",
    "new_param_grid = update_param_grid(\n",
    "                old_param_grid=old_param_grid, best_individual=new_best_individual\n",
    "            )"
   ]
  },
  {
   "cell_type": "code",
   "execution_count": 5,
   "id": "7d4c8a9c",
   "metadata": {},
   "outputs": [
    {
     "data": {
      "text/plain": [
       "{'session_token_bucket_coefficient': [25, 212.5],\n",
       " 'gateway_fee_per_relay': [20.0, 25.0],\n",
       " 'application_fee_per_relay': [25.0, 30],\n",
       " 'gateway_minimum_stake': [100000000000.0, 150000000000.0],\n",
       " 'minimum_application_stake': [150000000000.0, 200000000000.0]}"
      ]
     },
     "execution_count": 5,
     "metadata": {},
     "output_type": "execute_result"
    }
   ],
   "source": [
    "new_param_grid"
   ]
  },
  {
   "cell_type": "code",
   "execution_count": 5,
   "id": "ce22b67e",
   "metadata": {},
   "outputs": [
    {
     "data": {
      "text/plain": [
       "{'session_token_bucket_coefficient': [25, 400],\n",
       " 'gateway_fee_per_relay': [20, 30],\n",
       " 'application_fee_per_relay': [20, 30],\n",
       " 'gateway_minimum_stake': [100000000000.0, 200000000000.0],\n",
       " 'minimum_application_stake': [100000000000.0, 200000000000.0]}"
      ]
     },
     "execution_count": 5,
     "metadata": {},
     "output_type": "execute_result"
    }
   ],
   "source": [
    "old_param_grid"
   ]
  },
  {
   "cell_type": "code",
   "execution_count": 11,
   "id": "308af428",
   "metadata": {},
   "outputs": [
    {
     "ename": "KeyError",
     "evalue": "'stbc:25_gfpr:20.0_afpr:20_gms:100000000000.0_ams:200000000000.0'",
     "output_type": "error",
     "traceback": [
      "\u001b[0;31m---------------------------------------------------------------------------\u001b[0m",
      "\u001b[0;31mKeyError\u001b[0m                                  Traceback (most recent call last)",
      "\u001b[0;32m/var/folders/y0/fwkpk2ps087b_2qxvhjstrfr0000gn/T/ipykernel_36343/2470319860.py\u001b[0m in \u001b[0;36m<module>\u001b[0;34m\u001b[0m\n\u001b[0;32m----> 1\u001b[0;31m \u001b[0mindividual_dict\u001b[0m\u001b[0;34m[\u001b[0m\u001b[0;34m'stbc:25_gfpr:20.0_afpr:20_gms:100000000000.0_ams:200000000000.0'\u001b[0m\u001b[0;34m]\u001b[0m\u001b[0;34m\u001b[0m\u001b[0;34m\u001b[0m\u001b[0m\n\u001b[0m",
      "\u001b[0;31mKeyError\u001b[0m: 'stbc:25_gfpr:20.0_afpr:20_gms:100000000000.0_ams:200000000000.0'"
     ]
    }
   ],
   "source": [
    "individual_dict['stbc:25_gfpr:20.0_afpr:20_gms:100000000000.0_ams:200000000000.0']"
   ]
  },
  {
   "cell_type": "code",
   "execution_count": 14,
   "id": "cdbab14e",
   "metadata": {},
   "outputs": [
    {
     "data": {
      "text/plain": [
       "'stbc:25_gfpr:20_afpr:20_gms:100000000000.0_ams:100000000000.0'"
      ]
     },
     "execution_count": 14,
     "metadata": {},
     "output_type": "execute_result"
    }
   ],
   "source": [
    "list(individual_dict.keys())[0]"
   ]
  },
  {
   "cell_type": "code",
   "execution_count": null,
   "id": "4f371737",
   "metadata": {},
   "outputs": [],
   "source": [
    "stbc:25_gfpr:20.0_afpr:20_gms:100000000000.0_ams:200000000000.0\n",
    "stbc:25_gfpr:20_afpr:20_gms:100000000000.0_ams:100000000000.0"
   ]
  }
 ],
 "metadata": {
  "kernelspec": {
   "display_name": "Python 3 (ipykernel)",
   "language": "python",
   "name": "python3"
  },
  "language_info": {
   "codemirror_mode": {
    "name": "ipython",
    "version": 3
   },
   "file_extension": ".py",
   "mimetype": "text/x-python",
   "name": "python",
   "nbconvert_exporter": "python",
   "pygments_lexer": "ipython3",
   "version": "3.9.12"
  }
 },
 "nbformat": 4,
 "nbformat_minor": 5
}
