{
 "cells": [
  {
   "cell_type": "code",
   "execution_count": 2,
   "id": "7280ab3e",
   "metadata": {},
   "outputs": [],
   "source": [
    "import os\n",
    "os.chdir(\"..\")"
   ]
  },
  {
   "cell_type": "code",
   "execution_count": 3,
   "id": "8dcced75",
   "metadata": {
    "scrolled": false
   },
   "outputs": [
    {
     "name": "stderr",
     "output_type": "stream",
     "text": [
      "/Users/seanmcowen/opt/anaconda3/envs/BlockScience/lib/python3.9/site-packages/tqdm/auto.py:22: TqdmWarning: IProgress not found. Please update jupyter and ipywidgets. See https://ipywidgets.readthedocs.io/en/stable/user_install.html\n",
      "  from .autonotebook import tqdm as notebook_tqdm\n"
     ]
    },
    {
     "name": "stdout",
     "output_type": "stream",
     "text": [
      "Building the individual dict.\n",
      "Individual dict is {'rttm:25_gfpr:20': {'relays_to_tokens_multiplier': 25, 'gateway_fee_per_relay': 20}, 'rttm:25_gfpr:30': {'relays_to_tokens_multiplier': 25, 'gateway_fee_per_relay': 30}, 'rttm:400_gfpr:20': {'relays_to_tokens_multiplier': 400, 'gateway_fee_per_relay': 20}, 'rttm:400_gfpr:30': {'relays_to_tokens_multiplier': 400, 'gateway_fee_per_relay': 30}}\n",
      "{'rttm:25_gfpr:20': {'relays_to_tokens_multiplier': 25, 'gateway_fee_per_relay': 20}, 'rttm:25_gfpr:30': {'relays_to_tokens_multiplier': 25, 'gateway_fee_per_relay': 30}, 'rttm:400_gfpr:20': {'relays_to_tokens_multiplier': 400, 'gateway_fee_per_relay': 20}, 'rttm:400_gfpr:30': {'relays_to_tokens_multiplier': 400, 'gateway_fee_per_relay': 30}}\n",
      "\n",
      "                  ___________    ____\n",
      "  ________ __ ___/ / ____/   |  / __ \\\n",
      " / ___/ __` / __  / /   / /| | / / / /\n",
      "/ /__/ /_/ / /_/ / /___/ ___ |/ /_/ /\n",
      "\\___/\\__,_/\\__,_/\\____/_/  |_/_____/\n",
      "by cadCAD\n",
      "\n",
      "cadCAD Version: 0.5.1\n",
      "Execution Mode: local_proc\n",
      "Simulation Dimensions:\n",
      "Entire Simulation: (Models, Unique Timesteps, Params, Total Runs, Sub-States) = (12, 4380, 936, 24, 30)\n",
      "     Simulation 0: (Timesteps, Params, Runs, Sub-States) = (365, 78, 2, 30)\n",
      "     Simulation 1: (Timesteps, Params, Runs, Sub-States) = (365, 78, 2, 30)\n",
      "     Simulation 2: (Timesteps, Params, Runs, Sub-States) = (365, 78, 2, 30)\n",
      "     Simulation 3: (Timesteps, Params, Runs, Sub-States) = (365, 78, 2, 30)\n",
      "     Simulation 4: (Timesteps, Params, Runs, Sub-States) = (365, 78, 2, 30)\n",
      "     Simulation 5: (Timesteps, Params, Runs, Sub-States) = (365, 78, 2, 30)\n",
      "     Simulation 6: (Timesteps, Params, Runs, Sub-States) = (365, 78, 2, 30)\n",
      "     Simulation 7: (Timesteps, Params, Runs, Sub-States) = (365, 78, 2, 30)\n",
      "     Simulation 8: (Timesteps, Params, Runs, Sub-States) = (365, 78, 2, 30)\n",
      "     Simulation 9: (Timesteps, Params, Runs, Sub-States) = (365, 78, 2, 30)\n",
      "     Simulation 10: (Timesteps, Params, Runs, Sub-States) = (365, 78, 2, 30)\n",
      "     Simulation 11: (Timesteps, Params, Runs, Sub-States) = (365, 78, 2, 30)\n"
     ]
    },
    {
     "name": "stderr",
     "output_type": "stream",
     "text": [
      "Initializing configurations: 100%|█████████████| 24/24 [00:00<00:00, 151.88it/s]"
     ]
    },
    {
     "name": "stdout",
     "output_type": "stream",
     "text": [
      "Execution Method: parallelize_simulations\n",
      "Execution Mode: parallelized\n"
     ]
    },
    {
     "name": "stderr",
     "output_type": "stream",
     "text": [
      "\n"
     ]
    },
    {
     "name": "stdout",
     "output_type": "stream",
     "text": [
      "2024-01-12 09:41:26.1560382024-01-12 09:41:26.1564552024-01-12 09:41:26.158582\n",
      "\n",
      "\n",
      "2024-01-12 09:41:26.1615642024-01-12 09:41:26.1616122024-01-12 09:41:26.163526\n",
      "\n",
      "2024-01-12 09:41:26.165872\n",
      "\n",
      "2024-01-12 09:41:26.1777992024-01-12 09:41:26.1808862024-01-12 09:41:26.180991\n",
      "\n",
      "\n",
      "2024-01-12 09:41:56.814715\n",
      "2024-01-12 09:41:58.774940\n",
      "2024-01-12 09:42:42.066849\n",
      "2024-01-12 09:42:42.069746\n",
      "2024-01-12 09:42:42.079945\n",
      "2024-01-12 09:42:42.086022\n",
      "2024-01-12 09:42:42.094851\n",
      "2024-01-12 09:42:42.106788\n",
      "2024-01-12 09:42:42.109623\n",
      "\n",
      "2024-01-12 09:42:42.1338882024-01-12 09:42:42.133359\n",
      "2024-01-12 09:42:42.148008\n",
      "2024-01-12 09:43:16.244822\n",
      "2024-01-12 09:43:17.211797\n"
     ]
    },
    {
     "name": "stderr",
     "output_type": "stream",
     "text": [
      "Flattening results: 100%|██████████████████████| 24/24 [00:00<00:00, 140.32it/s]\n"
     ]
    },
    {
     "name": "stdout",
     "output_type": "stream",
     "text": [
      "Total execution time: 155.14s\n",
      "Finding names to use for individual.\n",
      "['param_relays_to_tokens_multiplier', 'param_gateway_fee_per_relay']\n",
      "We have added individual names for the various parameter combinations.\n",
      "The DataFrame now looks like                   Net Minting Rate     KPI C Experiment Name State Set  \\\n",
      "individual_name                                                          \n",
      "rttm:25_gfpr:20           0.000813  0.177049     individual1      Base   \n",
      "rttm:25_gfpr:20           0.000790  0.197389     individual1      Base   \n",
      "rttm:25_gfpr:20           0.002270  0.109434     individual2      Base   \n",
      "rttm:25_gfpr:20           0.002157  0.113009     individual2      Base   \n",
      "rttm:400_gfpr:30          0.041710  0.102810    individual11      Base   \n",
      "\n",
      "                    Params Set  timestep  param_minimum_stake_servicer  \\\n",
      "individual_name                                                          \n",
      "rttm:25_gfpr:20    individual1       365                  1.500000e+10   \n",
      "rttm:25_gfpr:20    individual1       365                  1.500000e+10   \n",
      "rttm:25_gfpr:20    individual2       365                  1.500000e+10   \n",
      "rttm:25_gfpr:20    individual2       365                  1.500000e+10   \n",
      "rttm:400_gfpr:30  individual11       365                  1.500000e+10   \n",
      "\n",
      "                  param_minimum_stake_period_servicer  \\\n",
      "individual_name                                         \n",
      "rttm:25_gfpr:20                                    10   \n",
      "rttm:25_gfpr:20                                    10   \n",
      "rttm:25_gfpr:20                                    10   \n",
      "rttm:25_gfpr:20                                    10   \n",
      "rttm:400_gfpr:30                                   10   \n",
      "\n",
      "                  param_minimum_pause_time  param_max_chains_servicer  ...  \\\n",
      "individual_name                                                        ...   \n",
      "rttm:25_gfpr:20                         10                         15  ...   \n",
      "rttm:25_gfpr:20                         10                         15  ...   \n",
      "rttm:25_gfpr:20                         10                         15  ...   \n",
      "rttm:25_gfpr:20                         10                         15  ...   \n",
      "rttm:400_gfpr:30                        10                         15  ...   \n",
      "\n",
      "                  kpi_a  floating_supply  circulating_supply  \\\n",
      "individual_name                                                \n",
      "rttm:25_gfpr:20     1.0     1.522754e+15        1.521855e+15   \n",
      "rttm:25_gfpr:20     1.0     1.522720e+15        1.521551e+15   \n",
      "rttm:25_gfpr:20     1.0     1.524971e+15        1.524086e+15   \n",
      "rttm:25_gfpr:20     1.0     1.524799e+15        1.523676e+15   \n",
      "rttm:400_gfpr:30    1.0     1.584979e+15        1.584087e+15   \n",
      "\n",
      "                  dao_value_capture  POKT_burned_cummulative  \\\n",
      "individual_name                                                \n",
      "rttm:25_gfpr:20            0.000094             1.974081e+11   \n",
      "rttm:25_gfpr:20            0.000092             1.964036e+11   \n",
      "rttm:25_gfpr:20            0.000266             6.011862e+11   \n",
      "rttm:25_gfpr:20            0.000242             3.994544e+11   \n",
      "rttm:400_gfpr:30           0.004551             1.989527e+13   \n",
      "\n",
      "                 POKT_minted_cummulative  POKT_net_mint_cummulative  \\\n",
      "individual_name                                                       \n",
      "rttm:25_gfpr:20             1.434289e+12               1.236881e+12   \n",
      "rttm:25_gfpr:20             1.399026e+12               1.202622e+12   \n",
      "rttm:25_gfpr:20             4.054754e+12               3.453568e+12   \n",
      "rttm:25_gfpr:20             3.681225e+12               3.281771e+12   \n",
      "rttm:400_gfpr:30            1.505730e+14               1.306777e+14   \n",
      "\n",
      "                  burn_rate_cummulative  mint_rate_cummulative  \\\n",
      "individual_name                                                  \n",
      "rttm:25_gfpr:20                0.000130               0.000943   \n",
      "rttm:25_gfpr:20                0.000129               0.000919   \n",
      "rttm:25_gfpr:20                0.000395               0.002665   \n",
      "rttm:25_gfpr:20                0.000263               0.002419   \n",
      "rttm:400_gfpr:30               0.001827               0.015764   \n",
      "\n",
      "                  net_mint_rate_cummulative  \n",
      "individual_name                              \n",
      "rttm:25_gfpr:20                    0.000813  \n",
      "rttm:25_gfpr:20                    0.000790  \n",
      "rttm:25_gfpr:20                    0.002270  \n",
      "rttm:25_gfpr:20                    0.002157  \n",
      "rttm:400_gfpr:30                   0.013937  \n",
      "\n",
      "[5 rows x 101 columns].\n",
      "rttm:400_gfpr:30\n",
      "Starting step 1.\n",
      "Building the individual dict.\n",
      "Individual dict is {'rttm:212.5_gfpr:25.0': {'relays_to_tokens_multiplier': 212.5, 'gateway_fee_per_relay': 25.0}, 'rttm:212.5_gfpr:30': {'relays_to_tokens_multiplier': 212.5, 'gateway_fee_per_relay': 30}, 'rttm:400_gfpr:25.0': {'relays_to_tokens_multiplier': 400, 'gateway_fee_per_relay': 25.0}, 'rttm:400_gfpr:30': {'relays_to_tokens_multiplier': 400, 'gateway_fee_per_relay': 30}}\n",
      "{'rttm:212.5_gfpr:25.0': {'relays_to_tokens_multiplier': 212.5, 'gateway_fee_per_relay': 25.0}, 'rttm:212.5_gfpr:30': {'relays_to_tokens_multiplier': 212.5, 'gateway_fee_per_relay': 30}, 'rttm:400_gfpr:25.0': {'relays_to_tokens_multiplier': 400, 'gateway_fee_per_relay': 25.0}, 'rttm:400_gfpr:30': {'relays_to_tokens_multiplier': 400, 'gateway_fee_per_relay': 30}}\n",
      "\n",
      "                  ___________    ____\n",
      "  ________ __ ___/ / ____/   |  / __ \\\n",
      " / ___/ __` / __  / /   / /| | / / / /\n",
      "/ /__/ /_/ / /_/ / /___/ ___ |/ /_/ /\n",
      "\\___/\\__,_/\\__,_/\\____/_/  |_/_____/\n",
      "by cadCAD\n",
      "\n",
      "cadCAD Version: 0.5.1\n",
      "Execution Mode: local_proc\n",
      "Simulation Dimensions:\n",
      "Entire Simulation: (Models, Unique Timesteps, Params, Total Runs, Sub-States) = (12, 4380, 936, 24, 30)\n",
      "     Simulation 0: (Timesteps, Params, Runs, Sub-States) = (365, 78, 2, 30)\n",
      "     Simulation 1: (Timesteps, Params, Runs, Sub-States) = (365, 78, 2, 30)\n",
      "     Simulation 2: (Timesteps, Params, Runs, Sub-States) = (365, 78, 2, 30)\n",
      "     Simulation 3: (Timesteps, Params, Runs, Sub-States) = (365, 78, 2, 30)\n",
      "     Simulation 4: (Timesteps, Params, Runs, Sub-States) = (365, 78, 2, 30)\n",
      "     Simulation 5: (Timesteps, Params, Runs, Sub-States) = (365, 78, 2, 30)\n",
      "     Simulation 6: (Timesteps, Params, Runs, Sub-States) = (365, 78, 2, 30)\n",
      "     Simulation 7: (Timesteps, Params, Runs, Sub-States) = (365, 78, 2, 30)\n",
      "     Simulation 8: (Timesteps, Params, Runs, Sub-States) = (365, 78, 2, 30)\n",
      "     Simulation 9: (Timesteps, Params, Runs, Sub-States) = (365, 78, 2, 30)\n",
      "     Simulation 10: (Timesteps, Params, Runs, Sub-States) = (365, 78, 2, 30)\n",
      "     Simulation 11: (Timesteps, Params, Runs, Sub-States) = (365, 78, 2, 30)\n"
     ]
    },
    {
     "name": "stderr",
     "output_type": "stream",
     "text": [
      "Initializing configurations: 100%|█████████████| 24/24 [00:00<00:00, 159.20it/s]"
     ]
    },
    {
     "name": "stdout",
     "output_type": "stream",
     "text": [
      "Execution Method: parallelize_simulations\n",
      "Execution Mode: parallelized\n",
      "2024-01-12 09:44:04.134594\n",
      "2024-01-12 09:44:04.141015\n",
      "2024-01-12 09:44:04.147634\n",
      "2024-01-12 09:44:04.154805\n",
      "2024-01-12 09:44:04.162098"
     ]
    },
    {
     "name": "stderr",
     "output_type": "stream",
     "text": [
      "\n"
     ]
    },
    {
     "name": "stdout",
     "output_type": "stream",
     "text": [
      "\n",
      "2024-01-12 09:44:04.169328\n",
      "2024-01-12 09:44:04.177313\n",
      "2024-01-12 09:44:04.1872112024-01-12 09:44:04.202213\n",
      "2024-01-12 09:44:04.204344\n",
      "\n",
      "2024-01-12 09:44:41.594747\n",
      "2024-01-12 09:44:54.806222\n",
      "2024-01-12 09:45:32.644075\n",
      "2024-01-12 09:45:32.649483\n",
      "2024-01-12 09:45:32.655757\n",
      "2024-01-12 09:45:32.663394\n",
      "2024-01-12 09:45:32.670956\n",
      "2024-01-12 09:45:32.678387\n",
      "2024-01-12 09:45:32.685309\n",
      "2024-01-12 09:45:32.693364\n",
      "2024-01-12 09:45:32.7169182024-01-12 09:45:32.720286\n",
      "\n",
      "2024-01-12 09:46:05.300916\n",
      "2024-01-12 09:46:07.290141\n"
     ]
    },
    {
     "name": "stderr",
     "output_type": "stream",
     "text": [
      "Flattening results: 100%|██████████████████████| 24/24 [00:00<00:00, 146.33it/s]\n"
     ]
    },
    {
     "name": "stdout",
     "output_type": "stream",
     "text": [
      "Total execution time: 174.07s\n",
      "Finding names to use for individual.\n",
      "['param_relays_to_tokens_multiplier', 'param_gateway_fee_per_relay']\n",
      "We have added individual names for the various parameter combinations.\n",
      "The DataFrame now looks like                       Net Minting Rate     KPI C Experiment Name State Set  \\\n",
      "individual_name                                                              \n",
      "rttm:212.5_gfpr:25.0          0.007073  0.165140     individual1      Base   \n",
      "rttm:212.5_gfpr:25.0          0.006691  0.180230     individual1      Base   \n",
      "rttm:212.5_gfpr:25.0          0.018777  0.104007     individual2      Base   \n",
      "rttm:212.5_gfpr:25.0          0.021330  0.103623     individual2      Base   \n",
      "rttm:400.0_gfpr:30.0          0.040096  0.096908    individual11      Base   \n",
      "\n",
      "                        Params Set  timestep  param_minimum_stake_servicer  \\\n",
      "individual_name                                                              \n",
      "rttm:212.5_gfpr:25.0   individual1       365                  1.500000e+10   \n",
      "rttm:212.5_gfpr:25.0   individual1       365                  1.500000e+10   \n",
      "rttm:212.5_gfpr:25.0   individual2       365                  1.500000e+10   \n",
      "rttm:212.5_gfpr:25.0   individual2       365                  1.500000e+10   \n",
      "rttm:400.0_gfpr:30.0  individual11       365                  1.500000e+10   \n",
      "\n",
      "                      param_minimum_stake_period_servicer  \\\n",
      "individual_name                                             \n",
      "rttm:212.5_gfpr:25.0                                   10   \n",
      "rttm:212.5_gfpr:25.0                                   10   \n",
      "rttm:212.5_gfpr:25.0                                   10   \n",
      "rttm:212.5_gfpr:25.0                                   10   \n",
      "rttm:400.0_gfpr:30.0                                   10   \n",
      "\n",
      "                      param_minimum_pause_time  param_max_chains_servicer  \\\n",
      "individual_name                                                             \n",
      "rttm:212.5_gfpr:25.0                        10                         15   \n",
      "rttm:212.5_gfpr:25.0                        10                         15   \n",
      "rttm:212.5_gfpr:25.0                        10                         15   \n",
      "rttm:212.5_gfpr:25.0                        10                         15   \n",
      "rttm:400.0_gfpr:30.0                        10                         15   \n",
      "\n",
      "                      ...  kpi_a  floating_supply  circulating_supply  \\\n",
      "individual_name       ...                                               \n",
      "rttm:212.5_gfpr:25.0  ...    1.0     1.532279e+15        1.531186e+15   \n",
      "rttm:212.5_gfpr:25.0  ...    1.0     1.531698e+15        1.529913e+15   \n",
      "rttm:212.5_gfpr:25.0  ...    1.0     1.550087e+15        1.549340e+15   \n",
      "rttm:212.5_gfpr:25.0  ...    1.0     1.553971e+15        1.552908e+15   \n",
      "rttm:400.0_gfpr:30.0  ...    1.0     1.582524e+15        1.581469e+15   \n",
      "\n",
      "                      dao_value_capture  POKT_burned_cummulative  \\\n",
      "individual_name                                                    \n",
      "rttm:212.5_gfpr:25.0           0.000820             1.808547e+12   \n",
      "rttm:212.5_gfpr:25.0           0.000777             1.714463e+12   \n",
      "rttm:212.5_gfpr:25.0           0.002138             4.572536e+12   \n",
      "rttm:212.5_gfpr:25.0           0.002404             4.901651e+12   \n",
      "rttm:400.0_gfpr:30.0           0.004417             1.791879e+13   \n",
      "\n",
      "                     POKT_minted_cummulative  POKT_net_mint_cummulative  \\\n",
      "individual_name                                                           \n",
      "rttm:212.5_gfpr:25.0            1.257032e+13               1.076177e+13   \n",
      "rttm:212.5_gfpr:25.0            1.189486e+13               1.018040e+13   \n",
      "rttm:212.5_gfpr:25.0            3.314250e+13               2.856997e+13   \n",
      "rttm:212.5_gfpr:25.0            3.735557e+13               3.245392e+13   \n",
      "rttm:400.0_gfpr:30.0            1.657739e+14               1.478551e+14   \n",
      "\n",
      "                      burn_rate_cummulative  mint_rate_cummulative  \\\n",
      "individual_name                                                      \n",
      "rttm:212.5_gfpr:25.0               0.001189               0.008262   \n",
      "rttm:212.5_gfpr:25.0               0.001127               0.007818   \n",
      "rttm:212.5_gfpr:25.0               0.003005               0.021783   \n",
      "rttm:212.5_gfpr:25.0               0.003222               0.024552   \n",
      "rttm:400.0_gfpr:30.0               0.002016               0.015576   \n",
      "\n",
      "                      net_mint_rate_cummulative  \n",
      "individual_name                                  \n",
      "rttm:212.5_gfpr:25.0                   0.007073  \n",
      "rttm:212.5_gfpr:25.0                   0.006691  \n",
      "rttm:212.5_gfpr:25.0                   0.018777  \n",
      "rttm:212.5_gfpr:25.0                   0.021330  \n",
      "rttm:400.0_gfpr:30.0                   0.013560  \n",
      "\n",
      "[5 rows x 101 columns].\n",
      "rttm:400.0_gfpr:30.0\n"
     ]
    },
    {
     "ename": "KeyError",
     "evalue": "'rttm:400.0_gfpr:30.0'",
     "output_type": "error",
     "traceback": [
      "\u001b[0;31m---------------------------------------------------------------------------\u001b[0m",
      "\u001b[0;31mKeyError\u001b[0m                                  Traceback (most recent call last)",
      "\u001b[0;32m/var/folders/y0/fwkpk2ps087b_2qxvhjstrfr0000gn/T/ipykernel_45770/3053205400.py\u001b[0m in \u001b[0;36m<module>\u001b[0;34m\u001b[0m\n\u001b[1;32m     36\u001b[0m \u001b[0;31m# fitness_func_to_use = calc_gvs_thresh_ineq_met\u001b[0m\u001b[0;34m\u001b[0m\u001b[0;34m\u001b[0m\u001b[0m\n\u001b[1;32m     37\u001b[0m \u001b[0;34m\u001b[0m\u001b[0m\n\u001b[0;32m---> 38\u001b[0;31m info_dict = iterate_adaptive_multigrid(initial_param_grid = params_to_evolve,\n\u001b[0m\u001b[1;32m     39\u001b[0m                                 \u001b[0mother_params_to_sweep\u001b[0m \u001b[0;34m=\u001b[0m \u001b[0mparams_for_setup_only\u001b[0m\u001b[0;34m,\u001b[0m\u001b[0;34m\u001b[0m\u001b[0;34m\u001b[0m\u001b[0m\n\u001b[1;32m     40\u001b[0m                                 \u001b[0mprefix\u001b[0m \u001b[0;34m=\u001b[0m \u001b[0mprefix_name\u001b[0m\u001b[0;34m,\u001b[0m\u001b[0;34m\u001b[0m\u001b[0;34m\u001b[0m\u001b[0m\n",
      "\u001b[0;32m~/Dropbox/BlockScience/PocketSimulationModel/psuu/adaptive_multigrid.py\u001b[0m in \u001b[0;36miterate_adaptive_multigrid\u001b[0;34m(initial_param_grid, other_params_to_sweep, prefix, max_repeat_best_name, max_repeat_best_fitness, max_steps, fitness_func)\u001b[0m\n\u001b[1;32m    257\u001b[0m         \u001b[0mprint\u001b[0m\u001b[0;34m(\u001b[0m\u001b[0mnew_best_name\u001b[0m\u001b[0;34m)\u001b[0m\u001b[0;34m\u001b[0m\u001b[0;34m\u001b[0m\u001b[0m\n\u001b[1;32m    258\u001b[0m \u001b[0;34m\u001b[0m\u001b[0m\n\u001b[0;32m--> 259\u001b[0;31m         \u001b[0mnew_best_individual\u001b[0m \u001b[0;34m=\u001b[0m \u001b[0mindividual_dict\u001b[0m\u001b[0;34m[\u001b[0m\u001b[0mnew_best_name\u001b[0m\u001b[0;34m]\u001b[0m\u001b[0;34m\u001b[0m\u001b[0;34m\u001b[0m\u001b[0m\n\u001b[0m\u001b[1;32m    260\u001b[0m \u001b[0;34m\u001b[0m\u001b[0m\n\u001b[1;32m    261\u001b[0m         \u001b[0;32mif\u001b[0m \u001b[0mnew_best_name\u001b[0m \u001b[0;34m==\u001b[0m \u001b[0mold_best_name\u001b[0m\u001b[0;34m:\u001b[0m\u001b[0;34m\u001b[0m\u001b[0;34m\u001b[0m\u001b[0m\n",
      "\u001b[0;31mKeyError\u001b[0m: 'rttm:400.0_gfpr:30.0'"
     ]
    }
   ],
   "source": [
    "from adaptive_multigrid import *\n",
    "from gvs_threshold_calc import *\n",
    "\n",
    "replacement_dict = {\"relays_to_tokens_multiplier\": \"rttm\",\n",
    "                    \"gateway_fee_per_relay\": \"gfpr\",\n",
    "                    \"application_fee_per_relay\": \"afpr\",\n",
    "                    \"gateway_minimum_stake\": \"gms\",\n",
    "                    \"application_minimum_stake\": \"ams\",\n",
    "                    \"param_relays_to_tokens_multiplier\": \"rttm\",\n",
    "                    \"param_gateway_fee_per_relay\": \"gfpr\",\n",
    "                    \"param_application_fee_per_relay\": \"afpr\",\n",
    "                    \"param_gateway_minimum_stake\": \"gms\",\n",
    "                    \"param_application_minimum_stake\": \"ams\"}\n",
    "\n",
    "params_to_evolve = {\n",
    "                     \"relays_to_tokens_multiplier\" : [25, 400],\n",
    "                     \"gateway_fee_per_relay\" : [20, 30], \n",
    " #                     \"application_fee_per_relay\" : [20, 30],\n",
    " #                      \"gateway_minimum_stake\" :  [100000 * 1e6, 200000 * 1e6],\n",
    " #                      \"application_minimum_stake\" : [100000 * 1e6,\n",
    " #                                                     200000 * 1e6,\n",
    " #                                                            ]\n",
    "                   }\n",
    "\n",
    "params_for_setup_only = {\n",
    "                      \"application_max_number\" : [5, 20, 100],\n",
    " #                   \"relays_per_session_gamma_distribution_scale\" : [100000,\n",
    " #                                                                    300000,\n",
    " #                                                                    900000]\n",
    "                    }\n",
    "\n",
    "\n",
    "\n",
    "prefix_name = \"individual\"\n",
    "max_steps_to_use = 2\n",
    "# fitness_func_to_use = calc_gvs_thresh_ineq_met\n",
    "\n",
    "info_dict = iterate_adaptive_multigrid(initial_param_grid = params_to_evolve,\n",
    "                                other_params_to_sweep = params_for_setup_only,\n",
    "                                prefix = prefix_name, \n",
    "                                max_repeat_best_name = 6,\n",
    "                                max_repeat_best_fitness = 6,\n",
    "                                max_steps = max_steps_to_use,\n",
    "                                fitness_func = calc_gvs_thresh_ineq_met,\n",
    "                                )\n",
    "\n",
    "for k,v in info_dict:\n",
    "    print(f\"The value of {k} is {v}.\")"
   ]
  },
  {
   "cell_type": "code",
   "execution_count": 1,
   "id": "eb66d731",
   "metadata": {},
   "outputs": [
    {
     "ename": "NameError",
     "evalue": "name 'pd' is not defined",
     "output_type": "error",
     "traceback": [
      "\u001b[0;31m---------------------------------------------------------------------------\u001b[0m",
      "\u001b[0;31mNameError\u001b[0m                                 Traceback (most recent call last)",
      "\u001b[0;32m/var/folders/y0/fwkpk2ps087b_2qxvhjstrfr0000gn/T/ipykernel_45770/1940130737.py\u001b[0m in \u001b[0;36m<module>\u001b[0;34m\u001b[0m\n\u001b[0;32m----> 1\u001b[0;31m \u001b[0mmock_df\u001b[0m \u001b[0;34m=\u001b[0m \u001b[0mpd\u001b[0m\u001b[0;34m.\u001b[0m\u001b[0mread_csv\u001b[0m\u001b[0;34m(\u001b[0m\u001b[0;34m\"gateway_viability_sweep_ag1_.csv\"\u001b[0m\u001b[0;34m)\u001b[0m\u001b[0;34m\u001b[0m\u001b[0;34m\u001b[0m\u001b[0m\n\u001b[0m",
      "\u001b[0;31mNameError\u001b[0m: name 'pd' is not defined"
     ]
    }
   ],
   "source": [
    "mock_df = pd.read_csv(\"gateway_viability_sweep_ag1_.csv\")"
   ]
  },
  {
   "cell_type": "code",
   "execution_count": null,
   "id": "fc08cf78",
   "metadata": {},
   "outputs": [],
   "source": [
    "give_data_individual_names(mock_df)"
   ]
  },
  {
   "cell_type": "code",
   "execution_count": null,
   "id": "086c4266",
   "metadata": {},
   "outputs": [],
   "source": []
  }
 ],
 "metadata": {
  "kernelspec": {
   "display_name": "Python 3 (ipykernel)",
   "language": "python",
   "name": "python3"
  },
  "language_info": {
   "codemirror_mode": {
    "name": "ipython",
    "version": 3
   },
   "file_extension": ".py",
   "mimetype": "text/x-python",
   "name": "python",
   "nbconvert_exporter": "python",
   "pygments_lexer": "ipython3",
   "version": "3.9.12"
  }
 },
 "nbformat": 4,
 "nbformat_minor": 5
}
