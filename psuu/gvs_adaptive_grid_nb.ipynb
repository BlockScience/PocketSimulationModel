{
 "cells": [
  {
   "cell_type": "code",
   "execution_count": null,
   "id": "8dcced75",
   "metadata": {},
   "outputs": [],
   "source": [
    "from adaptive_multigrid import *\n",
    "from gvs_threshold_calc import *\n",
    "\n",
    "replacement_dict = {\"relays_to_tokens_multiplier\": \"rttm\",\n",
    "                    \"gateway_fee_per_relay\": \"gfpr\",\n",
    "                    \"application_fee_per_relay\": \"afpr\",\n",
    "                    \"gateway_minimum_stake\": \"gms\",\n",
    "                    \"application_minimum_stake\": \"ams\",\n",
    "                    \"param_relays_to_tokens_multiplier\": \"rttm\",\n",
    "                    \"param_gateway_fee_per_relay\": \"gfpr\",\n",
    "                    \"param_application_fee_per_relay\": \"afpr\",\n",
    "                    \"param_gateway_minimum_stake\": \"gms\",\n",
    "                    \"param_application_minimum_stake\": \"ams\"}\n",
    "\n",
    "params_to_evolve = {\n",
    "                     \"relays_to_tokens_multiplier\" : [25, 400],\n",
    "                     \"gateway_fee_per_relay\" : [20, 30], \n",
    " #                     \"application_fee_per_relay\" : [20, 30],\n",
    " #                      \"gateway_minimum_stake\" :  [100000 * 1e6, 200000 * 1e6],\n",
    " #                      \"application_minimum_stake\" : [100000 * 1e6,\n",
    " #                                                     200000 * 1e6,\n",
    " #                                                            ]\n",
    "                   }\n",
    "\n",
    "params_for_setup_only = {\n",
    "                      \"application_max_number\" : [5, 20, 100],\n",
    " #                   \"relays_per_session_gamma_distribution_scale\" : [100000,\n",
    " #                                                                    300000,\n",
    " #                                                                    900000]\n",
    "                    }\n",
    "\n",
    "\n",
    "\n",
    "prefix_name = \"individual\"\n",
    "max_steps_to_use = 2\n",
    "# fitness_func_to_use = calc_gvs_thresh_ineq_met\n",
    "\n",
    "info_dict = iterate_adaptive_multigrid(initial_param_grid = params_to_evolve,\n",
    "                                other_params_to_sweep = params_for_setup_only,\n",
    "                                prefix = prefix_name, \n",
    "                                max_repeat_best_name = 6,\n",
    "                                max_repeat_best_fitness = 6,\n",
    "                                max_steps = max_steps_to_use,\n",
    "                                fitness_func = calc_gvs_thresh_ineq_met,\n",
    "                                )\n",
    "\n",
    "for k,v in info_dict:\n",
    "    print(f\"The value of {k} is {v}.\")"
   ]
  },
  {
   "cell_type": "code",
   "execution_count": null,
   "id": "eb66d731",
   "metadata": {},
   "outputs": [],
   "source": [
    "mock_df = pd.read_csv(\"gateway_viability_sweep_ag1_.csv\")"
   ]
  },
  {
   "cell_type": "code",
   "execution_count": null,
   "id": "fc08cf78",
   "metadata": {},
   "outputs": [],
   "source": [
    "give_data_individual_names(mock_df)"
   ]
  },
  {
   "cell_type": "code",
   "execution_count": null,
   "id": "086c4266",
   "metadata": {},
   "outputs": [],
   "source": []
  }
 ],
 "metadata": {
  "kernelspec": {
   "display_name": "Python 3 (ipykernel)",
   "language": "python",
   "name": "python3"
  },
  "language_info": {
   "codemirror_mode": {
    "name": "ipython",
    "version": 3
   },
   "file_extension": ".py",
   "mimetype": "text/x-python",
   "name": "python",
   "nbconvert_exporter": "python",
   "pygments_lexer": "ipython3",
   "version": "3.11.4"
  }
 },
 "nbformat": 4,
 "nbformat_minor": 5
}
