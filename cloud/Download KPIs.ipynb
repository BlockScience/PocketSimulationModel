{
 "cells": [
  {
   "cell_type": "code",
   "execution_count": 1,
   "id": "dbf3e1cb",
   "metadata": {},
   "outputs": [],
   "source": [
    "import os\n",
    "import boto3\n",
    "os.chdir(\"..\")\n",
    "import pandas as pd\n",
    "\n",
    "from cloud_utilities import download_experiment_kpi, create_expected_runs_dataframe\n",
    "\n",
    "session = boto3.Session(profile_name=\"default\")\n",
    "s3 = session.client(\"s3\")\n",
    "download_experiment_kpi(\"gateway_viability_sweep_ag1_\", s3)\n",
    "download_experiment_kpi(\"network_failures_service_ag1_\", s3)\n",
    "download_experiment_kpi(\"servicer_viability_ag1_\", s3)\n",
    "download_experiment_kpi(\"network_viability_ag1_\", s3)\n",
    "download_experiment_kpi(\"network_failures_oracle_ag1_\", s3)"
   ]
  },
  {
   "cell_type": "code",
   "execution_count": 5,
   "id": "90f64b01",
   "metadata": {},
   "outputs": [],
   "source": [
    "df = create_expected_runs_dataframe(s3, \"servicer_viability_ag1_\")"
   ]
  },
  {
   "cell_type": "code",
   "execution_count": 4,
   "id": "9faf5ccc",
   "metadata": {},
   "outputs": [],
   "source": [
    "? create_expected_runs_dataframe"
   ]
  },
  {
   "cell_type": "code",
   "execution_count": 11,
   "id": "4956f60b",
   "metadata": {},
   "outputs": [
    {
     "data": {
      "text/plain": [
       "75"
      ]
     },
     "execution_count": 11,
     "metadata": {},
     "output_type": "execute_result"
    }
   ],
   "source": [
    "df['Complete'].sum()"
   ]
  },
  {
   "cell_type": "code",
   "execution_count": null,
   "id": "58073596",
   "metadata": {},
   "outputs": [],
   "source": []
  }
 ],
 "metadata": {
  "kernelspec": {
   "display_name": "Python 3 (ipykernel)",
   "language": "python",
   "name": "python3"
  },
  "language_info": {
   "codemirror_mode": {
    "name": "ipython",
    "version": 3
   },
   "file_extension": ".py",
   "mimetype": "text/x-python",
   "name": "python",
   "nbconvert_exporter": "python",
   "pygments_lexer": "ipython3",
   "version": "3.9.12"
  }
 },
 "nbformat": 4,
 "nbformat_minor": 5
}
