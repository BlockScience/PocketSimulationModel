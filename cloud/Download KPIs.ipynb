{
 "cells": [
  {
   "cell_type": "code",
   "execution_count": 1,
   "id": "dbf3e1cb",
   "metadata": {},
   "outputs": [
    {
     "name": "stderr",
     "output_type": "stream",
     "text": [
      "/Users/seanmcowen/opt/anaconda3/envs/BlockScience/lib/python3.9/site-packages/tqdm/auto.py:22: TqdmWarning: IProgress not found. Please update jupyter and ipywidgets. See https://ipywidgets.readthedocs.io/en/stable/user_install.html\n",
      "  from .autonotebook import tqdm as notebook_tqdm\n"
     ]
    }
   ],
   "source": [
    "import os\n",
    "import boto3\n",
    "os.chdir(\"..\")\n",
    "import pandas as pd\n",
    "\n",
    "from cloud_utilities import download_experiment_kpi, create_expected_runs_dataframe\n",
    "\n",
    "session = boto3.Session(profile_name=\"default\")\n",
    "s3 = session.client(\"s3\")\n",
    "\n",
    "#download_experiment_kpi(\"network_failures_service_ag1_\", s3)\n",
    "download_experiment_kpi(\"gateway_viability_sweep_ag1_\", s3)\n",
    "#download_experiment_kpi(\"servicer_viability_ag1_\", s3)\n",
    "#download_experiment_kpi(\"network_viability_ag1_\", s3)\n",
    "#download_experiment_kpi(\"network_failures_oracle_ag1_\", s3)\n",
    "\n",
    "#download_experiment_kpi(\"gateway_viability_sweep_ag6_\", s3)"
   ]
  },
  {
   "cell_type": "code",
   "execution_count": null,
   "id": "573e6250",
   "metadata": {},
   "outputs": [],
   "source": []
  }
 ],
 "metadata": {
  "kernelspec": {
   "display_name": "Python 3 (ipykernel)",
   "language": "python",
   "name": "python3"
  },
  "language_info": {
   "codemirror_mode": {
    "name": "ipython",
    "version": 3
   },
   "file_extension": ".py",
   "mimetype": "text/x-python",
   "name": "python",
   "nbconvert_exporter": "python",
   "pygments_lexer": "ipython3",
   "version": "3.9.12"
  }
 },
 "nbformat": 4,
 "nbformat_minor": 5
}
