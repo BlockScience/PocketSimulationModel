{
 "cells": [
  {
   "cell_type": "code",
   "execution_count": null,
   "id": "a3db2504",
   "metadata": {},
   "outputs": [],
   "source": [
    "import os\n",
    "import boto3\n",
    "os.chdir(\"..\")\n",
    "from cloud_utilities import create_expected_runs_dataframe\n",
    "\n",
    "session = boto3.Session(profile_name=\"default\")\n",
    "s3 = session.client(\"s3\")\n",
    "#bucket = s3.head_bucket(Bucket=\"pocketsimulation\")\n",
    "\n",
    "runs = create_expected_runs_dataframe(\"gateway_viability_sweep_ag1_\")"
   ]
  },
  {
   "cell_type": "code",
   "execution_count": null,
   "id": "012b14b7",
   "metadata": {},
   "outputs": [],
   "source": [
    "s3.head_object(Bucket=\"pocketsimulation\", Key=\"data/gateway_viability_sweep_ag1_1.pkl\")"
   ]
  },
  {
   "cell_type": "code",
   "execution_count": null,
   "id": "f2ae5128",
   "metadata": {},
   "outputs": [],
   "source": [
    "s3.head_object(Bucket=\"pocketsimulation\", Key=\"data/gateway_viability_sweep_ag1_3.pkl\")"
   ]
  },
  {
   "cell_type": "code",
   "execution_count": null,
   "id": "a6dbd5fa",
   "metadata": {},
   "outputs": [],
   "source": []
  }
 ],
 "metadata": {
  "kernelspec": {
   "display_name": "Python 3 (ipykernel)",
   "language": "python",
   "name": "python3"
  },
  "language_info": {
   "codemirror_mode": {
    "name": "ipython",
    "version": 3
   },
   "file_extension": ".py",
   "mimetype": "text/x-python",
   "name": "python",
   "nbconvert_exporter": "python",
   "pygments_lexer": "ipython3",
   "version": "3.9.12"
  }
 },
 "nbformat": 4,
 "nbformat_minor": 5
}
