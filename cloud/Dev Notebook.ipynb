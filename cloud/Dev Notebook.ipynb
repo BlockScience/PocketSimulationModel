{
 "cells": [
  {
   "cell_type": "code",
   "execution_count": null,
   "id": "786b612e",
   "metadata": {},
   "outputs": [],
   "source": [
    "import os\n",
    "import boto3\n",
    "os.chdir(\"..\")\n",
    "from cloud_utilities import create_expected_runs_dataframe, create_queue_experiments\n",
    "\n",
    "session = boto3.Session(profile_name=\"default\")\n",
    "s3 = session.client(\"s3\")\n",
    "\n",
    "runs = create_expected_runs_dataframe(s3, \"gateway_viability_sweep_ag1_\")\n",
    "queue = create_queue_experiments(runs, 50)\n",
    "\n",
    "print(queue)"
   ]
  },
  {
   "cell_type": "code",
   "execution_count": null,
   "id": "1cdd061a",
   "metadata": {},
   "outputs": [],
   "source": [
    "ecs = boto3.client('ecs')\n"
   ]
  },
  {
   "cell_type": "code",
   "execution_count": null,
   "id": "496d095a",
   "metadata": {},
   "outputs": [],
   "source": [
    "ecs.describe_clusters()"
   ]
  },
  {
   "cell_type": "code",
   "execution_count": null,
   "id": "808a9273",
   "metadata": {},
   "outputs": [],
   "source": [
    "ecs.run_task(\n",
    "    cluster='PocketRuns',\n",
    "    count=1,\n",
    "    launchType='FARGATE',\n",
    "    overrides={\n",
    "        'containerOverrides': [\n",
    "            {\n",
    "                'name': 'pocket',\n",
    "                'command': [\n",
    "                    'gateway_viability_sweep_ag1_4,gateway_viability_sweep_ag1_5,gateway_viability_sweep_ag1_6',\n",
    "                ],\n",
    "            },\n",
    "        ],\n",
    "    },\n",
    "    taskDefinition='Simulation-Run',\n",
    ")"
   ]
  },
  {
   "cell_type": "code",
   "execution_count": null,
   "id": "eb8e30bc",
   "metadata": {},
   "outputs": [],
   "source": [
    "ecs.list_task_definitions()"
   ]
  },
  {
   "cell_type": "code",
   "execution_count": null,
   "id": "af690cb3",
   "metadata": {},
   "outputs": [],
   "source": [
    "ecs.list_clusters()"
   ]
  },
  {
   "cell_type": "code",
   "execution_count": null,
   "id": "6e460e6e",
   "metadata": {},
   "outputs": [],
   "source": [
    "ecs.describe_capacity_providers()"
   ]
  },
  {
   "cell_type": "code",
   "execution_count": null,
   "id": "84caa42e",
   "metadata": {},
   "outputs": [],
   "source": [
    "ecs.describe_clusters()"
   ]
  },
  {
   "cell_type": "code",
   "execution_count": null,
   "id": "255f4764",
   "metadata": {},
   "outputs": [],
   "source": []
  }
 ],
 "metadata": {
  "kernelspec": {
   "display_name": "Python 3 (ipykernel)",
   "language": "python",
   "name": "python3"
  },
  "language_info": {
   "codemirror_mode": {
    "name": "ipython",
    "version": 3
   },
   "file_extension": ".py",
   "mimetype": "text/x-python",
   "name": "python",
   "nbconvert_exporter": "python",
   "pygments_lexer": "ipython3",
   "version": "3.9.12"
  }
 },
 "nbformat": 4,
 "nbformat_minor": 5
}
