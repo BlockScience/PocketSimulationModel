{
 "cells": [
  {
   "cell_type": "code",
   "execution_count": 1,
   "id": "486e0278",
   "metadata": {},
   "outputs": [],
   "source": [
    "import os\n",
    "import boto3\n",
    "os.chdir(\"..\")\n",
    "import pandas as pd\n",
    "\n",
    "from cloud_utilities import download_experiment_mc\n",
    "\n",
    "\n",
    "session = boto3.Session(profile_name=\"default\")\n",
    "s3 = session.client(\"s3\")\n",
    "top_n = 40\n",
    "\n",
    "download_experiment_mc(\"network_failures_service_ag1_\", s3, top=top_n, random=True)\n",
    "#download_experiment_mc(\"gateway_viability_sweep_ag1_\", s3, top=top_n, random=True)\n",
    "#download_experiment_mc(\"servicer_viability_ag1_\", s3, top=top_n, random=True)\n",
    "#download_experiment_mc(\"network_viability_ag1_\", s3, top=top_n, random=True)\n",
    "#download_experiment_mc(\"network_failures_oracle_ag1_\", s3, top=top_n, random=True)"
   ]
  },
  {
   "cell_type": "code",
   "execution_count": null,
   "id": "ad4384e3",
   "metadata": {},
   "outputs": [],
   "source": []
  }
 ],
 "metadata": {
  "kernelspec": {
   "display_name": "Python 3 (ipykernel)",
   "language": "python",
   "name": "python3"
  },
  "language_info": {
   "codemirror_mode": {
    "name": "ipython",
    "version": 3
   },
   "file_extension": ".py",
   "mimetype": "text/x-python",
   "name": "python",
   "nbconvert_exporter": "python",
   "pygments_lexer": "ipython3",
   "version": "3.9.12"
  }
 },
 "nbformat": 4,
 "nbformat_minor": 5
}
