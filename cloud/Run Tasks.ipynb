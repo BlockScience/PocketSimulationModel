{
 "cells": [
  {
   "cell_type": "code",
   "execution_count": null,
   "id": "134cb37b",
   "metadata": {},
   "outputs": [
    {
     "name": "stdout",
     "output_type": "stream",
     "text": [
      "['gateway_viability_sweep_ag4_1', 'gateway_viability_sweep_ag4_2', 'gateway_viability_sweep_ag4_3', 'gateway_viability_sweep_ag4_4', 'gateway_viability_sweep_ag4_5', 'gateway_viability_sweep_ag4_6', 'gateway_viability_sweep_ag4_7', 'gateway_viability_sweep_ag4_8', 'gateway_viability_sweep_ag4_9', 'gateway_viability_sweep_ag4_10', 'gateway_viability_sweep_ag4_11', 'gateway_viability_sweep_ag4_12', 'gateway_viability_sweep_ag4_13', 'gateway_viability_sweep_ag4_14', 'gateway_viability_sweep_ag4_15', 'gateway_viability_sweep_ag4_16', 'gateway_viability_sweep_ag4_17', 'gateway_viability_sweep_ag4_18', 'gateway_viability_sweep_ag4_19', 'gateway_viability_sweep_ag4_20']\n",
      "[]\n",
      "['gateway_viability_sweep_ag4_21', 'gateway_viability_sweep_ag4_22', 'gateway_viability_sweep_ag4_23', 'gateway_viability_sweep_ag4_24', 'gateway_viability_sweep_ag4_25', 'gateway_viability_sweep_ag4_26', 'gateway_viability_sweep_ag4_27', 'gateway_viability_sweep_ag4_28', 'gateway_viability_sweep_ag4_29', 'gateway_viability_sweep_ag4_30', 'gateway_viability_sweep_ag4_31', 'gateway_viability_sweep_ag4_32', 'gateway_viability_sweep_ag4_33', 'gateway_viability_sweep_ag4_34', 'gateway_viability_sweep_ag4_35', 'gateway_viability_sweep_ag4_36', 'gateway_viability_sweep_ag4_37', 'gateway_viability_sweep_ag4_38', 'gateway_viability_sweep_ag4_39', 'gateway_viability_sweep_ag4_40']\n",
      "[]\n",
      "['gateway_viability_sweep_ag4_41', 'gateway_viability_sweep_ag4_42', 'gateway_viability_sweep_ag4_43', 'gateway_viability_sweep_ag4_44', 'gateway_viability_sweep_ag4_45', 'gateway_viability_sweep_ag4_46', 'gateway_viability_sweep_ag4_47', 'gateway_viability_sweep_ag4_48', 'gateway_viability_sweep_ag4_49', 'gateway_viability_sweep_ag4_50', 'gateway_viability_sweep_ag4_51', 'gateway_viability_sweep_ag4_52', 'gateway_viability_sweep_ag4_53', 'gateway_viability_sweep_ag4_54', 'gateway_viability_sweep_ag4_55', 'gateway_viability_sweep_ag4_56', 'gateway_viability_sweep_ag4_57', 'gateway_viability_sweep_ag4_58', 'gateway_viability_sweep_ag4_59', 'gateway_viability_sweep_ag4_60']\n",
      "[]\n",
      "['gateway_viability_sweep_ag4_61', 'gateway_viability_sweep_ag4_62', 'gateway_viability_sweep_ag4_63', 'gateway_viability_sweep_ag4_64', 'gateway_viability_sweep_ag4_65', 'gateway_viability_sweep_ag4_66', 'gateway_viability_sweep_ag4_67', 'gateway_viability_sweep_ag4_68', 'gateway_viability_sweep_ag4_69', 'gateway_viability_sweep_ag4_70', 'gateway_viability_sweep_ag4_71', 'gateway_viability_sweep_ag4_72', 'gateway_viability_sweep_ag4_73', 'gateway_viability_sweep_ag4_74', 'gateway_viability_sweep_ag4_75', 'gateway_viability_sweep_ag4_76', 'gateway_viability_sweep_ag4_77', 'gateway_viability_sweep_ag4_78', 'gateway_viability_sweep_ag4_79']\n",
      "[]\n",
      "['gateway_viability_sweep_ag4_80', 'gateway_viability_sweep_ag4_81', 'gateway_viability_sweep_ag4_82', 'gateway_viability_sweep_ag4_83', 'gateway_viability_sweep_ag4_84', 'gateway_viability_sweep_ag4_85', 'gateway_viability_sweep_ag4_86', 'gateway_viability_sweep_ag4_87', 'gateway_viability_sweep_ag4_88', 'gateway_viability_sweep_ag4_89', 'gateway_viability_sweep_ag4_90', 'gateway_viability_sweep_ag4_91', 'gateway_viability_sweep_ag4_92', 'gateway_viability_sweep_ag4_93', 'gateway_viability_sweep_ag4_94', 'gateway_viability_sweep_ag4_95', 'gateway_viability_sweep_ag4_96', 'gateway_viability_sweep_ag4_97', 'gateway_viability_sweep_ag4_98']\n",
      "[]\n",
      "['gateway_viability_sweep_ag4_99', 'gateway_viability_sweep_ag4_100', 'gateway_viability_sweep_ag4_101', 'gateway_viability_sweep_ag4_102', 'gateway_viability_sweep_ag4_103', 'gateway_viability_sweep_ag4_104', 'gateway_viability_sweep_ag4_105', 'gateway_viability_sweep_ag4_106', 'gateway_viability_sweep_ag4_107', 'gateway_viability_sweep_ag4_108', 'gateway_viability_sweep_ag4_109', 'gateway_viability_sweep_ag4_110', 'gateway_viability_sweep_ag4_111', 'gateway_viability_sweep_ag4_112', 'gateway_viability_sweep_ag4_113', 'gateway_viability_sweep_ag4_114', 'gateway_viability_sweep_ag4_115', 'gateway_viability_sweep_ag4_116', 'gateway_viability_sweep_ag4_117']\n",
      "[]\n",
      "['gateway_viability_sweep_ag4_118', 'gateway_viability_sweep_ag4_119', 'gateway_viability_sweep_ag4_120', 'gateway_viability_sweep_ag4_121', 'gateway_viability_sweep_ag4_122', 'gateway_viability_sweep_ag4_123', 'gateway_viability_sweep_ag4_124', 'gateway_viability_sweep_ag4_125', 'gateway_viability_sweep_ag4_126', 'gateway_viability_sweep_ag4_127', 'gateway_viability_sweep_ag4_128', 'gateway_viability_sweep_ag4_129', 'gateway_viability_sweep_ag4_130', 'gateway_viability_sweep_ag4_131', 'gateway_viability_sweep_ag4_132', 'gateway_viability_sweep_ag4_133', 'gateway_viability_sweep_ag4_134', 'gateway_viability_sweep_ag4_135', 'gateway_viability_sweep_ag4_136']\n",
      "[]\n",
      "['gateway_viability_sweep_ag4_137', 'gateway_viability_sweep_ag4_138', 'gateway_viability_sweep_ag4_139', 'gateway_viability_sweep_ag4_140', 'gateway_viability_sweep_ag4_141', 'gateway_viability_sweep_ag4_142', 'gateway_viability_sweep_ag4_143', 'gateway_viability_sweep_ag4_144', 'gateway_viability_sweep_ag4_145', 'gateway_viability_sweep_ag4_146', 'gateway_viability_sweep_ag4_147', 'gateway_viability_sweep_ag4_148', 'gateway_viability_sweep_ag4_149', 'gateway_viability_sweep_ag4_150', 'gateway_viability_sweep_ag4_151', 'gateway_viability_sweep_ag4_152', 'gateway_viability_sweep_ag4_153', 'gateway_viability_sweep_ag4_154', 'gateway_viability_sweep_ag4_155']\n",
      "[]\n",
      "['gateway_viability_sweep_ag4_156', 'gateway_viability_sweep_ag4_157', 'gateway_viability_sweep_ag4_158', 'gateway_viability_sweep_ag4_159', 'gateway_viability_sweep_ag4_160', 'gateway_viability_sweep_ag4_161', 'gateway_viability_sweep_ag4_162', 'gateway_viability_sweep_ag4_163', 'gateway_viability_sweep_ag4_164', 'gateway_viability_sweep_ag4_165', 'gateway_viability_sweep_ag4_166', 'gateway_viability_sweep_ag4_167', 'gateway_viability_sweep_ag4_168', 'gateway_viability_sweep_ag4_169', 'gateway_viability_sweep_ag4_170', 'gateway_viability_sweep_ag4_171', 'gateway_viability_sweep_ag4_172', 'gateway_viability_sweep_ag4_173', 'gateway_viability_sweep_ag4_174']\n",
      "[]\n",
      "['gateway_viability_sweep_ag4_175', 'gateway_viability_sweep_ag4_176', 'gateway_viability_sweep_ag4_177', 'gateway_viability_sweep_ag4_178', 'gateway_viability_sweep_ag4_179', 'gateway_viability_sweep_ag4_180', 'gateway_viability_sweep_ag4_181', 'gateway_viability_sweep_ag4_182', 'gateway_viability_sweep_ag4_183', 'gateway_viability_sweep_ag4_184', 'gateway_viability_sweep_ag4_185', 'gateway_viability_sweep_ag4_186', 'gateway_viability_sweep_ag4_187', 'gateway_viability_sweep_ag4_188', 'gateway_viability_sweep_ag4_189', 'gateway_viability_sweep_ag4_190', 'gateway_viability_sweep_ag4_191', 'gateway_viability_sweep_ag4_192', 'gateway_viability_sweep_ag4_193']\n",
      "[]\n",
      "['gateway_viability_sweep_ag4_194', 'gateway_viability_sweep_ag4_195', 'gateway_viability_sweep_ag4_196', 'gateway_viability_sweep_ag4_197', 'gateway_viability_sweep_ag4_198', 'gateway_viability_sweep_ag4_199', 'gateway_viability_sweep_ag4_200', 'gateway_viability_sweep_ag4_201', 'gateway_viability_sweep_ag4_202', 'gateway_viability_sweep_ag4_203', 'gateway_viability_sweep_ag4_204', 'gateway_viability_sweep_ag4_205', 'gateway_viability_sweep_ag4_206', 'gateway_viability_sweep_ag4_207', 'gateway_viability_sweep_ag4_208', 'gateway_viability_sweep_ag4_209', 'gateway_viability_sweep_ag4_210', 'gateway_viability_sweep_ag4_211', 'gateway_viability_sweep_ag4_212']\n",
      "[]\n",
      "['gateway_viability_sweep_ag4_213', 'gateway_viability_sweep_ag4_214', 'gateway_viability_sweep_ag4_215', 'gateway_viability_sweep_ag4_216', 'gateway_viability_sweep_ag4_217', 'gateway_viability_sweep_ag4_218', 'gateway_viability_sweep_ag4_219', 'gateway_viability_sweep_ag4_220', 'gateway_viability_sweep_ag4_221', 'gateway_viability_sweep_ag4_222', 'gateway_viability_sweep_ag4_223', 'gateway_viability_sweep_ag4_224', 'gateway_viability_sweep_ag4_225', 'gateway_viability_sweep_ag4_226', 'gateway_viability_sweep_ag4_227', 'gateway_viability_sweep_ag4_228', 'gateway_viability_sweep_ag4_229', 'gateway_viability_sweep_ag4_230', 'gateway_viability_sweep_ag4_231']\n",
      "[]\n",
      "\n",
      "\n"
     ]
    }
   ],
   "source": [
    "import os\n",
    "import boto3\n",
    "os.chdir(\"..\")\n",
    "from cloud_utilities import create_expected_runs_dataframe, create_queue_experiments, run_tasks, create_expected_runs_dataframe_multi, queue_and_launch\n",
    "\n",
    "session = boto3.Session(profile_name=\"default\")\n",
    "s3 = session.client(\"s3\")\n",
    "ecs = boto3.client('ecs')\n",
    "\n",
    "runs = create_expected_runs_dataframe_multi(s3, [\"gateway_viability_sweep_ag4_\"])\n",
    "\n",
    "\"\"\"runs = create_expected_runs_dataframe_multi(s3, [\"gateway_viability_sweep_ag1_\",\n",
    "                                                \"network_failures_service_ag1_\",\n",
    "                                                \"servicer_viability_ag1_\",\n",
    "                                                \"network_viability_ag1_\",\n",
    "                                                \"network_failures_oracle_ag1_\"])\"\"\"\n",
    "queue_and_launch(runs, ecs, 20, 20)"
   ]
  },
  {
   "cell_type": "code",
   "execution_count": null,
   "id": "15e765c3",
   "metadata": {},
   "outputs": [],
   "source": []
  },
  {
   "cell_type": "code",
   "execution_count": null,
   "id": "049abaa1",
   "metadata": {},
   "outputs": [],
   "source": [
    "n = 70\n",
    "\n",
    "session = boto3.Session(profile_name=\"default\")\n",
    "s3 = session.client(\"s3\")\n",
    "ecs = boto3.client('ecs')\n",
    "\n",
    "runs = create_expected_runs_dataframe(s3, \"gateway_viability_sweep_ag1_\")\n",
    "if (~runs['Complete']).sum() > 0:\n",
    "    queue = create_queue_experiments(runs, n)\n",
    "    print(queue)\n",
    "    for q in queue:\n",
    "        run_tasks(ecs, list(q))\n",
    "\n",
    "runs = create_expected_runs_dataframe(s3, \"network_failures_service_ag1_\")\n",
    "if (~runs['Complete']).sum() > 0:\n",
    "    queue = create_queue_experiments(runs, n)\n",
    "    print(queue)\n",
    "    for q in queue:\n",
    "        run_tasks(ecs, list(q))\n",
    "\n",
    "runs = create_expected_runs_dataframe(s3, \"servicer_viability_ag1_\")\n",
    "if (~runs['Complete']).sum() > 0:\n",
    "    queue = create_queue_experiments(runs, n)\n",
    "    print(queue)\n",
    "    for q in queue:\n",
    "        run_tasks(ecs, list(q))\n",
    "\n",
    "runs = create_expected_runs_dataframe(s3, \"network_viability_ag1_\")\n",
    "if (~runs['Complete']).sum() > 0:\n",
    "    queue = create_queue_experiments(runs, n)\n",
    "    print(queue)\n",
    "    for q in queue:\n",
    "        run_tasks(ecs, list(q))\n",
    "        \n",
    "runs = create_expected_runs_dataframe(s3, \"network_failures_oracle_ag1_\")\n",
    "if (~runs['Complete']).sum() > 0:\n",
    "    queue = create_queue_experiments(runs, n)\n",
    "    print(queue)\n",
    "    for q in queue:\n",
    "        run_tasks(ecs, list(q))"
   ]
  },
  {
   "cell_type": "code",
   "execution_count": null,
   "id": "2f67b4dd",
   "metadata": {},
   "outputs": [],
   "source": []
  }
 ],
 "metadata": {
  "kernelspec": {
   "display_name": "Python 3 (ipykernel)",
   "language": "python",
   "name": "python3"
  },
  "language_info": {
   "codemirror_mode": {
    "name": "ipython",
    "version": 3
   },
   "file_extension": ".py",
   "mimetype": "text/x-python",
   "name": "python",
   "nbconvert_exporter": "python",
   "pygments_lexer": "ipython3",
   "version": "3.9.12"
  }
 },
 "nbformat": 4,
 "nbformat_minor": 5
}
