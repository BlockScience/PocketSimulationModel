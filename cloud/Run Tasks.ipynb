{
 "cells": [
  {
   "cell_type": "code",
   "execution_count": 1,
   "id": "134cb37b",
   "metadata": {},
   "outputs": [
    {
     "name": "stdout",
     "output_type": "stream",
     "text": [
      "['gateway_viability_sweep_ag3_1', 'gateway_viability_sweep_ag3_2', 'gateway_viability_sweep_ag3_3', 'gateway_viability_sweep_ag3_4', 'gateway_viability_sweep_ag3_5', 'gateway_viability_sweep_ag3_6', 'gateway_viability_sweep_ag3_7', 'gateway_viability_sweep_ag3_8', 'gateway_viability_sweep_ag3_9', 'gateway_viability_sweep_ag3_10', 'gateway_viability_sweep_ag3_11', 'gateway_viability_sweep_ag3_12', 'gateway_viability_sweep_ag3_13', 'gateway_viability_sweep_ag3_14', 'gateway_viability_sweep_ag3_15', 'gateway_viability_sweep_ag3_16', 'gateway_viability_sweep_ag3_17', 'gateway_viability_sweep_ag3_18', 'gateway_viability_sweep_ag3_19', 'gateway_viability_sweep_ag3_20']\n",
      "[]\n",
      "['gateway_viability_sweep_ag3_21', 'gateway_viability_sweep_ag3_22', 'gateway_viability_sweep_ag3_23', 'gateway_viability_sweep_ag3_24', 'gateway_viability_sweep_ag3_25', 'gateway_viability_sweep_ag3_26', 'gateway_viability_sweep_ag3_27', 'gateway_viability_sweep_ag3_28', 'gateway_viability_sweep_ag3_29', 'gateway_viability_sweep_ag3_30', 'gateway_viability_sweep_ag3_31', 'gateway_viability_sweep_ag3_32', 'gateway_viability_sweep_ag3_33', 'gateway_viability_sweep_ag3_34', 'gateway_viability_sweep_ag3_35', 'gateway_viability_sweep_ag3_36', 'gateway_viability_sweep_ag3_37', 'gateway_viability_sweep_ag3_38', 'gateway_viability_sweep_ag3_39', 'gateway_viability_sweep_ag3_40']\n",
      "[]\n",
      "['gateway_viability_sweep_ag3_41', 'gateway_viability_sweep_ag3_42', 'gateway_viability_sweep_ag3_43', 'gateway_viability_sweep_ag3_44', 'gateway_viability_sweep_ag3_45', 'gateway_viability_sweep_ag3_46', 'gateway_viability_sweep_ag3_47', 'gateway_viability_sweep_ag3_48', 'gateway_viability_sweep_ag3_49', 'gateway_viability_sweep_ag3_50', 'gateway_viability_sweep_ag3_51', 'gateway_viability_sweep_ag3_52', 'gateway_viability_sweep_ag3_53', 'gateway_viability_sweep_ag3_54', 'gateway_viability_sweep_ag3_55', 'gateway_viability_sweep_ag3_56', 'gateway_viability_sweep_ag3_57', 'gateway_viability_sweep_ag3_58', 'gateway_viability_sweep_ag3_59', 'gateway_viability_sweep_ag3_60']\n",
      "[]\n",
      "['gateway_viability_sweep_ag3_61', 'gateway_viability_sweep_ag3_62', 'gateway_viability_sweep_ag3_63', 'gateway_viability_sweep_ag3_64', 'gateway_viability_sweep_ag3_65', 'gateway_viability_sweep_ag3_66', 'gateway_viability_sweep_ag3_67', 'gateway_viability_sweep_ag3_68', 'gateway_viability_sweep_ag3_69', 'gateway_viability_sweep_ag3_70', 'gateway_viability_sweep_ag3_71', 'gateway_viability_sweep_ag3_72', 'gateway_viability_sweep_ag3_73', 'gateway_viability_sweep_ag3_74', 'gateway_viability_sweep_ag3_75', 'gateway_viability_sweep_ag3_76', 'gateway_viability_sweep_ag3_77', 'gateway_viability_sweep_ag3_78', 'gateway_viability_sweep_ag3_79']\n",
      "[]\n",
      "['gateway_viability_sweep_ag3_80', 'gateway_viability_sweep_ag3_81', 'gateway_viability_sweep_ag3_82', 'gateway_viability_sweep_ag3_83', 'gateway_viability_sweep_ag3_84', 'gateway_viability_sweep_ag3_85', 'gateway_viability_sweep_ag3_86', 'gateway_viability_sweep_ag3_87', 'gateway_viability_sweep_ag3_88', 'gateway_viability_sweep_ag3_89', 'gateway_viability_sweep_ag3_90', 'gateway_viability_sweep_ag3_91', 'gateway_viability_sweep_ag3_92', 'gateway_viability_sweep_ag3_93', 'gateway_viability_sweep_ag3_94', 'gateway_viability_sweep_ag3_95', 'gateway_viability_sweep_ag3_96', 'gateway_viability_sweep_ag3_97', 'gateway_viability_sweep_ag3_98']\n",
      "[]\n",
      "['gateway_viability_sweep_ag3_99', 'gateway_viability_sweep_ag3_100', 'gateway_viability_sweep_ag3_101', 'gateway_viability_sweep_ag3_102', 'gateway_viability_sweep_ag3_103', 'gateway_viability_sweep_ag3_104', 'gateway_viability_sweep_ag3_105', 'gateway_viability_sweep_ag3_106', 'gateway_viability_sweep_ag3_107', 'gateway_viability_sweep_ag3_108', 'gateway_viability_sweep_ag3_109', 'gateway_viability_sweep_ag3_110', 'gateway_viability_sweep_ag3_111', 'gateway_viability_sweep_ag3_112', 'gateway_viability_sweep_ag3_113', 'gateway_viability_sweep_ag3_114', 'gateway_viability_sweep_ag3_115', 'gateway_viability_sweep_ag3_116', 'gateway_viability_sweep_ag3_117']\n",
      "[]\n",
      "['gateway_viability_sweep_ag3_118', 'gateway_viability_sweep_ag3_119', 'gateway_viability_sweep_ag3_120', 'gateway_viability_sweep_ag3_121', 'gateway_viability_sweep_ag3_122', 'gateway_viability_sweep_ag3_123', 'gateway_viability_sweep_ag3_124', 'gateway_viability_sweep_ag3_125', 'gateway_viability_sweep_ag3_126', 'gateway_viability_sweep_ag3_127', 'gateway_viability_sweep_ag3_128', 'gateway_viability_sweep_ag3_129', 'gateway_viability_sweep_ag3_130', 'gateway_viability_sweep_ag3_131', 'gateway_viability_sweep_ag3_132', 'gateway_viability_sweep_ag3_133', 'gateway_viability_sweep_ag3_134', 'gateway_viability_sweep_ag3_135', 'gateway_viability_sweep_ag3_136']\n",
      "[]\n",
      "['gateway_viability_sweep_ag3_137', 'gateway_viability_sweep_ag3_138', 'gateway_viability_sweep_ag3_139', 'gateway_viability_sweep_ag3_140', 'gateway_viability_sweep_ag3_141', 'gateway_viability_sweep_ag3_142', 'gateway_viability_sweep_ag3_143', 'gateway_viability_sweep_ag3_144', 'gateway_viability_sweep_ag3_145', 'gateway_viability_sweep_ag3_146', 'gateway_viability_sweep_ag3_147', 'gateway_viability_sweep_ag3_148', 'gateway_viability_sweep_ag3_149', 'gateway_viability_sweep_ag3_150', 'gateway_viability_sweep_ag3_151', 'gateway_viability_sweep_ag3_152', 'gateway_viability_sweep_ag3_153', 'gateway_viability_sweep_ag3_154', 'gateway_viability_sweep_ag3_155']\n",
      "[]\n",
      "['gateway_viability_sweep_ag3_156', 'gateway_viability_sweep_ag3_157', 'gateway_viability_sweep_ag3_158', 'gateway_viability_sweep_ag3_159', 'gateway_viability_sweep_ag3_160', 'gateway_viability_sweep_ag3_161', 'gateway_viability_sweep_ag3_162', 'gateway_viability_sweep_ag3_163', 'gateway_viability_sweep_ag3_164', 'gateway_viability_sweep_ag3_165', 'gateway_viability_sweep_ag3_166', 'gateway_viability_sweep_ag3_167', 'gateway_viability_sweep_ag3_168', 'gateway_viability_sweep_ag3_169', 'gateway_viability_sweep_ag3_170', 'gateway_viability_sweep_ag3_171', 'gateway_viability_sweep_ag3_172', 'gateway_viability_sweep_ag3_173', 'gateway_viability_sweep_ag3_174']\n",
      "[]\n",
      "['gateway_viability_sweep_ag3_175', 'gateway_viability_sweep_ag3_176', 'gateway_viability_sweep_ag3_177', 'gateway_viability_sweep_ag3_178', 'gateway_viability_sweep_ag3_179', 'gateway_viability_sweep_ag3_180', 'gateway_viability_sweep_ag3_181', 'gateway_viability_sweep_ag3_182', 'gateway_viability_sweep_ag3_183', 'gateway_viability_sweep_ag3_184', 'gateway_viability_sweep_ag3_185', 'gateway_viability_sweep_ag3_186', 'gateway_viability_sweep_ag3_187', 'gateway_viability_sweep_ag3_188', 'gateway_viability_sweep_ag3_189', 'gateway_viability_sweep_ag3_190', 'gateway_viability_sweep_ag3_191', 'gateway_viability_sweep_ag3_192', 'gateway_viability_sweep_ag3_193']\n",
      "[]\n",
      "['gateway_viability_sweep_ag3_194', 'gateway_viability_sweep_ag3_195', 'gateway_viability_sweep_ag3_196', 'gateway_viability_sweep_ag3_197', 'gateway_viability_sweep_ag3_198', 'gateway_viability_sweep_ag3_199', 'gateway_viability_sweep_ag3_200', 'gateway_viability_sweep_ag3_201', 'gateway_viability_sweep_ag3_202', 'gateway_viability_sweep_ag3_203', 'gateway_viability_sweep_ag3_204', 'gateway_viability_sweep_ag3_205', 'gateway_viability_sweep_ag3_206', 'gateway_viability_sweep_ag3_207', 'gateway_viability_sweep_ag3_208', 'gateway_viability_sweep_ag3_209', 'gateway_viability_sweep_ag3_210', 'gateway_viability_sweep_ag3_211', 'gateway_viability_sweep_ag3_212']\n",
      "[]\n",
      "['gateway_viability_sweep_ag3_213', 'gateway_viability_sweep_ag3_214', 'gateway_viability_sweep_ag3_215', 'gateway_viability_sweep_ag3_216', 'gateway_viability_sweep_ag3_217', 'gateway_viability_sweep_ag3_218', 'gateway_viability_sweep_ag3_219', 'gateway_viability_sweep_ag3_220', 'gateway_viability_sweep_ag3_221', 'gateway_viability_sweep_ag3_222', 'gateway_viability_sweep_ag3_223', 'gateway_viability_sweep_ag3_224', 'gateway_viability_sweep_ag3_225', 'gateway_viability_sweep_ag3_226', 'gateway_viability_sweep_ag3_227', 'gateway_viability_sweep_ag3_228', 'gateway_viability_sweep_ag3_229', 'gateway_viability_sweep_ag3_230', 'gateway_viability_sweep_ag3_231']\n",
      "[]\n",
      "\n",
      "\n",
      "['gateway_viability_sweep_ag3_232', 'gateway_viability_sweep_ag3_233', 'gateway_viability_sweep_ag3_234', 'gateway_viability_sweep_ag3_235', 'gateway_viability_sweep_ag3_236', 'gateway_viability_sweep_ag3_237', 'gateway_viability_sweep_ag3_238', 'gateway_viability_sweep_ag3_239', 'gateway_viability_sweep_ag3_240', 'gateway_viability_sweep_ag3_241', 'gateway_viability_sweep_ag3_242', 'gateway_viability_sweep_ag3_243', 'gateway_viability_sweep_ag3_244', 'gateway_viability_sweep_ag3_245', 'gateway_viability_sweep_ag3_246', 'gateway_viability_sweep_ag3_247', 'gateway_viability_sweep_ag3_248', 'gateway_viability_sweep_ag3_249', 'gateway_viability_sweep_ag3_250']\n"
     ]
    },
    {
     "name": "stdout",
     "output_type": "stream",
     "text": [
      "[]\n",
      "['gateway_viability_sweep_ag3_251', 'gateway_viability_sweep_ag3_252', 'gateway_viability_sweep_ag3_253', 'gateway_viability_sweep_ag3_254', 'gateway_viability_sweep_ag3_255', 'gateway_viability_sweep_ag3_256', 'gateway_viability_sweep_ag3_257', 'gateway_viability_sweep_ag3_258', 'gateway_viability_sweep_ag3_259', 'gateway_viability_sweep_ag3_260', 'gateway_viability_sweep_ag3_261', 'gateway_viability_sweep_ag3_262', 'gateway_viability_sweep_ag3_263', 'gateway_viability_sweep_ag3_264', 'gateway_viability_sweep_ag3_265', 'gateway_viability_sweep_ag3_266', 'gateway_viability_sweep_ag3_267', 'gateway_viability_sweep_ag3_268', 'gateway_viability_sweep_ag3_269']\n",
      "[]\n",
      "['gateway_viability_sweep_ag3_270', 'gateway_viability_sweep_ag3_271', 'gateway_viability_sweep_ag3_272', 'gateway_viability_sweep_ag3_273', 'gateway_viability_sweep_ag3_274', 'gateway_viability_sweep_ag3_275', 'gateway_viability_sweep_ag3_276', 'gateway_viability_sweep_ag3_277', 'gateway_viability_sweep_ag3_278', 'gateway_viability_sweep_ag3_279', 'gateway_viability_sweep_ag3_280', 'gateway_viability_sweep_ag3_281', 'gateway_viability_sweep_ag3_282', 'gateway_viability_sweep_ag3_283', 'gateway_viability_sweep_ag3_284', 'gateway_viability_sweep_ag3_285', 'gateway_viability_sweep_ag3_286', 'gateway_viability_sweep_ag3_287', 'gateway_viability_sweep_ag3_288']\n",
      "[]\n",
      "\n",
      "\n"
     ]
    }
   ],
   "source": [
    "import os\n",
    "import boto3\n",
    "os.chdir(\"..\")\n",
    "from cloud_utilities import create_expected_runs_dataframe, create_queue_experiments, run_tasks, create_expected_runs_dataframe_multi, queue_and_launch\n",
    "\n",
    "session = boto3.Session(profile_name=\"default\")\n",
    "s3 = session.client(\"s3\")\n",
    "ecs = boto3.client('ecs')\n",
    "\n",
    "runs = create_expected_runs_dataframe_multi(s3, [\"gateway_viability_sweep_ag3_\"])\n",
    "\n",
    "\"\"\"runs = create_expected_runs_dataframe_multi(s3, [\"gateway_viability_sweep_ag1_\",\n",
    "                                                \"network_failures_service_ag1_\",\n",
    "                                                \"servicer_viability_ag1_\",\n",
    "                                                \"network_viability_ag1_\",\n",
    "                                                \"network_failures_oracle_ag1_\"])\"\"\"\n",
    "queue_and_launch(runs, ecs, 20, 20)"
   ]
  },
  {
   "cell_type": "code",
   "execution_count": null,
   "id": "15e765c3",
   "metadata": {},
   "outputs": [],
   "source": []
  },
  {
   "cell_type": "code",
   "execution_count": null,
   "id": "049abaa1",
   "metadata": {},
   "outputs": [],
   "source": [
    "n = 70\n",
    "\n",
    "session = boto3.Session(profile_name=\"default\")\n",
    "s3 = session.client(\"s3\")\n",
    "ecs = boto3.client('ecs')\n",
    "\n",
    "runs = create_expected_runs_dataframe(s3, \"gateway_viability_sweep_ag1_\")\n",
    "if (~runs['Complete']).sum() > 0:\n",
    "    queue = create_queue_experiments(runs, n)\n",
    "    print(queue)\n",
    "    for q in queue:\n",
    "        run_tasks(ecs, list(q))\n",
    "\n",
    "runs = create_expected_runs_dataframe(s3, \"network_failures_service_ag1_\")\n",
    "if (~runs['Complete']).sum() > 0:\n",
    "    queue = create_queue_experiments(runs, n)\n",
    "    print(queue)\n",
    "    for q in queue:\n",
    "        run_tasks(ecs, list(q))\n",
    "\n",
    "runs = create_expected_runs_dataframe(s3, \"servicer_viability_ag1_\")\n",
    "if (~runs['Complete']).sum() > 0:\n",
    "    queue = create_queue_experiments(runs, n)\n",
    "    print(queue)\n",
    "    for q in queue:\n",
    "        run_tasks(ecs, list(q))\n",
    "\n",
    "runs = create_expected_runs_dataframe(s3, \"network_viability_ag1_\")\n",
    "if (~runs['Complete']).sum() > 0:\n",
    "    queue = create_queue_experiments(runs, n)\n",
    "    print(queue)\n",
    "    for q in queue:\n",
    "        run_tasks(ecs, list(q))\n",
    "        \n",
    "runs = create_expected_runs_dataframe(s3, \"network_failures_oracle_ag1_\")\n",
    "if (~runs['Complete']).sum() > 0:\n",
    "    queue = create_queue_experiments(runs, n)\n",
    "    print(queue)\n",
    "    for q in queue:\n",
    "        run_tasks(ecs, list(q))"
   ]
  },
  {
   "cell_type": "code",
   "execution_count": null,
   "id": "2f67b4dd",
   "metadata": {},
   "outputs": [],
   "source": []
  }
 ],
 "metadata": {
  "kernelspec": {
   "display_name": "Python 3 (ipykernel)",
   "language": "python",
   "name": "python3"
  },
  "language_info": {
   "codemirror_mode": {
    "name": "ipython",
    "version": 3
   },
   "file_extension": ".py",
   "mimetype": "text/x-python",
   "name": "python",
   "nbconvert_exporter": "python",
   "pygments_lexer": "ipython3",
   "version": "3.9.12"
  }
 },
 "nbformat": 4,
 "nbformat_minor": 5
}
