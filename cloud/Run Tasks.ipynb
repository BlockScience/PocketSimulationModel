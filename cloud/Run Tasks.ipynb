{
 "cells": [
  {
   "cell_type": "code",
   "execution_count": 1,
   "id": "134cb37b",
   "metadata": {},
   "outputs": [
    {
     "name": "stdout",
     "output_type": "stream",
     "text": [
      "[array(['servicer_viability_ag1_817', 'servicer_viability_ag1_818',\n",
      "       'servicer_viability_ag1_819', 'servicer_viability_ag1_820',\n",
      "       'servicer_viability_ag1_821', 'servicer_viability_ag1_822',\n",
      "       'servicer_viability_ag1_823', 'servicer_viability_ag1_824',\n",
      "       'servicer_viability_ag1_825', 'servicer_viability_ag1_826',\n",
      "       'servicer_viability_ag1_827', 'servicer_viability_ag1_828',\n",
      "       'servicer_viability_ag1_829', 'servicer_viability_ag1_830',\n",
      "       'servicer_viability_ag1_831', 'servicer_viability_ag1_832',\n",
      "       'servicer_viability_ag1_833', 'servicer_viability_ag1_834',\n",
      "       'servicer_viability_ag1_835', 'servicer_viability_ag1_836',\n",
      "       'servicer_viability_ag1_837', 'servicer_viability_ag1_838',\n",
      "       'servicer_viability_ag1_839', 'servicer_viability_ag1_840',\n",
      "       'servicer_viability_ag1_841', 'servicer_viability_ag1_842',\n",
      "       'servicer_viability_ag1_843', 'servicer_viability_ag1_844',\n",
      "       'servicer_viability_ag1_845', 'servicer_viability_ag1_846',\n",
      "       'servicer_viability_ag1_847', 'servicer_viability_ag1_848',\n",
      "       'servicer_viability_ag1_849', 'servicer_viability_ag1_850',\n",
      "       'servicer_viability_ag1_851', 'servicer_viability_ag1_852',\n",
      "       'servicer_viability_ag1_853', 'servicer_viability_ag1_854',\n",
      "       'servicer_viability_ag1_855', 'servicer_viability_ag1_856',\n",
      "       'servicer_viability_ag1_857', 'servicer_viability_ag1_858',\n",
      "       'servicer_viability_ag1_859', 'servicer_viability_ag1_860',\n",
      "       'servicer_viability_ag1_861', 'servicer_viability_ag1_862',\n",
      "       'servicer_viability_ag1_863', 'servicer_viability_ag1_864'],\n",
      "      dtype=object)]\n"
     ]
    }
   ],
   "source": [
    "import os\n",
    "import boto3\n",
    "os.chdir(\"..\")\n",
    "from cloud_utilities import create_expected_runs_dataframe, create_queue_experiments, run_tasks\n",
    "\n",
    "session = boto3.Session(profile_name=\"default\")\n",
    "s3 = session.client(\"s3\")\n",
    "ecs = boto3.client('ecs')\n",
    "\n",
    "runs = create_expected_runs_dataframe(s3, \"gateway_viability_sweep_ag1_\")\n",
    "if (~runs['Complete']).sum() > 0:\n",
    "    queue = create_queue_experiments(runs, 50)\n",
    "    print(queue)\n",
    "    for q in queue:\n",
    "        run_tasks(ecs, list(q))\n",
    "\n",
    "runs = create_expected_runs_dataframe(s3, \"network_failures_service_ag1_\")\n",
    "if (~runs['Complete']).sum() > 0:\n",
    "    queue = create_queue_experiments(runs, 50)\n",
    "    print(queue)\n",
    "    for q in queue:\n",
    "        run_tasks(ecs, list(q))\n",
    "\n",
    "runs = create_expected_runs_dataframe(s3, \"servicer_viability_ag1_\")\n",
    "if (~runs['Complete']).sum() > 0:\n",
    "    queue = create_queue_experiments(runs, 50)\n",
    "    print(queue)\n",
    "    for q in queue:\n",
    "        run_tasks(ecs, list(q))"
   ]
  },
  {
   "cell_type": "code",
   "execution_count": null,
   "id": "b2f54579",
   "metadata": {},
   "outputs": [],
   "source": []
  }
 ],
 "metadata": {
  "kernelspec": {
   "display_name": "Python 3 (ipykernel)",
   "language": "python",
   "name": "python3"
  },
  "language_info": {
   "codemirror_mode": {
    "name": "ipython",
    "version": 3
   },
   "file_extension": ".py",
   "mimetype": "text/x-python",
   "name": "python",
   "nbconvert_exporter": "python",
   "pygments_lexer": "ipython3",
   "version": "3.9.12"
  }
 },
 "nbformat": 4,
 "nbformat_minor": 5
}
