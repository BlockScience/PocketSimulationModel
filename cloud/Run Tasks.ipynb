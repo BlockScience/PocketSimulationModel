{
 "cells": [
  {
   "cell_type": "code",
   "execution_count": 1,
   "id": "134cb37b",
   "metadata": {},
   "outputs": [
    {
     "name": "stdout",
     "output_type": "stream",
     "text": [
      "[array(['gateway_viability_sweep_ag1_1', 'gateway_viability_sweep_ag1_2',\n",
      "       'gateway_viability_sweep_ag1_3', 'gateway_viability_sweep_ag1_4',\n",
      "       'gateway_viability_sweep_ag1_5', 'gateway_viability_sweep_ag1_6',\n",
      "       'gateway_viability_sweep_ag1_7', 'gateway_viability_sweep_ag1_8',\n",
      "       'gateway_viability_sweep_ag1_9', 'gateway_viability_sweep_ag1_10',\n",
      "       'gateway_viability_sweep_ag1_11', 'gateway_viability_sweep_ag1_12',\n",
      "       'gateway_viability_sweep_ag1_13', 'gateway_viability_sweep_ag1_14',\n",
      "       'gateway_viability_sweep_ag1_15', 'gateway_viability_sweep_ag1_16',\n",
      "       'gateway_viability_sweep_ag1_17', 'gateway_viability_sweep_ag1_18',\n",
      "       'gateway_viability_sweep_ag1_19', 'gateway_viability_sweep_ag1_20',\n",
      "       'gateway_viability_sweep_ag1_21', 'gateway_viability_sweep_ag1_22',\n",
      "       'gateway_viability_sweep_ag1_23', 'gateway_viability_sweep_ag1_24',\n",
      "       'gateway_viability_sweep_ag1_25', 'gateway_viability_sweep_ag1_26',\n",
      "       'gateway_viability_sweep_ag1_27', 'gateway_viability_sweep_ag1_28',\n",
      "       'gateway_viability_sweep_ag1_29', 'gateway_viability_sweep_ag1_30',\n",
      "       'gateway_viability_sweep_ag1_31', 'gateway_viability_sweep_ag1_32',\n",
      "       'gateway_viability_sweep_ag1_33', 'gateway_viability_sweep_ag1_34',\n",
      "       'gateway_viability_sweep_ag1_35', 'gateway_viability_sweep_ag1_36',\n",
      "       'gateway_viability_sweep_ag1_37', 'gateway_viability_sweep_ag1_38',\n",
      "       'gateway_viability_sweep_ag1_39', 'gateway_viability_sweep_ag1_40',\n",
      "       'gateway_viability_sweep_ag1_41', 'gateway_viability_sweep_ag1_42',\n",
      "       'gateway_viability_sweep_ag1_43', 'gateway_viability_sweep_ag1_44',\n",
      "       'gateway_viability_sweep_ag1_45', 'gateway_viability_sweep_ag1_46',\n",
      "       'gateway_viability_sweep_ag1_47', 'gateway_viability_sweep_ag1_48'],\n",
      "      dtype=object)]\n"
     ]
    }
   ],
   "source": [
    "import os\n",
    "import boto3\n",
    "os.chdir(\"..\")\n",
    "from cloud_utilities import create_expected_runs_dataframe, create_queue_experiments, run_tasks\n",
    "\n",
    "session = boto3.Session(profile_name=\"default\")\n",
    "s3 = session.client(\"s3\")\n",
    "ecs = boto3.client('ecs')\n",
    "\n",
    "runs = create_expected_runs_dataframe(s3, \"gateway_viability_sweep_ag1_\")\n",
    "\n",
    "if (~runs['Complete']).sum() > 0:\n",
    "    queue = create_queue_experiments(runs, 50)\n",
    "    print(queue)\n",
    "    for q in queue:\n",
    "        run_tasks(ecs, list(q))\n",
    "\n",
    "runs = create_expected_runs_dataframe(s3, \"network_failures_service_ag1_\")\n",
    "if (~runs['Complete']).sum() > 0:\n",
    "    queue = create_queue_experiments(runs, 50)\n",
    "    print(queue)\n",
    "    for q in queue:\n",
    "        run_tasks(ecs, list(q))"
   ]
  },
  {
   "cell_type": "code",
   "execution_count": null,
   "id": "7c3d2c8e",
   "metadata": {},
   "outputs": [],
   "source": []
  }
 ],
 "metadata": {
  "kernelspec": {
   "display_name": "Python 3 (ipykernel)",
   "language": "python",
   "name": "python3"
  },
  "language_info": {
   "codemirror_mode": {
    "name": "ipython",
    "version": 3
   },
   "file_extension": ".py",
   "mimetype": "text/x-python",
   "name": "python",
   "nbconvert_exporter": "python",
   "pygments_lexer": "ipython3",
   "version": "3.9.12"
  }
 },
 "nbformat": 4,
 "nbformat_minor": 5
}
