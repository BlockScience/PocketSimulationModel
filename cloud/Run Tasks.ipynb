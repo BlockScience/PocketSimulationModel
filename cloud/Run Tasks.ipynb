{
 "cells": [
  {
   "cell_type": "code",
   "execution_count": null,
   "id": "134cb37b",
   "metadata": {},
   "outputs": [
    {
     "name": "stdout",
     "output_type": "stream",
     "text": [
      "['gateway_viability_sweep_ag2_1', 'gateway_viability_sweep_ag2_2', 'gateway_viability_sweep_ag2_3', 'gateway_viability_sweep_ag2_4', 'gateway_viability_sweep_ag2_5', 'gateway_viability_sweep_ag2_6', 'gateway_viability_sweep_ag2_7', 'gateway_viability_sweep_ag2_8', 'gateway_viability_sweep_ag2_9', 'gateway_viability_sweep_ag2_10', 'gateway_viability_sweep_ag2_11', 'gateway_viability_sweep_ag2_12', 'gateway_viability_sweep_ag2_13', 'gateway_viability_sweep_ag2_14', 'gateway_viability_sweep_ag2_15', 'gateway_viability_sweep_ag2_16', 'gateway_viability_sweep_ag2_17', 'gateway_viability_sweep_ag2_18', 'gateway_viability_sweep_ag2_19', 'gateway_viability_sweep_ag2_20']\n",
      "[]\n",
      "['gateway_viability_sweep_ag2_21', 'gateway_viability_sweep_ag2_22', 'gateway_viability_sweep_ag2_23', 'gateway_viability_sweep_ag2_24', 'gateway_viability_sweep_ag2_25', 'gateway_viability_sweep_ag2_26', 'gateway_viability_sweep_ag2_27', 'gateway_viability_sweep_ag2_28', 'gateway_viability_sweep_ag2_29', 'gateway_viability_sweep_ag2_30', 'gateway_viability_sweep_ag2_31', 'gateway_viability_sweep_ag2_32', 'gateway_viability_sweep_ag2_33', 'gateway_viability_sweep_ag2_34', 'gateway_viability_sweep_ag2_35', 'gateway_viability_sweep_ag2_36', 'gateway_viability_sweep_ag2_37', 'gateway_viability_sweep_ag2_38', 'gateway_viability_sweep_ag2_39', 'gateway_viability_sweep_ag2_40']\n",
      "[]\n",
      "['gateway_viability_sweep_ag2_41', 'gateway_viability_sweep_ag2_42', 'gateway_viability_sweep_ag2_43', 'gateway_viability_sweep_ag2_44', 'gateway_viability_sweep_ag2_45', 'gateway_viability_sweep_ag2_46', 'gateway_viability_sweep_ag2_47', 'gateway_viability_sweep_ag2_48', 'gateway_viability_sweep_ag2_49', 'gateway_viability_sweep_ag2_50', 'gateway_viability_sweep_ag2_51', 'gateway_viability_sweep_ag2_52', 'gateway_viability_sweep_ag2_53', 'gateway_viability_sweep_ag2_54', 'gateway_viability_sweep_ag2_55', 'gateway_viability_sweep_ag2_56', 'gateway_viability_sweep_ag2_57', 'gateway_viability_sweep_ag2_58', 'gateway_viability_sweep_ag2_59', 'gateway_viability_sweep_ag2_60']\n",
      "[]\n",
      "['gateway_viability_sweep_ag2_61', 'gateway_viability_sweep_ag2_62', 'gateway_viability_sweep_ag2_63', 'gateway_viability_sweep_ag2_64', 'gateway_viability_sweep_ag2_65', 'gateway_viability_sweep_ag2_66', 'gateway_viability_sweep_ag2_67', 'gateway_viability_sweep_ag2_68', 'gateway_viability_sweep_ag2_69', 'gateway_viability_sweep_ag2_70', 'gateway_viability_sweep_ag2_71', 'gateway_viability_sweep_ag2_72', 'gateway_viability_sweep_ag2_73', 'gateway_viability_sweep_ag2_74', 'gateway_viability_sweep_ag2_75', 'gateway_viability_sweep_ag2_76', 'gateway_viability_sweep_ag2_77', 'gateway_viability_sweep_ag2_78', 'gateway_viability_sweep_ag2_79']\n",
      "[]\n",
      "['gateway_viability_sweep_ag2_80', 'gateway_viability_sweep_ag2_81', 'gateway_viability_sweep_ag2_82', 'gateway_viability_sweep_ag2_83', 'gateway_viability_sweep_ag2_84', 'gateway_viability_sweep_ag2_85', 'gateway_viability_sweep_ag2_86', 'gateway_viability_sweep_ag2_87', 'gateway_viability_sweep_ag2_88', 'gateway_viability_sweep_ag2_89', 'gateway_viability_sweep_ag2_90', 'gateway_viability_sweep_ag2_91', 'gateway_viability_sweep_ag2_92', 'gateway_viability_sweep_ag2_93', 'gateway_viability_sweep_ag2_94', 'gateway_viability_sweep_ag2_95', 'gateway_viability_sweep_ag2_96', 'gateway_viability_sweep_ag2_97', 'gateway_viability_sweep_ag2_98']\n",
      "[]\n",
      "['gateway_viability_sweep_ag2_99', 'gateway_viability_sweep_ag2_100', 'gateway_viability_sweep_ag2_101', 'gateway_viability_sweep_ag2_102', 'gateway_viability_sweep_ag2_103', 'gateway_viability_sweep_ag2_104', 'gateway_viability_sweep_ag2_105', 'gateway_viability_sweep_ag2_106', 'gateway_viability_sweep_ag2_107', 'gateway_viability_sweep_ag2_108', 'gateway_viability_sweep_ag2_109', 'gateway_viability_sweep_ag2_110', 'gateway_viability_sweep_ag2_111', 'gateway_viability_sweep_ag2_112', 'gateway_viability_sweep_ag2_113', 'gateway_viability_sweep_ag2_114', 'gateway_viability_sweep_ag2_115', 'gateway_viability_sweep_ag2_116', 'gateway_viability_sweep_ag2_117']\n",
      "[]\n",
      "['gateway_viability_sweep_ag2_118', 'gateway_viability_sweep_ag2_119', 'gateway_viability_sweep_ag2_120', 'gateway_viability_sweep_ag2_121', 'gateway_viability_sweep_ag2_122', 'gateway_viability_sweep_ag2_123', 'gateway_viability_sweep_ag2_124', 'gateway_viability_sweep_ag2_125', 'gateway_viability_sweep_ag2_126', 'gateway_viability_sweep_ag2_127', 'gateway_viability_sweep_ag2_128', 'gateway_viability_sweep_ag2_129', 'gateway_viability_sweep_ag2_130', 'gateway_viability_sweep_ag2_131', 'gateway_viability_sweep_ag2_132', 'gateway_viability_sweep_ag2_133', 'gateway_viability_sweep_ag2_134', 'gateway_viability_sweep_ag2_135', 'gateway_viability_sweep_ag2_136']\n",
      "[]\n",
      "['gateway_viability_sweep_ag2_137', 'gateway_viability_sweep_ag2_138', 'gateway_viability_sweep_ag2_139', 'gateway_viability_sweep_ag2_140', 'gateway_viability_sweep_ag2_141', 'gateway_viability_sweep_ag2_142', 'gateway_viability_sweep_ag2_143', 'gateway_viability_sweep_ag2_144', 'gateway_viability_sweep_ag2_145', 'gateway_viability_sweep_ag2_146', 'gateway_viability_sweep_ag2_147', 'gateway_viability_sweep_ag2_148', 'gateway_viability_sweep_ag2_149', 'gateway_viability_sweep_ag2_150', 'gateway_viability_sweep_ag2_151', 'gateway_viability_sweep_ag2_152', 'gateway_viability_sweep_ag2_153', 'gateway_viability_sweep_ag2_154', 'gateway_viability_sweep_ag2_155']\n",
      "[]\n",
      "['gateway_viability_sweep_ag2_156', 'gateway_viability_sweep_ag2_157', 'gateway_viability_sweep_ag2_158', 'gateway_viability_sweep_ag2_159', 'gateway_viability_sweep_ag2_160', 'gateway_viability_sweep_ag2_161', 'gateway_viability_sweep_ag2_162', 'gateway_viability_sweep_ag2_163', 'gateway_viability_sweep_ag2_164', 'gateway_viability_sweep_ag2_165', 'gateway_viability_sweep_ag2_166', 'gateway_viability_sweep_ag2_167', 'gateway_viability_sweep_ag2_168', 'gateway_viability_sweep_ag2_169', 'gateway_viability_sweep_ag2_170', 'gateway_viability_sweep_ag2_171', 'gateway_viability_sweep_ag2_172', 'gateway_viability_sweep_ag2_173', 'gateway_viability_sweep_ag2_174']\n",
      "[]\n",
      "['gateway_viability_sweep_ag2_175', 'gateway_viability_sweep_ag2_176', 'gateway_viability_sweep_ag2_177', 'gateway_viability_sweep_ag2_178', 'gateway_viability_sweep_ag2_179', 'gateway_viability_sweep_ag2_180', 'gateway_viability_sweep_ag2_181', 'gateway_viability_sweep_ag2_182', 'gateway_viability_sweep_ag2_183', 'gateway_viability_sweep_ag2_184', 'gateway_viability_sweep_ag2_185', 'gateway_viability_sweep_ag2_186', 'gateway_viability_sweep_ag2_187', 'gateway_viability_sweep_ag2_188', 'gateway_viability_sweep_ag2_189', 'gateway_viability_sweep_ag2_190', 'gateway_viability_sweep_ag2_191', 'gateway_viability_sweep_ag2_192', 'gateway_viability_sweep_ag2_193']\n",
      "[]\n",
      "['gateway_viability_sweep_ag2_194', 'gateway_viability_sweep_ag2_195', 'gateway_viability_sweep_ag2_196', 'gateway_viability_sweep_ag2_197', 'gateway_viability_sweep_ag2_198', 'gateway_viability_sweep_ag2_199', 'gateway_viability_sweep_ag2_200', 'gateway_viability_sweep_ag2_201', 'gateway_viability_sweep_ag2_202', 'gateway_viability_sweep_ag2_203', 'gateway_viability_sweep_ag2_204', 'gateway_viability_sweep_ag2_205', 'gateway_viability_sweep_ag2_206', 'gateway_viability_sweep_ag2_207', 'gateway_viability_sweep_ag2_208', 'gateway_viability_sweep_ag2_209', 'gateway_viability_sweep_ag2_210', 'gateway_viability_sweep_ag2_211', 'gateway_viability_sweep_ag2_212']\n",
      "[]\n",
      "['gateway_viability_sweep_ag2_213', 'gateway_viability_sweep_ag2_214', 'gateway_viability_sweep_ag2_215', 'gateway_viability_sweep_ag2_216', 'gateway_viability_sweep_ag2_217', 'gateway_viability_sweep_ag2_218', 'gateway_viability_sweep_ag2_219', 'gateway_viability_sweep_ag2_220', 'gateway_viability_sweep_ag2_221', 'gateway_viability_sweep_ag2_222', 'gateway_viability_sweep_ag2_223', 'gateway_viability_sweep_ag2_224', 'gateway_viability_sweep_ag2_225', 'gateway_viability_sweep_ag2_226', 'gateway_viability_sweep_ag2_227', 'gateway_viability_sweep_ag2_228', 'gateway_viability_sweep_ag2_229', 'gateway_viability_sweep_ag2_230', 'gateway_viability_sweep_ag2_231']\n",
      "[]\n",
      "\n",
      "\n"
     ]
    }
   ],
   "source": [
    "import os\n",
    "import boto3\n",
    "os.chdir(\"..\")\n",
    "from cloud_utilities import create_expected_runs_dataframe, create_queue_experiments, run_tasks, create_expected_runs_dataframe_multi, queue_and_launch\n",
    "\n",
    "session = boto3.Session(profile_name=\"default\")\n",
    "s3 = session.client(\"s3\")\n",
    "ecs = boto3.client('ecs')\n",
    "\n",
    "runs = create_expected_runs_dataframe_multi(s3, [\"gateway_viability_sweep_ag2_\"])\n",
    "\n",
    "\"\"\"runs = create_expected_runs_dataframe_multi(s3, [\"gateway_viability_sweep_ag1_\",\n",
    "                                                \"network_failures_service_ag1_\",\n",
    "                                                \"servicer_viability_ag1_\",\n",
    "                                                \"network_viability_ag1_\",\n",
    "                                                \"network_failures_oracle_ag1_\"])\"\"\"\n",
    "queue_and_launch(runs, ecs, 20, 20)"
   ]
  },
  {
   "cell_type": "code",
   "execution_count": null,
   "id": "15e765c3",
   "metadata": {},
   "outputs": [],
   "source": []
  },
  {
   "cell_type": "code",
   "execution_count": null,
   "id": "049abaa1",
   "metadata": {},
   "outputs": [],
   "source": [
    "n = 70\n",
    "\n",
    "session = boto3.Session(profile_name=\"default\")\n",
    "s3 = session.client(\"s3\")\n",
    "ecs = boto3.client('ecs')\n",
    "\n",
    "runs = create_expected_runs_dataframe(s3, \"gateway_viability_sweep_ag1_\")\n",
    "if (~runs['Complete']).sum() > 0:\n",
    "    queue = create_queue_experiments(runs, n)\n",
    "    print(queue)\n",
    "    for q in queue:\n",
    "        run_tasks(ecs, list(q))\n",
    "\n",
    "runs = create_expected_runs_dataframe(s3, \"network_failures_service_ag1_\")\n",
    "if (~runs['Complete']).sum() > 0:\n",
    "    queue = create_queue_experiments(runs, n)\n",
    "    print(queue)\n",
    "    for q in queue:\n",
    "        run_tasks(ecs, list(q))\n",
    "\n",
    "runs = create_expected_runs_dataframe(s3, \"servicer_viability_ag1_\")\n",
    "if (~runs['Complete']).sum() > 0:\n",
    "    queue = create_queue_experiments(runs, n)\n",
    "    print(queue)\n",
    "    for q in queue:\n",
    "        run_tasks(ecs, list(q))\n",
    "\n",
    "runs = create_expected_runs_dataframe(s3, \"network_viability_ag1_\")\n",
    "if (~runs['Complete']).sum() > 0:\n",
    "    queue = create_queue_experiments(runs, n)\n",
    "    print(queue)\n",
    "    for q in queue:\n",
    "        run_tasks(ecs, list(q))\n",
    "        \n",
    "runs = create_expected_runs_dataframe(s3, \"network_failures_oracle_ag1_\")\n",
    "if (~runs['Complete']).sum() > 0:\n",
    "    queue = create_queue_experiments(runs, n)\n",
    "    print(queue)\n",
    "    for q in queue:\n",
    "        run_tasks(ecs, list(q))"
   ]
  },
  {
   "cell_type": "code",
   "execution_count": null,
   "id": "2f67b4dd",
   "metadata": {},
   "outputs": [],
   "source": []
  }
 ],
 "metadata": {
  "kernelspec": {
   "display_name": "Python 3 (ipykernel)",
   "language": "python",
   "name": "python3"
  },
  "language_info": {
   "codemirror_mode": {
    "name": "ipython",
    "version": 3
   },
   "file_extension": ".py",
   "mimetype": "text/x-python",
   "name": "python",
   "nbconvert_exporter": "python",
   "pygments_lexer": "ipython3",
   "version": "3.9.12"
  }
 },
 "nbformat": 4,
 "nbformat_minor": 5
}
