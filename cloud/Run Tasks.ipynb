{
 "cells": [
  {
   "cell_type": "code",
   "execution_count": null,
   "id": "134cb37b",
   "metadata": {},
   "outputs": [
    {
     "name": "stdout",
     "output_type": "stream",
     "text": [
      "['network_failures_service_ag1_1', 'network_failures_service_ag1_2', 'network_failures_service_ag1_3', 'network_failures_service_ag1_4', 'network_failures_service_ag1_5', 'network_failures_service_ag1_6', 'network_failures_service_ag1_7', 'network_failures_service_ag1_8', 'network_failures_service_ag1_9', 'network_failures_service_ag1_10', 'network_failures_service_ag1_11', 'network_failures_service_ag1_12', 'network_failures_service_ag1_13', 'network_failures_service_ag1_14', 'network_failures_service_ag1_15', 'network_failures_service_ag1_16', 'network_failures_service_ag1_17', 'network_failures_service_ag1_18', 'network_failures_service_ag1_19', 'network_failures_service_ag1_20']\n",
      "[]\n",
      "['network_failures_service_ag1_21', 'network_failures_service_ag1_22', 'network_failures_service_ag1_23', 'network_failures_service_ag1_24', 'network_failures_service_ag1_25', 'network_failures_service_ag1_26', 'network_failures_service_ag1_27', 'network_failures_service_ag1_28', 'network_failures_service_ag1_29', 'network_failures_service_ag1_30', 'network_failures_service_ag1_31', 'network_failures_service_ag1_32', 'network_failures_service_ag1_33', 'network_failures_service_ag1_34', 'network_failures_service_ag1_35', 'network_failures_service_ag1_36', 'network_failures_service_ag1_37', 'network_failures_service_ag1_38', 'network_failures_service_ag1_39']\n",
      "[]\n",
      "['network_failures_service_ag1_40', 'network_failures_service_ag1_41', 'network_failures_service_ag1_42', 'network_failures_service_ag1_43', 'network_failures_service_ag1_44', 'network_failures_service_ag1_45', 'network_failures_service_ag1_46', 'network_failures_service_ag1_47', 'network_failures_service_ag1_48', 'network_failures_service_ag1_49', 'network_failures_service_ag1_50', 'network_failures_service_ag1_51', 'network_failures_service_ag1_52', 'network_failures_service_ag1_53', 'network_failures_service_ag1_54', 'network_failures_service_ag1_55', 'network_failures_service_ag1_56', 'network_failures_service_ag1_57', 'network_failures_service_ag1_58']\n",
      "[]\n",
      "['network_failures_service_ag1_59', 'network_failures_service_ag1_60', 'network_failures_service_ag1_61', 'network_failures_service_ag1_62', 'network_failures_service_ag1_63', 'network_failures_service_ag1_64', 'network_failures_service_ag1_65', 'network_failures_service_ag1_66', 'network_failures_service_ag1_67', 'network_failures_service_ag1_68', 'network_failures_service_ag1_69', 'network_failures_service_ag1_70', 'network_failures_service_ag1_71', 'network_failures_service_ag1_72', 'network_failures_service_ag1_73', 'network_failures_service_ag1_74', 'network_failures_service_ag1_75', 'network_failures_service_ag1_76', 'network_failures_service_ag1_77']\n",
      "[]\n",
      "['network_failures_service_ag1_78', 'network_failures_service_ag1_79', 'network_failures_service_ag1_80', 'network_failures_service_ag1_81', 'network_failures_service_ag1_82', 'network_failures_service_ag1_83', 'network_failures_service_ag1_84', 'network_failures_service_ag1_85', 'network_failures_service_ag1_86', 'network_failures_service_ag1_87', 'network_failures_service_ag1_88', 'network_failures_service_ag1_89', 'network_failures_service_ag1_90', 'network_failures_service_ag1_91', 'network_failures_service_ag1_92', 'network_failures_service_ag1_93', 'network_failures_service_ag1_94', 'network_failures_service_ag1_95', 'network_failures_service_ag1_96']\n",
      "[]\n",
      "\n",
      "\n"
     ]
    }
   ],
   "source": [
    "import os\n",
    "import boto3\n",
    "os.chdir(\"..\")\n",
    "from cloud_utilities import create_expected_runs_dataframe, create_queue_experiments, run_tasks, create_expected_runs_dataframe_multi, queue_and_launch\n",
    "\n",
    "session = boto3.Session(profile_name=\"default\")\n",
    "s3 = session.client(\"s3\")\n",
    "ecs = boto3.client('ecs')\n",
    "\n",
    "runs = create_expected_runs_dataframe_multi(s3, [\"network_failures_service_ag1_\"], run_all=True)\n",
    "\n",
    "\"\"\"runs = create_expected_runs_dataframe_multi(s3, [\"gateway_viability_sweep_ag1_\",\n",
    "                                                \"network_failures_service_ag1_\",\n",
    "                                                \"servicer_viability_ag1_\",\n",
    "                                                \"network_viability_ag1_\",\n",
    "                                                \"network_failures_oracle_ag1_\"])\"\"\"\n",
    "queue_and_launch(runs, ecs, 20, 20)"
   ]
  },
  {
   "cell_type": "code",
   "execution_count": null,
   "id": "15e765c3",
   "metadata": {},
   "outputs": [],
   "source": []
  },
  {
   "cell_type": "code",
   "execution_count": null,
   "id": "049abaa1",
   "metadata": {},
   "outputs": [],
   "source": [
    "n = 70\n",
    "\n",
    "session = boto3.Session(profile_name=\"default\")\n",
    "s3 = session.client(\"s3\")\n",
    "ecs = boto3.client('ecs')\n",
    "\n",
    "runs = create_expected_runs_dataframe(s3, \"gateway_viability_sweep_ag1_\")\n",
    "if (~runs['Complete']).sum() > 0:\n",
    "    queue = create_queue_experiments(runs, n)\n",
    "    print(queue)\n",
    "    for q in queue:\n",
    "        run_tasks(ecs, list(q))\n",
    "\n",
    "runs = create_expected_runs_dataframe(s3, \"network_failures_service_ag1_\")\n",
    "if (~runs['Complete']).sum() > 0:\n",
    "    queue = create_queue_experiments(runs, n)\n",
    "    print(queue)\n",
    "    for q in queue:\n",
    "        run_tasks(ecs, list(q))\n",
    "\n",
    "runs = create_expected_runs_dataframe(s3, \"servicer_viability_ag1_\")\n",
    "if (~runs['Complete']).sum() > 0:\n",
    "    queue = create_queue_experiments(runs, n)\n",
    "    print(queue)\n",
    "    for q in queue:\n",
    "        run_tasks(ecs, list(q))\n",
    "\n",
    "runs = create_expected_runs_dataframe(s3, \"network_viability_ag1_\")\n",
    "if (~runs['Complete']).sum() > 0:\n",
    "    queue = create_queue_experiments(runs, n)\n",
    "    print(queue)\n",
    "    for q in queue:\n",
    "        run_tasks(ecs, list(q))\n",
    "        \n",
    "runs = create_expected_runs_dataframe(s3, \"network_failures_oracle_ag1_\")\n",
    "if (~runs['Complete']).sum() > 0:\n",
    "    queue = create_queue_experiments(runs, n)\n",
    "    print(queue)\n",
    "    for q in queue:\n",
    "        run_tasks(ecs, list(q))"
   ]
  },
  {
   "cell_type": "code",
   "execution_count": null,
   "id": "2f67b4dd",
   "metadata": {},
   "outputs": [],
   "source": []
  }
 ],
 "metadata": {
  "kernelspec": {
   "display_name": "Python 3 (ipykernel)",
   "language": "python",
   "name": "python3"
  },
  "language_info": {
   "codemirror_mode": {
    "name": "ipython",
    "version": 3
   },
   "file_extension": ".py",
   "mimetype": "text/x-python",
   "name": "python",
   "nbconvert_exporter": "python",
   "pygments_lexer": "ipython3",
   "version": "3.9.12"
  }
 },
 "nbformat": 4,
 "nbformat_minor": 5
}
