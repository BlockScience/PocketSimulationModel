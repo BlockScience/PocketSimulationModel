{
 "cells": [
  {
   "cell_type": "code",
   "execution_count": 1,
   "id": "134cb37b",
   "metadata": {},
   "outputs": [
    {
     "name": "stdout",
     "output_type": "stream",
     "text": [
      "['network_failures_oracle_ag1_2261', 'network_failures_oracle_ag1_2262', 'network_failures_oracle_ag1_2263', 'network_failures_oracle_ag1_2264', 'network_failures_oracle_ag1_2265', 'network_failures_oracle_ag1_2266', 'network_failures_oracle_ag1_2267', 'network_failures_oracle_ag1_2268', 'network_failures_oracle_ag1_2269', 'network_failures_oracle_ag1_2270', 'network_failures_oracle_ag1_2271', 'network_failures_oracle_ag1_2272', 'network_failures_oracle_ag1_2273', 'network_failures_oracle_ag1_2274', 'network_failures_oracle_ag1_2275', 'network_failures_oracle_ag1_2276', 'network_failures_oracle_ag1_2277', 'network_failures_oracle_ag1_2278', 'network_failures_oracle_ag1_2279', 'network_failures_oracle_ag1_2280']\n",
      "[]\n",
      "['network_failures_oracle_ag1_2281', 'network_failures_oracle_ag1_2282', 'network_failures_oracle_ag1_2283', 'network_failures_oracle_ag1_2284', 'network_failures_oracle_ag1_2285', 'network_failures_oracle_ag1_2286', 'network_failures_oracle_ag1_2287', 'network_failures_oracle_ag1_2288', 'network_failures_oracle_ag1_2289', 'network_failures_oracle_ag1_2290', 'network_failures_oracle_ag1_2291', 'network_failures_oracle_ag1_2292', 'network_failures_oracle_ag1_2293', 'network_failures_oracle_ag1_2294', 'network_failures_oracle_ag1_2295', 'network_failures_oracle_ag1_2296', 'network_failures_oracle_ag1_2297', 'network_failures_oracle_ag1_2298', 'network_failures_oracle_ag1_2299', 'network_failures_oracle_ag1_2300']\n",
      "[]\n",
      "['network_failures_oracle_ag1_2301', 'network_failures_oracle_ag1_2302', 'network_failures_oracle_ag1_2303', 'network_failures_oracle_ag1_2304', 'network_failures_oracle_ag1_2305', 'network_failures_oracle_ag1_2306', 'network_failures_oracle_ag1_2307', 'network_failures_oracle_ag1_2308', 'network_failures_oracle_ag1_2309', 'network_failures_oracle_ag1_2310', 'network_failures_oracle_ag1_2311', 'network_failures_oracle_ag1_2312', 'network_failures_oracle_ag1_2313', 'network_failures_oracle_ag1_2314', 'network_failures_oracle_ag1_2315', 'network_failures_oracle_ag1_2316', 'network_failures_oracle_ag1_2317', 'network_failures_oracle_ag1_2318', 'network_failures_oracle_ag1_2319', 'network_failures_oracle_ag1_2320']\n",
      "[]\n",
      "['network_failures_oracle_ag1_2341', 'network_failures_oracle_ag1_2342', 'network_failures_oracle_ag1_2343', 'network_failures_oracle_ag1_2344', 'network_failures_oracle_ag1_2345', 'network_failures_oracle_ag1_2346', 'network_failures_oracle_ag1_2347', 'network_failures_oracle_ag1_2348', 'network_failures_oracle_ag1_2349', 'network_failures_oracle_ag1_2350', 'network_failures_oracle_ag1_2351', 'network_failures_oracle_ag1_2352', 'network_failures_oracle_ag1_2353', 'network_failures_oracle_ag1_2354', 'network_failures_oracle_ag1_2355', 'network_failures_oracle_ag1_2356', 'network_failures_oracle_ag1_2357', 'network_failures_oracle_ag1_2358', 'network_failures_oracle_ag1_2359', 'network_failures_oracle_ag1_2360']\n",
      "[]\n",
      "['network_failures_oracle_ag1_2381', 'network_failures_oracle_ag1_2382', 'network_failures_oracle_ag1_2383', 'network_failures_oracle_ag1_2384', 'network_failures_oracle_ag1_2385', 'network_failures_oracle_ag1_2386', 'network_failures_oracle_ag1_2387', 'network_failures_oracle_ag1_2388', 'network_failures_oracle_ag1_2389', 'network_failures_oracle_ag1_2390', 'network_failures_oracle_ag1_2391', 'network_failures_oracle_ag1_2392', 'network_failures_oracle_ag1_2393', 'network_failures_oracle_ag1_2394', 'network_failures_oracle_ag1_2395', 'network_failures_oracle_ag1_2396', 'network_failures_oracle_ag1_2397', 'network_failures_oracle_ag1_2398', 'network_failures_oracle_ag1_2399', 'network_failures_oracle_ag1_2400']\n",
      "[]\n",
      "\n",
      "\n"
     ]
    }
   ],
   "source": [
    "import os\n",
    "import boto3\n",
    "os.chdir(\"..\")\n",
    "from cloud_utilities import create_expected_runs_dataframe, create_queue_experiments, run_tasks, create_expected_runs_dataframe_multi, queue_and_launch\n",
    "\n",
    "session = boto3.Session(profile_name=\"default\")\n",
    "s3 = session.client(\"s3\")\n",
    "ecs = boto3.client('ecs')\n",
    "\n",
    "#runs = create_expected_runs_dataframe_multi(s3, [\"gateway_viability_sweep_ag6_\"])\n",
    "\n",
    "runs = create_expected_runs_dataframe_multi(s3, [\"gateway_viability_sweep_ag1_\",\n",
    "                                                \"network_failures_service_ag1_\",\n",
    "                                                \"servicer_viability_ag1_\",\n",
    "                                                \"network_viability_ag1_\",\n",
    "                                                \"network_failures_oracle_ag1_\"])\n",
    "queue_and_launch(runs, ecs, 20, 20)"
   ]
  },
  {
   "cell_type": "code",
   "execution_count": null,
   "id": "15e765c3",
   "metadata": {},
   "outputs": [],
   "source": []
  },
  {
   "cell_type": "code",
   "execution_count": null,
   "id": "049abaa1",
   "metadata": {},
   "outputs": [],
   "source": [
    "n = 70\n",
    "\n",
    "session = boto3.Session(profile_name=\"default\")\n",
    "s3 = session.client(\"s3\")\n",
    "ecs = boto3.client('ecs')\n",
    "\n",
    "runs = create_expected_runs_dataframe(s3, \"gateway_viability_sweep_ag1_\")\n",
    "if (~runs['Complete']).sum() > 0:\n",
    "    queue = create_queue_experiments(runs, n)\n",
    "    print(queue)\n",
    "    for q in queue:\n",
    "        run_tasks(ecs, list(q))\n",
    "\n",
    "runs = create_expected_runs_dataframe(s3, \"network_failures_service_ag1_\")\n",
    "if (~runs['Complete']).sum() > 0:\n",
    "    queue = create_queue_experiments(runs, n)\n",
    "    print(queue)\n",
    "    for q in queue:\n",
    "        run_tasks(ecs, list(q))\n",
    "\n",
    "runs = create_expected_runs_dataframe(s3, \"servicer_viability_ag1_\")\n",
    "if (~runs['Complete']).sum() > 0:\n",
    "    queue = create_queue_experiments(runs, n)\n",
    "    print(queue)\n",
    "    for q in queue:\n",
    "        run_tasks(ecs, list(q))\n",
    "\n",
    "runs = create_expected_runs_dataframe(s3, \"network_viability_ag1_\")\n",
    "if (~runs['Complete']).sum() > 0:\n",
    "    queue = create_queue_experiments(runs, n)\n",
    "    print(queue)\n",
    "    for q in queue:\n",
    "        run_tasks(ecs, list(q))\n",
    "        \n",
    "runs = create_expected_runs_dataframe(s3, \"network_failures_oracle_ag1_\")\n",
    "if (~runs['Complete']).sum() > 0:\n",
    "    queue = create_queue_experiments(runs, n)\n",
    "    print(queue)\n",
    "    for q in queue:\n",
    "        run_tasks(ecs, list(q))"
   ]
  },
  {
   "cell_type": "code",
   "execution_count": null,
   "id": "2f67b4dd",
   "metadata": {},
   "outputs": [],
   "source": []
  }
 ],
 "metadata": {
  "kernelspec": {
   "display_name": "Python 3 (ipykernel)",
   "language": "python",
   "name": "python3"
  },
  "language_info": {
   "codemirror_mode": {
    "name": "ipython",
    "version": 3
   },
   "file_extension": ".py",
   "mimetype": "text/x-python",
   "name": "python",
   "nbconvert_exporter": "python",
   "pygments_lexer": "ipython3",
   "version": "3.9.12"
  }
 },
 "nbformat": 4,
 "nbformat_minor": 5
}
