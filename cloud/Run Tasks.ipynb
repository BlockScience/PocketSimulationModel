{
 "cells": [
  {
   "cell_type": "code",
   "execution_count": 1,
   "id": "134cb37b",
   "metadata": {},
   "outputs": [
    {
     "name": "stdout",
     "output_type": "stream",
     "text": [
      "['gateway_viability_sweep_ag6_1', 'gateway_viability_sweep_ag6_2', 'gateway_viability_sweep_ag6_3', 'gateway_viability_sweep_ag6_4', 'gateway_viability_sweep_ag6_5', 'gateway_viability_sweep_ag6_6', 'gateway_viability_sweep_ag6_7', 'gateway_viability_sweep_ag6_8', 'gateway_viability_sweep_ag6_9', 'gateway_viability_sweep_ag6_10', 'gateway_viability_sweep_ag6_11', 'gateway_viability_sweep_ag6_12', 'gateway_viability_sweep_ag6_13', 'gateway_viability_sweep_ag6_14', 'gateway_viability_sweep_ag6_15', 'gateway_viability_sweep_ag6_16', 'gateway_viability_sweep_ag6_17', 'gateway_viability_sweep_ag6_18', 'gateway_viability_sweep_ag6_19', 'gateway_viability_sweep_ag6_20']\n",
      "[]\n",
      "['gateway_viability_sweep_ag6_21', 'gateway_viability_sweep_ag6_22', 'gateway_viability_sweep_ag6_23', 'gateway_viability_sweep_ag6_24', 'gateway_viability_sweep_ag6_25', 'gateway_viability_sweep_ag6_26', 'gateway_viability_sweep_ag6_27', 'gateway_viability_sweep_ag6_28', 'gateway_viability_sweep_ag6_29', 'gateway_viability_sweep_ag6_30', 'gateway_viability_sweep_ag6_31', 'gateway_viability_sweep_ag6_32', 'gateway_viability_sweep_ag6_33', 'gateway_viability_sweep_ag6_34', 'gateway_viability_sweep_ag6_35', 'gateway_viability_sweep_ag6_36', 'gateway_viability_sweep_ag6_37', 'gateway_viability_sweep_ag6_38', 'gateway_viability_sweep_ag6_39', 'gateway_viability_sweep_ag6_40']\n",
      "[]\n",
      "['gateway_viability_sweep_ag6_41', 'gateway_viability_sweep_ag6_42', 'gateway_viability_sweep_ag6_43', 'gateway_viability_sweep_ag6_44', 'gateway_viability_sweep_ag6_45', 'gateway_viability_sweep_ag6_46', 'gateway_viability_sweep_ag6_47', 'gateway_viability_sweep_ag6_48', 'gateway_viability_sweep_ag6_49', 'gateway_viability_sweep_ag6_50', 'gateway_viability_sweep_ag6_51', 'gateway_viability_sweep_ag6_52', 'gateway_viability_sweep_ag6_53', 'gateway_viability_sweep_ag6_54', 'gateway_viability_sweep_ag6_55', 'gateway_viability_sweep_ag6_56', 'gateway_viability_sweep_ag6_57', 'gateway_viability_sweep_ag6_58', 'gateway_viability_sweep_ag6_59', 'gateway_viability_sweep_ag6_60']\n",
      "[]\n",
      "['gateway_viability_sweep_ag6_61', 'gateway_viability_sweep_ag6_62', 'gateway_viability_sweep_ag6_63', 'gateway_viability_sweep_ag6_64', 'gateway_viability_sweep_ag6_65', 'gateway_viability_sweep_ag6_66', 'gateway_viability_sweep_ag6_67', 'gateway_viability_sweep_ag6_68', 'gateway_viability_sweep_ag6_69', 'gateway_viability_sweep_ag6_70', 'gateway_viability_sweep_ag6_71', 'gateway_viability_sweep_ag6_72', 'gateway_viability_sweep_ag6_73', 'gateway_viability_sweep_ag6_74', 'gateway_viability_sweep_ag6_75', 'gateway_viability_sweep_ag6_76', 'gateway_viability_sweep_ag6_77', 'gateway_viability_sweep_ag6_78', 'gateway_viability_sweep_ag6_79']\n",
      "[]\n",
      "['gateway_viability_sweep_ag6_80', 'gateway_viability_sweep_ag6_81', 'gateway_viability_sweep_ag6_82', 'gateway_viability_sweep_ag6_83', 'gateway_viability_sweep_ag6_84', 'gateway_viability_sweep_ag6_85', 'gateway_viability_sweep_ag6_86', 'gateway_viability_sweep_ag6_87', 'gateway_viability_sweep_ag6_88', 'gateway_viability_sweep_ag6_89', 'gateway_viability_sweep_ag6_90', 'gateway_viability_sweep_ag6_91', 'gateway_viability_sweep_ag6_92', 'gateway_viability_sweep_ag6_93', 'gateway_viability_sweep_ag6_94', 'gateway_viability_sweep_ag6_95', 'gateway_viability_sweep_ag6_96', 'gateway_viability_sweep_ag6_97', 'gateway_viability_sweep_ag6_98']\n",
      "[]\n",
      "['gateway_viability_sweep_ag6_99', 'gateway_viability_sweep_ag6_100', 'gateway_viability_sweep_ag6_101', 'gateway_viability_sweep_ag6_102', 'gateway_viability_sweep_ag6_103', 'gateway_viability_sweep_ag6_104', 'gateway_viability_sweep_ag6_105', 'gateway_viability_sweep_ag6_106', 'gateway_viability_sweep_ag6_107', 'gateway_viability_sweep_ag6_108', 'gateway_viability_sweep_ag6_109', 'gateway_viability_sweep_ag6_110', 'gateway_viability_sweep_ag6_111', 'gateway_viability_sweep_ag6_112', 'gateway_viability_sweep_ag6_113', 'gateway_viability_sweep_ag6_114', 'gateway_viability_sweep_ag6_115', 'gateway_viability_sweep_ag6_116', 'gateway_viability_sweep_ag6_117']\n",
      "[]\n",
      "['gateway_viability_sweep_ag6_118', 'gateway_viability_sweep_ag6_119', 'gateway_viability_sweep_ag6_120', 'gateway_viability_sweep_ag6_121', 'gateway_viability_sweep_ag6_122', 'gateway_viability_sweep_ag6_123', 'gateway_viability_sweep_ag6_124', 'gateway_viability_sweep_ag6_125', 'gateway_viability_sweep_ag6_126', 'gateway_viability_sweep_ag6_127', 'gateway_viability_sweep_ag6_128', 'gateway_viability_sweep_ag6_129', 'gateway_viability_sweep_ag6_130', 'gateway_viability_sweep_ag6_131', 'gateway_viability_sweep_ag6_132', 'gateway_viability_sweep_ag6_133', 'gateway_viability_sweep_ag6_134', 'gateway_viability_sweep_ag6_135', 'gateway_viability_sweep_ag6_136']\n",
      "[]\n",
      "['gateway_viability_sweep_ag6_137', 'gateway_viability_sweep_ag6_138', 'gateway_viability_sweep_ag6_139', 'gateway_viability_sweep_ag6_140', 'gateway_viability_sweep_ag6_141', 'gateway_viability_sweep_ag6_142', 'gateway_viability_sweep_ag6_143', 'gateway_viability_sweep_ag6_144', 'gateway_viability_sweep_ag6_145', 'gateway_viability_sweep_ag6_146', 'gateway_viability_sweep_ag6_147', 'gateway_viability_sweep_ag6_148', 'gateway_viability_sweep_ag6_149', 'gateway_viability_sweep_ag6_150', 'gateway_viability_sweep_ag6_151', 'gateway_viability_sweep_ag6_152', 'gateway_viability_sweep_ag6_153', 'gateway_viability_sweep_ag6_154', 'gateway_viability_sweep_ag6_155']\n",
      "[]\n",
      "['gateway_viability_sweep_ag6_156', 'gateway_viability_sweep_ag6_157', 'gateway_viability_sweep_ag6_158', 'gateway_viability_sweep_ag6_159', 'gateway_viability_sweep_ag6_160', 'gateway_viability_sweep_ag6_161', 'gateway_viability_sweep_ag6_162', 'gateway_viability_sweep_ag6_163', 'gateway_viability_sweep_ag6_164', 'gateway_viability_sweep_ag6_165', 'gateway_viability_sweep_ag6_166', 'gateway_viability_sweep_ag6_167', 'gateway_viability_sweep_ag6_168', 'gateway_viability_sweep_ag6_169', 'gateway_viability_sweep_ag6_170', 'gateway_viability_sweep_ag6_171', 'gateway_viability_sweep_ag6_172', 'gateway_viability_sweep_ag6_173', 'gateway_viability_sweep_ag6_174']\n",
      "[]\n",
      "['gateway_viability_sweep_ag6_175', 'gateway_viability_sweep_ag6_176', 'gateway_viability_sweep_ag6_177', 'gateway_viability_sweep_ag6_178', 'gateway_viability_sweep_ag6_179', 'gateway_viability_sweep_ag6_180', 'gateway_viability_sweep_ag6_181', 'gateway_viability_sweep_ag6_182', 'gateway_viability_sweep_ag6_183', 'gateway_viability_sweep_ag6_184', 'gateway_viability_sweep_ag6_185', 'gateway_viability_sweep_ag6_186', 'gateway_viability_sweep_ag6_187', 'gateway_viability_sweep_ag6_188', 'gateway_viability_sweep_ag6_189', 'gateway_viability_sweep_ag6_190', 'gateway_viability_sweep_ag6_191', 'gateway_viability_sweep_ag6_192', 'gateway_viability_sweep_ag6_193']\n",
      "[]\n",
      "['gateway_viability_sweep_ag6_194', 'gateway_viability_sweep_ag6_195', 'gateway_viability_sweep_ag6_196', 'gateway_viability_sweep_ag6_197', 'gateway_viability_sweep_ag6_198', 'gateway_viability_sweep_ag6_199', 'gateway_viability_sweep_ag6_200', 'gateway_viability_sweep_ag6_201', 'gateway_viability_sweep_ag6_202', 'gateway_viability_sweep_ag6_203', 'gateway_viability_sweep_ag6_204', 'gateway_viability_sweep_ag6_205', 'gateway_viability_sweep_ag6_206', 'gateway_viability_sweep_ag6_207', 'gateway_viability_sweep_ag6_208', 'gateway_viability_sweep_ag6_209', 'gateway_viability_sweep_ag6_210', 'gateway_viability_sweep_ag6_211', 'gateway_viability_sweep_ag6_212']\n",
      "[]\n",
      "['gateway_viability_sweep_ag6_213', 'gateway_viability_sweep_ag6_214', 'gateway_viability_sweep_ag6_215', 'gateway_viability_sweep_ag6_216', 'gateway_viability_sweep_ag6_217', 'gateway_viability_sweep_ag6_218', 'gateway_viability_sweep_ag6_219', 'gateway_viability_sweep_ag6_220', 'gateway_viability_sweep_ag6_221', 'gateway_viability_sweep_ag6_222', 'gateway_viability_sweep_ag6_223', 'gateway_viability_sweep_ag6_224', 'gateway_viability_sweep_ag6_225', 'gateway_viability_sweep_ag6_226', 'gateway_viability_sweep_ag6_227', 'gateway_viability_sweep_ag6_228', 'gateway_viability_sweep_ag6_229', 'gateway_viability_sweep_ag6_230', 'gateway_viability_sweep_ag6_231']\n",
      "[]\n",
      "\n",
      "\n",
      "['gateway_viability_sweep_ag6_232', 'gateway_viability_sweep_ag6_233', 'gateway_viability_sweep_ag6_234', 'gateway_viability_sweep_ag6_235', 'gateway_viability_sweep_ag6_236', 'gateway_viability_sweep_ag6_237', 'gateway_viability_sweep_ag6_238', 'gateway_viability_sweep_ag6_239', 'gateway_viability_sweep_ag6_240', 'gateway_viability_sweep_ag6_241', 'gateway_viability_sweep_ag6_242', 'gateway_viability_sweep_ag6_243', 'gateway_viability_sweep_ag6_244', 'gateway_viability_sweep_ag6_245', 'gateway_viability_sweep_ag6_246', 'gateway_viability_sweep_ag6_247', 'gateway_viability_sweep_ag6_248', 'gateway_viability_sweep_ag6_249', 'gateway_viability_sweep_ag6_250']\n"
     ]
    },
    {
     "name": "stdout",
     "output_type": "stream",
     "text": [
      "[]\n",
      "['gateway_viability_sweep_ag6_251', 'gateway_viability_sweep_ag6_252', 'gateway_viability_sweep_ag6_253', 'gateway_viability_sweep_ag6_254', 'gateway_viability_sweep_ag6_255', 'gateway_viability_sweep_ag6_256', 'gateway_viability_sweep_ag6_257', 'gateway_viability_sweep_ag6_258', 'gateway_viability_sweep_ag6_259', 'gateway_viability_sweep_ag6_260', 'gateway_viability_sweep_ag6_261', 'gateway_viability_sweep_ag6_262', 'gateway_viability_sweep_ag6_263', 'gateway_viability_sweep_ag6_264', 'gateway_viability_sweep_ag6_265', 'gateway_viability_sweep_ag6_266', 'gateway_viability_sweep_ag6_267', 'gateway_viability_sweep_ag6_268', 'gateway_viability_sweep_ag6_269']\n",
      "[]\n",
      "['gateway_viability_sweep_ag6_270', 'gateway_viability_sweep_ag6_271', 'gateway_viability_sweep_ag6_272', 'gateway_viability_sweep_ag6_273', 'gateway_viability_sweep_ag6_274', 'gateway_viability_sweep_ag6_275', 'gateway_viability_sweep_ag6_276', 'gateway_viability_sweep_ag6_277', 'gateway_viability_sweep_ag6_278', 'gateway_viability_sweep_ag6_279', 'gateway_viability_sweep_ag6_280', 'gateway_viability_sweep_ag6_281', 'gateway_viability_sweep_ag6_282', 'gateway_viability_sweep_ag6_283', 'gateway_viability_sweep_ag6_284', 'gateway_viability_sweep_ag6_285', 'gateway_viability_sweep_ag6_286', 'gateway_viability_sweep_ag6_287', 'gateway_viability_sweep_ag6_288']\n",
      "[]\n",
      "\n",
      "\n"
     ]
    }
   ],
   "source": [
    "import os\n",
    "import boto3\n",
    "os.chdir(\"..\")\n",
    "from cloud_utilities import create_expected_runs_dataframe, create_queue_experiments, run_tasks, create_expected_runs_dataframe_multi, queue_and_launch\n",
    "\n",
    "session = boto3.Session(profile_name=\"default\")\n",
    "s3 = session.client(\"s3\")\n",
    "ecs = boto3.client('ecs')\n",
    "\n",
    "runs = create_expected_runs_dataframe_multi(s3, [\"gateway_viability_sweep_ag6_\"])\n",
    "\n",
    "\"\"\"runs = create_expected_runs_dataframe_multi(s3, [\"gateway_viability_sweep_ag1_\",\n",
    "                                                \"network_failures_service_ag1_\",\n",
    "                                                \"servicer_viability_ag1_\",\n",
    "                                                \"network_viability_ag1_\",\n",
    "                                                \"network_failures_oracle_ag1_\"])\"\"\"\n",
    "queue_and_launch(runs, ecs, 20, 20)"
   ]
  },
  {
   "cell_type": "code",
   "execution_count": null,
   "id": "15e765c3",
   "metadata": {},
   "outputs": [],
   "source": []
  },
  {
   "cell_type": "code",
   "execution_count": null,
   "id": "049abaa1",
   "metadata": {},
   "outputs": [],
   "source": [
    "n = 70\n",
    "\n",
    "session = boto3.Session(profile_name=\"default\")\n",
    "s3 = session.client(\"s3\")\n",
    "ecs = boto3.client('ecs')\n",
    "\n",
    "runs = create_expected_runs_dataframe(s3, \"gateway_viability_sweep_ag1_\")\n",
    "if (~runs['Complete']).sum() > 0:\n",
    "    queue = create_queue_experiments(runs, n)\n",
    "    print(queue)\n",
    "    for q in queue:\n",
    "        run_tasks(ecs, list(q))\n",
    "\n",
    "runs = create_expected_runs_dataframe(s3, \"network_failures_service_ag1_\")\n",
    "if (~runs['Complete']).sum() > 0:\n",
    "    queue = create_queue_experiments(runs, n)\n",
    "    print(queue)\n",
    "    for q in queue:\n",
    "        run_tasks(ecs, list(q))\n",
    "\n",
    "runs = create_expected_runs_dataframe(s3, \"servicer_viability_ag1_\")\n",
    "if (~runs['Complete']).sum() > 0:\n",
    "    queue = create_queue_experiments(runs, n)\n",
    "    print(queue)\n",
    "    for q in queue:\n",
    "        run_tasks(ecs, list(q))\n",
    "\n",
    "runs = create_expected_runs_dataframe(s3, \"network_viability_ag1_\")\n",
    "if (~runs['Complete']).sum() > 0:\n",
    "    queue = create_queue_experiments(runs, n)\n",
    "    print(queue)\n",
    "    for q in queue:\n",
    "        run_tasks(ecs, list(q))\n",
    "        \n",
    "runs = create_expected_runs_dataframe(s3, \"network_failures_oracle_ag1_\")\n",
    "if (~runs['Complete']).sum() > 0:\n",
    "    queue = create_queue_experiments(runs, n)\n",
    "    print(queue)\n",
    "    for q in queue:\n",
    "        run_tasks(ecs, list(q))"
   ]
  },
  {
   "cell_type": "code",
   "execution_count": null,
   "id": "2f67b4dd",
   "metadata": {},
   "outputs": [],
   "source": []
  }
 ],
 "metadata": {
  "kernelspec": {
   "display_name": "Python 3 (ipykernel)",
   "language": "python",
   "name": "python3"
  },
  "language_info": {
   "codemirror_mode": {
    "name": "ipython",
    "version": 3
   },
   "file_extension": ".py",
   "mimetype": "text/x-python",
   "name": "python",
   "nbconvert_exporter": "python",
   "pygments_lexer": "ipython3",
   "version": "3.9.12"
  }
 },
 "nbformat": 4,
 "nbformat_minor": 5
}
