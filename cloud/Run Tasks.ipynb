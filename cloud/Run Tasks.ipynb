{
 "cells": [
  {
   "cell_type": "code",
   "execution_count": null,
   "id": "134cb37b",
   "metadata": {},
   "outputs": [
    {
     "name": "stdout",
     "output_type": "stream",
     "text": [
      "['network_failures_oracle_ag1_961', 'network_failures_oracle_ag1_962', 'network_failures_oracle_ag1_963', 'network_failures_oracle_ag1_964', 'network_failures_oracle_ag1_965', 'network_failures_oracle_ag1_966', 'network_failures_oracle_ag1_967', 'network_failures_oracle_ag1_968', 'network_failures_oracle_ag1_969', 'network_failures_oracle_ag1_970', 'network_failures_oracle_ag1_971', 'network_failures_oracle_ag1_972', 'network_failures_oracle_ag1_973', 'network_failures_oracle_ag1_974', 'network_failures_oracle_ag1_975', 'network_failures_oracle_ag1_976', 'network_failures_oracle_ag1_977', 'network_failures_oracle_ag1_978', 'network_failures_oracle_ag1_979', 'network_failures_oracle_ag1_980']\n",
      "[]\n",
      "['network_failures_oracle_ag1_981', 'network_failures_oracle_ag1_982', 'network_failures_oracle_ag1_983', 'network_failures_oracle_ag1_984', 'network_failures_oracle_ag1_985', 'network_failures_oracle_ag1_986', 'network_failures_oracle_ag1_987', 'network_failures_oracle_ag1_988', 'network_failures_oracle_ag1_989', 'network_failures_oracle_ag1_990', 'network_failures_oracle_ag1_991', 'network_failures_oracle_ag1_992', 'network_failures_oracle_ag1_993', 'network_failures_oracle_ag1_994', 'network_failures_oracle_ag1_995', 'network_failures_oracle_ag1_996', 'network_failures_oracle_ag1_997', 'network_failures_oracle_ag1_998', 'network_failures_oracle_ag1_999', 'network_failures_oracle_ag1_1000']\n",
      "[]\n",
      "['network_failures_oracle_ag1_1001', 'network_failures_oracle_ag1_1002', 'network_failures_oracle_ag1_1003', 'network_failures_oracle_ag1_1004', 'network_failures_oracle_ag1_1005', 'network_failures_oracle_ag1_1006', 'network_failures_oracle_ag1_1007', 'network_failures_oracle_ag1_1008', 'network_failures_oracle_ag1_1009', 'network_failures_oracle_ag1_1010', 'network_failures_oracle_ag1_1011', 'network_failures_oracle_ag1_1012', 'network_failures_oracle_ag1_1013', 'network_failures_oracle_ag1_1014', 'network_failures_oracle_ag1_1015', 'network_failures_oracle_ag1_1016', 'network_failures_oracle_ag1_1017', 'network_failures_oracle_ag1_1018', 'network_failures_oracle_ag1_1019', 'network_failures_oracle_ag1_1020']\n",
      "[]\n",
      "['network_failures_oracle_ag1_1021', 'network_failures_oracle_ag1_1022', 'network_failures_oracle_ag1_1023', 'network_failures_oracle_ag1_1024', 'network_failures_oracle_ag1_1025', 'network_failures_oracle_ag1_1026', 'network_failures_oracle_ag1_1027', 'network_failures_oracle_ag1_1028', 'network_failures_oracle_ag1_1029', 'network_failures_oracle_ag1_1030', 'network_failures_oracle_ag1_1031', 'network_failures_oracle_ag1_1032', 'network_failures_oracle_ag1_1033', 'network_failures_oracle_ag1_1034', 'network_failures_oracle_ag1_1035', 'network_failures_oracle_ag1_1036', 'network_failures_oracle_ag1_1037', 'network_failures_oracle_ag1_1038', 'network_failures_oracle_ag1_1039', 'network_failures_oracle_ag1_1040']\n",
      "[]\n",
      "['network_failures_oracle_ag1_1041', 'network_failures_oracle_ag1_1042', 'network_failures_oracle_ag1_1043', 'network_failures_oracle_ag1_1044', 'network_failures_oracle_ag1_1045', 'network_failures_oracle_ag1_1046', 'network_failures_oracle_ag1_1047', 'network_failures_oracle_ag1_1048', 'network_failures_oracle_ag1_1049', 'network_failures_oracle_ag1_1050', 'network_failures_oracle_ag1_1051', 'network_failures_oracle_ag1_1052', 'network_failures_oracle_ag1_1053', 'network_failures_oracle_ag1_1054', 'network_failures_oracle_ag1_1055', 'network_failures_oracle_ag1_1056', 'network_failures_oracle_ag1_1057', 'network_failures_oracle_ag1_1058', 'network_failures_oracle_ag1_1059', 'network_failures_oracle_ag1_1060']\n",
      "[]\n",
      "['network_failures_oracle_ag1_1061', 'network_failures_oracle_ag1_1062', 'network_failures_oracle_ag1_1063', 'network_failures_oracle_ag1_1064', 'network_failures_oracle_ag1_1065', 'network_failures_oracle_ag1_1066', 'network_failures_oracle_ag1_1067', 'network_failures_oracle_ag1_1068', 'network_failures_oracle_ag1_1069', 'network_failures_oracle_ag1_1070', 'network_failures_oracle_ag1_1071', 'network_failures_oracle_ag1_1072', 'network_failures_oracle_ag1_1073', 'network_failures_oracle_ag1_1074', 'network_failures_oracle_ag1_1075', 'network_failures_oracle_ag1_1076', 'network_failures_oracle_ag1_1077', 'network_failures_oracle_ag1_1078', 'network_failures_oracle_ag1_1079', 'network_failures_oracle_ag1_1080']\n",
      "[]\n",
      "['network_failures_oracle_ag1_1081', 'network_failures_oracle_ag1_1082', 'network_failures_oracle_ag1_1083', 'network_failures_oracle_ag1_1084', 'network_failures_oracle_ag1_1085', 'network_failures_oracle_ag1_1086', 'network_failures_oracle_ag1_1087', 'network_failures_oracle_ag1_1088', 'network_failures_oracle_ag1_1089', 'network_failures_oracle_ag1_1090', 'network_failures_oracle_ag1_1091', 'network_failures_oracle_ag1_1092', 'network_failures_oracle_ag1_1093', 'network_failures_oracle_ag1_1094', 'network_failures_oracle_ag1_1095', 'network_failures_oracle_ag1_1096', 'network_failures_oracle_ag1_1097', 'network_failures_oracle_ag1_1098', 'network_failures_oracle_ag1_1099', 'network_failures_oracle_ag1_1100']\n",
      "[]\n",
      "['network_failures_oracle_ag1_1101', 'network_failures_oracle_ag1_1102', 'network_failures_oracle_ag1_1103', 'network_failures_oracle_ag1_1104', 'network_failures_oracle_ag1_1105', 'network_failures_oracle_ag1_1106', 'network_failures_oracle_ag1_1107', 'network_failures_oracle_ag1_1108', 'network_failures_oracle_ag1_1109', 'network_failures_oracle_ag1_1110', 'network_failures_oracle_ag1_1111', 'network_failures_oracle_ag1_1112', 'network_failures_oracle_ag1_1113', 'network_failures_oracle_ag1_1114', 'network_failures_oracle_ag1_1115', 'network_failures_oracle_ag1_1116', 'network_failures_oracle_ag1_1117', 'network_failures_oracle_ag1_1118', 'network_failures_oracle_ag1_1119', 'network_failures_oracle_ag1_1120']\n",
      "[]\n",
      "['network_failures_oracle_ag1_1121', 'network_failures_oracle_ag1_1122', 'network_failures_oracle_ag1_1123', 'network_failures_oracle_ag1_1124', 'network_failures_oracle_ag1_1125', 'network_failures_oracle_ag1_1126', 'network_failures_oracle_ag1_1127', 'network_failures_oracle_ag1_1128', 'network_failures_oracle_ag1_1129', 'network_failures_oracle_ag1_1130', 'network_failures_oracle_ag1_1131', 'network_failures_oracle_ag1_1132', 'network_failures_oracle_ag1_1133', 'network_failures_oracle_ag1_1134', 'network_failures_oracle_ag1_1135', 'network_failures_oracle_ag1_1136', 'network_failures_oracle_ag1_1137', 'network_failures_oracle_ag1_1138', 'network_failures_oracle_ag1_1139', 'network_failures_oracle_ag1_1140']\n",
      "[]\n",
      "['network_failures_oracle_ag1_1141', 'network_failures_oracle_ag1_1142', 'network_failures_oracle_ag1_1143', 'network_failures_oracle_ag1_1144', 'network_failures_oracle_ag1_1145', 'network_failures_oracle_ag1_1146', 'network_failures_oracle_ag1_1147', 'network_failures_oracle_ag1_1148', 'network_failures_oracle_ag1_1149', 'network_failures_oracle_ag1_1150', 'network_failures_oracle_ag1_1151', 'network_failures_oracle_ag1_1152', 'network_failures_oracle_ag1_1153', 'network_failures_oracle_ag1_1154', 'network_failures_oracle_ag1_1155', 'network_failures_oracle_ag1_1156', 'network_failures_oracle_ag1_1157', 'network_failures_oracle_ag1_1158', 'network_failures_oracle_ag1_1159', 'network_failures_oracle_ag1_1160']\n",
      "[]\n",
      "['network_failures_oracle_ag1_1161', 'network_failures_oracle_ag1_1162', 'network_failures_oracle_ag1_1163', 'network_failures_oracle_ag1_1164', 'network_failures_oracle_ag1_1165', 'network_failures_oracle_ag1_1166', 'network_failures_oracle_ag1_1167', 'network_failures_oracle_ag1_1168', 'network_failures_oracle_ag1_1169', 'network_failures_oracle_ag1_1170', 'network_failures_oracle_ag1_1171', 'network_failures_oracle_ag1_1172', 'network_failures_oracle_ag1_1173', 'network_failures_oracle_ag1_1174', 'network_failures_oracle_ag1_1175', 'network_failures_oracle_ag1_1176', 'network_failures_oracle_ag1_1177', 'network_failures_oracle_ag1_1178', 'network_failures_oracle_ag1_1179', 'network_failures_oracle_ag1_1180']\n",
      "[]\n",
      "['network_failures_oracle_ag1_1181', 'network_failures_oracle_ag1_1182', 'network_failures_oracle_ag1_1183', 'network_failures_oracle_ag1_1184', 'network_failures_oracle_ag1_1185', 'network_failures_oracle_ag1_1186', 'network_failures_oracle_ag1_1187', 'network_failures_oracle_ag1_1188', 'network_failures_oracle_ag1_1189', 'network_failures_oracle_ag1_1190', 'network_failures_oracle_ag1_1191', 'network_failures_oracle_ag1_1192', 'network_failures_oracle_ag1_1193', 'network_failures_oracle_ag1_1194', 'network_failures_oracle_ag1_1195', 'network_failures_oracle_ag1_1196', 'network_failures_oracle_ag1_1197', 'network_failures_oracle_ag1_1198', 'network_failures_oracle_ag1_1199', 'network_failures_oracle_ag1_1200']\n"
     ]
    },
    {
     "name": "stdout",
     "output_type": "stream",
     "text": [
      "[]\n",
      "\n",
      "\n"
     ]
    }
   ],
   "source": [
    "import os\n",
    "import boto3\n",
    "os.chdir(\"..\")\n",
    "from cloud_utilities import create_expected_runs_dataframe, create_queue_experiments, run_tasks, create_expected_runs_dataframe_multi, queue_and_launch\n",
    "\n",
    "session = boto3.Session(profile_name=\"default\")\n",
    "s3 = session.client(\"s3\")\n",
    "ecs = boto3.client('ecs')\n",
    "\n",
    "#runs = create_expected_runs_dataframe_multi(s3, [\"gateway_viability_sweep_ag3_\"])\n",
    "\n",
    "runs = create_expected_runs_dataframe_multi(s3, [\"gateway_viability_sweep_ag1_\",\n",
    "                                                \"network_failures_service_ag1_\",\n",
    "                                                \"servicer_viability_ag1_\",\n",
    "                                                \"network_viability_ag1_\",\n",
    "                                                \"network_failures_oracle_ag1_\"])\n",
    "queue_and_launch(runs, ecs, 20, 20)"
   ]
  },
  {
   "cell_type": "code",
   "execution_count": null,
   "id": "15e765c3",
   "metadata": {},
   "outputs": [],
   "source": []
  },
  {
   "cell_type": "code",
   "execution_count": null,
   "id": "049abaa1",
   "metadata": {},
   "outputs": [],
   "source": [
    "n = 70\n",
    "\n",
    "session = boto3.Session(profile_name=\"default\")\n",
    "s3 = session.client(\"s3\")\n",
    "ecs = boto3.client('ecs')\n",
    "\n",
    "runs = create_expected_runs_dataframe(s3, \"gateway_viability_sweep_ag1_\")\n",
    "if (~runs['Complete']).sum() > 0:\n",
    "    queue = create_queue_experiments(runs, n)\n",
    "    print(queue)\n",
    "    for q in queue:\n",
    "        run_tasks(ecs, list(q))\n",
    "\n",
    "runs = create_expected_runs_dataframe(s3, \"network_failures_service_ag1_\")\n",
    "if (~runs['Complete']).sum() > 0:\n",
    "    queue = create_queue_experiments(runs, n)\n",
    "    print(queue)\n",
    "    for q in queue:\n",
    "        run_tasks(ecs, list(q))\n",
    "\n",
    "runs = create_expected_runs_dataframe(s3, \"servicer_viability_ag1_\")\n",
    "if (~runs['Complete']).sum() > 0:\n",
    "    queue = create_queue_experiments(runs, n)\n",
    "    print(queue)\n",
    "    for q in queue:\n",
    "        run_tasks(ecs, list(q))\n",
    "\n",
    "runs = create_expected_runs_dataframe(s3, \"network_viability_ag1_\")\n",
    "if (~runs['Complete']).sum() > 0:\n",
    "    queue = create_queue_experiments(runs, n)\n",
    "    print(queue)\n",
    "    for q in queue:\n",
    "        run_tasks(ecs, list(q))\n",
    "        \n",
    "runs = create_expected_runs_dataframe(s3, \"network_failures_oracle_ag1_\")\n",
    "if (~runs['Complete']).sum() > 0:\n",
    "    queue = create_queue_experiments(runs, n)\n",
    "    print(queue)\n",
    "    for q in queue:\n",
    "        run_tasks(ecs, list(q))"
   ]
  },
  {
   "cell_type": "code",
   "execution_count": null,
   "id": "2f67b4dd",
   "metadata": {},
   "outputs": [],
   "source": []
  }
 ],
 "metadata": {
  "kernelspec": {
   "display_name": "Python 3 (ipykernel)",
   "language": "python",
   "name": "python3"
  },
  "language_info": {
   "codemirror_mode": {
    "name": "ipython",
    "version": 3
   },
   "file_extension": ".py",
   "mimetype": "text/x-python",
   "name": "python",
   "nbconvert_exporter": "python",
   "pygments_lexer": "ipython3",
   "version": "3.9.12"
  }
 },
 "nbformat": 4,
 "nbformat_minor": 5
}
