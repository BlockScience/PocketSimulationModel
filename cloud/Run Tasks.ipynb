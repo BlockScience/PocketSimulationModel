{
 "cells": [
  {
   "cell_type": "code",
   "execution_count": 1,
   "id": "134cb37b",
   "metadata": {},
   "outputs": [
    {
     "name": "stdout",
     "output_type": "stream",
     "text": [
      "[array(['gateway_viability_sweep_ag1_145',\n",
      "       'gateway_viability_sweep_ag1_146',\n",
      "       'gateway_viability_sweep_ag1_147',\n",
      "       'gateway_viability_sweep_ag1_148',\n",
      "       'gateway_viability_sweep_ag1_149',\n",
      "       'gateway_viability_sweep_ag1_150',\n",
      "       'gateway_viability_sweep_ag1_151',\n",
      "       'gateway_viability_sweep_ag1_152',\n",
      "       'gateway_viability_sweep_ag1_153',\n",
      "       'gateway_viability_sweep_ag1_154',\n",
      "       'gateway_viability_sweep_ag1_155',\n",
      "       'gateway_viability_sweep_ag1_156',\n",
      "       'gateway_viability_sweep_ag1_157',\n",
      "       'gateway_viability_sweep_ag1_158',\n",
      "       'gateway_viability_sweep_ag1_159',\n",
      "       'gateway_viability_sweep_ag1_160',\n",
      "       'gateway_viability_sweep_ag1_161',\n",
      "       'gateway_viability_sweep_ag1_162',\n",
      "       'gateway_viability_sweep_ag1_163',\n",
      "       'gateway_viability_sweep_ag1_164',\n",
      "       'gateway_viability_sweep_ag1_165',\n",
      "       'gateway_viability_sweep_ag1_166',\n",
      "       'gateway_viability_sweep_ag1_167',\n",
      "       'gateway_viability_sweep_ag1_168',\n",
      "       'gateway_viability_sweep_ag1_169',\n",
      "       'gateway_viability_sweep_ag1_170',\n",
      "       'gateway_viability_sweep_ag1_171',\n",
      "       'gateway_viability_sweep_ag1_172',\n",
      "       'gateway_viability_sweep_ag1_173',\n",
      "       'gateway_viability_sweep_ag1_174',\n",
      "       'gateway_viability_sweep_ag1_175',\n",
      "       'gateway_viability_sweep_ag1_176',\n",
      "       'gateway_viability_sweep_ag1_177',\n",
      "       'gateway_viability_sweep_ag1_178',\n",
      "       'gateway_viability_sweep_ag1_179',\n",
      "       'gateway_viability_sweep_ag1_180',\n",
      "       'gateway_viability_sweep_ag1_181',\n",
      "       'gateway_viability_sweep_ag1_182',\n",
      "       'gateway_viability_sweep_ag1_183',\n",
      "       'gateway_viability_sweep_ag1_184',\n",
      "       'gateway_viability_sweep_ag1_185',\n",
      "       'gateway_viability_sweep_ag1_186',\n",
      "       'gateway_viability_sweep_ag1_187',\n",
      "       'gateway_viability_sweep_ag1_188',\n",
      "       'gateway_viability_sweep_ag1_189',\n",
      "       'gateway_viability_sweep_ag1_190',\n",
      "       'gateway_viability_sweep_ag1_191',\n",
      "       'gateway_viability_sweep_ag1_192'], dtype=object)]\n"
     ]
    }
   ],
   "source": [
    "import os\n",
    "import boto3\n",
    "os.chdir(\"..\")\n",
    "from cloud_utilities import create_expected_runs_dataframe, create_queue_experiments, run_tasks\n",
    "\n",
    "session = boto3.Session(profile_name=\"default\")\n",
    "s3 = session.client(\"s3\")\n",
    "ecs = boto3.client('ecs')\n",
    "\n",
    "runs = create_expected_runs_dataframe(s3, \"gateway_viability_sweep_ag1_\")\n",
    "if (~runs['Complete']).sum() > 0:\n",
    "    queue = create_queue_experiments(runs, 50)\n",
    "    print(queue)\n",
    "    for q in queue:\n",
    "        run_tasks(ecs, list(q))\n",
    "\n",
    "runs = create_expected_runs_dataframe(s3, \"network_failures_service_ag1_\")\n",
    "if (~runs['Complete']).sum() > 0:\n",
    "    queue = create_queue_experiments(runs, 50)\n",
    "    print(queue)\n",
    "    for q in queue:\n",
    "        run_tasks(ecs, list(q))"
   ]
  },
  {
   "cell_type": "code",
   "execution_count": null,
   "id": "b65954ac",
   "metadata": {},
   "outputs": [],
   "source": []
  },
  {
   "cell_type": "code",
   "execution_count": null,
   "id": "b2f54579",
   "metadata": {},
   "outputs": [],
   "source": []
  }
 ],
 "metadata": {
  "kernelspec": {
   "display_name": "Python 3 (ipykernel)",
   "language": "python",
   "name": "python3"
  },
  "language_info": {
   "codemirror_mode": {
    "name": "ipython",
    "version": 3
   },
   "file_extension": ".py",
   "mimetype": "text/x-python",
   "name": "python",
   "nbconvert_exporter": "python",
   "pygments_lexer": "ipython3",
   "version": "3.9.12"
  }
 },
 "nbformat": 4,
 "nbformat_minor": 5
}
