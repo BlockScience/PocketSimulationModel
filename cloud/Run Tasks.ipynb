{
 "cells": [
  {
   "cell_type": "code",
   "execution_count": null,
   "id": "134cb37b",
   "metadata": {},
   "outputs": [
    {
     "name": "stdout",
     "output_type": "stream",
     "text": [
      "['gateway_viability_sweep_ag1_1', 'gateway_viability_sweep_ag1_2', 'gateway_viability_sweep_ag1_3', 'gateway_viability_sweep_ag1_4', 'gateway_viability_sweep_ag1_5', 'gateway_viability_sweep_ag1_6', 'gateway_viability_sweep_ag1_7', 'gateway_viability_sweep_ag1_8', 'gateway_viability_sweep_ag1_9', 'gateway_viability_sweep_ag1_10', 'gateway_viability_sweep_ag1_11', 'gateway_viability_sweep_ag1_12', 'gateway_viability_sweep_ag1_13', 'gateway_viability_sweep_ag1_14', 'gateway_viability_sweep_ag1_15', 'gateway_viability_sweep_ag1_16', 'gateway_viability_sweep_ag1_17', 'gateway_viability_sweep_ag1_18', 'gateway_viability_sweep_ag1_19', 'gateway_viability_sweep_ag1_20']\n",
      "[]\n",
      "['gateway_viability_sweep_ag1_21', 'gateway_viability_sweep_ag1_22', 'gateway_viability_sweep_ag1_23', 'gateway_viability_sweep_ag1_24', 'gateway_viability_sweep_ag1_25', 'gateway_viability_sweep_ag1_26', 'gateway_viability_sweep_ag1_27', 'gateway_viability_sweep_ag1_28', 'gateway_viability_sweep_ag1_29', 'gateway_viability_sweep_ag1_30', 'gateway_viability_sweep_ag1_31', 'gateway_viability_sweep_ag1_32', 'gateway_viability_sweep_ag1_33', 'gateway_viability_sweep_ag1_34', 'gateway_viability_sweep_ag1_35', 'gateway_viability_sweep_ag1_36', 'gateway_viability_sweep_ag1_37', 'gateway_viability_sweep_ag1_38', 'gateway_viability_sweep_ag1_39', 'gateway_viability_sweep_ag1_40']\n",
      "[]\n",
      "['gateway_viability_sweep_ag1_41', 'gateway_viability_sweep_ag1_42', 'gateway_viability_sweep_ag1_43', 'gateway_viability_sweep_ag1_44', 'gateway_viability_sweep_ag1_45', 'gateway_viability_sweep_ag1_46', 'gateway_viability_sweep_ag1_47', 'gateway_viability_sweep_ag1_48', 'gateway_viability_sweep_ag1_49', 'gateway_viability_sweep_ag1_50', 'gateway_viability_sweep_ag1_51', 'gateway_viability_sweep_ag1_52', 'gateway_viability_sweep_ag1_53', 'gateway_viability_sweep_ag1_54', 'gateway_viability_sweep_ag1_55', 'gateway_viability_sweep_ag1_56', 'gateway_viability_sweep_ag1_57', 'gateway_viability_sweep_ag1_58', 'gateway_viability_sweep_ag1_59', 'gateway_viability_sweep_ag1_60']\n",
      "[]\n",
      "['gateway_viability_sweep_ag1_61', 'gateway_viability_sweep_ag1_62', 'gateway_viability_sweep_ag1_63', 'gateway_viability_sweep_ag1_64', 'gateway_viability_sweep_ag1_65', 'gateway_viability_sweep_ag1_66', 'gateway_viability_sweep_ag1_67', 'gateway_viability_sweep_ag1_68', 'gateway_viability_sweep_ag1_69', 'gateway_viability_sweep_ag1_70', 'gateway_viability_sweep_ag1_71', 'gateway_viability_sweep_ag1_72', 'gateway_viability_sweep_ag1_73', 'gateway_viability_sweep_ag1_74', 'gateway_viability_sweep_ag1_75', 'gateway_viability_sweep_ag1_76', 'gateway_viability_sweep_ag1_77', 'gateway_viability_sweep_ag1_78', 'gateway_viability_sweep_ag1_79']\n",
      "[]\n",
      "['gateway_viability_sweep_ag1_80', 'gateway_viability_sweep_ag1_81', 'gateway_viability_sweep_ag1_82', 'gateway_viability_sweep_ag1_83', 'gateway_viability_sweep_ag1_84', 'gateway_viability_sweep_ag1_85', 'gateway_viability_sweep_ag1_86', 'gateway_viability_sweep_ag1_87', 'gateway_viability_sweep_ag1_88', 'gateway_viability_sweep_ag1_89', 'gateway_viability_sweep_ag1_90', 'gateway_viability_sweep_ag1_91', 'gateway_viability_sweep_ag1_92', 'gateway_viability_sweep_ag1_93', 'gateway_viability_sweep_ag1_94', 'gateway_viability_sweep_ag1_95', 'gateway_viability_sweep_ag1_96', 'gateway_viability_sweep_ag1_97', 'gateway_viability_sweep_ag1_98']\n",
      "[]\n",
      "['gateway_viability_sweep_ag1_99', 'gateway_viability_sweep_ag1_100', 'gateway_viability_sweep_ag1_101', 'gateway_viability_sweep_ag1_102', 'gateway_viability_sweep_ag1_103', 'gateway_viability_sweep_ag1_104', 'gateway_viability_sweep_ag1_105', 'gateway_viability_sweep_ag1_106', 'gateway_viability_sweep_ag1_107', 'gateway_viability_sweep_ag1_108', 'gateway_viability_sweep_ag1_109', 'gateway_viability_sweep_ag1_110', 'gateway_viability_sweep_ag1_111', 'gateway_viability_sweep_ag1_112', 'gateway_viability_sweep_ag1_113', 'gateway_viability_sweep_ag1_114', 'gateway_viability_sweep_ag1_115', 'gateway_viability_sweep_ag1_116', 'gateway_viability_sweep_ag1_117']\n",
      "[]\n",
      "['gateway_viability_sweep_ag1_118', 'gateway_viability_sweep_ag1_119', 'gateway_viability_sweep_ag1_120', 'gateway_viability_sweep_ag1_121', 'gateway_viability_sweep_ag1_122', 'gateway_viability_sweep_ag1_123', 'gateway_viability_sweep_ag1_124', 'gateway_viability_sweep_ag1_125', 'gateway_viability_sweep_ag1_126', 'gateway_viability_sweep_ag1_127', 'gateway_viability_sweep_ag1_128', 'gateway_viability_sweep_ag1_129', 'gateway_viability_sweep_ag1_130', 'gateway_viability_sweep_ag1_131', 'gateway_viability_sweep_ag1_132', 'gateway_viability_sweep_ag1_133', 'gateway_viability_sweep_ag1_134', 'gateway_viability_sweep_ag1_135', 'gateway_viability_sweep_ag1_136']\n",
      "[]\n",
      "['gateway_viability_sweep_ag1_137', 'gateway_viability_sweep_ag1_138', 'gateway_viability_sweep_ag1_139', 'gateway_viability_sweep_ag1_140', 'gateway_viability_sweep_ag1_141', 'gateway_viability_sweep_ag1_142', 'gateway_viability_sweep_ag1_143', 'gateway_viability_sweep_ag1_144', 'gateway_viability_sweep_ag1_145', 'gateway_viability_sweep_ag1_146', 'gateway_viability_sweep_ag1_147', 'gateway_viability_sweep_ag1_148', 'gateway_viability_sweep_ag1_149', 'gateway_viability_sweep_ag1_150', 'gateway_viability_sweep_ag1_151', 'gateway_viability_sweep_ag1_152', 'gateway_viability_sweep_ag1_153', 'gateway_viability_sweep_ag1_154', 'gateway_viability_sweep_ag1_155']\n",
      "[]\n",
      "['gateway_viability_sweep_ag1_156', 'gateway_viability_sweep_ag1_157', 'gateway_viability_sweep_ag1_158', 'gateway_viability_sweep_ag1_159', 'gateway_viability_sweep_ag1_160', 'gateway_viability_sweep_ag1_161', 'gateway_viability_sweep_ag1_162', 'gateway_viability_sweep_ag1_163', 'gateway_viability_sweep_ag1_164', 'gateway_viability_sweep_ag1_165', 'gateway_viability_sweep_ag1_166', 'gateway_viability_sweep_ag1_167', 'gateway_viability_sweep_ag1_168', 'gateway_viability_sweep_ag1_169', 'gateway_viability_sweep_ag1_170', 'gateway_viability_sweep_ag1_171', 'gateway_viability_sweep_ag1_172', 'gateway_viability_sweep_ag1_173', 'gateway_viability_sweep_ag1_174']\n",
      "[]\n",
      "['gateway_viability_sweep_ag1_175', 'gateway_viability_sweep_ag1_176', 'gateway_viability_sweep_ag1_177', 'gateway_viability_sweep_ag1_178', 'gateway_viability_sweep_ag1_179', 'gateway_viability_sweep_ag1_180', 'gateway_viability_sweep_ag1_181', 'gateway_viability_sweep_ag1_182', 'gateway_viability_sweep_ag1_183', 'gateway_viability_sweep_ag1_184', 'gateway_viability_sweep_ag1_185', 'gateway_viability_sweep_ag1_186', 'gateway_viability_sweep_ag1_187', 'gateway_viability_sweep_ag1_188', 'gateway_viability_sweep_ag1_189', 'gateway_viability_sweep_ag1_190', 'gateway_viability_sweep_ag1_191', 'gateway_viability_sweep_ag1_192', 'gateway_viability_sweep_ag1_193']\n",
      "[]\n",
      "['gateway_viability_sweep_ag1_194', 'gateway_viability_sweep_ag1_195', 'gateway_viability_sweep_ag1_196', 'gateway_viability_sweep_ag1_197', 'gateway_viability_sweep_ag1_198', 'gateway_viability_sweep_ag1_199', 'gateway_viability_sweep_ag1_200', 'gateway_viability_sweep_ag1_201', 'gateway_viability_sweep_ag1_202', 'gateway_viability_sweep_ag1_203', 'gateway_viability_sweep_ag1_204', 'gateway_viability_sweep_ag1_205', 'gateway_viability_sweep_ag1_206', 'gateway_viability_sweep_ag1_207', 'gateway_viability_sweep_ag1_208', 'gateway_viability_sweep_ag1_209', 'gateway_viability_sweep_ag1_210', 'gateway_viability_sweep_ag1_211', 'gateway_viability_sweep_ag1_212']\n",
      "[]\n",
      "['gateway_viability_sweep_ag1_213', 'gateway_viability_sweep_ag1_214', 'gateway_viability_sweep_ag1_215', 'gateway_viability_sweep_ag1_216', 'gateway_viability_sweep_ag1_217', 'gateway_viability_sweep_ag1_218', 'gateway_viability_sweep_ag1_219', 'gateway_viability_sweep_ag1_220', 'gateway_viability_sweep_ag1_221', 'gateway_viability_sweep_ag1_222', 'gateway_viability_sweep_ag1_223', 'gateway_viability_sweep_ag1_224', 'gateway_viability_sweep_ag1_225', 'gateway_viability_sweep_ag1_226', 'gateway_viability_sweep_ag1_227', 'gateway_viability_sweep_ag1_228', 'gateway_viability_sweep_ag1_229', 'gateway_viability_sweep_ag1_230', 'gateway_viability_sweep_ag1_231']\n",
      "[]\n",
      "\n",
      "\n",
      "['gateway_viability_sweep_ag1_232', 'gateway_viability_sweep_ag1_233', 'gateway_viability_sweep_ag1_234', 'gateway_viability_sweep_ag1_235', 'gateway_viability_sweep_ag1_236', 'gateway_viability_sweep_ag1_237', 'gateway_viability_sweep_ag1_238', 'gateway_viability_sweep_ag1_239', 'gateway_viability_sweep_ag1_240', 'gateway_viability_sweep_ag1_241', 'gateway_viability_sweep_ag1_242', 'gateway_viability_sweep_ag1_243', 'gateway_viability_sweep_ag1_244', 'gateway_viability_sweep_ag1_245', 'gateway_viability_sweep_ag1_246', 'gateway_viability_sweep_ag1_247', 'gateway_viability_sweep_ag1_248', 'gateway_viability_sweep_ag1_249', 'gateway_viability_sweep_ag1_250']\n"
     ]
    },
    {
     "name": "stdout",
     "output_type": "stream",
     "text": [
      "[]\n",
      "['gateway_viability_sweep_ag1_251', 'gateway_viability_sweep_ag1_252', 'gateway_viability_sweep_ag1_253', 'gateway_viability_sweep_ag1_254', 'gateway_viability_sweep_ag1_255', 'gateway_viability_sweep_ag1_256', 'gateway_viability_sweep_ag1_257', 'gateway_viability_sweep_ag1_258', 'gateway_viability_sweep_ag1_259', 'gateway_viability_sweep_ag1_260', 'gateway_viability_sweep_ag1_261', 'gateway_viability_sweep_ag1_262', 'gateway_viability_sweep_ag1_263', 'gateway_viability_sweep_ag1_264', 'gateway_viability_sweep_ag1_265', 'gateway_viability_sweep_ag1_266', 'gateway_viability_sweep_ag1_267', 'gateway_viability_sweep_ag1_268', 'gateway_viability_sweep_ag1_269']\n",
      "[]\n",
      "['gateway_viability_sweep_ag1_270', 'gateway_viability_sweep_ag1_271', 'gateway_viability_sweep_ag1_272', 'gateway_viability_sweep_ag1_273', 'gateway_viability_sweep_ag1_274', 'gateway_viability_sweep_ag1_275', 'gateway_viability_sweep_ag1_276', 'gateway_viability_sweep_ag1_277', 'gateway_viability_sweep_ag1_278', 'gateway_viability_sweep_ag1_279', 'gateway_viability_sweep_ag1_280', 'gateway_viability_sweep_ag1_281', 'gateway_viability_sweep_ag1_282', 'gateway_viability_sweep_ag1_283', 'gateway_viability_sweep_ag1_284', 'gateway_viability_sweep_ag1_285', 'gateway_viability_sweep_ag1_286', 'gateway_viability_sweep_ag1_287', 'gateway_viability_sweep_ag1_288']\n",
      "[]\n",
      "\n",
      "\n"
     ]
    }
   ],
   "source": [
    "import os\n",
    "import boto3\n",
    "os.chdir(\"..\")\n",
    "from cloud_utilities import create_expected_runs_dataframe, create_queue_experiments, run_tasks, create_expected_runs_dataframe_multi, queue_and_launch\n",
    "\n",
    "session = boto3.Session(profile_name=\"default\")\n",
    "s3 = session.client(\"s3\")\n",
    "ecs = boto3.client('ecs')\n",
    "\n",
    "runs = create_expected_runs_dataframe_multi(s3, [\"gateway_viability_sweep_ag1_\"])\n",
    "#runs = create_expected_runs_dataframe_multi(s3, [\"network_failures_service_ag1_\",\n",
    "#                                                \"gateway_viability_sweep_ag1_\",\n",
    "#                                                \"servicer_viability_ag1_\",\n",
    "#                                                \"network_viability_ag1_\",\n",
    "#                                                \"network_failures_oracle_ag1_\"])\n",
    "queue_and_launch(runs, ecs, 20, 20)"
   ]
  },
  {
   "cell_type": "code",
   "execution_count": null,
   "id": "15e765c3",
   "metadata": {},
   "outputs": [],
   "source": []
  },
  {
   "cell_type": "code",
   "execution_count": null,
   "id": "049abaa1",
   "metadata": {},
   "outputs": [],
   "source": [
    "n = 70\n",
    "\n",
    "session = boto3.Session(profile_name=\"default\")\n",
    "s3 = session.client(\"s3\")\n",
    "ecs = boto3.client('ecs')\n",
    "\n",
    "runs = create_expected_runs_dataframe(s3, \"gateway_viability_sweep_ag1_\")\n",
    "if (~runs['Complete']).sum() > 0:\n",
    "    queue = create_queue_experiments(runs, n)\n",
    "    print(queue)\n",
    "    for q in queue:\n",
    "        run_tasks(ecs, list(q))\n",
    "\n",
    "runs = create_expected_runs_dataframe(s3, \"network_failures_service_ag1_\")\n",
    "if (~runs['Complete']).sum() > 0:\n",
    "    queue = create_queue_experiments(runs, n)\n",
    "    print(queue)\n",
    "    for q in queue:\n",
    "        run_tasks(ecs, list(q))\n",
    "\n",
    "runs = create_expected_runs_dataframe(s3, \"servicer_viability_ag1_\")\n",
    "if (~runs['Complete']).sum() > 0:\n",
    "    queue = create_queue_experiments(runs, n)\n",
    "    print(queue)\n",
    "    for q in queue:\n",
    "        run_tasks(ecs, list(q))\n",
    "\n",
    "runs = create_expected_runs_dataframe(s3, \"network_viability_ag1_\")\n",
    "if (~runs['Complete']).sum() > 0:\n",
    "    queue = create_queue_experiments(runs, n)\n",
    "    print(queue)\n",
    "    for q in queue:\n",
    "        run_tasks(ecs, list(q))\n",
    "        \n",
    "runs = create_expected_runs_dataframe(s3, \"network_failures_oracle_ag1_\")\n",
    "if (~runs['Complete']).sum() > 0:\n",
    "    queue = create_queue_experiments(runs, n)\n",
    "    print(queue)\n",
    "    for q in queue:\n",
    "        run_tasks(ecs, list(q))"
   ]
  },
  {
   "cell_type": "code",
   "execution_count": null,
   "id": "2f67b4dd",
   "metadata": {},
   "outputs": [],
   "source": []
  }
 ],
 "metadata": {
  "kernelspec": {
   "display_name": "Python 3 (ipykernel)",
   "language": "python",
   "name": "python3"
  },
  "language_info": {
   "codemirror_mode": {
    "name": "ipython",
    "version": 3
   },
   "file_extension": ".py",
   "mimetype": "text/x-python",
   "name": "python",
   "nbconvert_exporter": "python",
   "pygments_lexer": "ipython3",
   "version": "3.9.12"
  }
 },
 "nbformat": 4,
 "nbformat_minor": 5
}
