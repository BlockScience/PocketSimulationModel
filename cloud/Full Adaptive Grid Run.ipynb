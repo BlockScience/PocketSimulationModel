{
 "cells": [
  {
   "cell_type": "code",
   "execution_count": 1,
   "id": "02ded797",
   "metadata": {
    "scrolled": false
   },
   "outputs": [
    {
     "name": "stderr",
     "output_type": "stream",
     "text": [
      "/Users/seanmcowen/opt/anaconda3/envs/BlockScience/lib/python3.9/site-packages/tqdm/auto.py:22: TqdmWarning: IProgress not found. Please update jupyter and ipywidgets. See https://ipywidgets.readthedocs.io/en/stable/user_install.html\n",
      "  from .autonotebook import tqdm as notebook_tqdm\n"
     ]
    },
    {
     "name": "stdout",
     "output_type": "stream",
     "text": [
      "-----Creating Expected Runs Dataframe-----\n",
      "-----Launching Containers-----\n",
      "['network_failures_service_ag6_1', 'network_failures_service_ag6_2', 'network_failures_service_ag6_3', 'network_failures_service_ag6_4', 'network_failures_service_ag6_5', 'network_failures_service_ag6_6', 'network_failures_service_ag6_7', 'network_failures_service_ag6_8', 'network_failures_service_ag6_9', 'network_failures_service_ag6_10', 'network_failures_service_ag6_11', 'network_failures_service_ag6_12', 'network_failures_service_ag6_13', 'network_failures_service_ag6_14', 'network_failures_service_ag6_15', 'network_failures_service_ag6_16', 'network_failures_service_ag6_17', 'network_failures_service_ag6_18', 'network_failures_service_ag6_19', 'network_failures_service_ag6_20']\n",
      "[]\n",
      "['network_failures_service_ag6_21', 'network_failures_service_ag6_22', 'network_failures_service_ag6_23', 'network_failures_service_ag6_24', 'network_failures_service_ag6_25', 'network_failures_service_ag6_26', 'network_failures_service_ag6_27', 'network_failures_service_ag6_28', 'network_failures_service_ag6_29', 'network_failures_service_ag6_30', 'network_failures_service_ag6_31', 'network_failures_service_ag6_32', 'network_failures_service_ag6_33', 'network_failures_service_ag6_34', 'network_failures_service_ag6_35', 'network_failures_service_ag6_36', 'network_failures_service_ag6_37', 'network_failures_service_ag6_38', 'network_failures_service_ag6_39']\n",
      "[]\n",
      "['network_failures_service_ag6_40', 'network_failures_service_ag6_41', 'network_failures_service_ag6_42', 'network_failures_service_ag6_43', 'network_failures_service_ag6_44', 'network_failures_service_ag6_45', 'network_failures_service_ag6_46', 'network_failures_service_ag6_47', 'network_failures_service_ag6_48', 'network_failures_service_ag6_49', 'network_failures_service_ag6_50', 'network_failures_service_ag6_51', 'network_failures_service_ag6_52', 'network_failures_service_ag6_53', 'network_failures_service_ag6_54', 'network_failures_service_ag6_55', 'network_failures_service_ag6_56', 'network_failures_service_ag6_57', 'network_failures_service_ag6_58']\n",
      "[]\n",
      "['network_failures_service_ag6_59', 'network_failures_service_ag6_60', 'network_failures_service_ag6_61', 'network_failures_service_ag6_62', 'network_failures_service_ag6_63', 'network_failures_service_ag6_64', 'network_failures_service_ag6_65', 'network_failures_service_ag6_66', 'network_failures_service_ag6_67', 'network_failures_service_ag6_68', 'network_failures_service_ag6_69', 'network_failures_service_ag6_70', 'network_failures_service_ag6_71', 'network_failures_service_ag6_72', 'network_failures_service_ag6_73', 'network_failures_service_ag6_74', 'network_failures_service_ag6_75', 'network_failures_service_ag6_76', 'network_failures_service_ag6_77']\n",
      "[]\n",
      "['network_failures_service_ag6_78', 'network_failures_service_ag6_79', 'network_failures_service_ag6_80', 'network_failures_service_ag6_81', 'network_failures_service_ag6_82', 'network_failures_service_ag6_83', 'network_failures_service_ag6_84', 'network_failures_service_ag6_85', 'network_failures_service_ag6_86', 'network_failures_service_ag6_87', 'network_failures_service_ag6_88', 'network_failures_service_ag6_89', 'network_failures_service_ag6_90', 'network_failures_service_ag6_91', 'network_failures_service_ag6_92', 'network_failures_service_ag6_93', 'network_failures_service_ag6_94', 'network_failures_service_ag6_95', 'network_failures_service_ag6_96']\n",
      "[]\n",
      "\n",
      "\n",
      "-----Downloading KPIs-----\n",
      "-----Determining Next Grids-----\n",
      "\n",
      "network_failures_service_ag6_\n",
      "\n",
      "Current Threshold Passing Percents:\n",
      "servicer_slashing_cost_success    1.0\n",
      "servicer_jailing_cost_success     1.0\n",
      "network_load_balancing_success    0.0\n",
      "dtype: float64\n",
      "\n",
      "Found 0% passing columns, backing those off with scoring...\n",
      "\n",
      "New Threshold Values Average:\n",
      "servicer_slashing_cost_success    1.000000\n",
      "servicer_jailing_cost_success     1.000000\n",
      "network_load_balancing_success    0.552083\n",
      "dtype: float64\n",
      "\n",
      "Add the following to model/config/params.py:\n",
      "\n",
      "network_failures_service_ag7_ = build_params(\"Base\")\n",
      "network_failures_service_ag7_[\"slash_fraction_downtime\"] = [0.053125000046874996, 0.0546875000453125]\n",
      "network_failures_service_ag7_[\"downtime_jail_duration\"] = [20716875000000.0, 21165937500000.0]\n",
      "network_failures_service_ag7_[\"max_chains_servicer\"] = [15.84375, 16.140625]\n",
      "network_failures_service_ag7_[\"servicer_service_density_starting\"] = [0.1, 0.5, 1]\n",
      "network_failures_service_ag7_[\"event\"] = ['servicer_shutdown_by_geozone_random', 'service_shutdown_random_t1', 'service_shutdown_random_t7', 'service_shutdown_random_t500']\n",
      "create_sweep(\"network_failures_service_ag7_\",network_failures_service_ag7_,config_option_map_sweep)\n",
      "\n",
      "\n",
      "Add the following to model/config/experiment.py:\n",
      "\n",
      "for i in range(1, 97):\n",
      "    experimental_setups[\"network_failures_service_ag7_{}\".format(i)] = {\n",
      "        \"config_option_state\": \"Base\",\n",
      "        \"config_option_params\": \"network_failures_service_ag7_{}\".format(i),\n",
      "        \"monte_carlo_n\": 5,\n",
      "        \"T\": 365,\n",
      "    }\n",
      "\n",
      "\n",
      "Add the following to GRID_NUMBERS in cloud_utility.py\n",
      "\"network_failures_service_ag7_\": 96\n",
      "\n",
      "Don't forget to rebuild and upload the docker container to AWS!\n"
     ]
    }
   ],
   "source": [
    "import os\n",
    "os.chdir(\"..\")\n",
    "from cloud_utilities import full_run_adaptive_grid\n",
    "full_run_adaptive_grid([\"network_failures_service_ag6_\"])"
   ]
  },
  {
   "cell_type": "code",
   "execution_count": null,
   "id": "827c57b2",
   "metadata": {},
   "outputs": [],
   "source": []
  }
 ],
 "metadata": {
  "kernelspec": {
   "display_name": "Python 3 (ipykernel)",
   "language": "python",
   "name": "python3"
  },
  "language_info": {
   "codemirror_mode": {
    "name": "ipython",
    "version": 3
   },
   "file_extension": ".py",
   "mimetype": "text/x-python",
   "name": "python",
   "nbconvert_exporter": "python",
   "pygments_lexer": "ipython3",
   "version": "3.9.12"
  }
 },
 "nbformat": 4,
 "nbformat_minor": 5
}
