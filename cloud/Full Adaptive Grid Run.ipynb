{
 "cells": [
  {
   "cell_type": "code",
   "execution_count": null,
   "id": "02ded797",
   "metadata": {
    "scrolled": false
   },
   "outputs": [
    {
     "name": "stderr",
     "output_type": "stream",
     "text": [
      "/Users/seanmcowen/opt/anaconda3/envs/BlockScience/lib/python3.9/site-packages/tqdm/auto.py:22: TqdmWarning: IProgress not found. Please update jupyter and ipywidgets. See https://ipywidgets.readthedocs.io/en/stable/user_install.html\n",
      "  from .autonotebook import tqdm as notebook_tqdm\n"
     ]
    },
    {
     "name": "stdout",
     "output_type": "stream",
     "text": [
      "-----Creating Expected Runs Dataframe-----\n",
      "-----Launching Containers-----\n",
      "['network_failures_oracle_ag1_1437', 'network_failures_oracle_ag1_1438', 'network_failures_oracle_ag1_1439', 'network_failures_oracle_ag1_1440', 'network_failures_oracle_ag1_1441', 'network_failures_oracle_ag1_1442', 'network_failures_oracle_ag1_1443', 'network_failures_oracle_ag1_1444', 'network_failures_oracle_ag1_1445', 'network_failures_oracle_ag1_1446', 'network_failures_oracle_ag1_1447', 'network_failures_oracle_ag1_1448', 'network_failures_oracle_ag1_1449', 'network_failures_oracle_ag1_1450', 'network_failures_oracle_ag1_1451', 'network_failures_oracle_ag1_1452', 'network_failures_oracle_ag1_1453', 'network_failures_oracle_ag1_1454', 'network_failures_oracle_ag1_1455', 'network_failures_oracle_ag1_1456']\n",
      "[]\n",
      "['network_failures_oracle_ag1_1497', 'network_failures_oracle_ag1_1498', 'network_failures_oracle_ag1_1499', 'network_failures_oracle_ag1_1500', 'network_failures_oracle_ag1_1501', 'network_failures_oracle_ag1_1502', 'network_failures_oracle_ag1_1503', 'network_failures_oracle_ag1_1504', 'network_failures_oracle_ag1_1505', 'network_failures_oracle_ag1_1506', 'network_failures_oracle_ag1_1507', 'network_failures_oracle_ag1_1508', 'network_failures_oracle_ag1_1509', 'network_failures_oracle_ag1_1510', 'network_failures_oracle_ag1_1511', 'network_failures_oracle_ag1_1512', 'network_failures_oracle_ag1_1513', 'network_failures_oracle_ag1_1514', 'network_failures_oracle_ag1_1515', 'network_failures_oracle_ag1_1516']\n",
      "[]\n",
      "\n",
      "\n",
      "-----Downloading KPIs-----\n"
     ]
    }
   ],
   "source": [
    "import os\n",
    "os.chdir(\"..\")\n",
    "from cloud_utilities import full_run_adaptive_grid\n",
    "full_run_adaptive_grid([\"servicer_viability_ag1_\",\n",
    "                        \"network_viability_ag1_\",\n",
    "                        \"network_failures_oracle_ag1_\"])"
   ]
  },
  {
   "cell_type": "code",
   "execution_count": null,
   "id": "827c57b2",
   "metadata": {},
   "outputs": [],
   "source": []
  }
 ],
 "metadata": {
  "kernelspec": {
   "display_name": "Python 3 (ipykernel)",
   "language": "python",
   "name": "python3"
  },
  "language_info": {
   "codemirror_mode": {
    "name": "ipython",
    "version": 3
   },
   "file_extension": ".py",
   "mimetype": "text/x-python",
   "name": "python",
   "nbconvert_exporter": "python",
   "pygments_lexer": "ipython3",
   "version": "3.9.12"
  }
 },
 "nbformat": 4,
 "nbformat_minor": 5
}
