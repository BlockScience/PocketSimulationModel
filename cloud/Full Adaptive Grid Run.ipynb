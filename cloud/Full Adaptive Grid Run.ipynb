{
 "cells": [
  {
   "cell_type": "code",
   "execution_count": 1,
   "id": "02ded797",
   "metadata": {
    "scrolled": false
   },
   "outputs": [
    {
     "name": "stderr",
     "output_type": "stream",
     "text": [
      "/Users/seanmcowen/opt/anaconda3/envs/BlockScience/lib/python3.9/site-packages/tqdm/auto.py:22: TqdmWarning: IProgress not found. Please update jupyter and ipywidgets. See https://ipywidgets.readthedocs.io/en/stable/user_install.html\n",
      "  from .autonotebook import tqdm as notebook_tqdm\n"
     ]
    },
    {
     "name": "stdout",
     "output_type": "stream",
     "text": [
      "-----Creating Expected Runs Dataframe-----\n",
      "-----Launching Containers-----\n",
      "['servicer_viability_ag3_1', 'servicer_viability_ag3_2', 'servicer_viability_ag3_3', 'servicer_viability_ag3_4', 'servicer_viability_ag3_5', 'servicer_viability_ag3_6', 'servicer_viability_ag3_7', 'servicer_viability_ag3_8', 'servicer_viability_ag3_9', 'servicer_viability_ag3_10', 'servicer_viability_ag3_11', 'servicer_viability_ag3_12', 'servicer_viability_ag3_13', 'servicer_viability_ag3_14', 'servicer_viability_ag3_15', 'servicer_viability_ag3_16', 'servicer_viability_ag3_17', 'servicer_viability_ag3_18', 'servicer_viability_ag3_19', 'servicer_viability_ag3_20']\n",
      "[]\n",
      "['servicer_viability_ag3_21', 'servicer_viability_ag3_22', 'servicer_viability_ag3_23', 'servicer_viability_ag3_24', 'servicer_viability_ag3_25', 'servicer_viability_ag3_26', 'servicer_viability_ag3_27', 'servicer_viability_ag3_28', 'servicer_viability_ag3_29', 'servicer_viability_ag3_30', 'servicer_viability_ag3_31', 'servicer_viability_ag3_32', 'servicer_viability_ag3_33', 'servicer_viability_ag3_34', 'servicer_viability_ag3_35', 'servicer_viability_ag3_36', 'servicer_viability_ag3_37', 'servicer_viability_ag3_38', 'servicer_viability_ag3_39', 'servicer_viability_ag3_40']\n",
      "[]\n",
      "['servicer_viability_ag3_41', 'servicer_viability_ag3_42', 'servicer_viability_ag3_43', 'servicer_viability_ag3_44', 'servicer_viability_ag3_45', 'servicer_viability_ag3_46', 'servicer_viability_ag3_47', 'servicer_viability_ag3_48', 'servicer_viability_ag3_49', 'servicer_viability_ag3_50', 'servicer_viability_ag3_51', 'servicer_viability_ag3_52', 'servicer_viability_ag3_53', 'servicer_viability_ag3_54', 'servicer_viability_ag3_55', 'servicer_viability_ag3_56', 'servicer_viability_ag3_57', 'servicer_viability_ag3_58', 'servicer_viability_ag3_59', 'servicer_viability_ag3_60']\n",
      "[]\n",
      "['servicer_viability_ag3_61', 'servicer_viability_ag3_62', 'servicer_viability_ag3_63', 'servicer_viability_ag3_64', 'servicer_viability_ag3_65', 'servicer_viability_ag3_66', 'servicer_viability_ag3_67', 'servicer_viability_ag3_68', 'servicer_viability_ag3_69', 'servicer_viability_ag3_70', 'servicer_viability_ag3_71', 'servicer_viability_ag3_72', 'servicer_viability_ag3_73', 'servicer_viability_ag3_74', 'servicer_viability_ag3_75', 'servicer_viability_ag3_76', 'servicer_viability_ag3_77', 'servicer_viability_ag3_78', 'servicer_viability_ag3_79', 'servicer_viability_ag3_80']\n",
      "[]\n",
      "['servicer_viability_ag3_81', 'servicer_viability_ag3_82', 'servicer_viability_ag3_83', 'servicer_viability_ag3_84', 'servicer_viability_ag3_85', 'servicer_viability_ag3_86', 'servicer_viability_ag3_87', 'servicer_viability_ag3_88', 'servicer_viability_ag3_89', 'servicer_viability_ag3_90', 'servicer_viability_ag3_91', 'servicer_viability_ag3_92', 'servicer_viability_ag3_93', 'servicer_viability_ag3_94', 'servicer_viability_ag3_95', 'servicer_viability_ag3_96', 'servicer_viability_ag3_97', 'servicer_viability_ag3_98', 'servicer_viability_ag3_99', 'servicer_viability_ag3_100']\n",
      "[]\n",
      "['servicer_viability_ag3_101', 'servicer_viability_ag3_102', 'servicer_viability_ag3_103', 'servicer_viability_ag3_104', 'servicer_viability_ag3_105', 'servicer_viability_ag3_106', 'servicer_viability_ag3_107', 'servicer_viability_ag3_108', 'servicer_viability_ag3_109', 'servicer_viability_ag3_110', 'servicer_viability_ag3_111', 'servicer_viability_ag3_112', 'servicer_viability_ag3_113', 'servicer_viability_ag3_114', 'servicer_viability_ag3_115', 'servicer_viability_ag3_116', 'servicer_viability_ag3_117', 'servicer_viability_ag3_118', 'servicer_viability_ag3_119', 'servicer_viability_ag3_120']\n",
      "[]\n",
      "['servicer_viability_ag3_121', 'servicer_viability_ag3_122', 'servicer_viability_ag3_123', 'servicer_viability_ag3_124', 'servicer_viability_ag3_125', 'servicer_viability_ag3_126', 'servicer_viability_ag3_127', 'servicer_viability_ag3_128', 'servicer_viability_ag3_129', 'servicer_viability_ag3_130', 'servicer_viability_ag3_131', 'servicer_viability_ag3_132', 'servicer_viability_ag3_133', 'servicer_viability_ag3_134', 'servicer_viability_ag3_135', 'servicer_viability_ag3_136', 'servicer_viability_ag3_137', 'servicer_viability_ag3_138', 'servicer_viability_ag3_139', 'servicer_viability_ag3_140']\n",
      "[]\n",
      "['servicer_viability_ag3_141', 'servicer_viability_ag3_142', 'servicer_viability_ag3_143', 'servicer_viability_ag3_144', 'servicer_viability_ag3_145', 'servicer_viability_ag3_146', 'servicer_viability_ag3_147', 'servicer_viability_ag3_148', 'servicer_viability_ag3_149', 'servicer_viability_ag3_150', 'servicer_viability_ag3_151', 'servicer_viability_ag3_152', 'servicer_viability_ag3_153', 'servicer_viability_ag3_154', 'servicer_viability_ag3_155', 'servicer_viability_ag3_156', 'servicer_viability_ag3_157', 'servicer_viability_ag3_158', 'servicer_viability_ag3_159', 'servicer_viability_ag3_160']\n",
      "[]\n",
      "['servicer_viability_ag3_161', 'servicer_viability_ag3_162', 'servicer_viability_ag3_163', 'servicer_viability_ag3_164', 'servicer_viability_ag3_165', 'servicer_viability_ag3_166', 'servicer_viability_ag3_167', 'servicer_viability_ag3_168', 'servicer_viability_ag3_169', 'servicer_viability_ag3_170', 'servicer_viability_ag3_171', 'servicer_viability_ag3_172', 'servicer_viability_ag3_173', 'servicer_viability_ag3_174', 'servicer_viability_ag3_175', 'servicer_viability_ag3_176', 'servicer_viability_ag3_177', 'servicer_viability_ag3_178', 'servicer_viability_ag3_179', 'servicer_viability_ag3_180']\n",
      "[]\n",
      "['servicer_viability_ag3_181', 'servicer_viability_ag3_182', 'servicer_viability_ag3_183', 'servicer_viability_ag3_184', 'servicer_viability_ag3_185', 'servicer_viability_ag3_186', 'servicer_viability_ag3_187', 'servicer_viability_ag3_188', 'servicer_viability_ag3_189', 'servicer_viability_ag3_190', 'servicer_viability_ag3_191', 'servicer_viability_ag3_192', 'servicer_viability_ag3_193', 'servicer_viability_ag3_194', 'servicer_viability_ag3_195', 'servicer_viability_ag3_196', 'servicer_viability_ag3_197', 'servicer_viability_ag3_198', 'servicer_viability_ag3_199', 'servicer_viability_ag3_200']\n",
      "[]\n",
      "['servicer_viability_ag3_201', 'servicer_viability_ag3_202', 'servicer_viability_ag3_203', 'servicer_viability_ag3_204', 'servicer_viability_ag3_205', 'servicer_viability_ag3_206', 'servicer_viability_ag3_207', 'servicer_viability_ag3_208', 'servicer_viability_ag3_209', 'servicer_viability_ag3_210', 'servicer_viability_ag3_211', 'servicer_viability_ag3_212', 'servicer_viability_ag3_213', 'servicer_viability_ag3_214', 'servicer_viability_ag3_215', 'servicer_viability_ag3_216', 'servicer_viability_ag3_217', 'servicer_viability_ag3_218', 'servicer_viability_ag3_219', 'servicer_viability_ag3_220']\n",
      "[]\n",
      "['servicer_viability_ag3_221', 'servicer_viability_ag3_222', 'servicer_viability_ag3_223', 'servicer_viability_ag3_224', 'servicer_viability_ag3_225', 'servicer_viability_ag3_226', 'servicer_viability_ag3_227', 'servicer_viability_ag3_228', 'servicer_viability_ag3_229', 'servicer_viability_ag3_230', 'servicer_viability_ag3_231', 'servicer_viability_ag3_232', 'servicer_viability_ag3_233', 'servicer_viability_ag3_234', 'servicer_viability_ag3_235', 'servicer_viability_ag3_236', 'servicer_viability_ag3_237', 'servicer_viability_ag3_238', 'servicer_viability_ag3_239', 'servicer_viability_ag3_240']\n",
      "[]\n",
      "['servicer_viability_ag3_241', 'servicer_viability_ag3_242', 'servicer_viability_ag3_243', 'servicer_viability_ag3_244', 'servicer_viability_ag3_245', 'servicer_viability_ag3_246', 'servicer_viability_ag3_247', 'servicer_viability_ag3_248', 'servicer_viability_ag3_249', 'servicer_viability_ag3_250', 'servicer_viability_ag3_251', 'servicer_viability_ag3_252', 'servicer_viability_ag3_253', 'servicer_viability_ag3_254', 'servicer_viability_ag3_255', 'servicer_viability_ag3_256', 'servicer_viability_ag3_257', 'servicer_viability_ag3_258', 'servicer_viability_ag3_259', 'servicer_viability_ag3_260']\n",
      "[]\n",
      "['servicer_viability_ag3_261', 'servicer_viability_ag3_262', 'servicer_viability_ag3_263', 'servicer_viability_ag3_264', 'servicer_viability_ag3_265', 'servicer_viability_ag3_266', 'servicer_viability_ag3_267', 'servicer_viability_ag3_268', 'servicer_viability_ag3_269', 'servicer_viability_ag3_270', 'servicer_viability_ag3_271', 'servicer_viability_ag3_272', 'servicer_viability_ag3_273', 'servicer_viability_ag3_274', 'servicer_viability_ag3_275', 'servicer_viability_ag3_276', 'servicer_viability_ag3_277', 'servicer_viability_ag3_278', 'servicer_viability_ag3_279', 'servicer_viability_ag3_280']\n"
     ]
    },
    {
     "name": "stdout",
     "output_type": "stream",
     "text": [
      "[]\n",
      "['servicer_viability_ag3_281', 'servicer_viability_ag3_282', 'servicer_viability_ag3_283', 'servicer_viability_ag3_284', 'servicer_viability_ag3_285', 'servicer_viability_ag3_286', 'servicer_viability_ag3_287', 'servicer_viability_ag3_288', 'servicer_viability_ag3_289', 'servicer_viability_ag3_290', 'servicer_viability_ag3_291', 'servicer_viability_ag3_292', 'servicer_viability_ag3_293', 'servicer_viability_ag3_294', 'servicer_viability_ag3_295', 'servicer_viability_ag3_296', 'servicer_viability_ag3_297', 'servicer_viability_ag3_298', 'servicer_viability_ag3_299', 'servicer_viability_ag3_300']\n",
      "[]\n",
      "['servicer_viability_ag3_301', 'servicer_viability_ag3_302', 'servicer_viability_ag3_303', 'servicer_viability_ag3_304', 'servicer_viability_ag3_305', 'servicer_viability_ag3_306', 'servicer_viability_ag3_307', 'servicer_viability_ag3_308', 'servicer_viability_ag3_309', 'servicer_viability_ag3_310', 'servicer_viability_ag3_311', 'servicer_viability_ag3_312', 'servicer_viability_ag3_313', 'servicer_viability_ag3_314', 'servicer_viability_ag3_315', 'servicer_viability_ag3_316', 'servicer_viability_ag3_317', 'servicer_viability_ag3_318', 'servicer_viability_ag3_319', 'servicer_viability_ag3_320']\n",
      "[]\n",
      "['servicer_viability_ag3_321', 'servicer_viability_ag3_322', 'servicer_viability_ag3_323', 'servicer_viability_ag3_324', 'servicer_viability_ag3_325', 'servicer_viability_ag3_326', 'servicer_viability_ag3_327', 'servicer_viability_ag3_328', 'servicer_viability_ag3_329', 'servicer_viability_ag3_330', 'servicer_viability_ag3_331', 'servicer_viability_ag3_332', 'servicer_viability_ag3_333', 'servicer_viability_ag3_334', 'servicer_viability_ag3_335', 'servicer_viability_ag3_336', 'servicer_viability_ag3_337', 'servicer_viability_ag3_338', 'servicer_viability_ag3_339', 'servicer_viability_ag3_340']\n",
      "[]\n",
      "['servicer_viability_ag3_341', 'servicer_viability_ag3_342', 'servicer_viability_ag3_343', 'servicer_viability_ag3_344', 'servicer_viability_ag3_345', 'servicer_viability_ag3_346', 'servicer_viability_ag3_347', 'servicer_viability_ag3_348', 'servicer_viability_ag3_349', 'servicer_viability_ag3_350', 'servicer_viability_ag3_351', 'servicer_viability_ag3_352', 'servicer_viability_ag3_353', 'servicer_viability_ag3_354', 'servicer_viability_ag3_355', 'servicer_viability_ag3_356', 'servicer_viability_ag3_357', 'servicer_viability_ag3_358', 'servicer_viability_ag3_359', 'servicer_viability_ag3_360']\n",
      "[]\n",
      "['servicer_viability_ag3_361', 'servicer_viability_ag3_362', 'servicer_viability_ag3_363', 'servicer_viability_ag3_364', 'servicer_viability_ag3_365', 'servicer_viability_ag3_366', 'servicer_viability_ag3_367', 'servicer_viability_ag3_368', 'servicer_viability_ag3_369', 'servicer_viability_ag3_370', 'servicer_viability_ag3_371', 'servicer_viability_ag3_372', 'servicer_viability_ag3_373', 'servicer_viability_ag3_374', 'servicer_viability_ag3_375', 'servicer_viability_ag3_376', 'servicer_viability_ag3_377', 'servicer_viability_ag3_378', 'servicer_viability_ag3_379', 'servicer_viability_ag3_380']\n",
      "[]\n",
      "['servicer_viability_ag3_381', 'servicer_viability_ag3_382', 'servicer_viability_ag3_383', 'servicer_viability_ag3_384', 'servicer_viability_ag3_385', 'servicer_viability_ag3_386', 'servicer_viability_ag3_387', 'servicer_viability_ag3_388', 'servicer_viability_ag3_389', 'servicer_viability_ag3_390', 'servicer_viability_ag3_391', 'servicer_viability_ag3_392', 'servicer_viability_ag3_393', 'servicer_viability_ag3_394', 'servicer_viability_ag3_395', 'servicer_viability_ag3_396', 'servicer_viability_ag3_397', 'servicer_viability_ag3_398', 'servicer_viability_ag3_399', 'servicer_viability_ag3_400']\n",
      "[]\n",
      "['servicer_viability_ag3_401', 'servicer_viability_ag3_402', 'servicer_viability_ag3_403', 'servicer_viability_ag3_404', 'servicer_viability_ag3_405', 'servicer_viability_ag3_406', 'servicer_viability_ag3_407', 'servicer_viability_ag3_408', 'servicer_viability_ag3_409', 'servicer_viability_ag3_410', 'servicer_viability_ag3_411', 'servicer_viability_ag3_412', 'servicer_viability_ag3_413', 'servicer_viability_ag3_414', 'servicer_viability_ag3_415', 'servicer_viability_ag3_416', 'servicer_viability_ag3_417', 'servicer_viability_ag3_418', 'servicer_viability_ag3_419', 'servicer_viability_ag3_420']\n",
      "[]\n",
      "['servicer_viability_ag3_421', 'servicer_viability_ag3_422', 'servicer_viability_ag3_423', 'servicer_viability_ag3_424', 'servicer_viability_ag3_425', 'servicer_viability_ag3_426', 'servicer_viability_ag3_427', 'servicer_viability_ag3_428', 'servicer_viability_ag3_429', 'servicer_viability_ag3_430', 'servicer_viability_ag3_431', 'servicer_viability_ag3_432', 'servicer_viability_ag3_433', 'servicer_viability_ag3_434', 'servicer_viability_ag3_435', 'servicer_viability_ag3_436', 'servicer_viability_ag3_437', 'servicer_viability_ag3_438', 'servicer_viability_ag3_439', 'servicer_viability_ag3_440']\n",
      "[]\n",
      "['servicer_viability_ag3_441', 'servicer_viability_ag3_442', 'servicer_viability_ag3_443', 'servicer_viability_ag3_444', 'servicer_viability_ag3_445', 'servicer_viability_ag3_446', 'servicer_viability_ag3_447', 'servicer_viability_ag3_448', 'servicer_viability_ag3_449', 'servicer_viability_ag3_450', 'servicer_viability_ag3_451', 'servicer_viability_ag3_452', 'servicer_viability_ag3_453', 'servicer_viability_ag3_454', 'servicer_viability_ag3_455', 'servicer_viability_ag3_456', 'servicer_viability_ag3_457', 'servicer_viability_ag3_458', 'servicer_viability_ag3_459', 'servicer_viability_ag3_460']\n",
      "[]\n",
      "['servicer_viability_ag3_461', 'servicer_viability_ag3_462', 'servicer_viability_ag3_463', 'servicer_viability_ag3_464', 'servicer_viability_ag3_465', 'servicer_viability_ag3_466', 'servicer_viability_ag3_467', 'servicer_viability_ag3_468', 'servicer_viability_ag3_469', 'servicer_viability_ag3_470', 'servicer_viability_ag3_471', 'servicer_viability_ag3_472', 'servicer_viability_ag3_473', 'servicer_viability_ag3_474', 'servicer_viability_ag3_475', 'servicer_viability_ag3_476', 'servicer_viability_ag3_477', 'servicer_viability_ag3_478', 'servicer_viability_ag3_479', 'servicer_viability_ag3_480']\n",
      "[]\n",
      "['servicer_viability_ag3_481', 'servicer_viability_ag3_482', 'servicer_viability_ag3_483', 'servicer_viability_ag3_484', 'servicer_viability_ag3_485', 'servicer_viability_ag3_486', 'servicer_viability_ag3_487', 'servicer_viability_ag3_488', 'servicer_viability_ag3_489', 'servicer_viability_ag3_490', 'servicer_viability_ag3_491', 'servicer_viability_ag3_492', 'servicer_viability_ag3_493', 'servicer_viability_ag3_494', 'servicer_viability_ag3_495', 'servicer_viability_ag3_496', 'servicer_viability_ag3_497', 'servicer_viability_ag3_498', 'servicer_viability_ag3_499', 'servicer_viability_ag3_500']\n",
      "[]\n",
      "['servicer_viability_ag3_501', 'servicer_viability_ag3_502', 'servicer_viability_ag3_503', 'servicer_viability_ag3_504', 'servicer_viability_ag3_505', 'servicer_viability_ag3_506', 'servicer_viability_ag3_507', 'servicer_viability_ag3_508', 'servicer_viability_ag3_509', 'servicer_viability_ag3_510', 'servicer_viability_ag3_511', 'servicer_viability_ag3_512', 'servicer_viability_ag3_513', 'servicer_viability_ag3_514', 'servicer_viability_ag3_515', 'servicer_viability_ag3_516', 'servicer_viability_ag3_517', 'servicer_viability_ag3_518', 'servicer_viability_ag3_519', 'servicer_viability_ag3_520']\n",
      "[]\n",
      "['servicer_viability_ag3_521', 'servicer_viability_ag3_522', 'servicer_viability_ag3_523', 'servicer_viability_ag3_524', 'servicer_viability_ag3_525', 'servicer_viability_ag3_526', 'servicer_viability_ag3_527', 'servicer_viability_ag3_528', 'servicer_viability_ag3_529', 'servicer_viability_ag3_530', 'servicer_viability_ag3_531', 'servicer_viability_ag3_532', 'servicer_viability_ag3_533', 'servicer_viability_ag3_534', 'servicer_viability_ag3_535', 'servicer_viability_ag3_536', 'servicer_viability_ag3_537', 'servicer_viability_ag3_538', 'servicer_viability_ag3_539', 'servicer_viability_ag3_540']\n",
      "[]\n",
      "['servicer_viability_ag3_541', 'servicer_viability_ag3_542', 'servicer_viability_ag3_543', 'servicer_viability_ag3_544', 'servicer_viability_ag3_545', 'servicer_viability_ag3_546', 'servicer_viability_ag3_547', 'servicer_viability_ag3_548', 'servicer_viability_ag3_549', 'servicer_viability_ag3_550', 'servicer_viability_ag3_551', 'servicer_viability_ag3_552', 'servicer_viability_ag3_553', 'servicer_viability_ag3_554', 'servicer_viability_ag3_555', 'servicer_viability_ag3_556', 'servicer_viability_ag3_557', 'servicer_viability_ag3_558', 'servicer_viability_ag3_559', 'servicer_viability_ag3_560']\n"
     ]
    },
    {
     "name": "stdout",
     "output_type": "stream",
     "text": [
      "[]\n",
      "['servicer_viability_ag3_561', 'servicer_viability_ag3_562', 'servicer_viability_ag3_563', 'servicer_viability_ag3_564', 'servicer_viability_ag3_565', 'servicer_viability_ag3_566', 'servicer_viability_ag3_567', 'servicer_viability_ag3_568', 'servicer_viability_ag3_569', 'servicer_viability_ag3_570', 'servicer_viability_ag3_571', 'servicer_viability_ag3_572', 'servicer_viability_ag3_573', 'servicer_viability_ag3_574', 'servicer_viability_ag3_575', 'servicer_viability_ag3_576', 'servicer_viability_ag3_577', 'servicer_viability_ag3_578', 'servicer_viability_ag3_579', 'servicer_viability_ag3_580']\n",
      "[]\n",
      "['servicer_viability_ag3_581', 'servicer_viability_ag3_582', 'servicer_viability_ag3_583', 'servicer_viability_ag3_584', 'servicer_viability_ag3_585', 'servicer_viability_ag3_586', 'servicer_viability_ag3_587', 'servicer_viability_ag3_588', 'servicer_viability_ag3_589', 'servicer_viability_ag3_590', 'servicer_viability_ag3_591', 'servicer_viability_ag3_592', 'servicer_viability_ag3_593', 'servicer_viability_ag3_594', 'servicer_viability_ag3_595', 'servicer_viability_ag3_596', 'servicer_viability_ag3_597', 'servicer_viability_ag3_598', 'servicer_viability_ag3_599', 'servicer_viability_ag3_600']\n",
      "[]\n",
      "['servicer_viability_ag3_601', 'servicer_viability_ag3_602', 'servicer_viability_ag3_603', 'servicer_viability_ag3_604', 'servicer_viability_ag3_605', 'servicer_viability_ag3_606', 'servicer_viability_ag3_607', 'servicer_viability_ag3_608', 'servicer_viability_ag3_609', 'servicer_viability_ag3_610', 'servicer_viability_ag3_611', 'servicer_viability_ag3_612', 'servicer_viability_ag3_613', 'servicer_viability_ag3_614', 'servicer_viability_ag3_615', 'servicer_viability_ag3_616', 'servicer_viability_ag3_617', 'servicer_viability_ag3_618', 'servicer_viability_ag3_619', 'servicer_viability_ag3_620']\n",
      "[]\n",
      "['servicer_viability_ag3_621', 'servicer_viability_ag3_622', 'servicer_viability_ag3_623', 'servicer_viability_ag3_624', 'servicer_viability_ag3_625', 'servicer_viability_ag3_626', 'servicer_viability_ag3_627', 'servicer_viability_ag3_628', 'servicer_viability_ag3_629', 'servicer_viability_ag3_630', 'servicer_viability_ag3_631', 'servicer_viability_ag3_632', 'servicer_viability_ag3_633', 'servicer_viability_ag3_634', 'servicer_viability_ag3_635', 'servicer_viability_ag3_636', 'servicer_viability_ag3_637', 'servicer_viability_ag3_638', 'servicer_viability_ag3_639', 'servicer_viability_ag3_640']\n",
      "[]\n",
      "['servicer_viability_ag3_641', 'servicer_viability_ag3_642', 'servicer_viability_ag3_643', 'servicer_viability_ag3_644', 'servicer_viability_ag3_645', 'servicer_viability_ag3_646', 'servicer_viability_ag3_647', 'servicer_viability_ag3_648', 'servicer_viability_ag3_649', 'servicer_viability_ag3_650', 'servicer_viability_ag3_651', 'servicer_viability_ag3_652', 'servicer_viability_ag3_653', 'servicer_viability_ag3_654', 'servicer_viability_ag3_655', 'servicer_viability_ag3_656', 'servicer_viability_ag3_657', 'servicer_viability_ag3_658', 'servicer_viability_ag3_659', 'servicer_viability_ag3_660']\n",
      "[]\n",
      "['servicer_viability_ag3_661', 'servicer_viability_ag3_662', 'servicer_viability_ag3_663', 'servicer_viability_ag3_664', 'servicer_viability_ag3_665', 'servicer_viability_ag3_666', 'servicer_viability_ag3_667', 'servicer_viability_ag3_668', 'servicer_viability_ag3_669', 'servicer_viability_ag3_670', 'servicer_viability_ag3_671', 'servicer_viability_ag3_672', 'servicer_viability_ag3_673', 'servicer_viability_ag3_674', 'servicer_viability_ag3_675', 'servicer_viability_ag3_676', 'servicer_viability_ag3_677', 'servicer_viability_ag3_678', 'servicer_viability_ag3_679', 'servicer_viability_ag3_680']\n",
      "[]\n",
      "['servicer_viability_ag3_681', 'servicer_viability_ag3_682', 'servicer_viability_ag3_683', 'servicer_viability_ag3_684', 'servicer_viability_ag3_685', 'servicer_viability_ag3_686', 'servicer_viability_ag3_687', 'servicer_viability_ag3_688', 'servicer_viability_ag3_689', 'servicer_viability_ag3_690', 'servicer_viability_ag3_691', 'servicer_viability_ag3_692', 'servicer_viability_ag3_693', 'servicer_viability_ag3_694', 'servicer_viability_ag3_695', 'servicer_viability_ag3_696', 'servicer_viability_ag3_697', 'servicer_viability_ag3_698', 'servicer_viability_ag3_699', 'servicer_viability_ag3_700']\n",
      "[]\n",
      "['servicer_viability_ag3_701', 'servicer_viability_ag3_702', 'servicer_viability_ag3_703', 'servicer_viability_ag3_704', 'servicer_viability_ag3_705', 'servicer_viability_ag3_706', 'servicer_viability_ag3_707', 'servicer_viability_ag3_708', 'servicer_viability_ag3_709', 'servicer_viability_ag3_710', 'servicer_viability_ag3_711', 'servicer_viability_ag3_712', 'servicer_viability_ag3_713', 'servicer_viability_ag3_714', 'servicer_viability_ag3_715', 'servicer_viability_ag3_716', 'servicer_viability_ag3_717', 'servicer_viability_ag3_718', 'servicer_viability_ag3_719', 'servicer_viability_ag3_720']\n",
      "[]\n",
      "['servicer_viability_ag3_721', 'servicer_viability_ag3_722', 'servicer_viability_ag3_723', 'servicer_viability_ag3_724', 'servicer_viability_ag3_725', 'servicer_viability_ag3_726', 'servicer_viability_ag3_727', 'servicer_viability_ag3_728', 'servicer_viability_ag3_729', 'servicer_viability_ag3_730', 'servicer_viability_ag3_731', 'servicer_viability_ag3_732', 'servicer_viability_ag3_733', 'servicer_viability_ag3_734', 'servicer_viability_ag3_735', 'servicer_viability_ag3_736', 'servicer_viability_ag3_737', 'servicer_viability_ag3_738', 'servicer_viability_ag3_739', 'servicer_viability_ag3_740']\n",
      "[]\n",
      "['servicer_viability_ag3_741', 'servicer_viability_ag3_742', 'servicer_viability_ag3_743', 'servicer_viability_ag3_744', 'servicer_viability_ag3_745', 'servicer_viability_ag3_746', 'servicer_viability_ag3_747', 'servicer_viability_ag3_748', 'servicer_viability_ag3_749', 'servicer_viability_ag3_750', 'servicer_viability_ag3_751', 'servicer_viability_ag3_752', 'servicer_viability_ag3_753', 'servicer_viability_ag3_754', 'servicer_viability_ag3_755', 'servicer_viability_ag3_756', 'servicer_viability_ag3_757', 'servicer_viability_ag3_758', 'servicer_viability_ag3_759', 'servicer_viability_ag3_760']\n",
      "[]\n",
      "['servicer_viability_ag3_761', 'servicer_viability_ag3_762', 'servicer_viability_ag3_763', 'servicer_viability_ag3_764', 'servicer_viability_ag3_765', 'servicer_viability_ag3_766', 'servicer_viability_ag3_767', 'servicer_viability_ag3_768', 'servicer_viability_ag3_769', 'servicer_viability_ag3_770', 'servicer_viability_ag3_771', 'servicer_viability_ag3_772', 'servicer_viability_ag3_773', 'servicer_viability_ag3_774', 'servicer_viability_ag3_775', 'servicer_viability_ag3_776', 'servicer_viability_ag3_777', 'servicer_viability_ag3_778', 'servicer_viability_ag3_779', 'servicer_viability_ag3_780']\n",
      "[]\n",
      "['servicer_viability_ag3_781', 'servicer_viability_ag3_782', 'servicer_viability_ag3_783', 'servicer_viability_ag3_784', 'servicer_viability_ag3_785', 'servicer_viability_ag3_786', 'servicer_viability_ag3_787', 'servicer_viability_ag3_788', 'servicer_viability_ag3_789', 'servicer_viability_ag3_790', 'servicer_viability_ag3_791', 'servicer_viability_ag3_792', 'servicer_viability_ag3_793', 'servicer_viability_ag3_794', 'servicer_viability_ag3_795', 'servicer_viability_ag3_796', 'servicer_viability_ag3_797', 'servicer_viability_ag3_798', 'servicer_viability_ag3_799', 'servicer_viability_ag3_800']\n",
      "[]\n",
      "['servicer_viability_ag3_801', 'servicer_viability_ag3_802', 'servicer_viability_ag3_803', 'servicer_viability_ag3_804', 'servicer_viability_ag3_805', 'servicer_viability_ag3_806', 'servicer_viability_ag3_807', 'servicer_viability_ag3_808', 'servicer_viability_ag3_809', 'servicer_viability_ag3_810', 'servicer_viability_ag3_811', 'servicer_viability_ag3_812', 'servicer_viability_ag3_813', 'servicer_viability_ag3_814', 'servicer_viability_ag3_815', 'servicer_viability_ag3_816', 'servicer_viability_ag3_817', 'servicer_viability_ag3_818', 'servicer_viability_ag3_819', 'servicer_viability_ag3_820']\n",
      "[]\n",
      "['servicer_viability_ag3_821', 'servicer_viability_ag3_822', 'servicer_viability_ag3_823', 'servicer_viability_ag3_824', 'servicer_viability_ag3_825', 'servicer_viability_ag3_826', 'servicer_viability_ag3_827', 'servicer_viability_ag3_828', 'servicer_viability_ag3_829', 'servicer_viability_ag3_830', 'servicer_viability_ag3_831', 'servicer_viability_ag3_832', 'servicer_viability_ag3_833', 'servicer_viability_ag3_834', 'servicer_viability_ag3_835', 'servicer_viability_ag3_836', 'servicer_viability_ag3_837', 'servicer_viability_ag3_838', 'servicer_viability_ag3_839', 'servicer_viability_ag3_840']\n"
     ]
    },
    {
     "name": "stdout",
     "output_type": "stream",
     "text": [
      "[]\n",
      "['servicer_viability_ag3_841', 'servicer_viability_ag3_842', 'servicer_viability_ag3_843', 'servicer_viability_ag3_844', 'servicer_viability_ag3_845', 'servicer_viability_ag3_846', 'servicer_viability_ag3_847', 'servicer_viability_ag3_848', 'servicer_viability_ag3_849', 'servicer_viability_ag3_850', 'servicer_viability_ag3_851', 'servicer_viability_ag3_852', 'servicer_viability_ag3_853', 'servicer_viability_ag3_854', 'servicer_viability_ag3_855', 'servicer_viability_ag3_856', 'servicer_viability_ag3_857', 'servicer_viability_ag3_858', 'servicer_viability_ag3_859', 'servicer_viability_ag3_860']\n",
      "[]\n",
      "['servicer_viability_ag3_861', 'servicer_viability_ag3_862', 'servicer_viability_ag3_863', 'servicer_viability_ag3_864', 'servicer_viability_ag3_865', 'servicer_viability_ag3_866', 'servicer_viability_ag3_867', 'servicer_viability_ag3_868', 'servicer_viability_ag3_869', 'servicer_viability_ag3_870', 'servicer_viability_ag3_871', 'servicer_viability_ag3_872', 'servicer_viability_ag3_873', 'servicer_viability_ag3_874', 'servicer_viability_ag3_875', 'servicer_viability_ag3_876', 'servicer_viability_ag3_877', 'servicer_viability_ag3_878', 'servicer_viability_ag3_879', 'servicer_viability_ag3_880']\n",
      "[]\n",
      "['servicer_viability_ag3_881', 'servicer_viability_ag3_882', 'servicer_viability_ag3_883', 'servicer_viability_ag3_884', 'servicer_viability_ag3_885', 'servicer_viability_ag3_886', 'servicer_viability_ag3_887', 'servicer_viability_ag3_888', 'servicer_viability_ag3_889', 'servicer_viability_ag3_890', 'servicer_viability_ag3_891', 'servicer_viability_ag3_892', 'servicer_viability_ag3_893', 'servicer_viability_ag3_894', 'servicer_viability_ag3_895', 'servicer_viability_ag3_896', 'servicer_viability_ag3_897', 'servicer_viability_ag3_898', 'servicer_viability_ag3_899', 'servicer_viability_ag3_900']\n",
      "[]\n",
      "['servicer_viability_ag3_901', 'servicer_viability_ag3_902', 'servicer_viability_ag3_903', 'servicer_viability_ag3_904', 'servicer_viability_ag3_905', 'servicer_viability_ag3_906', 'servicer_viability_ag3_907', 'servicer_viability_ag3_908', 'servicer_viability_ag3_909', 'servicer_viability_ag3_910', 'servicer_viability_ag3_911', 'servicer_viability_ag3_912', 'servicer_viability_ag3_913', 'servicer_viability_ag3_914', 'servicer_viability_ag3_915', 'servicer_viability_ag3_916', 'servicer_viability_ag3_917', 'servicer_viability_ag3_918', 'servicer_viability_ag3_919', 'servicer_viability_ag3_920']\n",
      "[]\n",
      "['servicer_viability_ag3_921', 'servicer_viability_ag3_922', 'servicer_viability_ag3_923', 'servicer_viability_ag3_924', 'servicer_viability_ag3_925', 'servicer_viability_ag3_926', 'servicer_viability_ag3_927', 'servicer_viability_ag3_928', 'servicer_viability_ag3_929', 'servicer_viability_ag3_930', 'servicer_viability_ag3_931', 'servicer_viability_ag3_932', 'servicer_viability_ag3_933', 'servicer_viability_ag3_934', 'servicer_viability_ag3_935', 'servicer_viability_ag3_936', 'servicer_viability_ag3_937', 'servicer_viability_ag3_938', 'servicer_viability_ag3_939', 'servicer_viability_ag3_940']\n",
      "[]\n",
      "['servicer_viability_ag3_941', 'servicer_viability_ag3_942', 'servicer_viability_ag3_943', 'servicer_viability_ag3_944', 'servicer_viability_ag3_945', 'servicer_viability_ag3_946', 'servicer_viability_ag3_947', 'servicer_viability_ag3_948', 'servicer_viability_ag3_949', 'servicer_viability_ag3_950', 'servicer_viability_ag3_951', 'servicer_viability_ag3_952', 'servicer_viability_ag3_953', 'servicer_viability_ag3_954', 'servicer_viability_ag3_955', 'servicer_viability_ag3_956', 'servicer_viability_ag3_957', 'servicer_viability_ag3_958', 'servicer_viability_ag3_959', 'servicer_viability_ag3_960']\n",
      "[]\n",
      "['servicer_viability_ag3_961', 'servicer_viability_ag3_962', 'servicer_viability_ag3_963', 'servicer_viability_ag3_964', 'servicer_viability_ag3_965', 'servicer_viability_ag3_966', 'servicer_viability_ag3_967', 'servicer_viability_ag3_968', 'servicer_viability_ag3_969', 'servicer_viability_ag3_970', 'servicer_viability_ag3_971', 'servicer_viability_ag3_972', 'servicer_viability_ag3_973', 'servicer_viability_ag3_974', 'servicer_viability_ag3_975', 'servicer_viability_ag3_976', 'servicer_viability_ag3_977', 'servicer_viability_ag3_978', 'servicer_viability_ag3_979', 'servicer_viability_ag3_980']\n",
      "[]\n",
      "['servicer_viability_ag3_981', 'servicer_viability_ag3_982', 'servicer_viability_ag3_983', 'servicer_viability_ag3_984', 'servicer_viability_ag3_985', 'servicer_viability_ag3_986', 'servicer_viability_ag3_987', 'servicer_viability_ag3_988', 'servicer_viability_ag3_989', 'servicer_viability_ag3_990', 'servicer_viability_ag3_991', 'servicer_viability_ag3_992', 'servicer_viability_ag3_993', 'servicer_viability_ag3_994', 'servicer_viability_ag3_995', 'servicer_viability_ag3_996', 'servicer_viability_ag3_997', 'servicer_viability_ag3_998', 'servicer_viability_ag3_999', 'servicer_viability_ag3_1000']\n",
      "[]\n",
      "['servicer_viability_ag3_1001', 'servicer_viability_ag3_1002', 'servicer_viability_ag3_1003', 'servicer_viability_ag3_1004', 'servicer_viability_ag3_1005', 'servicer_viability_ag3_1006', 'servicer_viability_ag3_1007', 'servicer_viability_ag3_1008', 'servicer_viability_ag3_1009', 'servicer_viability_ag3_1010', 'servicer_viability_ag3_1011', 'servicer_viability_ag3_1012', 'servicer_viability_ag3_1013', 'servicer_viability_ag3_1014', 'servicer_viability_ag3_1015', 'servicer_viability_ag3_1016', 'servicer_viability_ag3_1017', 'servicer_viability_ag3_1018', 'servicer_viability_ag3_1019']\n",
      "[]\n",
      "['servicer_viability_ag3_1020', 'servicer_viability_ag3_1021', 'servicer_viability_ag3_1022', 'servicer_viability_ag3_1023', 'servicer_viability_ag3_1024', 'servicer_viability_ag3_1025', 'servicer_viability_ag3_1026', 'servicer_viability_ag3_1027', 'servicer_viability_ag3_1028', 'servicer_viability_ag3_1029', 'servicer_viability_ag3_1030', 'servicer_viability_ag3_1031', 'servicer_viability_ag3_1032', 'servicer_viability_ag3_1033', 'servicer_viability_ag3_1034', 'servicer_viability_ag3_1035', 'servicer_viability_ag3_1036', 'servicer_viability_ag3_1037', 'servicer_viability_ag3_1038']\n",
      "[]\n",
      "['servicer_viability_ag3_1039', 'servicer_viability_ag3_1040', 'servicer_viability_ag3_1041', 'servicer_viability_ag3_1042', 'servicer_viability_ag3_1043', 'servicer_viability_ag3_1044', 'servicer_viability_ag3_1045', 'servicer_viability_ag3_1046', 'servicer_viability_ag3_1047', 'servicer_viability_ag3_1048', 'servicer_viability_ag3_1049', 'servicer_viability_ag3_1050', 'servicer_viability_ag3_1051', 'servicer_viability_ag3_1052', 'servicer_viability_ag3_1053', 'servicer_viability_ag3_1054', 'servicer_viability_ag3_1055', 'servicer_viability_ag3_1056', 'servicer_viability_ag3_1057']\n",
      "[]\n",
      "['servicer_viability_ag3_1058', 'servicer_viability_ag3_1059', 'servicer_viability_ag3_1060', 'servicer_viability_ag3_1061', 'servicer_viability_ag3_1062', 'servicer_viability_ag3_1063', 'servicer_viability_ag3_1064', 'servicer_viability_ag3_1065', 'servicer_viability_ag3_1066', 'servicer_viability_ag3_1067', 'servicer_viability_ag3_1068', 'servicer_viability_ag3_1069', 'servicer_viability_ag3_1070', 'servicer_viability_ag3_1071', 'servicer_viability_ag3_1072', 'servicer_viability_ag3_1073', 'servicer_viability_ag3_1074', 'servicer_viability_ag3_1075', 'servicer_viability_ag3_1076']\n",
      "[]\n",
      "['servicer_viability_ag3_1077', 'servicer_viability_ag3_1078', 'servicer_viability_ag3_1079', 'servicer_viability_ag3_1080', 'servicer_viability_ag3_1081', 'servicer_viability_ag3_1082', 'servicer_viability_ag3_1083', 'servicer_viability_ag3_1084', 'servicer_viability_ag3_1085', 'servicer_viability_ag3_1086', 'servicer_viability_ag3_1087', 'servicer_viability_ag3_1088', 'servicer_viability_ag3_1089', 'servicer_viability_ag3_1090', 'servicer_viability_ag3_1091', 'servicer_viability_ag3_1092', 'servicer_viability_ag3_1093', 'servicer_viability_ag3_1094', 'servicer_viability_ag3_1095']\n",
      "[]\n",
      "['servicer_viability_ag3_1096', 'servicer_viability_ag3_1097', 'servicer_viability_ag3_1098', 'servicer_viability_ag3_1099', 'servicer_viability_ag3_1100', 'servicer_viability_ag3_1101', 'servicer_viability_ag3_1102', 'servicer_viability_ag3_1103', 'servicer_viability_ag3_1104', 'servicer_viability_ag3_1105', 'servicer_viability_ag3_1106', 'servicer_viability_ag3_1107', 'servicer_viability_ag3_1108', 'servicer_viability_ag3_1109', 'servicer_viability_ag3_1110', 'servicer_viability_ag3_1111', 'servicer_viability_ag3_1112', 'servicer_viability_ag3_1113', 'servicer_viability_ag3_1114']\n"
     ]
    },
    {
     "name": "stdout",
     "output_type": "stream",
     "text": [
      "[]\n",
      "['servicer_viability_ag3_1115', 'servicer_viability_ag3_1116', 'servicer_viability_ag3_1117', 'servicer_viability_ag3_1118', 'servicer_viability_ag3_1119', 'servicer_viability_ag3_1120', 'servicer_viability_ag3_1121', 'servicer_viability_ag3_1122', 'servicer_viability_ag3_1123', 'servicer_viability_ag3_1124', 'servicer_viability_ag3_1125', 'servicer_viability_ag3_1126', 'servicer_viability_ag3_1127', 'servicer_viability_ag3_1128', 'servicer_viability_ag3_1129', 'servicer_viability_ag3_1130', 'servicer_viability_ag3_1131', 'servicer_viability_ag3_1132', 'servicer_viability_ag3_1133']\n",
      "[]\n",
      "['servicer_viability_ag3_1134', 'servicer_viability_ag3_1135', 'servicer_viability_ag3_1136', 'servicer_viability_ag3_1137', 'servicer_viability_ag3_1138', 'servicer_viability_ag3_1139', 'servicer_viability_ag3_1140', 'servicer_viability_ag3_1141', 'servicer_viability_ag3_1142', 'servicer_viability_ag3_1143', 'servicer_viability_ag3_1144', 'servicer_viability_ag3_1145', 'servicer_viability_ag3_1146', 'servicer_viability_ag3_1147', 'servicer_viability_ag3_1148', 'servicer_viability_ag3_1149', 'servicer_viability_ag3_1150', 'servicer_viability_ag3_1151', 'servicer_viability_ag3_1152']\n",
      "[]\n",
      "-----Downloading KPIs-----\n"
     ]
    },
    {
     "ename": "AssertionError",
     "evalue": "",
     "output_type": "error",
     "traceback": [
      "\u001b[0;31m---------------------------------------------------------------------------\u001b[0m",
      "\u001b[0;31mAssertionError\u001b[0m                            Traceback (most recent call last)",
      "\u001b[0;32m/var/folders/y0/fwkpk2ps087b_2qxvhjstrfr0000gn/T/ipykernel_84621/2249578078.py\u001b[0m in \u001b[0;36m<module>\u001b[0;34m\u001b[0m\n\u001b[1;32m      5\u001b[0m \u001b[0;31m#                        \"network_viability_ag2_\",\"network_failures_oracle_ag2_\"], run_all=True)\u001b[0m\u001b[0;34m\u001b[0m\u001b[0;34m\u001b[0m\u001b[0m\n\u001b[1;32m      6\u001b[0m \u001b[0;34m\u001b[0m\u001b[0m\n\u001b[0;32m----> 7\u001b[0;31m \u001b[0mfull_run_adaptive_grid\u001b[0m\u001b[0;34m(\u001b[0m\u001b[0;34m[\u001b[0m\u001b[0;34m\"servicer_viability_ag3_\"\u001b[0m\u001b[0;34m]\u001b[0m\u001b[0;34m,\u001b[0m \u001b[0mrun_all\u001b[0m\u001b[0;34m=\u001b[0m\u001b[0;32mTrue\u001b[0m\u001b[0;34m)\u001b[0m\u001b[0;34m\u001b[0m\u001b[0;34m\u001b[0m\u001b[0m\n\u001b[0m",
      "\u001b[0;32m~/Dropbox/BlockScience/PocketSimulationModel/cloud_utilities.py\u001b[0m in \u001b[0;36mfull_run_adaptive_grid\u001b[0;34m(grid_names, run_all)\u001b[0m\n\u001b[1;32m    194\u001b[0m     \u001b[0mprint\u001b[0m\u001b[0;34m(\u001b[0m\u001b[0;34m\"-----Downloading KPIs-----\"\u001b[0m\u001b[0;34m)\u001b[0m\u001b[0;34m\u001b[0m\u001b[0;34m\u001b[0m\u001b[0m\n\u001b[1;32m    195\u001b[0m     \u001b[0;32mfor\u001b[0m \u001b[0mname\u001b[0m \u001b[0;32min\u001b[0m \u001b[0mgrid_names\u001b[0m\u001b[0;34m:\u001b[0m\u001b[0;34m\u001b[0m\u001b[0;34m\u001b[0m\u001b[0m\n\u001b[0;32m--> 196\u001b[0;31m         \u001b[0mdownload_experiment_kpi\u001b[0m\u001b[0;34m(\u001b[0m\u001b[0mname\u001b[0m\u001b[0;34m,\u001b[0m \u001b[0ms3\u001b[0m\u001b[0;34m)\u001b[0m\u001b[0;34m\u001b[0m\u001b[0;34m\u001b[0m\u001b[0m\n\u001b[0m\u001b[1;32m    197\u001b[0m     \u001b[0mprint\u001b[0m\u001b[0;34m(\u001b[0m\u001b[0;34m\"-----Determining Next Grids-----\"\u001b[0m\u001b[0;34m)\u001b[0m\u001b[0;34m\u001b[0m\u001b[0;34m\u001b[0m\u001b[0m\n\u001b[1;32m    198\u001b[0m     \u001b[0;32mfor\u001b[0m \u001b[0mname\u001b[0m \u001b[0;32min\u001b[0m \u001b[0mgrid_names\u001b[0m\u001b[0;34m:\u001b[0m\u001b[0;34m\u001b[0m\u001b[0;34m\u001b[0m\u001b[0m\n",
      "\u001b[0;32m~/Dropbox/BlockScience/PocketSimulationModel/cloud_utilities.py\u001b[0m in \u001b[0;36mdownload_experiment_kpi\u001b[0;34m(experiment, s3)\u001b[0m\n\u001b[1;32m    125\u001b[0m \u001b[0;32mdef\u001b[0m \u001b[0mdownload_experiment_kpi\u001b[0m\u001b[0;34m(\u001b[0m\u001b[0mexperiment\u001b[0m\u001b[0;34m,\u001b[0m \u001b[0ms3\u001b[0m\u001b[0;34m)\u001b[0m\u001b[0;34m:\u001b[0m\u001b[0;34m\u001b[0m\u001b[0;34m\u001b[0m\u001b[0m\n\u001b[1;32m    126\u001b[0m     \u001b[0mruns\u001b[0m \u001b[0;34m=\u001b[0m \u001b[0mcreate_expected_runs_dataframe\u001b[0m\u001b[0;34m(\u001b[0m\u001b[0ms3\u001b[0m\u001b[0;34m,\u001b[0m \u001b[0mexperiment\u001b[0m\u001b[0;34m)\u001b[0m\u001b[0;34m\u001b[0m\u001b[0;34m\u001b[0m\u001b[0m\n\u001b[0;32m--> 127\u001b[0;31m     \u001b[0;32massert\u001b[0m \u001b[0mruns\u001b[0m\u001b[0;34m[\u001b[0m\u001b[0;34m\"Complete\"\u001b[0m\u001b[0;34m]\u001b[0m\u001b[0;34m.\u001b[0m\u001b[0mall\u001b[0m\u001b[0;34m(\u001b[0m\u001b[0;34m)\u001b[0m\u001b[0;34m\u001b[0m\u001b[0;34m\u001b[0m\u001b[0m\n\u001b[0m\u001b[1;32m    128\u001b[0m \u001b[0;34m\u001b[0m\u001b[0m\n\u001b[1;32m    129\u001b[0m     \u001b[0mfiles\u001b[0m \u001b[0;34m=\u001b[0m \u001b[0;34m[\u001b[0m\u001b[0;34m]\u001b[0m\u001b[0;34m\u001b[0m\u001b[0;34m\u001b[0m\u001b[0m\n",
      "\u001b[0;31mAssertionError\u001b[0m: "
     ]
    }
   ],
   "source": [
    "import os\n",
    "os.chdir(\"..\")\n",
    "from cloud_utilities import full_run_adaptive_grid\n",
    "#full_run_adaptive_grid([\"network_failures_service_ag2_\",\"servicer_viability_ag2_\",\n",
    "#                        \"network_viability_ag2_\",\"network_failures_oracle_ag2_\"], run_all=True)\n",
    "\n",
    "full_run_adaptive_grid([\"servicer_viability_ag3_\"], run_all=True)"
   ]
  },
  {
   "cell_type": "code",
   "execution_count": null,
   "id": "62ef2291",
   "metadata": {},
   "outputs": [],
   "source": []
  }
 ],
 "metadata": {
  "kernelspec": {
   "display_name": "Python 3 (ipykernel)",
   "language": "python",
   "name": "python3"
  },
  "language_info": {
   "codemirror_mode": {
    "name": "ipython",
    "version": 3
   },
   "file_extension": ".py",
   "mimetype": "text/x-python",
   "name": "python",
   "nbconvert_exporter": "python",
   "pygments_lexer": "ipython3",
   "version": "3.9.12"
  }
 },
 "nbformat": 4,
 "nbformat_minor": 5
}
