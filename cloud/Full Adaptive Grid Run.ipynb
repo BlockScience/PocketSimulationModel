{
 "cells": [
  {
   "cell_type": "code",
   "execution_count": null,
   "id": "02ded797",
   "metadata": {
    "scrolled": false
   },
   "outputs": [
    {
     "name": "stderr",
     "output_type": "stream",
     "text": [
      "/Users/seanmcowen/opt/anaconda3/envs/BlockScience/lib/python3.9/site-packages/tqdm/auto.py:22: TqdmWarning: IProgress not found. Please update jupyter and ipywidgets. See https://ipywidgets.readthedocs.io/en/stable/user_install.html\n",
      "  from .autonotebook import tqdm as notebook_tqdm\n"
     ]
    },
    {
     "name": "stdout",
     "output_type": "stream",
     "text": [
      "-----Creating Expected Runs Dataframe-----\n",
      "-----Launching Containers-----\n",
      "['network_failures_service_ag4_1', 'network_failures_service_ag4_2', 'network_failures_service_ag4_3', 'network_failures_service_ag4_4', 'network_failures_service_ag4_5', 'network_failures_service_ag4_6', 'network_failures_service_ag4_7', 'network_failures_service_ag4_8', 'network_failures_service_ag4_9', 'network_failures_service_ag4_10', 'network_failures_service_ag4_11', 'network_failures_service_ag4_12', 'network_failures_service_ag4_13', 'network_failures_service_ag4_14', 'network_failures_service_ag4_15', 'network_failures_service_ag4_16', 'network_failures_service_ag4_17', 'network_failures_service_ag4_18', 'network_failures_service_ag4_19', 'network_failures_service_ag4_20']\n",
      "[]\n",
      "['network_failures_service_ag4_21', 'network_failures_service_ag4_22', 'network_failures_service_ag4_23', 'network_failures_service_ag4_24', 'network_failures_service_ag4_25', 'network_failures_service_ag4_26', 'network_failures_service_ag4_27', 'network_failures_service_ag4_28', 'network_failures_service_ag4_29', 'network_failures_service_ag4_30', 'network_failures_service_ag4_31', 'network_failures_service_ag4_32', 'network_failures_service_ag4_33', 'network_failures_service_ag4_34', 'network_failures_service_ag4_35', 'network_failures_service_ag4_36', 'network_failures_service_ag4_37', 'network_failures_service_ag4_38', 'network_failures_service_ag4_39']\n",
      "[]\n",
      "['network_failures_service_ag4_40', 'network_failures_service_ag4_41', 'network_failures_service_ag4_42', 'network_failures_service_ag4_43', 'network_failures_service_ag4_44', 'network_failures_service_ag4_45', 'network_failures_service_ag4_46', 'network_failures_service_ag4_47', 'network_failures_service_ag4_48', 'network_failures_service_ag4_49', 'network_failures_service_ag4_50', 'network_failures_service_ag4_51', 'network_failures_service_ag4_52', 'network_failures_service_ag4_53', 'network_failures_service_ag4_54', 'network_failures_service_ag4_55', 'network_failures_service_ag4_56', 'network_failures_service_ag4_57', 'network_failures_service_ag4_58']\n",
      "[]\n",
      "['network_failures_service_ag4_59', 'network_failures_service_ag4_60', 'network_failures_service_ag4_61', 'network_failures_service_ag4_62', 'network_failures_service_ag4_63', 'network_failures_service_ag4_64', 'network_failures_service_ag4_65', 'network_failures_service_ag4_66', 'network_failures_service_ag4_67', 'network_failures_service_ag4_68', 'network_failures_service_ag4_69', 'network_failures_service_ag4_70', 'network_failures_service_ag4_71', 'network_failures_service_ag4_72', 'network_failures_service_ag4_73', 'network_failures_service_ag4_74', 'network_failures_service_ag4_75', 'network_failures_service_ag4_76', 'network_failures_service_ag4_77']\n",
      "[]\n",
      "['network_failures_service_ag4_78', 'network_failures_service_ag4_79', 'network_failures_service_ag4_80', 'network_failures_service_ag4_81', 'network_failures_service_ag4_82', 'network_failures_service_ag4_83', 'network_failures_service_ag4_84', 'network_failures_service_ag4_85', 'network_failures_service_ag4_86', 'network_failures_service_ag4_87', 'network_failures_service_ag4_88', 'network_failures_service_ag4_89', 'network_failures_service_ag4_90', 'network_failures_service_ag4_91', 'network_failures_service_ag4_92', 'network_failures_service_ag4_93', 'network_failures_service_ag4_94', 'network_failures_service_ag4_95', 'network_failures_service_ag4_96']\n",
      "[]\n",
      "\n",
      "\n"
     ]
    }
   ],
   "source": [
    "import os\n",
    "os.chdir(\"..\")\n",
    "from cloud_utilities import full_run_adaptive_grid\n",
    "full_run_adaptive_grid([\"network_failures_service_ag4_\"])"
   ]
  },
  {
   "cell_type": "code",
   "execution_count": null,
   "id": "827c57b2",
   "metadata": {},
   "outputs": [],
   "source": []
  }
 ],
 "metadata": {
  "kernelspec": {
   "display_name": "Python 3 (ipykernel)",
   "language": "python",
   "name": "python3"
  },
  "language_info": {
   "codemirror_mode": {
    "name": "ipython",
    "version": 3
   },
   "file_extension": ".py",
   "mimetype": "text/x-python",
   "name": "python",
   "nbconvert_exporter": "python",
   "pygments_lexer": "ipython3",
   "version": "3.9.12"
  }
 },
 "nbformat": 4,
 "nbformat_minor": 5
}
