{
 "cells": [
  {
   "cell_type": "code",
   "execution_count": null,
   "id": "02ded797",
   "metadata": {
    "scrolled": false
   },
   "outputs": [
    {
     "name": "stderr",
     "output_type": "stream",
     "text": [
      "/Users/seanmcowen/opt/anaconda3/envs/BlockScience/lib/python3.9/site-packages/tqdm/auto.py:22: TqdmWarning: IProgress not found. Please update jupyter and ipywidgets. See https://ipywidgets.readthedocs.io/en/stable/user_install.html\n",
      "  from .autonotebook import tqdm as notebook_tqdm\n"
     ]
    },
    {
     "name": "stdout",
     "output_type": "stream",
     "text": [
      "-----Creating Expected Runs Dataframe-----\n",
      "-----Launching Containers-----\n",
      "['servicer_viability_ag3_961', 'servicer_viability_ag3_962', 'servicer_viability_ag3_963', 'servicer_viability_ag3_964', 'servicer_viability_ag3_965', 'servicer_viability_ag3_966', 'servicer_viability_ag3_967', 'servicer_viability_ag3_968', 'servicer_viability_ag3_969', 'servicer_viability_ag3_970', 'servicer_viability_ag3_971', 'servicer_viability_ag3_972', 'servicer_viability_ag3_973', 'servicer_viability_ag3_974', 'servicer_viability_ag3_975', 'servicer_viability_ag3_976', 'servicer_viability_ag3_977', 'servicer_viability_ag3_978', 'servicer_viability_ag3_979', 'servicer_viability_ag3_980']\n",
      "[]\n",
      "['servicer_viability_ag3_981', 'servicer_viability_ag3_982', 'servicer_viability_ag3_983', 'servicer_viability_ag3_984', 'servicer_viability_ag3_985', 'servicer_viability_ag3_986', 'servicer_viability_ag3_987', 'servicer_viability_ag3_988', 'servicer_viability_ag3_989', 'servicer_viability_ag3_990', 'servicer_viability_ag3_991', 'servicer_viability_ag3_992', 'servicer_viability_ag3_993', 'servicer_viability_ag3_994', 'servicer_viability_ag3_995', 'servicer_viability_ag3_996', 'servicer_viability_ag3_997', 'servicer_viability_ag3_998', 'servicer_viability_ag3_999', 'servicer_viability_ag3_1000']\n",
      "[]\n",
      "['servicer_viability_ag3_1001', 'servicer_viability_ag3_1002', 'servicer_viability_ag3_1003', 'servicer_viability_ag3_1004', 'servicer_viability_ag3_1005', 'servicer_viability_ag3_1006', 'servicer_viability_ag3_1007', 'servicer_viability_ag3_1008', 'servicer_viability_ag3_1009', 'servicer_viability_ag3_1010', 'servicer_viability_ag3_1011', 'servicer_viability_ag3_1012', 'servicer_viability_ag3_1013', 'servicer_viability_ag3_1014', 'servicer_viability_ag3_1015', 'servicer_viability_ag3_1016', 'servicer_viability_ag3_1017', 'servicer_viability_ag3_1018', 'servicer_viability_ag3_1019', 'servicer_viability_ag3_1058']\n",
      "[]\n",
      "['servicer_viability_ag3_1059', 'servicer_viability_ag3_1060', 'servicer_viability_ag3_1061', 'servicer_viability_ag3_1062', 'servicer_viability_ag3_1063', 'servicer_viability_ag3_1064', 'servicer_viability_ag3_1065', 'servicer_viability_ag3_1066', 'servicer_viability_ag3_1067', 'servicer_viability_ag3_1068', 'servicer_viability_ag3_1069', 'servicer_viability_ag3_1070', 'servicer_viability_ag3_1071', 'servicer_viability_ag3_1072', 'servicer_viability_ag3_1073', 'servicer_viability_ag3_1074', 'servicer_viability_ag3_1075', 'servicer_viability_ag3_1076', 'servicer_viability_ag3_1094', 'servicer_viability_ag3_1095']\n",
      "[]\n",
      "['servicer_viability_ag3_1096', 'servicer_viability_ag3_1097', 'servicer_viability_ag3_1098', 'servicer_viability_ag3_1099', 'servicer_viability_ag3_1100', 'servicer_viability_ag3_1101', 'servicer_viability_ag3_1102', 'servicer_viability_ag3_1103', 'servicer_viability_ag3_1104', 'servicer_viability_ag3_1105', 'servicer_viability_ag3_1106', 'servicer_viability_ag3_1107', 'servicer_viability_ag3_1108', 'servicer_viability_ag3_1109', 'servicer_viability_ag3_1110', 'servicer_viability_ag3_1111', 'servicer_viability_ag3_1112', 'servicer_viability_ag3_1113', 'servicer_viability_ag3_1114']\n",
      "[]\n",
      "['servicer_viability_ag3_1115', 'servicer_viability_ag3_1116', 'servicer_viability_ag3_1117', 'servicer_viability_ag3_1118', 'servicer_viability_ag3_1119', 'servicer_viability_ag3_1120', 'servicer_viability_ag3_1121', 'servicer_viability_ag3_1122', 'servicer_viability_ag3_1123', 'servicer_viability_ag3_1124', 'servicer_viability_ag3_1125', 'servicer_viability_ag3_1126', 'servicer_viability_ag3_1127', 'servicer_viability_ag3_1128', 'servicer_viability_ag3_1129', 'servicer_viability_ag3_1130', 'servicer_viability_ag3_1131', 'servicer_viability_ag3_1132', 'servicer_viability_ag3_1133']\n",
      "[]\n",
      "['servicer_viability_ag3_1134', 'servicer_viability_ag3_1135', 'servicer_viability_ag3_1136', 'servicer_viability_ag3_1137', 'servicer_viability_ag3_1138', 'servicer_viability_ag3_1139', 'servicer_viability_ag3_1140', 'servicer_viability_ag3_1141', 'servicer_viability_ag3_1142', 'servicer_viability_ag3_1143', 'servicer_viability_ag3_1144', 'servicer_viability_ag3_1145', 'servicer_viability_ag3_1146', 'servicer_viability_ag3_1147', 'servicer_viability_ag3_1148', 'servicer_viability_ag3_1149', 'servicer_viability_ag3_1150', 'servicer_viability_ag3_1151', 'servicer_viability_ag3_1152']\n",
      "[]\n",
      "-----Downloading KPIs-----\n"
     ]
    }
   ],
   "source": [
    "import os\n",
    "os.chdir(\"..\")\n",
    "from cloud_utilities import full_run_adaptive_grid\n",
    "#full_run_adaptive_grid([\"network_failures_service_ag2_\",\"servicer_viability_ag2_\",\n",
    "#                        \"network_viability_ag2_\",\"network_failures_oracle_ag2_\"], run_all=True)\n",
    "\n",
    "full_run_adaptive_grid([\"servicer_viability_ag3_\"])"
   ]
  },
  {
   "cell_type": "code",
   "execution_count": null,
   "id": "9841d0d4",
   "metadata": {},
   "outputs": [],
   "source": []
  }
 ],
 "metadata": {
  "kernelspec": {
   "display_name": "Python 3 (ipykernel)",
   "language": "python",
   "name": "python3"
  },
  "language_info": {
   "codemirror_mode": {
    "name": "ipython",
    "version": 3
   },
   "file_extension": ".py",
   "mimetype": "text/x-python",
   "name": "python",
   "nbconvert_exporter": "python",
   "pygments_lexer": "ipython3",
   "version": "3.9.12"
  }
 },
 "nbformat": 4,
 "nbformat_minor": 5
}
