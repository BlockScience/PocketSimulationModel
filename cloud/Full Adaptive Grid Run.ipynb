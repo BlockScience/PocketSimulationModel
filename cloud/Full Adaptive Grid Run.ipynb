{
 "cells": [
  {
   "cell_type": "code",
   "execution_count": null,
   "id": "02ded797",
   "metadata": {
    "scrolled": false
   },
   "outputs": [
    {
     "name": "stderr",
     "output_type": "stream",
     "text": [
      "/Users/seanmcowen/opt/anaconda3/envs/BlockScience/lib/python3.9/site-packages/tqdm/auto.py:22: TqdmWarning: IProgress not found. Please update jupyter and ipywidgets. See https://ipywidgets.readthedocs.io/en/stable/user_install.html\n",
      "  from .autonotebook import tqdm as notebook_tqdm\n"
     ]
    },
    {
     "name": "stdout",
     "output_type": "stream",
     "text": [
      "-----Creating Expected Runs Dataframe-----\n",
      "-----Launching Containers-----\n",
      "['network_viability_ag1_1', 'network_viability_ag1_2', 'network_viability_ag1_3', 'network_viability_ag1_4', 'network_viability_ag1_5', 'network_viability_ag1_6', 'network_viability_ag1_7', 'network_viability_ag1_8', 'network_viability_ag1_9', 'network_viability_ag1_10', 'network_viability_ag1_11', 'network_viability_ag1_12', 'network_viability_ag1_13', 'network_viability_ag1_14', 'network_viability_ag1_15', 'network_viability_ag1_16', 'network_viability_ag1_17', 'network_viability_ag1_18', 'network_viability_ag1_19', 'network_viability_ag1_20']\n",
      "[]\n",
      "['network_viability_ag1_21', 'network_viability_ag1_22', 'network_viability_ag1_23', 'network_viability_ag1_24', 'network_viability_ag1_25', 'network_viability_ag1_26', 'network_viability_ag1_27', 'network_viability_ag1_28', 'network_viability_ag1_29', 'network_viability_ag1_30', 'network_viability_ag1_31', 'network_viability_ag1_32', 'network_viability_ag1_33', 'network_viability_ag1_34', 'network_viability_ag1_35', 'network_viability_ag1_36', 'network_viability_ag1_37', 'network_viability_ag1_38', 'network_viability_ag1_39', 'network_viability_ag1_40']\n",
      "[]\n",
      "['network_viability_ag1_41', 'network_viability_ag1_42', 'network_viability_ag1_43', 'network_viability_ag1_44', 'network_viability_ag1_45', 'network_viability_ag1_46', 'network_viability_ag1_47', 'network_viability_ag1_48', 'network_viability_ag1_49', 'network_viability_ag1_50', 'network_viability_ag1_51', 'network_viability_ag1_52', 'network_viability_ag1_53', 'network_viability_ag1_54', 'network_viability_ag1_55', 'network_viability_ag1_56', 'network_viability_ag1_57', 'network_viability_ag1_58', 'network_viability_ag1_59', 'network_viability_ag1_60']\n",
      "[]\n",
      "['network_viability_ag1_61', 'network_viability_ag1_62', 'network_viability_ag1_63', 'network_viability_ag1_64', 'network_viability_ag1_65', 'network_viability_ag1_66', 'network_viability_ag1_67', 'network_viability_ag1_68', 'network_viability_ag1_69', 'network_viability_ag1_70', 'network_viability_ag1_71', 'network_viability_ag1_72', 'network_viability_ag1_73', 'network_viability_ag1_74', 'network_viability_ag1_75', 'network_viability_ag1_76', 'network_viability_ag1_77', 'network_viability_ag1_78', 'network_viability_ag1_79', 'network_viability_ag1_80']\n",
      "[]\n",
      "['network_viability_ag1_81', 'network_viability_ag1_82', 'network_viability_ag1_83', 'network_viability_ag1_84', 'network_viability_ag1_85', 'network_viability_ag1_86', 'network_viability_ag1_87', 'network_viability_ag1_88', 'network_viability_ag1_89', 'network_viability_ag1_90', 'network_viability_ag1_91', 'network_viability_ag1_92', 'network_viability_ag1_93', 'network_viability_ag1_94', 'network_viability_ag1_95', 'network_viability_ag1_96', 'network_viability_ag1_97', 'network_viability_ag1_98', 'network_viability_ag1_99', 'network_viability_ag1_100']\n",
      "[]\n",
      "['network_viability_ag1_101', 'network_viability_ag1_102', 'network_viability_ag1_103', 'network_viability_ag1_104', 'network_viability_ag1_105', 'network_viability_ag1_106', 'network_viability_ag1_107', 'network_viability_ag1_108', 'network_viability_ag1_109', 'network_viability_ag1_110', 'network_viability_ag1_111', 'network_viability_ag1_112', 'network_viability_ag1_113', 'network_viability_ag1_114', 'network_viability_ag1_115', 'network_viability_ag1_116', 'network_viability_ag1_117', 'network_viability_ag1_118', 'network_viability_ag1_119', 'network_viability_ag1_120']\n",
      "[]\n",
      "['network_viability_ag1_121', 'network_viability_ag1_122', 'network_viability_ag1_123', 'network_viability_ag1_124', 'network_viability_ag1_125', 'network_viability_ag1_126', 'network_viability_ag1_127', 'network_viability_ag1_128', 'network_viability_ag1_129', 'network_viability_ag1_130', 'network_viability_ag1_131', 'network_viability_ag1_132', 'network_viability_ag1_133', 'network_viability_ag1_134', 'network_viability_ag1_135', 'network_viability_ag1_136', 'network_viability_ag1_137', 'network_viability_ag1_138', 'network_viability_ag1_139', 'network_viability_ag1_140']\n",
      "[]\n",
      "['network_viability_ag1_141', 'network_viability_ag1_142', 'network_viability_ag1_143', 'network_viability_ag1_144', 'network_viability_ag1_145', 'network_viability_ag1_146', 'network_viability_ag1_147', 'network_viability_ag1_148', 'network_viability_ag1_149', 'network_viability_ag1_150', 'network_viability_ag1_151', 'network_viability_ag1_152', 'network_viability_ag1_153', 'network_viability_ag1_154', 'network_viability_ag1_155', 'network_viability_ag1_156', 'network_viability_ag1_157', 'network_viability_ag1_158', 'network_viability_ag1_159', 'network_viability_ag1_160']\n",
      "[]\n",
      "['network_viability_ag1_161', 'network_viability_ag1_162', 'network_viability_ag1_163', 'network_viability_ag1_164', 'network_viability_ag1_165', 'network_viability_ag1_166', 'network_viability_ag1_167', 'network_viability_ag1_168', 'network_viability_ag1_169', 'network_viability_ag1_170', 'network_viability_ag1_171', 'network_viability_ag1_172', 'network_viability_ag1_173', 'network_viability_ag1_174', 'network_viability_ag1_175', 'network_viability_ag1_176', 'network_viability_ag1_177', 'network_viability_ag1_178', 'network_viability_ag1_179', 'network_viability_ag1_180']\n",
      "[]\n",
      "['network_viability_ag1_181', 'network_viability_ag1_182', 'network_viability_ag1_183', 'network_viability_ag1_184', 'network_viability_ag1_185', 'network_viability_ag1_186', 'network_viability_ag1_187', 'network_viability_ag1_188', 'network_viability_ag1_189', 'network_viability_ag1_190', 'network_viability_ag1_191', 'network_viability_ag1_192', 'network_viability_ag1_193', 'network_viability_ag1_194', 'network_viability_ag1_195', 'network_viability_ag1_196', 'network_viability_ag1_197', 'network_viability_ag1_198', 'network_viability_ag1_199', 'network_viability_ag1_200']\n",
      "[]\n",
      "['network_viability_ag1_201', 'network_viability_ag1_202', 'network_viability_ag1_203', 'network_viability_ag1_204', 'network_viability_ag1_205', 'network_viability_ag1_206', 'network_viability_ag1_207', 'network_viability_ag1_208', 'network_viability_ag1_209', 'network_viability_ag1_210', 'network_viability_ag1_211', 'network_viability_ag1_212', 'network_viability_ag1_213', 'network_viability_ag1_214', 'network_viability_ag1_215', 'network_viability_ag1_216', 'network_viability_ag1_217', 'network_viability_ag1_218', 'network_viability_ag1_219', 'network_viability_ag1_220']\n",
      "[]\n",
      "['network_viability_ag1_221', 'network_viability_ag1_222', 'network_viability_ag1_223', 'network_viability_ag1_224', 'network_viability_ag1_225', 'network_viability_ag1_226', 'network_viability_ag1_227', 'network_viability_ag1_228', 'network_viability_ag1_229', 'network_viability_ag1_230', 'network_viability_ag1_231', 'network_viability_ag1_232', 'network_viability_ag1_233', 'network_viability_ag1_234', 'network_viability_ag1_235', 'network_viability_ag1_236', 'network_viability_ag1_237', 'network_viability_ag1_238', 'network_viability_ag1_239', 'network_viability_ag1_240']\n",
      "[]\n",
      "['network_viability_ag1_241', 'network_viability_ag1_242', 'network_viability_ag1_243', 'network_viability_ag1_244', 'network_viability_ag1_245', 'network_viability_ag1_246', 'network_viability_ag1_247', 'network_viability_ag1_248', 'network_viability_ag1_249', 'network_viability_ag1_250', 'network_viability_ag1_251', 'network_viability_ag1_252', 'network_viability_ag1_253', 'network_viability_ag1_254', 'network_viability_ag1_255', 'network_viability_ag1_256', 'network_viability_ag1_257', 'network_viability_ag1_258', 'network_viability_ag1_259', 'network_viability_ag1_260']\n",
      "[]\n",
      "['network_viability_ag1_261', 'network_viability_ag1_262', 'network_viability_ag1_263', 'network_viability_ag1_264', 'network_viability_ag1_265', 'network_viability_ag1_266', 'network_viability_ag1_267', 'network_viability_ag1_268', 'network_viability_ag1_269', 'network_viability_ag1_270', 'network_viability_ag1_271', 'network_viability_ag1_272', 'network_viability_ag1_273', 'network_viability_ag1_274', 'network_viability_ag1_275', 'network_viability_ag1_276', 'network_viability_ag1_277', 'network_viability_ag1_278', 'network_viability_ag1_279', 'network_viability_ag1_280']\n",
      "[]\n",
      "['network_viability_ag1_281', 'network_viability_ag1_282', 'network_viability_ag1_283', 'network_viability_ag1_284', 'network_viability_ag1_285', 'network_viability_ag1_286', 'network_viability_ag1_287', 'network_viability_ag1_288', 'network_viability_ag1_289', 'network_viability_ag1_290', 'network_viability_ag1_291', 'network_viability_ag1_292', 'network_viability_ag1_293', 'network_viability_ag1_294', 'network_viability_ag1_295', 'network_viability_ag1_296', 'network_viability_ag1_297', 'network_viability_ag1_298', 'network_viability_ag1_299', 'network_viability_ag1_300']\n"
     ]
    },
    {
     "name": "stdout",
     "output_type": "stream",
     "text": [
      "[]\n",
      "['network_viability_ag1_301', 'network_viability_ag1_302', 'network_viability_ag1_303', 'network_viability_ag1_304', 'network_viability_ag1_305', 'network_viability_ag1_306', 'network_viability_ag1_307', 'network_viability_ag1_308', 'network_viability_ag1_309', 'network_viability_ag1_310', 'network_viability_ag1_311', 'network_viability_ag1_312', 'network_viability_ag1_313', 'network_viability_ag1_314', 'network_viability_ag1_315', 'network_viability_ag1_316', 'network_viability_ag1_317', 'network_viability_ag1_318', 'network_viability_ag1_319', 'network_viability_ag1_320']\n",
      "[]\n",
      "['network_viability_ag1_321', 'network_viability_ag1_322', 'network_viability_ag1_323', 'network_viability_ag1_324', 'network_viability_ag1_325', 'network_viability_ag1_326', 'network_viability_ag1_327', 'network_viability_ag1_328', 'network_viability_ag1_329', 'network_viability_ag1_330', 'network_viability_ag1_331', 'network_viability_ag1_332', 'network_viability_ag1_333', 'network_viability_ag1_334', 'network_viability_ag1_335', 'network_viability_ag1_336', 'network_viability_ag1_337', 'network_viability_ag1_338', 'network_viability_ag1_339', 'network_viability_ag1_340']\n",
      "[]\n"
     ]
    }
   ],
   "source": [
    "import os\n",
    "os.chdir(\"..\")\n",
    "from cloud_utilities import full_run_adaptive_grid\n",
    "full_run_adaptive_grid([\"network_viability_ag1_\"], run_all=True)"
   ]
  },
  {
   "cell_type": "code",
   "execution_count": 2,
   "id": "827c57b2",
   "metadata": {},
   "outputs": [],
   "source": [
    "import boto3\n",
    "session = boto3.Session(profile_name=\"default\")\n",
    "s3 = session.client(\"s3\")\n",
    "ecs = boto3.client(\"ecs\")"
   ]
  },
  {
   "cell_type": "code",
   "execution_count": 3,
   "id": "544f5594",
   "metadata": {},
   "outputs": [
    {
     "data": {
      "text/plain": [
       "[]"
      ]
     },
     "execution_count": 3,
     "metadata": {},
     "output_type": "execute_result"
    }
   ],
   "source": [
    "ecs.list_container_instances(cluster=\"PocketRuns\")[\n",
    "            \"containerInstanceArns\"\n",
    "        ]"
   ]
  },
  {
   "cell_type": "code",
   "execution_count": 6,
   "id": "e9fbaa90",
   "metadata": {},
   "outputs": [
    {
     "data": {
      "text/plain": [
       "17"
      ]
     },
     "execution_count": 6,
     "metadata": {},
     "output_type": "execute_result"
    }
   ],
   "source": [
    "len(ecs.list_tasks(cluster=\"PocketRuns\")['taskArns'])"
   ]
  },
  {
   "cell_type": "code",
   "execution_count": null,
   "id": "eeeea514",
   "metadata": {},
   "outputs": [],
   "source": []
  }
 ],
 "metadata": {
  "kernelspec": {
   "display_name": "Python 3 (ipykernel)",
   "language": "python",
   "name": "python3"
  },
  "language_info": {
   "codemirror_mode": {
    "name": "ipython",
    "version": 3
   },
   "file_extension": ".py",
   "mimetype": "text/x-python",
   "name": "python",
   "nbconvert_exporter": "python",
   "pygments_lexer": "ipython3",
   "version": "3.9.12"
  }
 },
 "nbformat": 4,
 "nbformat_minor": 5
}
