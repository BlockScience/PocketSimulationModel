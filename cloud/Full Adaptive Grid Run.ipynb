{
 "cells": [
  {
   "cell_type": "code",
   "execution_count": 1,
   "id": "02ded797",
   "metadata": {
    "scrolled": false
   },
   "outputs": [
    {
     "name": "stderr",
     "output_type": "stream",
     "text": [
      "/Users/seanmcowen/opt/anaconda3/envs/BlockScience/lib/python3.9/site-packages/tqdm/auto.py:22: TqdmWarning: IProgress not found. Please update jupyter and ipywidgets. See https://ipywidgets.readthedocs.io/en/stable/user_install.html\n",
      "  from .autonotebook import tqdm as notebook_tqdm\n"
     ]
    },
    {
     "name": "stdout",
     "output_type": "stream",
     "text": [
      "-----Creating Expected Runs Dataframe-----\n",
      "-----Launching Containers-----\n",
      "['network_viability_ag1_1153', 'network_viability_ag1_1154', 'network_viability_ag1_1155', 'network_viability_ag1_1156', 'network_viability_ag1_1157', 'network_viability_ag1_1158', 'network_viability_ag1_1159', 'network_viability_ag1_1160', 'network_viability_ag1_1161', 'network_viability_ag1_1162', 'network_viability_ag1_1163', 'network_viability_ag1_1164', 'network_viability_ag1_1165', 'network_viability_ag1_1166', 'network_viability_ag1_1167', 'network_viability_ag1_1168', 'network_viability_ag1_1169', 'network_viability_ag1_1170', 'network_viability_ag1_1171', 'network_viability_ag1_1172']\n",
      "[]\n",
      "['network_viability_ag1_1173', 'network_viability_ag1_1174', 'network_viability_ag1_1175', 'network_viability_ag1_1176', 'network_viability_ag1_1177', 'network_viability_ag1_1178', 'network_viability_ag1_1179', 'network_viability_ag1_1180', 'network_viability_ag1_1181', 'network_viability_ag1_1182', 'network_viability_ag1_1183', 'network_viability_ag1_1184', 'network_viability_ag1_1185', 'network_viability_ag1_1186', 'network_viability_ag1_1187', 'network_viability_ag1_1188', 'network_viability_ag1_1189', 'network_viability_ag1_1190', 'network_viability_ag1_1191', 'network_viability_ag1_1192']\n",
      "[]\n",
      "['network_viability_ag1_1193', 'network_viability_ag1_1194', 'network_viability_ag1_1195', 'network_viability_ag1_1196', 'network_viability_ag1_1197', 'network_viability_ag1_1198', 'network_viability_ag1_1199', 'network_viability_ag1_1200', 'network_viability_ag1_1201', 'network_viability_ag1_1202', 'network_viability_ag1_1203', 'network_viability_ag1_1204', 'network_viability_ag1_1205', 'network_viability_ag1_1206', 'network_viability_ag1_1207', 'network_viability_ag1_1208', 'network_viability_ag1_1209', 'network_viability_ag1_1210', 'network_viability_ag1_1211', 'network_viability_ag1_1212']\n",
      "[]\n",
      "['network_viability_ag1_1213', 'network_viability_ag1_1214', 'network_viability_ag1_1215', 'network_viability_ag1_1216', 'network_viability_ag1_1217', 'network_viability_ag1_1218', 'network_viability_ag1_1219', 'network_viability_ag1_1220', 'network_viability_ag1_1221', 'network_viability_ag1_1222', 'network_viability_ag1_1223', 'network_viability_ag1_1224', 'network_viability_ag1_1225', 'network_viability_ag1_1226', 'network_viability_ag1_1227', 'network_viability_ag1_1228', 'network_viability_ag1_1229', 'network_viability_ag1_1230', 'network_viability_ag1_1231', 'network_viability_ag1_1232']\n",
      "[]\n",
      "['network_viability_ag1_1233', 'network_viability_ag1_1234', 'network_viability_ag1_1235', 'network_viability_ag1_1236', 'network_viability_ag1_1237', 'network_viability_ag1_1238', 'network_viability_ag1_1239', 'network_viability_ag1_1240', 'network_viability_ag1_1241', 'network_viability_ag1_1242', 'network_viability_ag1_1243', 'network_viability_ag1_1244', 'network_viability_ag1_1245', 'network_viability_ag1_1246', 'network_viability_ag1_1247', 'network_viability_ag1_1248', 'network_viability_ag1_1249', 'network_viability_ag1_1250', 'network_viability_ag1_1251', 'network_viability_ag1_1252']\n",
      "[]\n",
      "['network_viability_ag1_1253', 'network_viability_ag1_1254', 'network_viability_ag1_1255', 'network_viability_ag1_1256', 'network_viability_ag1_1257', 'network_viability_ag1_1258', 'network_viability_ag1_1259', 'network_viability_ag1_1260', 'network_viability_ag1_1261', 'network_viability_ag1_1262', 'network_viability_ag1_1263', 'network_viability_ag1_1264', 'network_viability_ag1_1265', 'network_viability_ag1_1266', 'network_viability_ag1_1267', 'network_viability_ag1_1268', 'network_viability_ag1_1269', 'network_viability_ag1_1270', 'network_viability_ag1_1271', 'network_viability_ag1_1272']\n",
      "[]\n",
      "['network_viability_ag1_1273', 'network_viability_ag1_1274', 'network_viability_ag1_1275', 'network_viability_ag1_1276', 'network_viability_ag1_1277', 'network_viability_ag1_1278', 'network_viability_ag1_1279', 'network_viability_ag1_1280', 'network_viability_ag1_1281', 'network_viability_ag1_1282', 'network_viability_ag1_1283', 'network_viability_ag1_1284', 'network_viability_ag1_1285', 'network_viability_ag1_1286', 'network_viability_ag1_1287', 'network_viability_ag1_1288', 'network_viability_ag1_1289', 'network_viability_ag1_1290', 'network_viability_ag1_1291', 'network_viability_ag1_1292']\n",
      "[]\n",
      "['network_viability_ag1_1293', 'network_viability_ag1_1294', 'network_viability_ag1_1295', 'network_viability_ag1_1296', 'network_viability_ag1_1297', 'network_viability_ag1_1298', 'network_viability_ag1_1299', 'network_viability_ag1_1300', 'network_viability_ag1_1301', 'network_viability_ag1_1302', 'network_viability_ag1_1303', 'network_viability_ag1_1304', 'network_viability_ag1_1305', 'network_viability_ag1_1306', 'network_viability_ag1_1307', 'network_viability_ag1_1308', 'network_viability_ag1_1309', 'network_viability_ag1_1310', 'network_viability_ag1_1311', 'network_viability_ag1_1312']\n",
      "[]\n",
      "['network_viability_ag1_1313', 'network_viability_ag1_1314', 'network_viability_ag1_1315', 'network_viability_ag1_1316', 'network_viability_ag1_1317', 'network_viability_ag1_1318', 'network_viability_ag1_1319', 'network_viability_ag1_1320', 'network_viability_ag1_1321', 'network_viability_ag1_1322', 'network_viability_ag1_1323', 'network_viability_ag1_1324', 'network_viability_ag1_1325', 'network_viability_ag1_1326', 'network_viability_ag1_1327', 'network_viability_ag1_1328', 'network_viability_ag1_1329', 'network_viability_ag1_1330', 'network_viability_ag1_1331', 'network_viability_ag1_1332']\n",
      "[]\n",
      "['network_viability_ag1_1333', 'network_viability_ag1_1334', 'network_viability_ag1_1335', 'network_viability_ag1_1336', 'network_viability_ag1_1337', 'network_viability_ag1_1338', 'network_viability_ag1_1339', 'network_viability_ag1_1340', 'network_viability_ag1_1341', 'network_viability_ag1_1342', 'network_viability_ag1_1343', 'network_viability_ag1_1344', 'network_viability_ag1_1345', 'network_viability_ag1_1346', 'network_viability_ag1_1347', 'network_viability_ag1_1348', 'network_viability_ag1_1349', 'network_viability_ag1_1350', 'network_viability_ag1_1351', 'network_viability_ag1_1352']\n",
      "[]\n",
      "['network_viability_ag1_1353', 'network_viability_ag1_1354', 'network_viability_ag1_1355', 'network_viability_ag1_1356', 'network_viability_ag1_1357', 'network_viability_ag1_1358', 'network_viability_ag1_1359', 'network_viability_ag1_1360', 'network_viability_ag1_1361', 'network_viability_ag1_1362', 'network_viability_ag1_1363', 'network_viability_ag1_1364', 'network_viability_ag1_1365', 'network_viability_ag1_1366', 'network_viability_ag1_1367', 'network_viability_ag1_1368', 'network_viability_ag1_1369', 'network_viability_ag1_1370', 'network_viability_ag1_1371', 'network_viability_ag1_1372']\n",
      "[]\n",
      "['network_viability_ag1_1373', 'network_viability_ag1_1374', 'network_viability_ag1_1375', 'network_viability_ag1_1376', 'network_viability_ag1_1377', 'network_viability_ag1_1378', 'network_viability_ag1_1379', 'network_viability_ag1_1380', 'network_viability_ag1_1381', 'network_viability_ag1_1382', 'network_viability_ag1_1383', 'network_viability_ag1_1384', 'network_viability_ag1_1385', 'network_viability_ag1_1386', 'network_viability_ag1_1387', 'network_viability_ag1_1388', 'network_viability_ag1_1389', 'network_viability_ag1_1390', 'network_viability_ag1_1391', 'network_viability_ag1_1392']\n",
      "[]\n",
      "\n",
      "\n",
      "['network_viability_ag1_1393', 'network_viability_ag1_1394', 'network_viability_ag1_1395', 'network_viability_ag1_1396', 'network_viability_ag1_1397', 'network_viability_ag1_1398', 'network_viability_ag1_1399', 'network_viability_ag1_1400', 'network_viability_ag1_1401', 'network_viability_ag1_1402', 'network_viability_ag1_1403', 'network_viability_ag1_1404', 'network_viability_ag1_1405', 'network_viability_ag1_1406', 'network_viability_ag1_1407', 'network_viability_ag1_1408', 'network_viability_ag1_1409', 'network_viability_ag1_1410', 'network_viability_ag1_1411', 'network_viability_ag1_1412']\n",
      "[]\n",
      "['network_viability_ag1_1413', 'network_viability_ag1_1414', 'network_viability_ag1_1415', 'network_viability_ag1_1416', 'network_viability_ag1_1417', 'network_viability_ag1_1418', 'network_viability_ag1_1419', 'network_viability_ag1_1420', 'network_viability_ag1_1421', 'network_viability_ag1_1422', 'network_viability_ag1_1423', 'network_viability_ag1_1424', 'network_viability_ag1_1425', 'network_viability_ag1_1426', 'network_viability_ag1_1427', 'network_viability_ag1_1428', 'network_viability_ag1_1429', 'network_viability_ag1_1430', 'network_viability_ag1_1431', 'network_viability_ag1_1432']\n"
     ]
    },
    {
     "name": "stdout",
     "output_type": "stream",
     "text": [
      "[]\n",
      "['network_viability_ag1_1433', 'network_viability_ag1_1434', 'network_viability_ag1_1435', 'network_viability_ag1_1436', 'network_viability_ag1_1437', 'network_viability_ag1_1438', 'network_viability_ag1_1439', 'network_viability_ag1_1440', 'network_viability_ag1_1441', 'network_viability_ag1_1442', 'network_viability_ag1_1443', 'network_viability_ag1_1444', 'network_viability_ag1_1445', 'network_viability_ag1_1446', 'network_viability_ag1_1447', 'network_viability_ag1_1448', 'network_viability_ag1_1449', 'network_viability_ag1_1450', 'network_viability_ag1_1451', 'network_viability_ag1_1452']\n",
      "[]\n",
      "['network_viability_ag1_1453', 'network_viability_ag1_1454', 'network_viability_ag1_1455', 'network_viability_ag1_1456', 'network_viability_ag1_1457', 'network_viability_ag1_1458', 'network_viability_ag1_1459', 'network_viability_ag1_1460', 'network_viability_ag1_1461', 'network_viability_ag1_1462', 'network_viability_ag1_1463', 'network_viability_ag1_1464', 'network_viability_ag1_1465', 'network_viability_ag1_1466', 'network_viability_ag1_1467', 'network_viability_ag1_1468', 'network_viability_ag1_1469', 'network_viability_ag1_1470', 'network_viability_ag1_1471', 'network_viability_ag1_1472']\n",
      "[]\n",
      "['network_viability_ag1_1473', 'network_viability_ag1_1474', 'network_viability_ag1_1475', 'network_viability_ag1_1476', 'network_viability_ag1_1477', 'network_viability_ag1_1478', 'network_viability_ag1_1479', 'network_viability_ag1_1480', 'network_viability_ag1_1481', 'network_viability_ag1_1482', 'network_viability_ag1_1483', 'network_viability_ag1_1484', 'network_viability_ag1_1485', 'network_viability_ag1_1486', 'network_viability_ag1_1487', 'network_viability_ag1_1488', 'network_viability_ag1_1489', 'network_viability_ag1_1490', 'network_viability_ag1_1491', 'network_viability_ag1_1492']\n",
      "[]\n",
      "['network_viability_ag1_1493', 'network_viability_ag1_1494', 'network_viability_ag1_1495', 'network_viability_ag1_1496', 'network_viability_ag1_1497', 'network_viability_ag1_1498', 'network_viability_ag1_1499', 'network_viability_ag1_1500', 'network_viability_ag1_1501', 'network_viability_ag1_1502', 'network_viability_ag1_1503', 'network_viability_ag1_1504', 'network_viability_ag1_1505', 'network_viability_ag1_1506', 'network_viability_ag1_1507', 'network_viability_ag1_1508', 'network_viability_ag1_1509', 'network_viability_ag1_1510', 'network_viability_ag1_1511', 'network_viability_ag1_1512']\n",
      "[]\n",
      "['network_viability_ag1_1513', 'network_viability_ag1_1514', 'network_viability_ag1_1515', 'network_viability_ag1_1516', 'network_viability_ag1_1517', 'network_viability_ag1_1518', 'network_viability_ag1_1519', 'network_viability_ag1_1520', 'network_viability_ag1_1521', 'network_viability_ag1_1522', 'network_viability_ag1_1523', 'network_viability_ag1_1524', 'network_viability_ag1_1525', 'network_viability_ag1_1526', 'network_viability_ag1_1527', 'network_viability_ag1_1528', 'network_viability_ag1_1529', 'network_viability_ag1_1530', 'network_viability_ag1_1531', 'network_viability_ag1_1532']\n",
      "[]\n",
      "['network_viability_ag1_1533', 'network_viability_ag1_1534', 'network_viability_ag1_1535', 'network_viability_ag1_1536', 'network_viability_ag1_1537', 'network_viability_ag1_1538', 'network_viability_ag1_1539', 'network_viability_ag1_1540', 'network_viability_ag1_1541', 'network_viability_ag1_1542', 'network_viability_ag1_1543', 'network_viability_ag1_1544', 'network_viability_ag1_1545', 'network_viability_ag1_1546', 'network_viability_ag1_1547', 'network_viability_ag1_1548', 'network_viability_ag1_1549', 'network_viability_ag1_1550', 'network_viability_ag1_1551', 'network_viability_ag1_1552']\n",
      "[]\n",
      "['network_viability_ag1_1553', 'network_viability_ag1_1554', 'network_viability_ag1_1555', 'network_viability_ag1_1556', 'network_viability_ag1_1557', 'network_viability_ag1_1558', 'network_viability_ag1_1559', 'network_viability_ag1_1560', 'network_viability_ag1_1561', 'network_viability_ag1_1562', 'network_viability_ag1_1563', 'network_viability_ag1_1564', 'network_viability_ag1_1565', 'network_viability_ag1_1566', 'network_viability_ag1_1567', 'network_viability_ag1_1568', 'network_viability_ag1_1569', 'network_viability_ag1_1570', 'network_viability_ag1_1571', 'network_viability_ag1_1572']\n",
      "[]\n",
      "['network_viability_ag1_1573', 'network_viability_ag1_1574', 'network_viability_ag1_1575', 'network_viability_ag1_1576', 'network_viability_ag1_1577', 'network_viability_ag1_1578', 'network_viability_ag1_1579', 'network_viability_ag1_1580', 'network_viability_ag1_1581', 'network_viability_ag1_1582', 'network_viability_ag1_1583', 'network_viability_ag1_1584', 'network_viability_ag1_1585', 'network_viability_ag1_1586', 'network_viability_ag1_1587', 'network_viability_ag1_1588', 'network_viability_ag1_1589', 'network_viability_ag1_1590', 'network_viability_ag1_1591', 'network_viability_ag1_1592']\n",
      "[]\n",
      "['network_viability_ag1_1593', 'network_viability_ag1_1594', 'network_viability_ag1_1595', 'network_viability_ag1_1596', 'network_viability_ag1_1597', 'network_viability_ag1_1598', 'network_viability_ag1_1599', 'network_viability_ag1_1600', 'network_viability_ag1_1601', 'network_viability_ag1_1602', 'network_viability_ag1_1603', 'network_viability_ag1_1604', 'network_viability_ag1_1605', 'network_viability_ag1_1606', 'network_viability_ag1_1607', 'network_viability_ag1_1608', 'network_viability_ag1_1609', 'network_viability_ag1_1610', 'network_viability_ag1_1611', 'network_viability_ag1_1612']\n",
      "[]\n",
      "['network_viability_ag1_1613', 'network_viability_ag1_1614', 'network_viability_ag1_1615', 'network_viability_ag1_1616', 'network_viability_ag1_1617', 'network_viability_ag1_1618', 'network_viability_ag1_1619', 'network_viability_ag1_1620', 'network_viability_ag1_1621', 'network_viability_ag1_1622', 'network_viability_ag1_1623', 'network_viability_ag1_1624', 'network_viability_ag1_1625', 'network_viability_ag1_1626', 'network_viability_ag1_1627', 'network_viability_ag1_1628', 'network_viability_ag1_1629', 'network_viability_ag1_1630', 'network_viability_ag1_1631', 'network_viability_ag1_1632']\n",
      "[]\n",
      "\n",
      "\n",
      "-----Downloading KPIs-----\n",
      "-----Determining Next Grids-----\n",
      "\n",
      "network_viability_ag1_\n",
      "\n",
      "Current Threshold Passing Percents:\n",
      "servicer_npv_success                                  1.000000\n",
      "gateway_npv_success                                   0.500000\n",
      "circulating_supply_available_supply_ratio_success     1.000000\n",
      "net_inflation_success                                 0.000000\n",
      "net_inflation_dao_value_capture_elasticity_success    0.000000\n",
      "dao_value_capture_success                             0.476562\n",
      "dtype: float64\n",
      "\n",
      "Found 0% passing columns, backing those off with scoring...\n",
      "\n",
      "New Threshold Values Average:\n",
      "servicer_npv_success                                  1.000000\n",
      "gateway_npv_success                                   0.500000\n",
      "circulating_supply_available_supply_ratio_success     1.000000\n",
      "net_inflation_success                                 0.001157\n",
      "net_inflation_dao_value_capture_elasticity_success    0.000000\n",
      "dao_value_capture_success                             0.476562\n",
      "dtype: float64\n",
      "\n",
      "Add the following to model/config/params.py:\n",
      "\n",
      "network_viability_ag2_ = build_params(\"Base\")\n",
      "network_viability_ag2_[\"relays_to_tokens_multiplier\"] = [100, 150.0]\n",
      "network_viability_ag2_[\"gateway_fee_per_relay\"] = [10, 55.0]\n",
      "network_viability_ag2_[\"application_fee_per_relay\"] = [55.0, 100]\n",
      "network_viability_ag2_[\"gateway_minimum_stake\"] = [100000000000.0, 150000000000.0]\n",
      "network_viability_ag2_[\"minimum_application_stake\"] = [15000000000.0, 20000000000.0]\n",
      "network_viability_ag2_[\"dao_allocation\"] = [0.1, 0.15]\n",
      "network_viability_ag2_[\"validator_fee_percentage\"] = [0.01, 0.055]\n",
      "network_viability_ag2_[\"relays_per_session_gamma_distribution_shape\"] = [250, 500, 750]\n",
      "network_viability_ag2_[\"service_linking_probability_normal\"] = [0.001, 0.01, 0.1]\n",
      "network_viability_ag2_[\"event\"] = ['double_relays_1_service', 'double_relays_3_services', 'double_relays_5_services']\n",
      "create_sweep(\"network_viability_ag2_\",network_viability_ag2_,config_option_map_sweep)\n",
      "\n",
      "\n",
      "Add the following to model/config/experiment.py:\n",
      "\n",
      "for i in range(1, 3457):\n",
      "    experimental_setups[\"network_viability_ag2_{}\".format(i)] = {\n",
      "        \"config_option_state\": \"Base\",\n",
      "        \"config_option_params\": \"network_viability_ag2_{}\".format(i),\n",
      "        \"monte_carlo_n\": 5,\n",
      "        \"T\": 365,\n",
      "    }\n",
      "\n",
      "\n",
      "Add the following to GRID_NUMBERS in cloud_utility.py\n",
      "\"network_viability_ag2_\": 3456\n",
      "\n",
      "Don't forget to rebuild and upload the docker container to AWS!\n"
     ]
    }
   ],
   "source": [
    "import os\n",
    "os.chdir(\"..\")\n",
    "from cloud_utilities import full_run_adaptive_grid\n",
    "full_run_adaptive_grid([\"network_viability_ag1_\"])"
   ]
  },
  {
   "cell_type": "code",
   "execution_count": null,
   "id": "827c57b2",
   "metadata": {},
   "outputs": [],
   "source": []
  }
 ],
 "metadata": {
  "kernelspec": {
   "display_name": "Python 3 (ipykernel)",
   "language": "python",
   "name": "python3"
  },
  "language_info": {
   "codemirror_mode": {
    "name": "ipython",
    "version": 3
   },
   "file_extension": ".py",
   "mimetype": "text/x-python",
   "name": "python",
   "nbconvert_exporter": "python",
   "pygments_lexer": "ipython3",
   "version": "3.9.12"
  }
 },
 "nbformat": 4,
 "nbformat_minor": 5
}
