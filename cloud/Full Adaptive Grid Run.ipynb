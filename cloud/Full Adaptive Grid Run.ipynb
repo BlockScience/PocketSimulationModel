{
 "cells": [
  {
   "cell_type": "code",
   "execution_count": null,
   "id": "02ded797",
   "metadata": {
    "scrolled": false
   },
   "outputs": [
    {
     "name": "stderr",
     "output_type": "stream",
     "text": [
      "/Users/seanmcowen/opt/anaconda3/envs/BlockScience/lib/python3.9/site-packages/tqdm/auto.py:22: TqdmWarning: IProgress not found. Please update jupyter and ipywidgets. See https://ipywidgets.readthedocs.io/en/stable/user_install.html\n",
      "  from .autonotebook import tqdm as notebook_tqdm\n"
     ]
    },
    {
     "name": "stdout",
     "output_type": "stream",
     "text": [
      "-----Creating Expected Runs Dataframe-----\n",
      "-----Launching Containers-----\n",
      "['servicer_viability_ag4_481', 'servicer_viability_ag4_482', 'servicer_viability_ag4_483', 'servicer_viability_ag4_484', 'servicer_viability_ag4_485', 'servicer_viability_ag4_486', 'servicer_viability_ag4_487', 'servicer_viability_ag4_488', 'servicer_viability_ag4_489', 'servicer_viability_ag4_490', 'servicer_viability_ag4_491', 'servicer_viability_ag4_492', 'servicer_viability_ag4_493', 'servicer_viability_ag4_494', 'servicer_viability_ag4_495', 'servicer_viability_ag4_496', 'servicer_viability_ag4_497', 'servicer_viability_ag4_498', 'servicer_viability_ag4_499', 'servicer_viability_ag4_500']\n",
      "[]\n",
      "['servicer_viability_ag4_501', 'servicer_viability_ag4_502', 'servicer_viability_ag4_503', 'servicer_viability_ag4_504', 'servicer_viability_ag4_505', 'servicer_viability_ag4_506', 'servicer_viability_ag4_507', 'servicer_viability_ag4_508', 'servicer_viability_ag4_509', 'servicer_viability_ag4_510', 'servicer_viability_ag4_511', 'servicer_viability_ag4_512', 'servicer_viability_ag4_513', 'servicer_viability_ag4_514', 'servicer_viability_ag4_515', 'servicer_viability_ag4_516', 'servicer_viability_ag4_517', 'servicer_viability_ag4_518', 'servicer_viability_ag4_519', 'servicer_viability_ag4_520']\n",
      "[]\n",
      "['servicer_viability_ag4_521', 'servicer_viability_ag4_522', 'servicer_viability_ag4_523', 'servicer_viability_ag4_524', 'servicer_viability_ag4_525', 'servicer_viability_ag4_526', 'servicer_viability_ag4_527', 'servicer_viability_ag4_528', 'servicer_viability_ag4_529', 'servicer_viability_ag4_530', 'servicer_viability_ag4_531', 'servicer_viability_ag4_532', 'servicer_viability_ag4_533', 'servicer_viability_ag4_534', 'servicer_viability_ag4_535', 'servicer_viability_ag4_536', 'servicer_viability_ag4_537', 'servicer_viability_ag4_538', 'servicer_viability_ag4_539', 'servicer_viability_ag4_540']\n",
      "[]\n",
      "['servicer_viability_ag4_541', 'servicer_viability_ag4_542', 'servicer_viability_ag4_543', 'servicer_viability_ag4_544', 'servicer_viability_ag4_545', 'servicer_viability_ag4_546', 'servicer_viability_ag4_547', 'servicer_viability_ag4_548', 'servicer_viability_ag4_549', 'servicer_viability_ag4_550', 'servicer_viability_ag4_551', 'servicer_viability_ag4_552', 'servicer_viability_ag4_553', 'servicer_viability_ag4_554', 'servicer_viability_ag4_555', 'servicer_viability_ag4_556', 'servicer_viability_ag4_557', 'servicer_viability_ag4_558', 'servicer_viability_ag4_559', 'servicer_viability_ag4_560']\n",
      "[]\n",
      "['servicer_viability_ag4_561', 'servicer_viability_ag4_562', 'servicer_viability_ag4_563', 'servicer_viability_ag4_564', 'servicer_viability_ag4_565', 'servicer_viability_ag4_566', 'servicer_viability_ag4_567', 'servicer_viability_ag4_568', 'servicer_viability_ag4_569', 'servicer_viability_ag4_570', 'servicer_viability_ag4_571', 'servicer_viability_ag4_572', 'servicer_viability_ag4_573', 'servicer_viability_ag4_574', 'servicer_viability_ag4_575', 'servicer_viability_ag4_576', 'servicer_viability_ag4_577', 'servicer_viability_ag4_578', 'servicer_viability_ag4_579', 'servicer_viability_ag4_580']\n",
      "[]\n",
      "['servicer_viability_ag4_581', 'servicer_viability_ag4_582', 'servicer_viability_ag4_583', 'servicer_viability_ag4_584', 'servicer_viability_ag4_585', 'servicer_viability_ag4_586', 'servicer_viability_ag4_587', 'servicer_viability_ag4_588', 'servicer_viability_ag4_589', 'servicer_viability_ag4_590', 'servicer_viability_ag4_591', 'servicer_viability_ag4_592', 'servicer_viability_ag4_593', 'servicer_viability_ag4_594', 'servicer_viability_ag4_595', 'servicer_viability_ag4_596', 'servicer_viability_ag4_597', 'servicer_viability_ag4_598', 'servicer_viability_ag4_599', 'servicer_viability_ag4_600']\n",
      "[]\n",
      "['servicer_viability_ag4_601', 'servicer_viability_ag4_602', 'servicer_viability_ag4_603', 'servicer_viability_ag4_604', 'servicer_viability_ag4_605', 'servicer_viability_ag4_606', 'servicer_viability_ag4_607', 'servicer_viability_ag4_608', 'servicer_viability_ag4_609', 'servicer_viability_ag4_610', 'servicer_viability_ag4_611', 'servicer_viability_ag4_612', 'servicer_viability_ag4_613', 'servicer_viability_ag4_614', 'servicer_viability_ag4_615', 'servicer_viability_ag4_616', 'servicer_viability_ag4_617', 'servicer_viability_ag4_618', 'servicer_viability_ag4_619', 'servicer_viability_ag4_620']\n",
      "[]\n",
      "['servicer_viability_ag4_621', 'servicer_viability_ag4_622', 'servicer_viability_ag4_623', 'servicer_viability_ag4_624', 'servicer_viability_ag4_625', 'servicer_viability_ag4_626', 'servicer_viability_ag4_627', 'servicer_viability_ag4_628', 'servicer_viability_ag4_629', 'servicer_viability_ag4_630', 'servicer_viability_ag4_631', 'servicer_viability_ag4_632', 'servicer_viability_ag4_633', 'servicer_viability_ag4_634', 'servicer_viability_ag4_635', 'servicer_viability_ag4_636', 'servicer_viability_ag4_637', 'servicer_viability_ag4_638', 'servicer_viability_ag4_639', 'servicer_viability_ag4_640']\n",
      "[]\n",
      "['servicer_viability_ag4_641', 'servicer_viability_ag4_642', 'servicer_viability_ag4_643', 'servicer_viability_ag4_644', 'servicer_viability_ag4_645', 'servicer_viability_ag4_646', 'servicer_viability_ag4_647', 'servicer_viability_ag4_648', 'servicer_viability_ag4_649', 'servicer_viability_ag4_650', 'servicer_viability_ag4_651', 'servicer_viability_ag4_652', 'servicer_viability_ag4_653', 'servicer_viability_ag4_654', 'servicer_viability_ag4_655', 'servicer_viability_ag4_656', 'servicer_viability_ag4_657', 'servicer_viability_ag4_658', 'servicer_viability_ag4_659', 'servicer_viability_ag4_660']\n",
      "[]\n",
      "['servicer_viability_ag4_661', 'servicer_viability_ag4_662', 'servicer_viability_ag4_663', 'servicer_viability_ag4_664', 'servicer_viability_ag4_665', 'servicer_viability_ag4_666', 'servicer_viability_ag4_667', 'servicer_viability_ag4_668', 'servicer_viability_ag4_669', 'servicer_viability_ag4_670', 'servicer_viability_ag4_671', 'servicer_viability_ag4_672', 'servicer_viability_ag4_673', 'servicer_viability_ag4_674', 'servicer_viability_ag4_675', 'servicer_viability_ag4_676', 'servicer_viability_ag4_677', 'servicer_viability_ag4_678', 'servicer_viability_ag4_679', 'servicer_viability_ag4_680']\n",
      "[]\n",
      "['servicer_viability_ag4_681', 'servicer_viability_ag4_682', 'servicer_viability_ag4_683', 'servicer_viability_ag4_684', 'servicer_viability_ag4_685', 'servicer_viability_ag4_686', 'servicer_viability_ag4_687', 'servicer_viability_ag4_688', 'servicer_viability_ag4_689', 'servicer_viability_ag4_690', 'servicer_viability_ag4_691', 'servicer_viability_ag4_692', 'servicer_viability_ag4_693', 'servicer_viability_ag4_694', 'servicer_viability_ag4_695', 'servicer_viability_ag4_696', 'servicer_viability_ag4_697', 'servicer_viability_ag4_698', 'servicer_viability_ag4_699', 'servicer_viability_ag4_700']\n",
      "[]\n",
      "['servicer_viability_ag4_701', 'servicer_viability_ag4_702', 'servicer_viability_ag4_703', 'servicer_viability_ag4_704', 'servicer_viability_ag4_705', 'servicer_viability_ag4_706', 'servicer_viability_ag4_707', 'servicer_viability_ag4_708', 'servicer_viability_ag4_709', 'servicer_viability_ag4_710', 'servicer_viability_ag4_711', 'servicer_viability_ag4_712', 'servicer_viability_ag4_713', 'servicer_viability_ag4_714', 'servicer_viability_ag4_715', 'servicer_viability_ag4_716', 'servicer_viability_ag4_717', 'servicer_viability_ag4_718', 'servicer_viability_ag4_719', 'servicer_viability_ag4_720']\n",
      "[]\n",
      "['servicer_viability_ag4_721', 'servicer_viability_ag4_722', 'servicer_viability_ag4_723', 'servicer_viability_ag4_724', 'servicer_viability_ag4_725', 'servicer_viability_ag4_726', 'servicer_viability_ag4_727', 'servicer_viability_ag4_728', 'servicer_viability_ag4_729', 'servicer_viability_ag4_730', 'servicer_viability_ag4_731', 'servicer_viability_ag4_732', 'servicer_viability_ag4_733', 'servicer_viability_ag4_734', 'servicer_viability_ag4_735', 'servicer_viability_ag4_736', 'servicer_viability_ag4_737', 'servicer_viability_ag4_738', 'servicer_viability_ag4_739', 'servicer_viability_ag4_740']\n",
      "[]\n",
      "['servicer_viability_ag4_741', 'servicer_viability_ag4_742', 'servicer_viability_ag4_743', 'servicer_viability_ag4_744', 'servicer_viability_ag4_745', 'servicer_viability_ag4_746', 'servicer_viability_ag4_747', 'servicer_viability_ag4_748', 'servicer_viability_ag4_749', 'servicer_viability_ag4_750', 'servicer_viability_ag4_751', 'servicer_viability_ag4_752', 'servicer_viability_ag4_753', 'servicer_viability_ag4_754', 'servicer_viability_ag4_755', 'servicer_viability_ag4_756', 'servicer_viability_ag4_757', 'servicer_viability_ag4_758', 'servicer_viability_ag4_759', 'servicer_viability_ag4_760']\n"
     ]
    },
    {
     "name": "stdout",
     "output_type": "stream",
     "text": [
      "[]\n",
      "['servicer_viability_ag4_761', 'servicer_viability_ag4_762', 'servicer_viability_ag4_763', 'servicer_viability_ag4_764', 'servicer_viability_ag4_765', 'servicer_viability_ag4_766', 'servicer_viability_ag4_767', 'servicer_viability_ag4_768', 'servicer_viability_ag4_769', 'servicer_viability_ag4_770', 'servicer_viability_ag4_771', 'servicer_viability_ag4_772', 'servicer_viability_ag4_773', 'servicer_viability_ag4_774', 'servicer_viability_ag4_775', 'servicer_viability_ag4_776', 'servicer_viability_ag4_777', 'servicer_viability_ag4_778', 'servicer_viability_ag4_779', 'servicer_viability_ag4_780']\n",
      "[]\n",
      "['servicer_viability_ag4_781', 'servicer_viability_ag4_782', 'servicer_viability_ag4_783', 'servicer_viability_ag4_784', 'servicer_viability_ag4_785', 'servicer_viability_ag4_786', 'servicer_viability_ag4_787', 'servicer_viability_ag4_788', 'servicer_viability_ag4_789', 'servicer_viability_ag4_790', 'servicer_viability_ag4_791', 'servicer_viability_ag4_792', 'servicer_viability_ag4_793', 'servicer_viability_ag4_794', 'servicer_viability_ag4_795', 'servicer_viability_ag4_796', 'servicer_viability_ag4_797', 'servicer_viability_ag4_798', 'servicer_viability_ag4_799', 'servicer_viability_ag4_800']\n",
      "[]\n",
      "['servicer_viability_ag4_801', 'servicer_viability_ag4_802', 'servicer_viability_ag4_803', 'servicer_viability_ag4_804', 'servicer_viability_ag4_805', 'servicer_viability_ag4_806', 'servicer_viability_ag4_807', 'servicer_viability_ag4_808', 'servicer_viability_ag4_809', 'servicer_viability_ag4_810', 'servicer_viability_ag4_811', 'servicer_viability_ag4_812', 'servicer_viability_ag4_813', 'servicer_viability_ag4_814', 'servicer_viability_ag4_815', 'servicer_viability_ag4_816', 'servicer_viability_ag4_817', 'servicer_viability_ag4_818', 'servicer_viability_ag4_819', 'servicer_viability_ag4_820']\n",
      "[]\n",
      "['servicer_viability_ag4_821', 'servicer_viability_ag4_822', 'servicer_viability_ag4_823', 'servicer_viability_ag4_824', 'servicer_viability_ag4_825', 'servicer_viability_ag4_826', 'servicer_viability_ag4_827', 'servicer_viability_ag4_828', 'servicer_viability_ag4_829', 'servicer_viability_ag4_830', 'servicer_viability_ag4_831', 'servicer_viability_ag4_832', 'servicer_viability_ag4_833', 'servicer_viability_ag4_834', 'servicer_viability_ag4_835', 'servicer_viability_ag4_836', 'servicer_viability_ag4_837', 'servicer_viability_ag4_838', 'servicer_viability_ag4_839', 'servicer_viability_ag4_840']\n",
      "[]\n",
      "['servicer_viability_ag4_841', 'servicer_viability_ag4_842', 'servicer_viability_ag4_843', 'servicer_viability_ag4_844', 'servicer_viability_ag4_845', 'servicer_viability_ag4_846', 'servicer_viability_ag4_847', 'servicer_viability_ag4_848', 'servicer_viability_ag4_849', 'servicer_viability_ag4_850', 'servicer_viability_ag4_851', 'servicer_viability_ag4_852', 'servicer_viability_ag4_853', 'servicer_viability_ag4_854', 'servicer_viability_ag4_855', 'servicer_viability_ag4_856', 'servicer_viability_ag4_857', 'servicer_viability_ag4_858', 'servicer_viability_ag4_859', 'servicer_viability_ag4_860']\n",
      "[]\n"
     ]
    }
   ],
   "source": [
    "import os\n",
    "os.chdir(\"..\")\n",
    "from cloud_utilities import full_run_adaptive_grid\n",
    "#full_run_adaptive_grid([\"network_failures_service_ag2_\",\"servicer_viability_ag2_\",\n",
    "#                        \"network_viability_ag2_\",\"network_failures_oracle_ag2_\"], run_all=True)\n",
    "\n",
    "full_run_adaptive_grid([\"servicer_viability_ag4_\"])"
   ]
  },
  {
   "cell_type": "code",
   "execution_count": null,
   "id": "ae589538",
   "metadata": {},
   "outputs": [],
   "source": []
  }
 ],
 "metadata": {
  "kernelspec": {
   "display_name": "Python 3 (ipykernel)",
   "language": "python",
   "name": "python3"
  },
  "language_info": {
   "codemirror_mode": {
    "name": "ipython",
    "version": 3
   },
   "file_extension": ".py",
   "mimetype": "text/x-python",
   "name": "python",
   "nbconvert_exporter": "python",
   "pygments_lexer": "ipython3",
   "version": "3.9.12"
  }
 },
 "nbformat": 4,
 "nbformat_minor": 5
}
