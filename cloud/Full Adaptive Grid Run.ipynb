{
 "cells": [
  {
   "cell_type": "code",
   "execution_count": 1,
   "id": "02ded797",
   "metadata": {
    "scrolled": false
   },
   "outputs": [
    {
     "name": "stderr",
     "output_type": "stream",
     "text": [
      "/Users/seanmcowen/opt/anaconda3/envs/BlockScience/lib/python3.9/site-packages/tqdm/auto.py:22: TqdmWarning: IProgress not found. Please update jupyter and ipywidgets. See https://ipywidgets.readthedocs.io/en/stable/user_install.html\n",
      "  from .autonotebook import tqdm as notebook_tqdm\n"
     ]
    },
    {
     "name": "stdout",
     "output_type": "stream",
     "text": [
      "-----Creating Expected Runs Dataframe-----\n",
      "-----Launching Containers-----\n",
      "['network_failures_service_ag1_1', 'network_failures_service_ag1_2', 'network_failures_service_ag1_3', 'network_failures_service_ag1_4', 'network_failures_service_ag1_5', 'network_failures_service_ag1_6', 'network_failures_service_ag1_7', 'network_failures_service_ag1_8', 'network_failures_service_ag1_9', 'network_failures_service_ag1_10', 'network_failures_service_ag1_11', 'network_failures_service_ag1_12', 'network_failures_service_ag1_13', 'network_failures_service_ag1_14', 'network_failures_service_ag1_15', 'network_failures_service_ag1_16', 'network_failures_service_ag1_17', 'network_failures_service_ag1_18', 'network_failures_service_ag1_19', 'network_failures_service_ag1_20']\n",
      "[]\n",
      "['network_failures_service_ag1_21', 'network_failures_service_ag1_22', 'network_failures_service_ag1_23', 'network_failures_service_ag1_24', 'network_failures_service_ag1_25', 'network_failures_service_ag1_26', 'network_failures_service_ag1_27', 'network_failures_service_ag1_28', 'network_failures_service_ag1_29', 'network_failures_service_ag1_30', 'network_failures_service_ag1_31', 'network_failures_service_ag1_32', 'network_failures_service_ag1_33', 'network_failures_service_ag1_34', 'network_failures_service_ag1_35', 'network_failures_service_ag1_36', 'network_failures_service_ag1_37', 'network_failures_service_ag1_38', 'network_failures_service_ag1_39']\n",
      "[]\n",
      "['network_failures_service_ag1_40', 'network_failures_service_ag1_41', 'network_failures_service_ag1_42', 'network_failures_service_ag1_43', 'network_failures_service_ag1_44', 'network_failures_service_ag1_45', 'network_failures_service_ag1_46', 'network_failures_service_ag1_47', 'network_failures_service_ag1_48', 'network_failures_service_ag1_49', 'network_failures_service_ag1_50', 'network_failures_service_ag1_51', 'network_failures_service_ag1_52', 'network_failures_service_ag1_53', 'network_failures_service_ag1_54', 'network_failures_service_ag1_55', 'network_failures_service_ag1_56', 'network_failures_service_ag1_57', 'network_failures_service_ag1_58']\n",
      "[]\n",
      "['network_failures_service_ag1_59', 'network_failures_service_ag1_60', 'network_failures_service_ag1_61', 'network_failures_service_ag1_62', 'network_failures_service_ag1_63', 'network_failures_service_ag1_64', 'network_failures_service_ag1_65', 'network_failures_service_ag1_66', 'network_failures_service_ag1_67', 'network_failures_service_ag1_68', 'network_failures_service_ag1_69', 'network_failures_service_ag1_70', 'network_failures_service_ag1_71', 'network_failures_service_ag1_72', 'network_failures_service_ag1_73', 'network_failures_service_ag1_74', 'network_failures_service_ag1_75', 'network_failures_service_ag1_76', 'network_failures_service_ag1_77']\n",
      "[]\n",
      "['network_failures_service_ag1_78', 'network_failures_service_ag1_79', 'network_failures_service_ag1_80', 'network_failures_service_ag1_81', 'network_failures_service_ag1_82', 'network_failures_service_ag1_83', 'network_failures_service_ag1_84', 'network_failures_service_ag1_85', 'network_failures_service_ag1_86', 'network_failures_service_ag1_87', 'network_failures_service_ag1_88', 'network_failures_service_ag1_89', 'network_failures_service_ag1_90', 'network_failures_service_ag1_91', 'network_failures_service_ag1_92', 'network_failures_service_ag1_93', 'network_failures_service_ag1_94', 'network_failures_service_ag1_95', 'network_failures_service_ag1_96']\n",
      "[]\n",
      "\n",
      "\n",
      "-----Downloading KPIs-----\n",
      "-----Determining Next Grids-----\n",
      "\n",
      "network_failures_service_ag1_\n",
      "\n",
      "Add the following to model/config/params.py:\n",
      "\n",
      "network_failures_service_ag2_ = build_params(\"Base\")\n",
      "network_failures_service_ag2_[\"slash_fraction_downtime\"] = [0.05000000005, 0.1]\n",
      "network_failures_service_ag2_[\"downtime_jail_duration\"] = [60000000000.0, 14430000000000.0]\n",
      "network_failures_service_ag2_[\"max_chains_servicer\"] = [1, 10.5]\n",
      "network_failures_service_ag2_[\"servicer_service_density_starting\"] = [0.1, 0.5, 1]\n",
      "network_failures_service_ag2_[\"event\"] = ['servicer_shutdown_by_geozone_random', 'service_shutdown_random_t1', 'service_shutdown_random_t7', 'service_shutdown_random_t500']\n",
      "create_sweep(\"network_failures_service_ag2_\",network_failures_service_ag2_,config_option_map_sweep)\n",
      "\n",
      "\n",
      "Add the following to model/config/experiment.py:\n",
      "\n",
      "for i in range(1, 97):\n",
      "    experimental_setups[\"network_failures_service_ag2_{}\".format(i)] = {\n",
      "        \"config_option_state\": \"Base\",\n",
      "        \"config_option_params\": \"network_failures_service_ag2_{}\".format(i),\n",
      "        \"monte_carlo_n\": 5,\n",
      "        \"T\": 365,\n",
      "    }\n",
      "\n",
      "\n",
      "Add the following to GRID_NUMBERS in cloud_utility.py\n",
      "\"network_failures_service_ag2_\": 96\n",
      "\n",
      "Don't forget to rebuild and upload the docker container to AWS!\n"
     ]
    }
   ],
   "source": [
    "import os\n",
    "os.chdir(\"..\")\n",
    "from cloud_utilities import full_run_adaptive_grid\n",
    "full_run_adaptive_grid([\"network_failures_service_ag1_\"])"
   ]
  },
  {
   "cell_type": "code",
   "execution_count": null,
   "id": "827c57b2",
   "metadata": {},
   "outputs": [],
   "source": []
  }
 ],
 "metadata": {
  "kernelspec": {
   "display_name": "Python 3 (ipykernel)",
   "language": "python",
   "name": "python3"
  },
  "language_info": {
   "codemirror_mode": {
    "name": "ipython",
    "version": 3
   },
   "file_extension": ".py",
   "mimetype": "text/x-python",
   "name": "python",
   "nbconvert_exporter": "python",
   "pygments_lexer": "ipython3",
   "version": "3.9.12"
  }
 },
 "nbformat": 4,
 "nbformat_minor": 5
}
