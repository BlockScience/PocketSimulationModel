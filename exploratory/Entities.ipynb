{
 "cells": [
  {
   "cell_type": "code",
   "execution_count": 1,
   "id": "a65b83fd",
   "metadata": {},
   "outputs": [
    {
     "name": "stdout",
     "output_type": "stream",
     "text": [
      "\n",
      "                  ___________    ____\n",
      "  ________ __ ___/ / ____/   |  / __ \\\n",
      " / ___/ __` / __  / /   / /| | / / / /\n",
      "/ /__/ /_/ / /_/ / /___/ ___ |/ /_/ /\n",
      "\\___/\\__,_/\\__,_/\\____/_/  |_/_____/\n",
      "by cadCAD\n",
      "\n",
      "cadCAD Version: 0.4.28\n",
      "Execution Mode: local_proc\n",
      "Simulation Dimensions:\n",
      "Entire Simulation: (Models, Unique Timesteps, Params, Total Runs, Sub-States) = (1, 365, 64, 1, 27)\n",
      "     Simulation 0: (Timesteps, Params, Runs, Sub-States) = (365, 64, 1, 27)\n",
      "Execution Method: local_simulations\n",
      "Execution Mode: single_threaded\n",
      "Total execution time: 5.26s\n"
     ]
    }
   ],
   "source": [
    "import os\n",
    "os.chdir(\"..\")\n",
    "from model import run_experiments\n",
    "df = run_experiments([\"test1\"])"
   ]
  },
  {
   "cell_type": "code",
   "execution_count": 5,
   "id": "e5f63a29",
   "metadata": {},
   "outputs": [
    {
     "data": {
      "text/plain": [
       "0        0\n",
       "1        1\n",
       "2        2\n",
       "3        3\n",
       "4        4\n",
       "      ... \n",
       "361    361\n",
       "362    362\n",
       "363    363\n",
       "364    364\n",
       "365    365\n",
       "Name: day, Length: 366, dtype: int64"
      ]
     },
     "execution_count": 5,
     "metadata": {},
     "output_type": "execute_result"
    }
   ],
   "source": [
    "df['day']"
   ]
  },
  {
   "cell_type": "code",
   "execution_count": 2,
   "id": "e17a42fc",
   "metadata": {},
   "outputs": [
    {
     "data": {
      "text/plain": [
       "<AxesSubplot:>"
      ]
     },
     "execution_count": 2,
     "metadata": {},
     "output_type": "execute_result"
    },
    {
     "data": {
      "image/png": "[encoded data removed]",
      "text/plain": [
       "<Figure size 432x288 with 1 Axes>"
      ]
     },
     "metadata": {
      "needs_background": "light"
     },
     "output_type": "display_data"
    }
   ],
   "source": [
    "df['period_slashing_costs'].plot(kind='line')"
   ]
  },
  {
   "cell_type": "code",
   "execution_count": 2,
   "id": "a9c74b3c",
   "metadata": {},
   "outputs": [
    {
     "name": "stdout",
     "output_type": "stream",
     "text": [
      "{<model.classes.servicer.Servicer object at 0x7fafe57cdc10>: 321629, <model.classes.servicer.Servicer object at 0x7fafe57c16d0>: 314131, <model.classes.servicer.Servicer object at 0x7fafe57cdc40>: 302697.0, <model.classes.servicer.Servicer object at 0x7fafe57cdca0>: 364034, <model.classes.servicer.Servicer object at 0x7fafe57cd2b0>: 403847, <model.classes.servicer.Servicer object at 0x7fafe57cd490>: 310272, <model.classes.servicer.Servicer object at 0x7fafe57cd670>: 343110, <model.classes.servicer.Servicer object at 0x7fafe57cdcd0>: 461149, <model.classes.servicer.Servicer object at 0x7fafe57cd850>: 331698, <model.classes.servicer.Servicer object at 0x7fafe57c1d60>: 337765, <model.classes.servicer.Servicer object at 0x7fafe57cda30>: 424340, <model.classes.servicer.Servicer object at 0x7fafe57cdc70>: 410991, <model.classes.servicer.Servicer object at 0x7fafe57c1b20>: 451211, <model.classes.servicer.Servicer object at 0x7fafe57c1fd0>: 300908, <model.classes.servicer.Servicer object at 0x7fafe57c18b0>: 264335}\n"
     ]
    }
   ],
   "source": [
    "print(df['servicer_relay_log'].iloc[-1])"
   ]
  },
  {
   "cell_type": "code",
   "execution_count": 2,
   "id": "cb359443",
   "metadata": {},
   "outputs": [
    {
     "name": "stdout",
     "output_type": "stream",
     "text": [
      "1    171\n",
      "0    153\n",
      "2     38\n",
      "3      3\n",
      "4      1\n",
      "Name: understaked_gateways, dtype: int64\n",
      "0    356\n",
      "1     10\n",
      "Name: understaked_servicers, dtype: int64\n",
      "0    365\n",
      "3      1\n",
      "Name: understaked_applications, dtype: int64\n"
     ]
    }
   ],
   "source": [
    "print(df['understaked_gateways'].apply(lambda x: len(x)).value_counts())\n",
    "print(df['understaked_servicers'].apply(lambda x: len(x)).value_counts())\n",
    "print(df['understaked_applications'].apply(lambda x: len(x)).value_counts())"
   ]
  },
  {
   "cell_type": "code",
   "execution_count": 6,
   "id": "606a747f",
   "metadata": {},
   "outputs": [
    {
     "data": {
      "text/plain": [
       "[(103104656.46000002, 81000224138861.4),\n",
       " (104465949.78000002, 11249093263623.178),\n",
       " (99409646.94000006, 67156570593541.32),\n",
       " (100624490.03999998, 12998264143216.578),\n",
       " (98132012.04000004, 36877648682455.26),\n",
       " (116128800.0, 85559183055653.53),\n",
       " (92300134.5, 1498211510375.1003),\n",
       " (100381576.26, 32934628696783.266),\n",
       " (104001482.40000002, 1499025347409.24),\n",
       " (101555070.00000003, 30748353070754.082),\n",
       " (116128800.0, 1499883886200.0),\n",
       " (97494222.83999996, 37732145127082.51),\n",
       " (102492587.21999998, 21311070970777.516),\n",
       " (116128800.0, 60447008098145.56),\n",
       " (116128800.0, 52565665423657.48),\n",
       " (116128800.0, 13491117448711.26),\n",
       " (116128800.0, 55784074356743.88),\n",
       " (96917552.81999996, 22748578267887.746)]"
      ]
     },
     "execution_count": 6,
     "metadata": {},
     "output_type": "execute_result"
    }
   ],
   "source": [
    "[(x.staked_pokt, x.pokt_holdings) for x in df[\"Applications\"].iloc[-1]]"
   ]
  },
  {
   "cell_type": "code",
   "execution_count": null,
   "id": "fb58800d",
   "metadata": {},
   "outputs": [],
   "source": [
    "df[[\"Applications\", \"Servicers\", \"Services\", \"Gateways\"]].applymap(lambda x: len(x))"
   ]
  },
  {
   "cell_type": "code",
   "execution_count": null,
   "id": "acb21550",
   "metadata": {},
   "outputs": [],
   "source": [
    "[len(x.servicers) for x in df.iloc[-1][\"Services\"]]"
   ]
  },
  {
   "cell_type": "code",
   "execution_count": null,
   "id": "3550e3f1",
   "metadata": {},
   "outputs": [],
   "source": [
    "[len(x.services) for x in df.iloc[-1][\"Servicers\"]]"
   ]
  },
  {
   "cell_type": "code",
   "execution_count": null,
   "id": "d3c32a6f",
   "metadata": {},
   "outputs": [],
   "source": [
    "[x.id_number for x in df['Applications'].iloc[-1]]"
   ]
  },
  {
   "cell_type": "code",
   "execution_count": null,
   "id": "1e517431",
   "metadata": {},
   "outputs": [],
   "source": [
    "[x.delegate for x in df['Applications'].iloc[-1]]"
   ]
  },
  {
   "cell_type": "code",
   "execution_count": null,
   "id": "8e2c36fd",
   "metadata": {},
   "outputs": [],
   "source": [
    "[x.delegators for x in df['Gateways'].iloc[-1]]"
   ]
  },
  {
   "cell_type": "code",
   "execution_count": null,
   "id": "4008fdbc",
   "metadata": {},
   "outputs": [],
   "source": []
  }
 ],
 "metadata": {
  "kernelspec": {
   "display_name": "Python 3 (ipykernel)",
   "language": "python",
   "name": "python3"
  },
  "language_info": {
   "codemirror_mode": {
    "name": "ipython",
    "version": 3
   },
   "file_extension": ".py",
   "mimetype": "text/x-python",
   "name": "python",
   "nbconvert_exporter": "python",
   "pygments_lexer": "ipython3",
   "version": "3.9.12"
  }
 },
 "nbformat": 4,
 "nbformat_minor": 5
}
