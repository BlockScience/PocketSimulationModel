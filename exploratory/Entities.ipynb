{
 "cells": [
  {
   "cell_type": "code",
   "execution_count": 3,
   "id": "a65b83fd",
   "metadata": {},
   "outputs": [],
   "source": [
    "import os\n",
    "os.chdir(\"..\")"
   ]
  },
  {
   "cell_type": "code",
   "execution_count": 4,
   "id": "ca7e0b19",
   "metadata": {},
   "outputs": [],
   "source": [
    "from model import Application, DAO, Portal, Service, Servicer, Validator"
   ]
  },
  {
   "cell_type": "code",
   "execution_count": 7,
   "id": "2cd62fb6",
   "metadata": {},
   "outputs": [],
   "source": [
    "state = {}\n",
    "\n",
    "state[\"Geozones\"] = [\"G1\", \"G2\", \"G3\"]\n",
    "\n",
    "\n",
    "# Add a way that you can put in strings for things like delegator and then have it fill in later when building the state\n",
    "\n",
    "application1 = Application(name = \"A1\", pokt_holdings = 1000, staked_pokt = 1000,\n",
    "           services = [\"S1\", \"S2\"], geo_zone = \"G1\", number_of_services=1,\n",
    "           stake_status = \"Staked\", unstaking_height = None, delegate = None)\n",
    "\n",
    "application2 = Application(name = \"A2\", pokt_holdings = 5000, staked_pokt = 1000,\n",
    "           services = [\"S2\", \"S3\"], geo_zone = \"G2\", number_of_services=2,\n",
    "           stake_status = \"Staked\", unstaking_height = None, delegate = None)\n",
    "\n",
    "application3 = Application(name = \"A3\", pokt_holdings = 3000, staked_pokt = 1000,\n",
    "           services = [\"S1\", \"S3\"], geo_zone = \"G3\", number_of_services=1,\n",
    "           stake_status = \"Staked\", unstaking_height = None, delegate = \"P1\")\n",
    "\n",
    "state[\"Applications\"] = [application1, application2, application3]\n",
    "\n",
    "state[\"DAO\"] = DAO(pokt_holdings = 100000)\n",
    "\n",
    "state[\"Portals\"] = [Portal(name = \"P1\", stake_status = \"Staked\", delegators = [\"A3\"],\n",
    "                          pokt_holdings = 100, staked_pokt = 100)]\n",
    "\n",
    "state[\"Services\"] = [Service(name = \"S1\", portal_api_prefix = \"S1\", service_id = \"S1\"),\n",
    "                    Service(name = \"S2\", portal_api_prefix = \"S2\", service_id = \"S2\"),\n",
    "                    Service(name = \"S3\", portal_api_prefix = \"S3\", service_id = \"S3\")]\n",
    "\n",
    "state[\"Servicers\"] = [Servicer(name = \"X1\", servicer_salary = 0, report_card = None,\n",
    "                 test_scores = None, pokt_holdings = 1000, staked_pokt= 1000,\n",
    "                 service_url = None, services = [], geo_zone = None,\n",
    "                 operator_public_key = None, pause_height = None, stake_status = \"UnknownStatus\",\n",
    "                 unkstaking_height = None)]\n",
    "state[\"Validators\"] = [Validator(name = \"Mega Validator\", pokt_holdings = 1000,\n",
    "                 staked_pokt = 1000, service_url = None,\n",
    "                 operator_public_key = None, stake_status = \"UnknownStatus\")]"
   ]
  },
  {
   "cell_type": "code",
   "execution_count": 5,
   "id": "27f6dd93",
   "metadata": {},
   "outputs": [],
   "source": []
  },
  {
   "cell_type": "code",
   "execution_count": null,
   "id": "b3104393",
   "metadata": {},
   "outputs": [],
   "source": []
  }
 ],
 "metadata": {
  "kernelspec": {
   "display_name": "Python 3 (ipykernel)",
   "language": "python",
   "name": "python3"
  },
  "language_info": {
   "codemirror_mode": {
    "name": "ipython",
    "version": 3
   },
   "file_extension": ".py",
   "mimetype": "text/x-python",
   "name": "python",
   "nbconvert_exporter": "python",
   "pygments_lexer": "ipython3",
   "version": "3.9.12"
  }
 },
 "nbformat": 4,
 "nbformat_minor": 5
}
