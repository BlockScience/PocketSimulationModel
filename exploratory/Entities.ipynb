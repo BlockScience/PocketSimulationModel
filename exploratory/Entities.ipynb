{
 "cells": [
  {
   "cell_type": "code",
   "execution_count": 1,
   "id": "a65b83fd",
   "metadata": {},
   "outputs": [
    {
     "name": "stdout",
     "output_type": "stream",
     "text": [
      "{'minimum_stake_servicer': [None], 'minimum_stake_period_servicer': [None], 'minimum_pause_time': [None], 'max_chains_servicer': [None], 'salary_block_frequency': [None], 'minimum_test_score_threshold': [None], 'minimum_report_card_threshold': [None], 'servicer_unbounding_period': [None], 'relays_to_tokens_multiplier': [None], 'slash_fraction_downtime': [None], 'replay_attack_burn_multiplier': [None], 'max_jailed_blocks': [None], 'downtime_jail_duration': [None], 'minimum_servicers_per_session': [None], 'maximum_servicers_per_session': [None], 'application_unstaking_time': [None], 'application_fee_per_relay': [None], 'minimum_application_stake': [None], 'app_burn_per_session': [None], 'app_burn_per_relay': [None], 'block_proposer_allocation': [None], 'stake_per_app_delegation': [None], 'portal_fee_per_relay': [None], 'portal_minimum_stake': [None], 'portal_unstaking_time': [None], 'session_block_frequency': [None], 'session_token_bucket_coefficient': [None], 'dao_fee_percentage': [None], 'validator_fee_percentage': [None], 'maturity_relay_cost': [None], 'maturity_relay_charge': [None], 'min_bootstrap_gateway_fee_per_relay': [None], 'max_bootstrap_servicer_cost_per_relay': [None], 'servicer_bootstrap_unwind_start': [None], 'servicer_bootstrap_end': [None], 'gateway_bootstrap_unwind_start': [None], 'gateway_bootstrap_unwind_end': [None], 'transaction_fee': [None], 'supported_services': [None]}\n"
     ]
    }
   ],
   "source": [
    "import os\n",
    "os.chdir(\"..\")\n",
    "from model import build_state, build_params\n",
    "state = build_state(\"Test\")\n",
    "params = build_params(\"Test\")"
   ]
  },
  {
   "cell_type": "code",
   "execution_count": null,
   "id": "fb58800d",
   "metadata": {},
   "outputs": [],
   "source": []
  }
 ],
 "metadata": {
  "kernelspec": {
   "display_name": "Python 3 (ipykernel)",
   "language": "python",
   "name": "python3"
  },
  "language_info": {
   "codemirror_mode": {
    "name": "ipython",
    "version": 3
   },
   "file_extension": ".py",
   "mimetype": "text/x-python",
   "name": "python",
   "nbconvert_exporter": "python",
   "pygments_lexer": "ipython3",
   "version": "3.9.12"
  }
 },
 "nbformat": 4,
 "nbformat_minor": 5
}
