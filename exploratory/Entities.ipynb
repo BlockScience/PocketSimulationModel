{
 "cells": [
  {
   "cell_type": "code",
   "execution_count": 1,
   "id": "a65b83fd",
   "metadata": {},
   "outputs": [],
   "source": [
    "import os\n",
    "os.chdir(\"..\")"
   ]
  },
  {
   "cell_type": "code",
   "execution_count": 2,
   "id": "ca7e0b19",
   "metadata": {},
   "outputs": [],
   "source": [
    "from model import Application"
   ]
  },
  {
   "cell_type": "code",
   "execution_count": 3,
   "id": "2cd62fb6",
   "metadata": {},
   "outputs": [
    {
     "data": {
      "text/plain": [
       "<model.classes.application.Application at 0x7fab00a2dd90>"
      ]
     },
     "execution_count": 3,
     "metadata": {},
     "output_type": "execute_result"
    }
   ],
   "source": [
    "Application()"
   ]
  },
  {
   "cell_type": "code",
   "execution_count": null,
   "id": "c935b1b4",
   "metadata": {},
   "outputs": [],
   "source": []
  }
 ],
 "metadata": {
  "kernelspec": {
   "display_name": "Python 3 (ipykernel)",
   "language": "python",
   "name": "python3"
  },
  "language_info": {
   "codemirror_mode": {
    "name": "ipython",
    "version": 3
   },
   "file_extension": ".py",
   "mimetype": "text/x-python",
   "name": "python",
   "nbconvert_exporter": "python",
   "pygments_lexer": "ipython3",
   "version": "3.9.12"
  }
 },
 "nbformat": 4,
 "nbformat_minor": 5
}
