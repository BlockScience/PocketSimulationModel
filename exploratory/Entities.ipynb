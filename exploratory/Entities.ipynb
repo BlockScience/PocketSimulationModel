{
 "cells": [
  {
   "cell_type": "code",
   "execution_count": 1,
   "id": "a65b83fd",
   "metadata": {},
   "outputs": [
    {
     "name": "stdout",
     "output_type": "stream",
     "text": [
      "\n",
      "                  ___________    ____\n",
      "  ________ __ ___/ / ____/   |  / __ \\\n",
      " / ___/ __` / __  / /   / /| | / / / /\n",
      "/ /__/ /_/ / /_/ / /___/ ___ |/ /_/ /\n",
      "\\___/\\__,_/\\__,_/\\____/_/  |_/_____/\n",
      "by cadCAD\n",
      "\n",
      "cadCAD Version: 0.4.28\n",
      "Execution Mode: local_proc\n",
      "Simulation Dimensions:\n",
      "Entire Simulation: (Models, Unique Timesteps, Params, Total Runs, Sub-States) = (1, 365, 81, 1, 19)\n",
      "     Simulation 0: (Timesteps, Params, Runs, Sub-States) = (365, 81, 1, 19)\n",
      "Execution Method: local_simulations\n",
      "Execution Mode: single_threaded\n",
      "A\n",
      "[(<model.classes.service.Service object at 0x7fd46f05fb80>, 1440874.8872276421), (<model.classes.service.Service object at 0x7fd46f05ff40>, 1789677.8793622705), (<model.classes.service.Service object at 0x7fd46f05fd60>, 1847382.9376075913), (<model.classes.service.Service object at 0x7fd46f05f5e0>, 1971233.5613085062), (<model.classes.service.Service object at 0x7fd46f05f3d0>, 2505649.9643692803), (<model.classes.service.Service object at 0x7fd46f06e340>, 2529193.97), (<model.classes.service.Service object at 0x7fd46f06e160>, 2563286.4005594063), (<model.classes.service.Service object at 0x7fd46f05f6a0>, 16354223.0)]\n",
      "Total execution time: 5.24s\n"
     ]
    }
   ],
   "source": [
    "import os\n",
    "os.chdir(\"..\")\n",
    "from model import run_experiments\n",
    "df = run_experiments([\"test1\"])"
   ]
  },
  {
   "cell_type": "code",
   "execution_count": null,
   "id": "7a653bc3",
   "metadata": {},
   "outputs": [],
   "source": []
  },
  {
   "cell_type": "code",
   "execution_count": null,
   "id": "606a747f",
   "metadata": {},
   "outputs": [],
   "source": [
    "[(x.staked_pokt, x.pokt_holdings) for x in df[\"Applications\"].iloc[20]]"
   ]
  },
  {
   "cell_type": "code",
   "execution_count": null,
   "id": "fb58800d",
   "metadata": {},
   "outputs": [],
   "source": [
    "df[[\"Applications\", \"Servicers\", \"Services\", \"Gateways\"]].applymap(lambda x: len(x))"
   ]
  },
  {
   "cell_type": "code",
   "execution_count": null,
   "id": "acb21550",
   "metadata": {},
   "outputs": [],
   "source": [
    "[len(x.servicers) for x in df.iloc[-1][\"Services\"]]"
   ]
  },
  {
   "cell_type": "code",
   "execution_count": null,
   "id": "3550e3f1",
   "metadata": {},
   "outputs": [],
   "source": [
    "[len(x.services) for x in df.iloc[-1][\"Servicers\"]]"
   ]
  },
  {
   "cell_type": "code",
   "execution_count": null,
   "id": "d3c32a6f",
   "metadata": {},
   "outputs": [],
   "source": [
    "[x.id_number for x in df['Applications'].iloc[-1]]"
   ]
  },
  {
   "cell_type": "code",
   "execution_count": null,
   "id": "1e517431",
   "metadata": {},
   "outputs": [],
   "source": [
    "[x.delegate for x in df['Applications'].iloc[-1]]"
   ]
  },
  {
   "cell_type": "code",
   "execution_count": null,
   "id": "8e2c36fd",
   "metadata": {},
   "outputs": [],
   "source": [
    "[x.delegators for x in df['Gateways'].iloc[-1]]"
   ]
  },
  {
   "cell_type": "code",
   "execution_count": null,
   "id": "4008fdbc",
   "metadata": {},
   "outputs": [],
   "source": []
  }
 ],
 "metadata": {
  "kernelspec": {
   "display_name": "Python 3 (ipykernel)",
   "language": "python",
   "name": "python3"
  },
  "language_info": {
   "codemirror_mode": {
    "name": "ipython",
    "version": 3
   },
   "file_extension": ".py",
   "mimetype": "text/x-python",
   "name": "python",
   "nbconvert_exporter": "python",
   "pygments_lexer": "ipython3",
   "version": "3.9.12"
  }
 },
 "nbformat": 4,
 "nbformat_minor": 5
}
