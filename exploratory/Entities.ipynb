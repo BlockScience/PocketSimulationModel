{
 "cells": [
  {
   "cell_type": "code",
   "execution_count": 1,
   "id": "a65b83fd",
   "metadata": {},
   "outputs": [],
   "source": [
    "import os\n",
    "os.chdir(\"..\")"
   ]
  },
  {
   "cell_type": "code",
   "execution_count": 2,
   "id": "ca7e0b19",
   "metadata": {},
   "outputs": [],
   "source": [
    "from model import Application, DAO, Portal, Service, Servicer"
   ]
  },
  {
   "cell_type": "code",
   "execution_count": 3,
   "id": "2cd62fb6",
   "metadata": {},
   "outputs": [],
   "source": [
    "state = {}\n",
    "\n",
    "\n",
    "# Add a way that you can put in strings for things like delegator and then have it fill in later when building the state\n",
    "\n",
    "state[\"Applications\"] = [Application(name = \"A1\", pokt_holdings = 1000, staked_pokt = 1000,\n",
    "           services = [], geo_zone = None, number_of_services=1,\n",
    "           stake_status = \"UnknownStatus\", unstaking_height = None, delegate = None)]\n",
    "\n",
    "state[\"DAO\"] = DAO(pokt_holdings = 100000)\n",
    "\n",
    "state[\"Portals\"] = [Portal(name = \"P1\", stake_status = \"UnknownStatus\", delegators = [],\n",
    "                          pokt_holdings = 100, staked_pokt = 100)]\n",
    "\n",
    "state[\"Services\"] = [Service(name = \"S1\", portal_api_prefix = \"S1\", service_id = \"S1\")]\n",
    "\n",
    "state[\"Servicers\"] = [Servicer(name = \"X1\", servicer_salary = 0, report_card = None,\n",
    "                 test_scores = None, pokt_holdings = 1000, staked_pokt= 1000,\n",
    "                 service_url = None, services = [], geo_zone = None,\n",
    "                 operator_public_key = None, pause_height = None, stake_status = \"UnknownStatus\",\n",
    "                 unkstaking_height = None)]"
   ]
  },
  {
   "cell_type": "code",
   "execution_count": 5,
   "id": "27f6dd93",
   "metadata": {},
   "outputs": [],
   "source": []
  },
  {
   "cell_type": "code",
   "execution_count": null,
   "id": "b3104393",
   "metadata": {},
   "outputs": [],
   "source": []
  }
 ],
 "metadata": {
  "kernelspec": {
   "display_name": "Python 3 (ipykernel)",
   "language": "python",
   "name": "python3"
  },
  "language_info": {
   "codemirror_mode": {
    "name": "ipython",
    "version": 3
   },
   "file_extension": ".py",
   "mimetype": "text/x-python",
   "name": "python",
   "nbconvert_exporter": "python",
   "pygments_lexer": "ipython3",
   "version": "3.9.12"
  }
 },
 "nbformat": 4,
 "nbformat_minor": 5
}
