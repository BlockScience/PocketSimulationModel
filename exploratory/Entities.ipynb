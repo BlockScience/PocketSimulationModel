{
 "cells": [
  {
   "cell_type": "code",
   "execution_count": 1,
   "id": "a65b83fd",
   "metadata": {},
   "outputs": [
    {
     "name": "stdout",
     "output_type": "stream",
     "text": [
      "\n",
      "                  ___________    ____\n",
      "  ________ __ ___/ / ____/   |  / __ \\\n",
      " / ___/ __` / __  / /   / /| | / / / /\n",
      "/ /__/ /_/ / /_/ / /___/ ___ |/ /_/ /\n",
      "\\___/\\__,_/\\__,_/\\____/_/  |_/_____/\n",
      "by cadCAD\n",
      "\n",
      "cadCAD Version: 0.4.28\n",
      "Execution Mode: local_proc\n",
      "Simulation Dimensions:\n",
      "Entire Simulation: (Models, Unique Timesteps, Params, Total Runs, Sub-States) = (1, 365, 61, 1, 12)\n",
      "     Simulation 0: (Timesteps, Params, Runs, Sub-States) = (365, 61, 1, 12)\n",
      "Execution Method: local_simulations\n",
      "Execution Mode: single_threaded\n",
      "Total execution time: 2.07s\n"
     ]
    }
   ],
   "source": [
    "import os\n",
    "os.chdir(\"..\")\n",
    "from model import run_experiments\n",
    "df = run_experiments([\"test1\"])"
   ]
  },
  {
   "cell_type": "code",
   "execution_count": 2,
   "id": "fb58800d",
   "metadata": {},
   "outputs": [
    {
     "data": {
      "text/html": [
       "<div>\n",
       "<style scoped>\n",
       "    .dataframe tbody tr th:only-of-type {\n",
       "        vertical-align: middle;\n",
       "    }\n",
       "\n",
       "    .dataframe tbody tr th {\n",
       "        vertical-align: top;\n",
       "    }\n",
       "\n",
       "    .dataframe thead th {\n",
       "        text-align: right;\n",
       "    }\n",
       "</style>\n",
       "<table border=\"1\" class=\"dataframe\">\n",
       "  <thead>\n",
       "    <tr style=\"text-align: right;\">\n",
       "      <th></th>\n",
       "      <th>Applications</th>\n",
       "      <th>Servicers</th>\n",
       "      <th>Services</th>\n",
       "      <th>Portals</th>\n",
       "    </tr>\n",
       "  </thead>\n",
       "  <tbody>\n",
       "    <tr>\n",
       "      <th>0</th>\n",
       "      <td>3</td>\n",
       "      <td>5</td>\n",
       "      <td>3</td>\n",
       "      <td>1</td>\n",
       "    </tr>\n",
       "    <tr>\n",
       "      <th>1</th>\n",
       "      <td>4</td>\n",
       "      <td>5</td>\n",
       "      <td>4</td>\n",
       "      <td>2</td>\n",
       "    </tr>\n",
       "    <tr>\n",
       "      <th>2</th>\n",
       "      <td>5</td>\n",
       "      <td>5</td>\n",
       "      <td>5</td>\n",
       "      <td>2</td>\n",
       "    </tr>\n",
       "    <tr>\n",
       "      <th>3</th>\n",
       "      <td>5</td>\n",
       "      <td>6</td>\n",
       "      <td>5</td>\n",
       "      <td>2</td>\n",
       "    </tr>\n",
       "    <tr>\n",
       "      <th>4</th>\n",
       "      <td>6</td>\n",
       "      <td>6</td>\n",
       "      <td>5</td>\n",
       "      <td>3</td>\n",
       "    </tr>\n",
       "    <tr>\n",
       "      <th>...</th>\n",
       "      <td>...</td>\n",
       "      <td>...</td>\n",
       "      <td>...</td>\n",
       "      <td>...</td>\n",
       "    </tr>\n",
       "    <tr>\n",
       "      <th>361</th>\n",
       "      <td>20</td>\n",
       "      <td>20</td>\n",
       "      <td>5</td>\n",
       "      <td>5</td>\n",
       "    </tr>\n",
       "    <tr>\n",
       "      <th>362</th>\n",
       "      <td>20</td>\n",
       "      <td>20</td>\n",
       "      <td>5</td>\n",
       "      <td>5</td>\n",
       "    </tr>\n",
       "    <tr>\n",
       "      <th>363</th>\n",
       "      <td>20</td>\n",
       "      <td>20</td>\n",
       "      <td>5</td>\n",
       "      <td>5</td>\n",
       "    </tr>\n",
       "    <tr>\n",
       "      <th>364</th>\n",
       "      <td>20</td>\n",
       "      <td>20</td>\n",
       "      <td>5</td>\n",
       "      <td>5</td>\n",
       "    </tr>\n",
       "    <tr>\n",
       "      <th>365</th>\n",
       "      <td>20</td>\n",
       "      <td>20</td>\n",
       "      <td>5</td>\n",
       "      <td>5</td>\n",
       "    </tr>\n",
       "  </tbody>\n",
       "</table>\n",
       "<p>366 rows × 4 columns</p>\n",
       "</div>"
      ],
      "text/plain": [
       "     Applications  Servicers  Services  Portals\n",
       "0               3          5         3        1\n",
       "1               4          5         4        2\n",
       "2               5          5         5        2\n",
       "3               5          6         5        2\n",
       "4               6          6         5        3\n",
       "..            ...        ...       ...      ...\n",
       "361            20         20         5        5\n",
       "362            20         20         5        5\n",
       "363            20         20         5        5\n",
       "364            20         20         5        5\n",
       "365            20         20         5        5\n",
       "\n",
       "[366 rows x 4 columns]"
      ]
     },
     "execution_count": 2,
     "metadata": {},
     "output_type": "execute_result"
    }
   ],
   "source": [
    "df[[\"Applications\", \"Servicers\", \"Services\", \"Portals\"]].applymap(lambda x: len(x))"
   ]
  },
  {
   "cell_type": "code",
   "execution_count": 3,
   "id": "acb21550",
   "metadata": {},
   "outputs": [
    {
     "data": {
      "text/plain": [
       "[0, 5, 20, 20, 15]"
      ]
     },
     "execution_count": 3,
     "metadata": {},
     "output_type": "execute_result"
    }
   ],
   "source": [
    "[len(x.servicers) for x in df.iloc[-1][\"Services\"]]"
   ]
  },
  {
   "cell_type": "code",
   "execution_count": 4,
   "id": "3550e3f1",
   "metadata": {},
   "outputs": [
    {
     "data": {
      "text/plain": [
       "[3, 3, 3, 3, 3, 3, 3, 3, 3, 3, 3, 3, 3, 3, 3, 3, 3, 3, 3, 3]"
      ]
     },
     "execution_count": 4,
     "metadata": {},
     "output_type": "execute_result"
    }
   ],
   "source": [
    "[len(x.services) for x in df.iloc[-1][\"Servicers\"]]"
   ]
  },
  {
   "cell_type": "code",
   "execution_count": 5,
   "id": "d3c32a6f",
   "metadata": {},
   "outputs": [
    {
     "data": {
      "text/plain": [
       "[0, 1, 2, 3, 4, 5, 6, 7, 8, 9, 10, 11, 12, 13, 14, 15, 16, 17, 18, 19]"
      ]
     },
     "execution_count": 5,
     "metadata": {},
     "output_type": "execute_result"
    }
   ],
   "source": [
    "[x.id_number for x in df['Applications'].iloc[-1]]"
   ]
  },
  {
   "cell_type": "code",
   "execution_count": 8,
   "id": "1e517431",
   "metadata": {},
   "outputs": [
    {
     "data": {
      "text/plain": [
       "[None,\n",
       " <model.classes.portal.Portal at 0x7fba2078be20>,\n",
       " 'P1',\n",
       " <model.classes.portal.Portal at 0x7fba2078bee0>,\n",
       " None,\n",
       " <model.classes.portal.Portal at 0x7fba2078bfd0>,\n",
       " None,\n",
       " <model.classes.portal.Portal at 0x7fba2078bfd0>,\n",
       " None,\n",
       " <model.classes.portal.Portal at 0x7fba2078be20>,\n",
       " None,\n",
       " <model.classes.portal.Portal at 0x7fba2078bf70>,\n",
       " None,\n",
       " <model.classes.portal.Portal at 0x7fba2078be50>,\n",
       " None,\n",
       " <model.classes.portal.Portal at 0x7fba2078bee0>,\n",
       " None,\n",
       " <model.classes.portal.Portal at 0x7fba2078bf70>,\n",
       " None,\n",
       " <model.classes.portal.Portal at 0x7fba2078bf70>]"
      ]
     },
     "execution_count": 8,
     "metadata": {},
     "output_type": "execute_result"
    }
   ],
   "source": [
    "[x.delegate for x in df['Applications'].iloc[-1]]"
   ]
  },
  {
   "cell_type": "code",
   "execution_count": 9,
   "id": "8e2c36fd",
   "metadata": {},
   "outputs": [
    {
     "data": {
      "text/plain": [
       "[['A3',\n",
       "  <model.classes.application.Application at 0x7fba20793460>,\n",
       "  <model.classes.application.Application at 0x7fba20793070>],\n",
       " [<model.classes.application.Application at 0x7fba207930a0>,\n",
       "  <model.classes.application.Application at 0x7fba20793370>],\n",
       " [<model.classes.application.Application at 0x7fba20793100>,\n",
       "  <model.classes.application.Application at 0x7fba207931f0>],\n",
       " [<model.classes.application.Application at 0x7fba20793280>,\n",
       "  <model.classes.application.Application at 0x7fba207932b0>,\n",
       "  <model.classes.application.Application at 0x7fba207934c0>],\n",
       " [<model.classes.application.Application at 0x7fba207933d0>]]"
      ]
     },
     "execution_count": 9,
     "metadata": {},
     "output_type": "execute_result"
    }
   ],
   "source": [
    "[x.delegators for x in df['Portals'].iloc[-1]]"
   ]
  },
  {
   "cell_type": "code",
   "execution_count": null,
   "id": "4008fdbc",
   "metadata": {},
   "outputs": [],
   "source": []
  }
 ],
 "metadata": {
  "kernelspec": {
   "display_name": "Python 3 (ipykernel)",
   "language": "python",
   "name": "python3"
  },
  "language_info": {
   "codemirror_mode": {
    "name": "ipython",
    "version": 3
   },
   "file_extension": ".py",
   "mimetype": "text/x-python",
   "name": "python",
   "nbconvert_exporter": "python",
   "pygments_lexer": "ipython3",
   "version": "3.9.12"
  }
 },
 "nbformat": 4,
 "nbformat_minor": 5
}
