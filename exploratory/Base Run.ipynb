{
 "cells": [
  {
   "cell_type": "code",
   "execution_count": 1,
   "id": "9e32bd00",
   "metadata": {
    "scrolled": false
   },
   "outputs": [
    {
     "name": "stderr",
     "output_type": "stream",
     "text": [
      "/Users/seanmcowen/opt/anaconda3/envs/BlockScience/lib/python3.9/site-packages/tqdm/auto.py:22: TqdmWarning: IProgress not found. Please update jupyter and ipywidgets. See https://ipywidgets.readthedocs.io/en/stable/user_install.html\n",
      "  from .autonotebook import tqdm as notebook_tqdm\n"
     ]
    },
    {
     "name": "stdout",
     "output_type": "stream",
     "text": [
      "\n",
      "                  ___________    ____\n",
      "  ________ __ ___/ / ____/   |  / __ \\\n",
      " / ___/ __` / __  / /   / /| | / / / /\n",
      "/ /__/ /_/ / /_/ / /___/ ___ |/ /_/ /\n",
      "\\___/\\__,_/\\__,_/\\____/_/  |_/_____/\n",
      "by cadCAD\n",
      "\n",
      "cadCAD Version: 0.5.0\n",
      "Execution Mode: local_proc\n",
      "Simulation Dimensions:\n",
      "Entire Simulation: (Models, Unique Timesteps, Params, Total Runs, Sub-States) = (1, 365, 74, 1, 27)\n",
      "     Simulation 0: (Timesteps, Params, Runs, Sub-States) = (365, 74, 1, 27)\n"
     ]
    },
    {
     "name": "stderr",
     "output_type": "stream",
     "text": [
      "Initializing configurations: 100%|████████████████| 1/1 [00:00<00:00, 98.21it/s]\n"
     ]
    },
    {
     "name": "stdout",
     "output_type": "stream",
     "text": [
      "Execution Method: single_proc_exec\n",
      "Execution Mode: single_threaded\n",
      "2023-12-21 10:47:30.500206\n"
     ]
    },
    {
     "name": "stderr",
     "output_type": "stream",
     "text": [
      "Flattening results:   0%|                     | 1/4016 [00:00<00:33, 119.59it/s]"
     ]
    },
    {
     "name": "stdout",
     "output_type": "stream",
     "text": [
      "Total execution time: 6.25s\n",
      "\n"
     ]
    },
    {
     "name": "stderr",
     "output_type": "stream",
     "text": [
      "\n"
     ]
    }
   ],
   "source": [
    "import os\n",
    "import matplotlib.pyplot as plt\n",
    "import pandas as pd\n",
    "os.chdir(\"..\")\n",
    "from model import run_experiments\n",
    "from model.config.params import build_params\n",
    "from model.kpis.utility import find_geo_zone_numbers\n",
    "import numpy as np\n",
    "from cadCAD.engine import ExecutionMode\n",
    "\n",
    "df, simulation_kpis = run_experiments([\"BaseEvent\"], context = ExecutionMode().local_mode)"
   ]
  },
  {
   "cell_type": "code",
   "execution_count": 2,
   "id": "349558f0",
   "metadata": {},
   "outputs": [
    {
     "data": {
      "text/html": [
       "<div>\n",
       "<style scoped>\n",
       "    .dataframe tbody tr th:only-of-type {\n",
       "        vertical-align: middle;\n",
       "    }\n",
       "\n",
       "    .dataframe tbody tr th {\n",
       "        vertical-align: top;\n",
       "    }\n",
       "\n",
       "    .dataframe thead th {\n",
       "        text-align: right;\n",
       "    }\n",
       "</style>\n",
       "<table border=\"1\" class=\"dataframe\">\n",
       "  <thead>\n",
       "    <tr style=\"text-align: right;\">\n",
       "      <th></th>\n",
       "      <th>Zone 2</th>\n",
       "      <th>Zone 3</th>\n",
       "      <th>Zone 4</th>\n",
       "      <th>Zone 5</th>\n",
       "      <th>Zone 1</th>\n",
       "    </tr>\n",
       "  </thead>\n",
       "  <tbody>\n",
       "    <tr>\n",
       "      <th>0</th>\n",
       "      <td>2.0</td>\n",
       "      <td>2.0</td>\n",
       "      <td>2.0</td>\n",
       "      <td>2.0</td>\n",
       "      <td>2.0</td>\n",
       "    </tr>\n",
       "    <tr>\n",
       "      <th>1</th>\n",
       "      <td>2.0</td>\n",
       "      <td>2.0</td>\n",
       "      <td>2.0</td>\n",
       "      <td>2.0</td>\n",
       "      <td>2.0</td>\n",
       "    </tr>\n",
       "    <tr>\n",
       "      <th>2</th>\n",
       "      <td>2.0</td>\n",
       "      <td>3.0</td>\n",
       "      <td>1.0</td>\n",
       "      <td>2.0</td>\n",
       "      <td>2.0</td>\n",
       "    </tr>\n",
       "    <tr>\n",
       "      <th>3</th>\n",
       "      <td>2.0</td>\n",
       "      <td>3.0</td>\n",
       "      <td>1.0</td>\n",
       "      <td>2.0</td>\n",
       "      <td>2.0</td>\n",
       "    </tr>\n",
       "    <tr>\n",
       "      <th>4</th>\n",
       "      <td>2.0</td>\n",
       "      <td>3.0</td>\n",
       "      <td>2.0</td>\n",
       "      <td>2.0</td>\n",
       "      <td>2.0</td>\n",
       "    </tr>\n",
       "    <tr>\n",
       "      <th>...</th>\n",
       "      <td>...</td>\n",
       "      <td>...</td>\n",
       "      <td>...</td>\n",
       "      <td>...</td>\n",
       "      <td>...</td>\n",
       "    </tr>\n",
       "    <tr>\n",
       "      <th>361</th>\n",
       "      <td>4.0</td>\n",
       "      <td>3.0</td>\n",
       "      <td>2.0</td>\n",
       "      <td>7.0</td>\n",
       "      <td>2.0</td>\n",
       "    </tr>\n",
       "    <tr>\n",
       "      <th>362</th>\n",
       "      <td>4.0</td>\n",
       "      <td>3.0</td>\n",
       "      <td>2.0</td>\n",
       "      <td>7.0</td>\n",
       "      <td>2.0</td>\n",
       "    </tr>\n",
       "    <tr>\n",
       "      <th>363</th>\n",
       "      <td>4.0</td>\n",
       "      <td>3.0</td>\n",
       "      <td>2.0</td>\n",
       "      <td>7.0</td>\n",
       "      <td>2.0</td>\n",
       "    </tr>\n",
       "    <tr>\n",
       "      <th>364</th>\n",
       "      <td>4.0</td>\n",
       "      <td>3.0</td>\n",
       "      <td>2.0</td>\n",
       "      <td>7.0</td>\n",
       "      <td>2.0</td>\n",
       "    </tr>\n",
       "    <tr>\n",
       "      <th>365</th>\n",
       "      <td>4.0</td>\n",
       "      <td>3.0</td>\n",
       "      <td>2.0</td>\n",
       "      <td>7.0</td>\n",
       "      <td>2.0</td>\n",
       "    </tr>\n",
       "  </tbody>\n",
       "</table>\n",
       "<p>366 rows × 5 columns</p>\n",
       "</div>"
      ],
      "text/plain": [
       "     Zone 2  Zone 3  Zone 4  Zone 5  Zone 1\n",
       "0       2.0     2.0     2.0     2.0     2.0\n",
       "1       2.0     2.0     2.0     2.0     2.0\n",
       "2       2.0     3.0     1.0     2.0     2.0\n",
       "3       2.0     3.0     1.0     2.0     2.0\n",
       "4       2.0     3.0     2.0     2.0     2.0\n",
       "..      ...     ...     ...     ...     ...\n",
       "361     4.0     3.0     2.0     7.0     2.0\n",
       "362     4.0     3.0     2.0     7.0     2.0\n",
       "363     4.0     3.0     2.0     7.0     2.0\n",
       "364     4.0     3.0     2.0     7.0     2.0\n",
       "365     4.0     3.0     2.0     7.0     2.0\n",
       "\n",
       "[366 rows x 5 columns]"
      ]
     },
     "execution_count": 2,
     "metadata": {},
     "output_type": "execute_result"
    }
   ],
   "source": [
    "geo_zone_numbers = find_geo_zone_numbers(df)\n",
    "geo_zone_numbers"
   ]
  },
  {
   "cell_type": "markdown",
   "id": "dc8a9f7d",
   "metadata": {},
   "source": [
    "## Basic Line Graphs"
   ]
  },
  {
   "cell_type": "code",
   "execution_count": null,
   "id": "8799dc25",
   "metadata": {
    "scrolled": false
   },
   "outputs": [],
   "source": [
    "for col in ['total_relays', 'processed_relays', 'pokt_price_true', 'pokt_price_oracle',\n",
    "           'n_transactions', 'floating_supply', 'n_understaked_servicers', 'n_understaked_gateways',\n",
    "            'n_understaked_applications', 'POKT_burned', 'POKT_minted','period_slashing_costs',\n",
    "            'period_jailing_opportunity_cost','POKT_net_mint', 'total_application_stake',\n",
    "            'total_servicer_stake', 'total_gateway_stake', 'total_stake', 'circulating_supply',\n",
    "            'dao_value_capture', 'n_servicers', 'n_applications', 'n_gateways',\n",
    "           'n_services', 'kpi_a', 'kpi_c', 'burn_rate_cummulative',\n",
    "       'mint_rate_cummulative', 'net_mint_rate_cummulative']:\n",
    "    # Grab the pivot table\n",
    "    table = df.pivot(index=\"timestep\", columns=\"key\", values=col)\n",
    "    \n",
    "    # Plot\n",
    "    table.plot(kind = 'line')\n",
    "    plt.xlabel(\"timestep\")\n",
    "    plt.ylabel(col)\n",
    "    plt.title(\"Simulation Values for {}\".format(col))\n",
    "    \n",
    "    plt.show()"
   ]
  },
  {
   "cell_type": "code",
   "execution_count": null,
   "id": "8a787796",
   "metadata": {},
   "outputs": [],
   "source": []
  }
 ],
 "metadata": {
  "kernelspec": {
   "display_name": "Python 3 (ipykernel)",
   "language": "python",
   "name": "python3"
  },
  "language_info": {
   "codemirror_mode": {
    "name": "ipython",
    "version": 3
   },
   "file_extension": ".py",
   "mimetype": "text/x-python",
   "name": "python",
   "nbconvert_exporter": "python",
   "pygments_lexer": "ipython3",
   "version": "3.9.12"
  }
 },
 "nbformat": 4,
 "nbformat_minor": 5
}
