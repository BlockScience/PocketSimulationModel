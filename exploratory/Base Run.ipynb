{
 "cells": [
  {
   "cell_type": "code",
   "execution_count": null,
   "id": "6b3a8504",
   "metadata": {},
   "outputs": [
    {
     "name": "stdout",
     "output_type": "stream",
     "text": [
      "\n",
      "                  ___________    ____\n",
      "  ________ __ ___/ / ____/   |  / __ \\\n",
      " / ___/ __` / __  / /   / /| | / / / /\n",
      "/ /__/ /_/ / /_/ / /___/ ___ |/ /_/ /\n",
      "\\___/\\__,_/\\__,_/\\____/_/  |_/_____/\n",
      "by cadCAD\n",
      "\n",
      "cadCAD Version: 0.4.28\n",
      "Execution Mode: local_proc\n",
      "Simulation Dimensions:\n",
      "Entire Simulation: (Models, Unique Timesteps, Params, Total Runs, Sub-States) = (1, 365, 64, 2, 27)\n",
      "     Simulation 0: (Timesteps, Params, Runs, Sub-States) = (365, 64, 2, 27)\n",
      "Execution Method: local_simulations\n",
      "Execution Mode: parallelized\n"
     ]
    }
   ],
   "source": [
    "import os\n",
    "import matplotlib.pyplot as plt\n",
    "os.chdir(\"..\")\n",
    "from model import run_experiments\n",
    "\n",
    "df = run_experiments([\"Base\"])"
   ]
  },
  {
   "cell_type": "markdown",
   "id": "d01019d0",
   "metadata": {},
   "source": [
    "## Extra KPIs"
   ]
  },
  {
   "cell_type": "code",
   "execution_count": 4,
   "id": "aa25294d",
   "metadata": {},
   "outputs": [],
   "source": [
    "df['n_servicers'] = df['Servicers'].apply(len)\n",
    "df['n_applications'] = df['Applications'].apply(len)\n",
    "df['n_gateways'] = df['Gateways'].apply(len)\n",
    "df['n_services'] = df['Services'].apply(len)"
   ]
  },
  {
   "cell_type": "markdown",
   "id": "908f1e8b",
   "metadata": {},
   "source": [
    "## Basic Line Graphs"
   ]
  },
  {
   "cell_type": "code",
   "execution_count": 7,
   "id": "b82b3b0b",
   "metadata": {},
   "outputs": [
    {
     "data": {
      "text/plain": [
       "Index(['simulation', 'subset', 'run', 'timestep', 'Geozones', 'Applications',\n",
       "       'DAO', 'Gateways', 'Services', 'Servicers', 'Validators', 'height',\n",
       "       'day', 'Treasury', 'Sessions', 'relay_fees', 'total_relays',\n",
       "       'processed_relays', 'pokt_price_true', 'pokt_price_oracle',\n",
       "       'n_transactions', 'relay_log', 'servicer_relay_log', 'floating_supply',\n",
       "       'understaked_servicers', 'understaked_gateways',\n",
       "       'understaked_applications', 'POKT_burned', 'POKT_minted',\n",
       "       'period_slashing_costs', 'period_jailing_opportunity_cost', 'substep',\n",
       "       'POKT_net_mint', 'total_application_stake', 'total_servicer_stake',\n",
       "       'total_gateway_stake', 'total_stake', 'circulating_supply',\n",
       "       'dao_value_capture', 'key', 'Experiment Name', 'State Set',\n",
       "       'Params Set'],\n",
       "      dtype='object')"
      ]
     },
     "execution_count": 7,
     "metadata": {},
     "output_type": "execute_result"
    }
   ],
   "source": [
    "for col in ['total_relays', 'processed_relays', 'pokt_price_true', 'pokt_price_oracle',\n",
    "           'n_transactions', 'floating_supply', 'understaked_servicers', 'understaked_gateways',\n",
    "            'understaked_applications', 'POKT_burned', 'POKT_minted','period_slashing_costs',\n",
    "            'period_jailing_opportunity_cost','POKT_net_mint', 'total_application_stake',\n",
    "            'total_servicer_stake', 'total_gateway_stake', 'total_stake', 'circulating_supply',\n",
    "            'dao_value_capture', 'n_servicers', 'n_applications', 'n_gateways',\n",
    "           'n_services']:\n",
    "    # Grab the pivot table\n",
    "    table = df.pivot(\"timestep\", \"run\", col)\n",
    "    \n",
    "    # Plot\n",
    "    table.plot(kind = 'line')\n",
    "    \n",
    "    plt.show()"
   ]
  },
  {
   "cell_type": "code",
   "execution_count": null,
   "id": "4a685fe8",
   "metadata": {},
   "outputs": [],
   "source": []
  }
 ],
 "metadata": {
  "kernelspec": {
   "display_name": "Python 3 (ipykernel)",
   "language": "python",
   "name": "python3"
  },
  "language_info": {
   "codemirror_mode": {
    "name": "ipython",
    "version": 3
   },
   "file_extension": ".py",
   "mimetype": "text/x-python",
   "name": "python",
   "nbconvert_exporter": "python",
   "pygments_lexer": "ipython3",
   "version": "3.9.12"
  }
 },
 "nbformat": 4,
 "nbformat_minor": 5
}
