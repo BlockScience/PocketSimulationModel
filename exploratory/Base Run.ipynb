{
 "cells": [
  {
   "cell_type": "code",
   "execution_count": 1,
   "id": "9e32bd00",
   "metadata": {},
   "outputs": [
    {
     "name": "stdout",
     "output_type": "stream",
     "text": [
      "\n",
      "                  ___________    ____\n",
      "  ________ __ ___/ / ____/   |  / __ \\\n",
      " / ___/ __` / __  / /   / /| | / / / /\n",
      "/ /__/ /_/ / /_/ / /___/ ___ |/ /_/ /\n",
      "\\___/\\__,_/\\__,_/\\____/_/  |_/_____/\n",
      "by cadCAD\n",
      "\n",
      "cadCAD Version: 0.4.28\n",
      "Execution Mode: local_proc\n",
      "Simulation Dimensions:\n",
      "Entire Simulation: (Models, Unique Timesteps, Params, Total Runs, Sub-States) = (2, 730, 128, 2, 25)\n",
      "     Simulation 0: (Timesteps, Params, Runs, Sub-States) = (365, 64, 1, 25)\n",
      "     Simulation 1: (Timesteps, Params, Runs, Sub-States) = (365, 64, 1, 25)\n",
      "Execution Method: local_simulations\n",
      "Execution Mode: parallelized\n",
      "2023-12-12 18:32:51.030375\n",
      "2023-12-12 18:32:51.036756\n",
      "Total execution time: 25.24s\n"
     ]
    }
   ],
   "source": [
    "import os\n",
    "import matplotlib.pyplot as plt\n",
    "import pandas as pd\n",
    "os.chdir(\"..\")\n",
    "from model import run_experiments\n",
    "from model.config.params import build_params\n",
    "import numpy as np\n",
    "\n",
    "df, simulation_kpis = run_experiments([\"Base\", \"Base\"])"
   ]
  },
  {
   "cell_type": "code",
   "execution_count": 2,
   "id": "5da66c16",
   "metadata": {},
   "outputs": [
    {
     "ename": "NameError",
     "evalue": "name 'unique_servicers' is not defined",
     "output_type": "error",
     "traceback": [
      "\u001b[0;31m---------------------------------------------------------------------------\u001b[0m",
      "\u001b[0;31mNameError\u001b[0m                                 Traceback (most recent call last)",
      "\u001b[0;32m/var/folders/y0/fwkpk2ps087b_2qxvhjstrfr0000gn/T/ipykernel_94591/2883018740.py\u001b[0m in \u001b[0;36m<module>\u001b[0;34m\u001b[0m\n\u001b[1;32m      1\u001b[0m \u001b[0mservicer_npvs\u001b[0m \u001b[0;34m=\u001b[0m \u001b[0;34m{\u001b[0m\u001b[0;34m}\u001b[0m\u001b[0;34m\u001b[0m\u001b[0;34m\u001b[0m\u001b[0m\n\u001b[0;32m----> 2\u001b[0;31m \u001b[0;32mfor\u001b[0m \u001b[0mkey\u001b[0m \u001b[0;32min\u001b[0m \u001b[0munique_servicers\u001b[0m\u001b[0;34m:\u001b[0m\u001b[0;34m\u001b[0m\u001b[0;34m\u001b[0m\u001b[0m\n\u001b[0m\u001b[1;32m      3\u001b[0m     \u001b[0mservicers\u001b[0m \u001b[0;34m=\u001b[0m \u001b[0munique_servicers\u001b[0m\u001b[0;34m[\u001b[0m\u001b[0mkey\u001b[0m\u001b[0;34m]\u001b[0m\u001b[0;34m\u001b[0m\u001b[0;34m\u001b[0m\u001b[0m\n\u001b[1;32m      4\u001b[0m     \u001b[0mt\u001b[0m \u001b[0;34m=\u001b[0m \u001b[0msimulation_kpis\u001b[0m\u001b[0;34m.\u001b[0m\u001b[0mloc\u001b[0m\u001b[0;34m[\u001b[0m\u001b[0mkey\u001b[0m\u001b[0;34m,\u001b[0m \u001b[0;34m\"timestep\"\u001b[0m\u001b[0;34m]\u001b[0m\u001b[0;34m\u001b[0m\u001b[0;34m\u001b[0m\u001b[0m\n\u001b[1;32m      5\u001b[0m     \u001b[0mp_j\u001b[0m \u001b[0;34m=\u001b[0m \u001b[0;36m1\u001b[0m \u001b[0;34m-\u001b[0m \u001b[0;34m(\u001b[0m\u001b[0;36m1\u001b[0m \u001b[0;34m-\u001b[0m \u001b[0msimulation_kpis\u001b[0m\u001b[0;34m.\u001b[0m\u001b[0mloc\u001b[0m\u001b[0;34m[\u001b[0m\u001b[0mkey\u001b[0m\u001b[0;34m,\u001b[0m \u001b[0;34m\"param_servicer_jailing_probability\"\u001b[0m\u001b[0;34m]\u001b[0m\u001b[0;34m)\u001b[0m \u001b[0;34m**\u001b[0m \u001b[0mt\u001b[0m\u001b[0;34m\u001b[0m\u001b[0;34m\u001b[0m\u001b[0m\n",
      "\u001b[0;31mNameError\u001b[0m: name 'unique_servicers' is not defined"
     ]
    }
   ],
   "source": [
    "servicer_npvs = {}\n",
    "for key in unique_servicers:\n",
    "    servicers = unique_servicers[key]\n",
    "    t = simulation_kpis.loc[key, \"timestep\"]\n",
    "    p_j = 1 - (1 - simulation_kpis.loc[key, \"param_servicer_jailing_probability\"]) ** t\n",
    "    # For now slashing only comes out of jailing so setting equal\n",
    "    p_s = p_j\n",
    "    "
   ]
  },
  {
   "cell_type": "markdown",
   "id": "dc8a9f7d",
   "metadata": {},
   "source": [
    "## Basic Line Graphs"
   ]
  },
  {
   "cell_type": "code",
   "execution_count": null,
   "id": "8799dc25",
   "metadata": {
    "scrolled": false
   },
   "outputs": [],
   "source": [
    "for col in ['total_relays', 'processed_relays', 'pokt_price_true', 'pokt_price_oracle',\n",
    "           'n_transactions', 'floating_supply', 'n_understaked_servicers', 'n_understaked_gateways',\n",
    "            'n_understaked_applications', 'POKT_burned', 'POKT_minted','period_slashing_costs',\n",
    "            'period_jailing_opportunity_cost','POKT_net_mint', 'total_application_stake',\n",
    "            'total_servicer_stake', 'total_gateway_stake', 'total_stake', 'circulating_supply',\n",
    "            'dao_value_capture', 'n_servicers', 'n_applications', 'n_gateways',\n",
    "           'n_services', 'kpi_a', 'kpi_c']:\n",
    "    # Grab the pivot table\n",
    "    table = df.pivot(\"timestep\", \"key\", col)\n",
    "    \n",
    "    # Plot\n",
    "    table.plot(kind = 'line')\n",
    "    plt.xlabel(\"timestep\")\n",
    "    plt.ylabel(col)\n",
    "    plt.title(\"Simulation Values for {}\".format(col))\n",
    "    \n",
    "    plt.show()"
   ]
  }
 ],
 "metadata": {
  "kernelspec": {
   "display_name": "Python 3 (ipykernel)",
   "language": "python",
   "name": "python3"
  },
  "language_info": {
   "codemirror_mode": {
    "name": "ipython",
    "version": 3
   },
   "file_extension": ".py",
   "mimetype": "text/x-python",
   "name": "python",
   "nbconvert_exporter": "python",
   "pygments_lexer": "ipython3",
   "version": "3.9.12"
  }
 },
 "nbformat": 4,
 "nbformat_minor": 5
}
