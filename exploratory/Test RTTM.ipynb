{
 "cells": [
  {
   "cell_type": "code",
   "execution_count": 1,
   "id": "31046681",
   "metadata": {},
   "outputs": [
    {
     "name": "stderr",
     "output_type": "stream",
     "text": [
      "/Users/seanmcowen/opt/anaconda3/envs/BlockScience/lib/python3.9/site-packages/tqdm/auto.py:22: TqdmWarning: IProgress not found. Please update jupyter and ipywidgets. See https://ipywidgets.readthedocs.io/en/stable/user_install.html\n",
      "  from .autonotebook import tqdm as notebook_tqdm\n"
     ]
    }
   ],
   "source": [
    "import os\n",
    "import matplotlib.pyplot as plt\n",
    "import pandas as pd\n",
    "os.chdir(\"..\")\n",
    "from model.psub.system import p_update_rttm, p_update_gfpr\n",
    "from math import isclose"
   ]
  },
  {
   "cell_type": "code",
   "execution_count": 2,
   "id": "505464d9",
   "metadata": {},
   "outputs": [
    {
     "name": "stdout",
     "output_type": "stream",
     "text": [
      "{'relays_to_tokens_multiplier': 161.29032258064518}\n",
      "{'gateway_fee_per_relay': 27.41935483870967}\n"
     ]
    }
   ],
   "source": [
    "_params = {\"relays_to_tokens_multiplier\": \"Dynamic\",\n",
    "          \"min_bootstrap_gateway_fee_per_relay\": 0.00000085,\n",
    "          \"maturity_relay_charge\": 0.000001971,\n",
    "           \"gateway_bootstrap_unwind_start\": 3,\n",
    "           \"gateway_bootstrap_end\": 20,\n",
    "           \"max_bootstrap_servicer_cost_per_relay\": 0.000005,\n",
    "           \"maturity_relay_cost\": 0.000001971/4*3,\n",
    "           \"servicer_bootstrap_unwind_start\": 1.5,\n",
    "           \"servicer_bootstrap_end\": 10,\n",
    "           \"supply_grow_cap\": True,\n",
    "           \"gateway_fee_per_relay\": \"Dynamic\"\n",
    "           \n",
    "          }\n",
    "state = {\"pokt_price_oracle\": 0.031/1e6,\n",
    "        \"processed_relays\": 1200000000,\n",
    "        \"floating_supply\": 1530551720.03*1e6}\n",
    "print(p_update_rttm(_params, _, _, state))\n",
    "print(p_update_gfpr(_params, _, _, state))"
   ]
  },
  {
   "cell_type": "code",
   "execution_count": 4,
   "id": "5adbcbe2",
   "metadata": {},
   "outputs": [
    {
     "name": "stdout",
     "output_type": "stream",
     "text": [
      "(161.29032258064518, 161.29)\n",
      "(27.41935483870967, 27.42)\n"
     ]
    }
   ],
   "source": [
    "print((p_update_rttm(_params, _, _, state)[\"relays_to_tokens_multiplier\"], 161.29))\n",
    "print((p_update_gfpr(_params, _, _, state)[\"gateway_fee_per_relay\"], 27.42))"
   ]
  },
  {
   "cell_type": "code",
   "execution_count": null,
   "id": "ce052198",
   "metadata": {},
   "outputs": [],
   "source": []
  }
 ],
 "metadata": {
  "kernelspec": {
   "display_name": "Python 3 (ipykernel)",
   "language": "python",
   "name": "python3"
  },
  "language_info": {
   "codemirror_mode": {
    "name": "ipython",
    "version": 3
   },
   "file_extension": ".py",
   "mimetype": "text/x-python",
   "name": "python",
   "nbconvert_exporter": "python",
   "pygments_lexer": "ipython3",
   "version": "3.9.12"
  }
 },
 "nbformat": 4,
 "nbformat_minor": 5
}
