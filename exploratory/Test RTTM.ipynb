{
 "cells": [
  {
   "cell_type": "code",
   "execution_count": 5,
   "id": "09c75379",
   "metadata": {},
   "outputs": [],
   "source": [
    "import os\n",
    "import matplotlib.pyplot as plt\n",
    "import pandas as pd\n",
    "os.chdir(\"..\")\n",
    "from model.psub.system import p_update_rttm, p_update_gfpr\n",
    "from math import isclose"
   ]
  },
  {
   "cell_type": "code",
   "execution_count": 25,
   "id": "2f6b1f73",
   "metadata": {},
   "outputs": [
    {
     "name": "stdout",
     "output_type": "stream",
     "text": [
      "{'relays_to_tokens_multiplier': 177.18548387096777}\n",
      "{'gateway_fee_per_relay': 27.41935483870967}\n"
     ]
    }
   ],
   "source": [
    "_params = {\"relays_to_tokens_multiplier\": \"Dynamic\",\n",
    "          \"min_bootstrap_gateway_fee_per_relay\": 0.00000085,\n",
    "          \"maturity_relay_charge\": 0.000001971,\n",
    "           \"gateway_bootstrap_unwind_start\": 3,\n",
    "           \"gateway_bootstrap_end\": 20,\n",
    "           \"max_bootstrap_servicer_cost_per_relay\": 0.000005,\n",
    "           \"maturity_relay_cost\": 0.000001971/4*3,\n",
    "           \"servicer_bootstrap_unwind_start\": 1.5,\n",
    "           \"servicer_bootstrap_end\": 10,\n",
    "           \"supply_grow_cap\": True,\n",
    "           \"gateway_fee_per_relay\": \"Dynamic\"\n",
    "           \n",
    "          }\n",
    "state = {\"pokt_price_oracle\": 0.031/1e6,\n",
    "        \"processed_relays\": 1200000000,\n",
    "        \"floating_supply\": 1530551720.03*1e6}\n",
    "print(p_update_rttm(_params, _, _, state))\n",
    "print(p_update_gfpr(_params, _, _, state))"
   ]
  },
  {
   "cell_type": "code",
   "execution_count": 6,
   "id": "896a1514",
   "metadata": {},
   "outputs": [
    {
     "ename": "KeyError",
     "evalue": "'relays_to_tokens_multiplier'",
     "output_type": "error",
     "traceback": [
      "\u001b[0;31m---------------------------------------------------------------------------\u001b[0m",
      "\u001b[0;31mKeyError\u001b[0m                                  Traceback (most recent call last)",
      "\u001b[0;32m/var/folders/y0/fwkpk2ps087b_2qxvhjstrfr0000gn/T/ipykernel_71833/1753832848.py\u001b[0m in \u001b[0;36m<module>\u001b[0;34m\u001b[0m\n\u001b[0;32m----> 1\u001b[0;31m \u001b[0mprint\u001b[0m\u001b[0;34m(\u001b[0m\u001b[0misclose\u001b[0m\u001b[0;34m(\u001b[0m\u001b[0mp_update_rttm\u001b[0m\u001b[0;34m(\u001b[0m\u001b[0m_params\u001b[0m\u001b[0;34m,\u001b[0m \u001b[0m_\u001b[0m\u001b[0;34m,\u001b[0m \u001b[0m_\u001b[0m\u001b[0;34m,\u001b[0m \u001b[0mstate\u001b[0m\u001b[0;34m)\u001b[0m\u001b[0;34m,\u001b[0m \u001b[0;36m161.29\u001b[0m\u001b[0;34m)\u001b[0m\u001b[0;34m)\u001b[0m\u001b[0;34m\u001b[0m\u001b[0;34m\u001b[0m\u001b[0m\n\u001b[0m\u001b[1;32m      2\u001b[0m \u001b[0mprint\u001b[0m\u001b[0;34m(\u001b[0m\u001b[0misclose\u001b[0m\u001b[0;34m(\u001b[0m\u001b[0mp_update_gfpr\u001b[0m\u001b[0;34m(\u001b[0m\u001b[0m_params\u001b[0m\u001b[0;34m,\u001b[0m \u001b[0m_\u001b[0m\u001b[0;34m,\u001b[0m \u001b[0m_\u001b[0m\u001b[0;34m,\u001b[0m \u001b[0mstate\u001b[0m\u001b[0;34m)\u001b[0m\u001b[0;34m,\u001b[0m \u001b[0;36m27.42\u001b[0m\u001b[0;34m)\u001b[0m\u001b[0;34m)\u001b[0m\u001b[0;34m\u001b[0m\u001b[0;34m\u001b[0m\u001b[0m\n",
      "\u001b[0;32m~/Dropbox/BlockScience/PocketSimulationModel/model/psub/system.py\u001b[0m in \u001b[0;36mp_update_rttm\u001b[0;34m(_params, substep, state_history, state)\u001b[0m\n\u001b[1;32m     92\u001b[0m \u001b[0;34m\u001b[0m\u001b[0m\n\u001b[1;32m     93\u001b[0m \u001b[0;32mdef\u001b[0m \u001b[0mp_update_rttm\u001b[0m\u001b[0;34m(\u001b[0m\u001b[0m_params\u001b[0m\u001b[0;34m,\u001b[0m \u001b[0msubstep\u001b[0m\u001b[0;34m,\u001b[0m \u001b[0mstate_history\u001b[0m\u001b[0;34m,\u001b[0m \u001b[0mstate\u001b[0m\u001b[0;34m)\u001b[0m \u001b[0;34m->\u001b[0m \u001b[0mdict\u001b[0m\u001b[0;34m:\u001b[0m\u001b[0;34m\u001b[0m\u001b[0;34m\u001b[0m\u001b[0m\n\u001b[0;32m---> 94\u001b[0;31m     \u001b[0;32mif\u001b[0m \u001b[0mtype\u001b[0m\u001b[0;34m(\u001b[0m\u001b[0m_params\u001b[0m\u001b[0;34m[\u001b[0m\u001b[0;34m\"relays_to_tokens_multiplier\"\u001b[0m\u001b[0;34m]\u001b[0m\u001b[0;34m)\u001b[0m \u001b[0;32min\u001b[0m \u001b[0;34m[\u001b[0m\u001b[0mfloat\u001b[0m\u001b[0;34m,\u001b[0m \u001b[0mint\u001b[0m\u001b[0;34m]\u001b[0m\u001b[0;34m:\u001b[0m\u001b[0;34m\u001b[0m\u001b[0;34m\u001b[0m\u001b[0m\n\u001b[0m\u001b[1;32m     95\u001b[0m         \u001b[0;32mreturn\u001b[0m \u001b[0;34m{\u001b[0m\u001b[0;34m\"relays_to_tokens_multiplier\"\u001b[0m\u001b[0;34m:\u001b[0m \u001b[0m_params\u001b[0m\u001b[0;34m[\u001b[0m\u001b[0;34m\"relays_to_tokens_multiplier\"\u001b[0m\u001b[0;34m]\u001b[0m\u001b[0;34m}\u001b[0m\u001b[0;34m\u001b[0m\u001b[0;34m\u001b[0m\u001b[0m\n\u001b[1;32m     96\u001b[0m     \u001b[0;32melif\u001b[0m \u001b[0m_params\u001b[0m\u001b[0;34m[\u001b[0m\u001b[0;34m\"relays_to_tokens_multiplier\"\u001b[0m\u001b[0;34m]\u001b[0m \u001b[0;34m==\u001b[0m \u001b[0;34m\"Dynamic\"\u001b[0m\u001b[0;34m:\u001b[0m\u001b[0;34m\u001b[0m\u001b[0;34m\u001b[0m\u001b[0m\n",
      "\u001b[0;31mKeyError\u001b[0m: 'relays_to_tokens_multiplier'"
     ]
    }
   ],
   "source": [
    "print(isclose(p_update_rttm(_params, _, _, state), 161.29))\n",
    "print(isclose(p_update_gfpr(_params, _, _, state), 27.42))"
   ]
  },
  {
   "cell_type": "code",
   "execution_count": null,
   "id": "f2463539",
   "metadata": {},
   "outputs": [],
   "source": []
  }
 ],
 "metadata": {
  "kernelspec": {
   "display_name": "Python 3 (ipykernel)",
   "language": "python",
   "name": "python3"
  },
  "language_info": {
   "codemirror_mode": {
    "name": "ipython",
    "version": 3
   },
   "file_extension": ".py",
   "mimetype": "text/x-python",
   "name": "python",
   "nbconvert_exporter": "python",
   "pygments_lexer": "ipython3",
   "version": "3.9.12"
  }
 },
 "nbformat": 4,
 "nbformat_minor": 5
}
