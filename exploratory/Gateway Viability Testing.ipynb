{
 "cells": [
  {
   "cell_type": "code",
   "execution_count": 1,
   "id": "267dd794",
   "metadata": {},
   "outputs": [
    {
     "name": "stdout",
     "output_type": "stream",
     "text": [
      "\n",
      "                  ___________    ____\n",
      "  ________ __ ___/ / ____/   |  / __ \\\n",
      " / ___/ __` / __  / /   / /| | / / / /\n",
      "/ /__/ /_/ / /_/ / /___/ ___ |/ /_/ /\n",
      "\\___/\\__,_/\\__,_/\\____/_/  |_/_____/\n",
      "by cadCAD\n",
      "\n",
      "cadCAD Version: 0.4.28\n",
      "Execution Mode: local_proc\n",
      "Simulation Dimensions:\n",
      "Entire Simulation: (Models, Unique Timesteps, Params, Total Runs, Sub-States) = (1, 365, 65, 30, 25)\n",
      "     Simulation 0: (Timesteps, Params, Runs, Sub-States) = (365, 65, 30, 25)\n",
      "Execution Method: local_simulations\n",
      "Execution Mode: parallelized\n",
      "2023-12-17 17:46:41.956896\n",
      "2023-12-17 17:47:03.181129\n",
      "2023-12-17 17:47:25.916091\n",
      "2023-12-17 17:47:49.849745\n",
      "2023-12-17 17:48:14.194936\n",
      "2023-12-17 17:48:37.448386\n",
      "2023-12-17 17:48:59.414466\n",
      "2023-12-17 17:49:21.394539\n",
      "2023-12-17 17:49:46.892779\n",
      "2023-12-17 17:50:11.617345\n",
      "2023-12-17 17:50:34.626539\n",
      "2023-12-17 17:50:59.978412\n",
      "2023-12-17 17:51:23.657162\n",
      "2023-12-17 17:51:50.935254\n",
      "2023-12-17 17:52:11.978059\n",
      "2023-12-17 17:52:36.181776\n",
      "2023-12-17 17:53:04.734469\n",
      "2023-12-17 17:53:24.307010\n",
      "2023-12-17 17:53:49.123417\n",
      "2023-12-17 17:54:20.332859\n",
      "2023-12-17 17:54:39.779276\n",
      "2023-12-17 17:55:01.040013\n",
      "2023-12-17 17:55:34.701834\n",
      "2023-12-17 17:55:55.580622\n",
      "2023-12-17 17:56:16.030970\n",
      "2023-12-17 17:56:35.380227\n",
      "2023-12-17 17:57:01.816789\n",
      "2023-12-17 17:57:36.274741\n",
      "2023-12-17 17:57:56.178664\n",
      "2023-12-17 17:58:16.483058\n",
      "Total execution time: 715.03s\n"
     ]
    }
   ],
   "source": [
    "import os\n",
    "import matplotlib.pyplot as plt\n",
    "import pandas as pd\n",
    "os.chdir(\"..\")\n",
    "from model import run_experiments\n",
    "from model.config.params import build_params\n",
    "import numpy as np\n",
    "\n",
    "df, simulation_kpis = run_experiments([\"gateway_viability_sweep_ag1_1\"])"
   ]
  },
  {
   "cell_type": "code",
   "execution_count": null,
   "id": "29c13c94",
   "metadata": {},
   "outputs": [],
   "source": []
  }
 ],
 "metadata": {
  "kernelspec": {
   "display_name": "Python 3 (ipykernel)",
   "language": "python",
   "name": "python3"
  },
  "language_info": {
   "codemirror_mode": {
    "name": "ipython",
    "version": 3
   },
   "file_extension": ".py",
   "mimetype": "text/x-python",
   "name": "python",
   "nbconvert_exporter": "python",
   "pygments_lexer": "ipython3",
   "version": "3.9.12"
  }
 },
 "nbformat": 4,
 "nbformat_minor": 5
}
