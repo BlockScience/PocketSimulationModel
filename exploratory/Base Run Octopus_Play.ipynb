{
 "cells": [
  {
   "cell_type": "code",
   "execution_count": 1,
   "id": "9e32bd00",
   "metadata": {},
   "outputs": [
    {
     "name": "stdout",
     "output_type": "stream",
     "text": [
      "\n",
      "                  ___________    ____\n",
      "  ________ __ ___/ / ____/   |  / __ \\\n",
      " / ___/ __` / __  / /   / /| | / / / /\n",
      "/ /__/ /_/ / /_/ / /___/ ___ |/ /_/ /\n",
      "\\___/\\__,_/\\__,_/\\____/_/  |_/_____/\n",
      "by cadCAD\n",
      "\n",
      "cadCAD Version: 0.4.28\n",
      "Execution Mode: local_proc\n",
      "Simulation Dimensions:\n",
      "Entire Simulation: (Models, Unique Timesteps, Params, Total Runs, Sub-States) = (1, 365, 64, 2, 25)\n",
      "     Simulation 0: (Timesteps, Params, Runs, Sub-States) = (365, 64, 2, 25)\n",
      "Execution Method: local_simulations\n",
      "Execution Mode: parallelized\n",
      "Total execution time: 206.61s\n"
     ]
    }
   ],
   "source": [
    "import os\n",
    "import matplotlib.pyplot as plt\n",
    "import pandas as pd\n",
    "os.chdir(\"..\")\n",
    "from model import run_experiments\n",
    "\n",
    "from helper_for_kpis import *\n",
    "\n",
    "df = run_experiments([\"Base\"])"
   ]
  },
  {
   "cell_type": "code",
   "execution_count": null,
   "id": "ac24dc89",
   "metadata": {},
   "outputs": [],
   "source": [
    "   ssh-add ~/.ssh/id_rsa"
   ]
  },
  {
   "cell_type": "markdown",
   "id": "44a9b968",
   "metadata": {},
   "source": [
    "## Extra KPIs"
   ]
  },
  {
   "cell_type": "code",
   "execution_count": 2,
   "id": "ed6f3c58",
   "metadata": {},
   "outputs": [],
   "source": [
    "df['n_servicers'] = df['Servicers'].apply(len)\n",
    "df['n_applications'] = df['Applications'].apply(len)\n",
    "df['n_gateways'] = df['Gateways'].apply(len)\n",
    "df['n_services'] = df['Services'].apply(len)\n",
    "\n",
    "df['n_understaked_servicers'] = df['understaked_servicers'].apply(len)\n",
    "df['n_understaked_gateways'] = df['understaked_gateways'].apply(len)\n",
    "df['n_understaked_applications'] = df['understaked_applications'].apply(len)\n"
   ]
  },
  {
   "cell_type": "code",
   "execution_count": 3,
   "id": "724ccfc2",
   "metadata": {},
   "outputs": [
    {
     "name": "stdout",
     "output_type": "stream",
     "text": [
      "              0\n",
      "key            \n",
      "0-0-1  0.000028\n",
      "0-0-2  0.000026\n"
     ]
    }
   ],
   "source": [
    "simulation_kpis = []\n",
    "\n",
    "simulation_kpis.append(df.groupby('key')['POKT_net_mint'].sum() / df.groupby('key')['floating_supply'].first())\n",
    "\n",
    "simulation_kpis = pd.concat(simulation_kpis, axis=1)\n",
    "print(simulation_kpis)"
   ]
  },
  {
   "cell_type": "code",
   "execution_count": 4,
   "id": "e311e8d2",
   "metadata": {},
   "outputs": [
    {
     "data": {
      "text/plain": [
       "Index(['simulation', 'subset', 'run', 'timestep', 'Geozones', 'Applications',\n",
       "       'DAO', 'Gateways', 'Services', 'Servicers', 'Validators', 'height',\n",
       "       'day', 'Sessions', 'total_relays', 'processed_relays',\n",
       "       'pokt_price_true', 'pokt_price_oracle', 'n_transactions', 'relay_log',\n",
       "       'servicer_relay_log', 'floating_supply', 'understaked_servicers',\n",
       "       'understaked_gateways', 'understaked_applications', 'POKT_burned',\n",
       "       'POKT_minted', 'period_slashing_costs',\n",
       "       'period_jailing_opportunity_cost', 'substep', 'POKT_net_mint',\n",
       "       'total_application_stake', 'total_servicer_stake',\n",
       "       'total_gateway_stake', 'total_stake', 'circulating_supply',\n",
       "       'dao_value_capture', 'kpi_a', 'burn_rate', 'mint_rate', 'net_mint_rate',\n",
       "       'key', 'Experiment Name', 'State Set', 'Params Set', 'n_servicers',\n",
       "       'n_applications', 'n_gateways', 'n_services', 'n_understaked_servicers',\n",
       "       'n_understaked_gateways', 'n_understaked_applications'],\n",
       "      dtype='object')"
      ]
     },
     "execution_count": 4,
     "metadata": {},
     "output_type": "execute_result"
    }
   ],
   "source": [
    "df.columns"
   ]
  },
  {
   "cell_type": "markdown",
   "id": "8b87c6e5",
   "metadata": {},
   "source": [
    "We can calculate Gini Coefficient of relays for Load Balancing (KPI-C)."
   ]
  },
  {
   "cell_type": "code",
   "execution_count": 5,
   "id": "72933609",
   "metadata": {},
   "outputs": [
    {
     "data": {
      "text/plain": [
       "0.09861656346443551"
      ]
     },
     "execution_count": 5,
     "metadata": {},
     "output_type": "execute_result"
    }
   ],
   "source": [
    "num_entries = len(df['servicer_relay_log']) - 1\n",
    "sum(df['servicer_relay_log'].apply(lambda x: calculate_gini_from_dict(x))[1:])/num_entries"
   ]
  },
  {
   "cell_type": "code",
   "execution_count": null,
   "id": "96bc4f26",
   "metadata": {},
   "outputs": [],
   "source": []
  },
  {
   "cell_type": "code",
   "execution_count": 6,
   "id": "18902d7c",
   "metadata": {},
   "outputs": [],
   "source": [
    "for i in range(max(map(len, df['Servicers']))):\n",
    "    df[f'servicer_{i}:salary'] = df['Servicers'].apply(lambda x: vars(x[i]).get('servicer_salary') if len(x) > i and vars(x[i]) else None)"
   ]
  },
  {
   "cell_type": "code",
   "execution_count": 7,
   "id": "f9fc20a3",
   "metadata": {},
   "outputs": [
    {
     "ename": "AttributeError",
     "evalue": "'dict' object has no attribute 'append'",
     "output_type": "error",
     "traceback": [
      "\u001b[1;31m---------------------------------------------------------------------------\u001b[0m",
      "\u001b[1;31mAttributeError\u001b[0m                            Traceback (most recent call last)",
      "\u001b[1;32mc:\\Users\\andre\\Desktop\\PocketSimulationModel\\exploratory\\Base Run with More KPIs.ipynb Cell 10\u001b[0m line \u001b[0;36m5\n\u001b[0;32m      <a href='vscode-notebook-cell:/c%3A/Users/andre/Desktop/PocketSimulationModel/exploratory/Base%20Run%20with%20More%20KPIs.ipynb#X33sZmlsZQ%3D%3D?line=2'>3</a>\u001b[0m \u001b[39mfor\u001b[39;00m servicer \u001b[39min\u001b[39;00m servicers_list:\n\u001b[0;32m      <a href='vscode-notebook-cell:/c%3A/Users/andre/Desktop/PocketSimulationModel/exploratory/Base%20Run%20with%20More%20KPIs.ipynb#X33sZmlsZQ%3D%3D?line=3'>4</a>\u001b[0m     \u001b[39mif\u001b[39;00m \u001b[39mhasattr\u001b[39m(servicer, \u001b[39m'\u001b[39m\u001b[39mid_number\u001b[39m\u001b[39m'\u001b[39m):\n\u001b[1;32m----> <a href='vscode-notebook-cell:/c%3A/Users/andre/Desktop/PocketSimulationModel/exploratory/Base%20Run%20with%20More%20KPIs.ipynb#X33sZmlsZQ%3D%3D?line=4'>5</a>\u001b[0m         all_id_numbers\u001b[39m.\u001b[39;49mappend(servicer\u001b[39m.\u001b[39mid_number)\n",
      "\u001b[1;31mAttributeError\u001b[0m: 'dict' object has no attribute 'append'"
     ]
    }
   ],
   "source": [
    "all_id_numbers = {} # empty set\n",
    "for servicers_list in df['Servicers']:\n",
    "    for servicer in servicers_list:\n",
    "        if hasattr(servicer, 'id_number'):\n",
    "            all_id_numbers.append(servicer.id_number)"
   ]
  },
  {
   "cell_type": "code",
   "execution_count": null,
   "id": "6e56ed99",
   "metadata": {},
   "outputs": [],
   "source": [
    "all_id_numbers = set()\n",
    "for servicers_list in df['Servicers']:\n",
    "    for servicer in servicers_list:\n",
    "        if hasattr(servicer, 'id_number'):\n",
    "            all_id_numbers.add(servicer.id_number)"
   ]
  },
  {
   "cell_type": "code",
   "execution_count": null,
   "id": "845a1719",
   "metadata": {},
   "outputs": [],
   "source": [
    "all_id_numbers"
   ]
  },
  {
   "cell_type": "code",
   "execution_count": null,
   "id": "e5ae69dd",
   "metadata": {},
   "outputs": [],
   "source": [
    "df.columns"
   ]
  },
  {
   "cell_type": "code",
   "execution_count": null,
   "id": "6f23f884",
   "metadata": {},
   "outputs": [],
   "source": [
    "df['servicer_0_salary']"
   ]
  },
  {
   "cell_type": "code",
   "execution_count": null,
   "id": "d45dec4e",
   "metadata": {},
   "outputs": [],
   "source": [
    "def process_to_individuals(df: pd.DataFrame = None,\n",
    "                           col_name_to_process: str = None,\n",
    "                           col_name_to_write: str = None,\n",
    "                           col_prefix_to_use: str = None,\n",
    "                           vars_to_use: list[str] = None):\n",
    "    base_data = df[col_name_to_process] \n",
    "    \n",
    "    # Write a column for each individual\n",
    "    if vars_to_use is None:\n",
    "        vars_to_use = vars()\n",
    "    \n",
    "    \n"
   ]
  },
  {
   "cell_type": "code",
   "execution_count": null,
   "id": "090b883c",
   "metadata": {},
   "outputs": [],
   "source": [
    "col_name_to_process = \"Servicers\"\n",
    "col_name_to_write = \"servicer_\"\n",
    "col_prefix_to_use = \"id_number_\"\n",
    "vars_to_use = None\n",
    "\n",
    "base_data = df[col_name_to_process] # Get underlying data\n",
    "num_individuals = base_data.apply(len)\n",
    "max_unique_individuals = max(num_individuals.unique())\n",
    "\n",
    "sample_individual = base_data[0]\n",
    "\n",
    "if vars_to_use is None:\n",
    "    vars_to_use = vars()\n"
   ]
  },
  {
   "cell_type": "code",
   "execution_count": null,
   "id": "2fd51b14",
   "metadata": {},
   "outputs": [],
   "source": []
  },
  {
   "cell_type": "code",
   "execution_count": null,
   "id": "02030c6e",
   "metadata": {},
   "outputs": [],
   "source": [
    "for k in range(len(df)):\n",
    "    servicers = df[\"Servicers\"].iloc[k]\n",
    "    for servicer in servicers:\n",
    "        if not(servicer.report_card is None):\n",
    "            print(report_card)\n",
    "        if not(servicer.test_scores is None):\n",
    "            print(test_scores)\n"
   ]
  },
  {
   "cell_type": "code",
   "execution_count": null,
   "id": "798d4cdf",
   "metadata": {},
   "outputs": [],
   "source": [
    "def total_salary(k: int):\n",
    "    return sum([vars(servicer).get(\"servicer_salary\") for servicer in df[\"Servicers\"].iloc[k]])"
   ]
  },
  {
   "cell_type": "code",
   "execution_count": null,
   "id": "9e0b6a3b",
   "metadata": {},
   "outputs": [],
   "source": [
    "sum([total_salary(k) for k in range(len(df))])"
   ]
  },
  {
   "cell_type": "code",
   "execution_count": null,
   "id": "f56cf1e8",
   "metadata": {},
   "outputs": [],
   "source": [
    "servicer_salaries = [serv.pokt_holdings for serv in df['Servicers'].iloc[2]]\n",
    "servicer_salaries\n"
   ]
  },
  {
   "cell_type": "code",
   "execution_count": null,
   "id": "9f1b7644",
   "metadata": {},
   "outputs": [],
   "source": [
    "servicer_salaries = [serv.id_number for serv in df['Servicers'].iloc[2]]\n",
    "servicer_salaries"
   ]
  },
  {
   "cell_type": "code",
   "execution_count": null,
   "id": "e084c5fb",
   "metadata": {},
   "outputs": [],
   "source": [
    "[vars(df['Servicers'].iloc[0][k]).get('servicer_salary') for k in range(len(df['Servicers'].iloc[0]))]"
   ]
  },
  {
   "cell_type": "code",
   "execution_count": null,
   "id": "c7f2ccbf",
   "metadata": {},
   "outputs": [],
   "source": [
    "[vars(df['Servicers'].iloc[-1][k]).get('servicer_salary') for k in range(len(df['Servicers'].iloc[0]))]"
   ]
  },
  {
   "cell_type": "code",
   "execution_count": null,
   "id": "f0950032",
   "metadata": {},
   "outputs": [],
   "source": [
    "service = df['Services'].iloc[0][0]\n",
    "service_vars = vars(service).keys()\n",
    "for var in service_vars:\n",
    "    print(var)"
   ]
  },
  {
   "cell_type": "code",
   "execution_count": null,
   "id": "ce430648",
   "metadata": {},
   "outputs": [],
   "source": [
    "relay = df['Gateways'].iloc[1][0]\n",
    "for k,v in vars(relay).items():\n",
    "    print(f\"Value of {k}: {v}\")"
   ]
  },
  {
   "cell_type": "code",
   "execution_count": null,
   "id": "a30a5094",
   "metadata": {},
   "outputs": [],
   "source": []
  },
  {
   "cell_type": "markdown",
   "id": "dc8a9f7d",
   "metadata": {},
   "source": [
    "## Basic Line Graphs"
   ]
  },
  {
   "cell_type": "code",
   "execution_count": null,
   "id": "8799dc25",
   "metadata": {
    "scrolled": false
   },
   "outputs": [],
   "source": [
    "for col in ['total_relays', 'processed_relays', 'pokt_price_true', 'pokt_price_oracle',\n",
    "           'n_transactions', 'floating_supply', 'n_understaked_servicers', 'n_understaked_gateways',\n",
    "            'n_understaked_applications', 'POKT_burned', 'POKT_minted','period_slashing_costs',\n",
    "            'period_jailing_opportunity_cost','POKT_net_mint', 'total_application_stake',\n",
    "            'total_servicer_stake', 'total_gateway_stake', 'total_stake', 'circulating_supply',\n",
    "            'dao_value_capture', 'n_servicers', 'n_applications', 'n_gateways',\n",
    "           'n_services', 'kpi_a']:\n",
    "    # Grab the pivot table\n",
    "    table = df.pivot(\"timestep\", \"run\", col)\n",
    "    \n",
    "    # Plot\n",
    "    table.plot(kind = 'line')\n",
    "    plt.xlabel(\"timestep\")\n",
    "    plt.ylabel(col)\n",
    "    plt.title(\"Simulation Values for {}\".format(col))\n",
    "    \n",
    "    plt.show()"
   ]
  }
 ],
 "metadata": {
  "kernelspec": {
   "display_name": "Python 3 (ipykernel)",
   "language": "python",
   "name": "python3"
  },
  "language_info": {
   "codemirror_mode": {
    "name": "ipython",
    "version": 3
   },
   "file_extension": ".py",
   "mimetype": "text/x-python",
   "name": "python",
   "nbconvert_exporter": "python",
   "pygments_lexer": "ipython3",
   "version": "3.9.13"
  }
 },
 "nbformat": 4,
 "nbformat_minor": 5
}
