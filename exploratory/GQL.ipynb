{
 "cells": [
  {
   "cell_type": "code",
   "execution_count": 1,
   "id": "1160edac",
   "metadata": {},
   "outputs": [],
   "source": [
    "from datetime import datetime\n",
    "import pandas as pd\n",
    "from gql import gql, Client\n",
    "from gql.transport.requests import RequestsHTTPTransport\n",
    "import matplotlib.pyplot as plt\n",
    "import seaborn as sns\n",
    "\n",
    "# Choose your destiny: 'mainnet' or 'testnet'\n",
    "network = 'mainnet'  # or 'testnet'\n",
    "endpoints = {\n",
    "    'mainnet': 'https://api.poktscan.com/poktscan/api/graphql',\n",
    "    'testnet': 'https://api.testnet.poktscan.com/poktscan/api/graphql'\n",
    "}\n",
    "\n",
    "api_key = str(open(\"../../POKT Scan.txt\", \"r\").read())\n",
    "\n",
    "# Set up the headers with the provided API key and content type\n",
    "headers = {\n",
    "    \"Authorization\": api_key,\n",
    "    \"Content-Type\": \"application/json\"\n",
    "}\n",
    "\n",
    "# Set up the transport with the chosen GraphQL endpoint and your headers\n",
    "transport = RequestsHTTPTransport(\n",
    "    url=endpoints[network],\n",
    "    headers=headers,\n",
    "    use_json=True\n",
    ")\n",
    "\n",
    "# Create the client\n",
    "client = Client(transport=transport, fetch_schema_from_transport=True)\n",
    "\n",
    "# Define your query here\n",
    "query = gql(\"\"\"\n",
    "query {\n",
    "  GetTopAccountsByBalance(\n",
    "    input: {\n",
    "      top: 1000\n",
    "    }\n",
    "  ) {\n",
    "    point\n",
    "    balance\n",
    "    percentage\n",
    "  }\n",
    "}\n",
    "\"\"\")\n",
    "\n",
    "query = gql(\"\"\"\n",
    "query {\n",
    "  ListSummaryBetweenDates(\n",
    "    input: {\n",
    "      start_date: \"2023-01-01\",\n",
    "      end_date: \"2023-11-01\",\n",
    "      unit_time: day\n",
    "    }\n",
    "  ) {\n",
    "    points {\n",
    "        point,\n",
    "        apps_staked,\n",
    "        total_relays,\n",
    "        total_minted,\n",
    "        total_servicer_rewards,\n",
    "        total_base_servicer_rewards,\n",
    "        total_relays\n",
    "    }\n",
    "  }\n",
    "}\n",
    "\"\"\")\n",
    "\n",
    "try:   \n",
    "    # Execute the query and get the results\n",
    "    response = client.execute(query)\n",
    "\n",
    "    # Convert the result to a pandas DataFrame\n",
    "    df = pd.DataFrame(response['ListSummaryBetweenDates']['points'])\n",
    "\n",
    "    # Generate a timestamp and integrate it into the filename\n",
    "    current_time = datetime.now().strftime(\"%Y%m%d_%H%M%S\")\n",
    "    #filename = f\"top_accounts_{current_time}.csv\"\n",
    "\n",
    "    # Save the DataFrame to a CSV\n",
    "    #df.to_csv(filename, index=False)\n",
    "    \n",
    "except Exception as e:\n",
    "    print(f\"An error occurred: {e}\")"
   ]
  },
  {
   "cell_type": "markdown",
   "id": "1b6aacc0",
   "metadata": {},
   "source": [
    "## Session EDA\n",
    "\n",
    "\"A Session lasts for 4 blocks, for a total of one hour. Every Application will only have one single Session per relay chain it is staked for. Meaning, following an Application stake event, there will always be a corresponding Session for the Application for each relay chain until it unstakes.\" from https://docs.pokt.network/learn/glossary/#:~:text=A%20Session%20lasts%20for%204,relay%20chain%20until%20it%20unstakes\n",
    "\n",
    "Average relays per day:"
   ]
  },
  {
   "cell_type": "code",
   "execution_count": 2,
   "id": "6b054be6",
   "metadata": {},
   "outputs": [
    {
     "data": {
      "image/png": "[encoded data removed]",
      "text/plain": [
       "<Figure size 432x288 with 1 Axes>"
      ]
     },
     "metadata": {
      "needs_background": "light"
     },
     "output_type": "display_data"
    }
   ],
   "source": [
    "sns.kdeplot(df['total_relays'])\n",
    "plt.title(\"Average Daily Relays\")\n",
    "plt.show()"
   ]
  },
  {
   "cell_type": "code",
   "execution_count": null,
   "id": "4cac2a7c",
   "metadata": {},
   "outputs": [],
   "source": []
  },
  {
   "cell_type": "code",
   "execution_count": null,
   "id": "194b8e1e",
   "metadata": {},
   "outputs": [],
   "source": []
  },
  {
   "cell_type": "code",
   "execution_count": null,
   "id": "5188df5c",
   "metadata": {},
   "outputs": [],
   "source": []
  },
  {
   "cell_type": "code",
   "execution_count": null,
   "id": "ba968d63",
   "metadata": {},
   "outputs": [],
   "source": []
  }
 ],
 "metadata": {
  "kernelspec": {
   "display_name": "Python 3 (ipykernel)",
   "language": "python",
   "name": "python3"
  },
  "language_info": {
   "codemirror_mode": {
    "name": "ipython",
    "version": 3
   },
   "file_extension": ".py",
   "mimetype": "text/x-python",
   "name": "python",
   "nbconvert_exporter": "python",
   "pygments_lexer": "ipython3",
   "version": "3.9.12"
  }
 },
 "nbformat": 4,
 "nbformat_minor": 5
}
