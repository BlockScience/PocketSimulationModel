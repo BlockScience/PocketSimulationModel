{
 "cells": [
  {
   "cell_type": "code",
   "execution_count": 2,
   "id": "1160edac",
   "metadata": {},
   "outputs": [],
   "source": [
    "from datetime import datetime\n",
    "import pandas as pd\n",
    "from gql import gql, Client\n",
    "from gql.transport.requests import RequestsHTTPTransport\n",
    "\n",
    "# Choose your destiny: 'mainnet' or 'testnet'\n",
    "network = 'mainnet'  # or 'testnet'\n",
    "endpoints = {\n",
    "    'mainnet': 'https://api.poktscan.com/poktscan/api/graphql',\n",
    "    'testnet': 'https://api.testnet.poktscan.com/poktscan/api/graphql'\n",
    "}"
   ]
  },
  {
   "cell_type": "code",
   "execution_count": null,
   "id": "d62af4f0",
   "metadata": {},
   "outputs": [],
   "source": [
    "\n",
    "​\n",
    "\n",
    "​\n",
    "# Set up the headers with the provided API key and content type\n",
    "headers = {\n",
    "    \"Authorization\": \"YOUR_API_KEY_GOES_HERE\",\n",
    "    \"Content-Type\": \"application/json\"\n",
    "}\n",
    "​\n",
    "# Set up the transport with the chosen GraphQL endpoint and your headers\n",
    "transport = RequestsHTTPTransport(\n",
    "    url=endpoints[network],\n",
    "    headers=headers,\n",
    "    use_json=True\n",
    ")\n",
    "​\n",
    "# Create the client\n",
    "client = Client(transport=transport, fetch_schema_from_transport=True)\n",
    "​\n",
    "# Define your query here\n",
    "query = gql(\"\"\"\n",
    "query {\n",
    "  GetTopAccountsByBalance(\n",
    "    input: {\n",
    "      top: 1000\n",
    "    }\n",
    "  ) {\n",
    "    point\n",
    "    balance\n",
    "    percentage\n",
    "  }\n",
    "}\n",
    "​\n",
    "\"\"\")\n",
    "​\n",
    "try:   \n",
    "    # Execute the query and get the results\n",
    "    response = client.execute(query)\n",
    "​\n",
    "    # Convert the result to a pandas DataFrame\n",
    "    df = pd.DataFrame(response['GetTopAccountsByBalance'])\n",
    "​\n",
    "    # Generate a timestamp and integrate it into the filename\n",
    "    current_time = datetime.now().strftime(\"%Y%m%d_%H%M%S\")\n",
    "    filename = f\"top_accounts_{current_time}.csv\"\n",
    "​\n",
    "    # Save the DataFrame to a CSV\n",
    "    df.to_csv(filename, index=False)\n",
    "    \n",
    "except Exception as e:\n",
    "    print(f\"An error occurred: {e}\")"
   ]
  }
 ],
 "metadata": {
  "kernelspec": {
   "display_name": "Python 3 (ipykernel)",
   "language": "python",
   "name": "python3"
  },
  "language_info": {
   "codemirror_mode": {
    "name": "ipython",
    "version": 3
   },
   "file_extension": ".py",
   "mimetype": "text/x-python",
   "name": "python",
   "nbconvert_exporter": "python",
   "pygments_lexer": "ipython3",
   "version": "3.9.12"
  }
 },
 "nbformat": 4,
 "nbformat_minor": 5
}
