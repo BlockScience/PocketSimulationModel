{
 "cells": [
  {
   "cell_type": "code",
   "execution_count": 1,
   "id": "a2b6a49a",
   "metadata": {},
   "outputs": [],
   "source": [
    "import os\n",
    "import matplotlib.pyplot as plt\n",
    "import pandas as pd\n",
    "os.chdir(\"..\")\n",
    "from model.config import build_state, find_total_service_connections, find_service_density"
   ]
  },
  {
   "cell_type": "code",
   "execution_count": 2,
   "id": "4644ffd0",
   "metadata": {},
   "outputs": [],
   "source": [
    "state = build_state(\"Base\")"
   ]
  },
  {
   "cell_type": "code",
   "execution_count": 3,
   "id": "79e37b02",
   "metadata": {},
   "outputs": [
    {
     "name": "stdout",
     "output_type": "stream",
     "text": [
      "0.0\n"
     ]
    }
   ],
   "source": [
    "total_connections = find_total_service_connections(state)\n",
    "density = find_service_density(state)\n",
    "print(density)"
   ]
  },
  {
   "cell_type": "code",
   "execution_count": null,
   "id": "4fb96178",
   "metadata": {},
   "outputs": [],
   "source": []
  }
 ],
 "metadata": {
  "kernelspec": {
   "display_name": "Python 3 (ipykernel)",
   "language": "python",
   "name": "python3"
  },
  "language_info": {
   "codemirror_mode": {
    "name": "ipython",
    "version": 3
   },
   "file_extension": ".py",
   "mimetype": "text/x-python",
   "name": "python",
   "nbconvert_exporter": "python",
   "pygments_lexer": "ipython3",
   "version": "3.9.12"
  }
 },
 "nbformat": 4,
 "nbformat_minor": 5
}
