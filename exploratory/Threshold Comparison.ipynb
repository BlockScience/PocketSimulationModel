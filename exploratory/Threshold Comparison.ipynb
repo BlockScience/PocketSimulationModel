{
 "cells": [
  {
   "cell_type": "code",
   "execution_count": 1,
   "id": "847e7a1a",
   "metadata": {},
   "outputs": [
    {
     "name": "stderr",
     "output_type": "stream",
     "text": [
      "/Users/seanmcowen/opt/anaconda3/envs/BlockScience/lib/python3.9/site-packages/tqdm/auto.py:22: TqdmWarning: IProgress not found. Please update jupyter and ipywidgets. See https://ipywidgets.readthedocs.io/en/stable/user_install.html\n",
      "  from .autonotebook import tqdm as notebook_tqdm\n"
     ]
    }
   ],
   "source": [
    "import pandas as pd\n",
    "import os\n",
    "import matplotlib.pyplot as plt\n",
    "os.chdir(\"..\")\n",
    "from psuu import load_all_kpi_comparison_data"
   ]
  },
  {
   "cell_type": "code",
   "execution_count": null,
   "id": "0a3b8007",
   "metadata": {},
   "outputs": [],
   "source": []
  },
  {
   "cell_type": "code",
   "execution_count": 2,
   "id": "0c0778a6",
   "metadata": {},
   "outputs": [],
   "source": [
    "\n",
    "kpis = load_all_kpi_comparison_data()"
   ]
  },
  {
   "cell_type": "markdown",
   "id": "57aec0d8",
   "metadata": {},
   "source": [
    "## Gateway Viability Sweep"
   ]
  },
  {
   "cell_type": "code",
   "execution_count": 5,
   "id": "3e9bd032",
   "metadata": {},
   "outputs": [
    {
     "name": "stdout",
     "output_type": "stream",
     "text": [
      "{'variable_params': ['session_token_bucket_coefficient', 'gateway_fee_per_relay', 'application_fee_per_relay', 'gateway_minimum_stake', 'minimum_application_stake'], 'param_config': {'minimum_stake_servicer': [15000000000.0], 'minimum_stake_period_servicer': [10], 'minimum_pause_time': [10], 'max_chains_servicer': [15], 'relays_to_tokens_multiplier': [161.29], 'slash_fraction_downtime': [1e-06], 'downtime_jail_duration': [3600000000000], 'minimum_servicers_per_session': [1], 'maximum_servicers_per_session': [5], 'application_fee_per_relay': [10, 100], 'minimum_application_stake': [10000000000.0, 20000000000.0], 'app_burn_per_session': [0], 'app_burn_per_relay': [0], 'block_proposer_allocation': [0.05], 'dao_allocation': [0.1], 'servicer_allocation': [0.85], 'stake_per_app_delegation': [15000000000.0], 'gateway_fee_per_relay': [10, 100], 'gateway_minimum_stake': [100000000000.0, 200000000000.0], 'session_token_bucket_coefficient': [25, 400], 'dao_fee_percentage': [0.1], 'validator_fee_percentage': [0.9], 'transaction_fee': [0.01], 'min_bootstrap_gateway_fee_per_relay': [8.5e-07], 'maturity_relay_charge': [1.971e-06], 'gateway_bootstrap_unwind_start': [3], 'gateway_bootstrap_end': [20], 'supply_grow_cap': [0.05], 'servicer_bootstrap_end': [10], 'max_bootstrap_servicer_cost_per_relay': [5e-06], 'servicer_bootstrap_unwind_start': [1.5], 'maturity_relay_cost': [1.4782499999999998e-06], 'oracle_treatment_time_mean': [10], 'kpi_3_R': [1.632e-05], 'application_max_number': [5, 20, 100], 'servicer_max_number': [20], 'service_max_number': [10], 'gateway_max_number': [25], 'service_max_number_link': [15], 'application_leave_probability': [0.02], 'gateway_leave_probability': [0.005], 'service_leave_probability': [0.0025], 'servicer_leave_probability': [0.015], 'service_unlinking_probability': [0.01], 'gateway_undelegation_probability': [0.01], 'relays_per_session_gamma_distribution_shape': [5], 'relays_per_session_gamma_distribution_scale': [100000, 300000, 900000], 'average_session_per_application': [24], 'servicer_jailing_probability': [0.001], 'uses_gateway_probability': [0.5], 'applications_use_min_servicers': [1], 'applications_use_max_servicers': [3], 'lambda_ewm_revenue_expectation': [0.9], 'service_linking_probability_normal': [0.01], 'service_linking_probability_just_joined': [0.5], 'kick_bottom_probability': [0.5], 'oracle_price_kde_bandwidth': [0.30745369958511376], 'oracle_price_interarrival_time_flag': [1], 'event': [None], 'servicer_service_density_starting': [None], 'application_join_function': ['simple_unfiform'], 'servicer_join_function': ['simple_unfiform'], 'service_join_function': ['simple_unfiform'], 'gateway_join_function': ['simple_unfiform'], 'service_linking_function': ['basic'], 'gateway_delegation_function': ['basic'], 'relay_requests_function': ['test'], 'submit_relay_requests_function': ['basic_gamma'], 'submit_relay_requests_policy_function': ['V1'], 'application_leave_function': ['basic'], 'service_leave_function': ['basic'], 'servicer_leave_function': ['basic'], 'gateway_leave_function': ['basic'], 'service_unlinking_function': ['basic'], 'gateway_undelegation_function': ['basic'], 'servicer_stake_function': ['basic'], 'application_stake_function': ['basic'], 'jailing_function': ['basic'], 'gateway_stake_function': ['basic']}}\n"
     ]
    }
   ],
   "source": [
    "def threshold_comparison_plot(data):\n",
    "    print(data[1])\n",
    "threshold_comparison_plot(kpis['gateway_viability_sweep_ag'])"
   ]
  },
  {
   "cell_type": "code",
   "execution_count": null,
   "id": "355c3766",
   "metadata": {},
   "outputs": [],
   "source": []
  }
 ],
 "metadata": {
  "kernelspec": {
   "display_name": "Python 3 (ipykernel)",
   "language": "python",
   "name": "python3"
  },
  "language_info": {
   "codemirror_mode": {
    "name": "ipython",
    "version": 3
   },
   "file_extension": ".py",
   "mimetype": "text/x-python",
   "name": "python",
   "nbconvert_exporter": "python",
   "pygments_lexer": "ipython3",
   "version": "3.9.12"
  }
 },
 "nbformat": 4,
 "nbformat_minor": 5
}
