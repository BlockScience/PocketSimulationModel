{
 "cells": [
  {
   "cell_type": "code",
   "execution_count": 1,
   "id": "6945bbf4",
   "metadata": {},
   "outputs": [],
   "source": [
    "import os\n",
    "os.chdir(\"..\")\n",
    "from model import run_experiments, portal_delegation_ac, build_state, build_params"
   ]
  },
  {
   "cell_type": "code",
   "execution_count": 2,
   "id": "ee0fee0a",
   "metadata": {},
   "outputs": [],
   "source": [
    "state = build_state(\"Test\")\n",
    "params = build_params(\"Test\")\n",
    "for x in params:\n",
    "    params[x] = params[x][0]\n",
    "for x in state[\"Applications\"]:\n",
    "    portal_delegation_ac(state, params, x)\n"
   ]
  },
  {
   "cell_type": "code",
   "execution_count": null,
   "id": "0c287918",
   "metadata": {},
   "outputs": [],
   "source": []
  },
  {
   "cell_type": "code",
   "execution_count": null,
   "id": "0fa94f40",
   "metadata": {},
   "outputs": [],
   "source": [
    "# for application leave\n",
    "\n",
    "# The action chain applies to just one single application\n",
    "\n",
    "# But the PSUB loops over all them to figure out if they leave"
   ]
  },
  {
   "cell_type": "code",
   "execution_count": null,
   "id": "054f127b",
   "metadata": {},
   "outputs": [],
   "source": []
  }
 ],
 "metadata": {
  "kernelspec": {
   "display_name": "Python 3 (ipykernel)",
   "language": "python",
   "name": "python3"
  },
  "language_info": {
   "codemirror_mode": {
    "name": "ipython",
    "version": 3
   },
   "file_extension": ".py",
   "mimetype": "text/x-python",
   "name": "python",
   "nbconvert_exporter": "python",
   "pygments_lexer": "ipython3",
   "version": "3.9.12"
  }
 },
 "nbformat": 4,
 "nbformat_minor": 5
}
