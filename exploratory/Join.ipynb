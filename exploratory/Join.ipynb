{
 "cells": [
  {
   "cell_type": "code",
   "execution_count": 3,
   "id": "5562c4e8",
   "metadata": {},
   "outputs": [],
   "source": [
    "import os\n",
    "os.chdir(\"..\")\n",
    "from model import run_experiments, application_join_ac, build_state, build_params"
   ]
  },
  {
   "cell_type": "code",
   "execution_count": 4,
   "id": "a9eb20c7",
   "metadata": {},
   "outputs": [
    {
     "data": {
      "text/plain": [
       "[<model.classes.application.Application at 0x7fe63a42b6a0>,\n",
       " <model.classes.application.Application at 0x7fe63a42b730>,\n",
       " <model.classes.application.Application at 0x7fe63a42b670>,\n",
       " <model.classes.application.Application at 0x7fe63a42be50>]"
      ]
     },
     "execution_count": 4,
     "metadata": {},
     "output_type": "execute_result"
    }
   ],
   "source": [
    "state = build_state(\"Test\")\n",
    "params = build_params(\"Test\")\n",
    "application_join_ac(state, params)\n",
    "state[\"Applications\"]"
   ]
  },
  {
   "cell_type": "code",
   "execution_count": 3,
   "id": "ff60f32e",
   "metadata": {},
   "outputs": [
    {
     "data": {
      "text/plain": [
       "[<model.classes.application.Application at 0x7f7f69ab4eb0>,\n",
       " <model.classes.application.Application at 0x7f7f69ab4f10>,\n",
       " <model.classes.application.Application at 0x7f7f69ab4fa0>]"
      ]
     },
     "execution_count": 3,
     "metadata": {},
     "output_type": "execute_result"
    }
   ],
   "source": []
  },
  {
   "cell_type": "code",
   "execution_count": 5,
   "id": "200a006b",
   "metadata": {},
   "outputs": [],
   "source": [
    "# for application leave\n",
    "\n",
    "# The action chain applies to just one single application\n",
    "\n",
    "# But the PSUB loops over all them to figure out if they leave"
   ]
  },
  {
   "cell_type": "code",
   "execution_count": null,
   "id": "da51fb52",
   "metadata": {},
   "outputs": [],
   "source": []
  }
 ],
 "metadata": {
  "kernelspec": {
   "display_name": "Python 3 (ipykernel)",
   "language": "python",
   "name": "python3"
  },
  "language_info": {
   "codemirror_mode": {
    "name": "ipython",
    "version": 3
   },
   "file_extension": ".py",
   "mimetype": "text/x-python",
   "name": "python",
   "nbconvert_exporter": "python",
   "pygments_lexer": "ipython3",
   "version": "3.9.12"
  }
 },
 "nbformat": 4,
 "nbformat_minor": 5
}
