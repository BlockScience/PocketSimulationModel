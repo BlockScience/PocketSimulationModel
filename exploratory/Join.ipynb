{
 "cells": [
  {
   "cell_type": "code",
   "execution_count": 1,
   "id": "6945bbf4",
   "metadata": {},
   "outputs": [],
   "source": [
    "import os\n",
    "os.chdir(\"..\")\n",
    "from model import run_experiments, relay_requests_ac, build_state, build_params"
   ]
  },
  {
   "cell_type": "code",
   "execution_count": 2,
   "id": "ee0fee0a",
   "metadata": {},
   "outputs": [
    {
     "name": "stdout",
     "output_type": "stream",
     "text": [
      "({'applications': <model.classes.application.Application object at 0x7f8c409c7160>, 'servicers': [<model.classes.servicer.Servicer object at 0x7f8c409c75e0>], 'session': {'application': <model.classes.application.Application object at 0x7f8c409c7160>, 'fishermen': None, 'geo_zone': 'G3', 'id': None, 'num_session_blocks': None, 'service': <model.classes.service.Service object at 0x7f8c409c73d0>, 'servicers': [<model.classes.servicer.Servicer object at 0x7f8c409c75e0>], 'session_height': None, 'session_number': None}},)\n"
     ]
    }
   ],
   "source": [
    "state = build_state(\"Test\")\n",
    "params = build_params(\"Test\")\n",
    "for x in params:\n",
    "    params[x] = params[x][0]\n",
    "relay_requests_ac(state, params)\n"
   ]
  },
  {
   "cell_type": "code",
   "execution_count": null,
   "id": "0c287918",
   "metadata": {},
   "outputs": [],
   "source": []
  },
  {
   "cell_type": "code",
   "execution_count": 3,
   "id": "0fa94f40",
   "metadata": {},
   "outputs": [],
   "source": [
    "# for application leave\n",
    "\n",
    "# The action chain applies to just one single application\n",
    "\n",
    "# But the PSUB loops over all them to figure out if they leave"
   ]
  },
  {
   "cell_type": "code",
   "execution_count": null,
   "id": "054f127b",
   "metadata": {},
   "outputs": [],
   "source": []
  }
 ],
 "metadata": {
  "kernelspec": {
   "display_name": "Python 3 (ipykernel)",
   "language": "python",
   "name": "python3"
  },
  "language_info": {
   "codemirror_mode": {
    "name": "ipython",
    "version": 3
   },
   "file_extension": ".py",
   "mimetype": "text/x-python",
   "name": "python",
   "nbconvert_exporter": "python",
   "pygments_lexer": "ipython3",
   "version": "3.9.12"
  }
 },
 "nbformat": 4,
 "nbformat_minor": 5
}
