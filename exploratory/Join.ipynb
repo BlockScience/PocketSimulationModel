{
 "cells": [
  {
   "cell_type": "code",
   "execution_count": 1,
   "id": "9db43333",
   "metadata": {},
   "outputs": [],
   "source": [
    "import os\n",
    "os.chdir(\"..\")\n",
    "from model import run_experiments, application_join_ac, build_state, build_params"
   ]
  },
  {
   "cell_type": "code",
   "execution_count": 2,
   "id": "33ca7806",
   "metadata": {},
   "outputs": [],
   "source": [
    "state = build_state(\"Test\")\n",
    "params = build_params(\"Test\")\n",
    "application_join_ac(state, params)"
   ]
  },
  {
   "cell_type": "code",
   "execution_count": null,
   "id": "ff71b77d",
   "metadata": {},
   "outputs": [],
   "source": [
    "# for application leave\n",
    "\n",
    "# The action chain applies to just one single application\n",
    "\n",
    "# But the PSUB loops over all them to figure out if they leave"
   ]
  }
 ],
 "metadata": {
  "kernelspec": {
   "display_name": "Python 3 (ipykernel)",
   "language": "python",
   "name": "python3"
  },
  "language_info": {
   "codemirror_mode": {
    "name": "ipython",
    "version": 3
   },
   "file_extension": ".py",
   "mimetype": "text/x-python",
   "name": "python",
   "nbconvert_exporter": "python",
   "pygments_lexer": "ipython3",
   "version": "3.9.12"
  }
 },
 "nbformat": 4,
 "nbformat_minor": 5
}
