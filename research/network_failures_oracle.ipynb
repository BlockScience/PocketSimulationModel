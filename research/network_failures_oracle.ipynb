{
 "cells": [
  {
   "cell_type": "markdown",
   "id": "de367872-3cc9-4cf1-b8e2-d892fa72f990",
   "metadata": {},
   "source": [
    "## Network Failures - Oracle\n",
    "\n",
    "- **Goal**: to understand the impact of an impedence (deliberately or accidental) of the oracle price signal of USD/POKT on reward incentives\n",
    "- **System Goals Targeted**:\n",
    "  - Economic Viability\n",
    "  - Long-Term Value Generation\n",
    "- **Design**: allow a 'true' oracle signal to be impeded without the knowledge of network participants\n",
    "- **Testing mechanism**:\n",
    "  - The true oracle signal is impeded by e.g.\n",
    "    -  Interruption\n",
    "    -  Delay\n",
    "    -  Distortion (signal-to-noise ratio is reduced)\n",
    "  - The impact on 1) servicer and gateway profitability, and 2) token issuance is assessed under different block reward and fee structures\n",
    "- **KPIs**:\n",
    "  - Servicer NPV (KPI-1)\n",
    "  - Gateway NPV (KPI-3)\n",
    "  - POKT Circulating Supply (KPI-4)\n",
    "  - POKT Available Supply (KPI-5)\n",
    "  - Mint/burn rate (KPI-D)\n",
    "  - DAO Value Capture (KPI-10)\n",
    "  - Servicer Capital Costs KPI-14)"
   ]
  },
  {
   "cell_type": "markdown",
   "id": "c373c772-1fab-4623-8e94-398fdc4f25b7",
   "metadata": {},
   "source": [
    "## Protocol Parameters to be swept\n",
    "\n",
    "1. `RelaysToTokensMultiplier` (`RTTM`)\n",
    "2. `GatewayFeePerRelay` (`GFPR`)\n",
    "3. `ApplicationFeePerRelay` (`AFPR`, assumed different from `GFPR`)\n",
    "4. `GatewayMinimumStake` (`GMS`)\n",
    "5. `ApplicationMinimumStake` (`AMS`)\n",
    "6. `DAOAllocation` (`DAL`)\n",
    "7. `ValidatorAllocation` (`VAL`) \n",
    "8. `ServicerAllocation` (derived parameter, defined as 1 - `DAOAllocation` - `ValidatorAllocation`)"
   ]
  },
  {
   "cell_type": "markdown",
   "id": "784d147b-a54c-4405-8ca8-0110ff887e21",
   "metadata": {},
   "source": [
    "## Exogenous Parameters to be swept\n",
    "1. Mean of the lognormal distribution used to model oracle price process: $\\mu \\in (-\\infty, \\infty)$\n",
    "2. Standard deviation of the lognormal distribution used to model the oracle price process: $\\sigma > 0$\n",
    "3. Mean of the exponential distribution used to model the interarrival time of the oracle price process: $m > 0$"
   ]
  },
  {
   "cell_type": "markdown",
   "id": "6d669c1f-907b-4dea-838c-06ed37dd98d7",
   "metadata": {},
   "source": [
    "## Exogenous Distributions that are fixed for this scenario (but may depend upon a parameter being swept)\n",
    "\n",
    "1. The oracle price process, $p_t \\sim e^{\\mu + \\sigma X}$, with $X \\sim \\mathcal N(0, 1)$, with dependence upon the sweep parameters $\\mu$ and $\\sigma$ (cf. above);\n",
    "2. The interarrival time of oracle prices, $\\delta t \\sim Exp(m)$, with dependence upon the sweep parameter $m$ as the **scale** (i.e. inverse rate). Cf. e.g. `numpy.random.exponential(m)` (https://numpy.org/doc/stable/reference/random/generated/numpy.random.exponential.html)"
   ]
  },
  {
   "cell_type": "markdown",
   "id": "c0de402a-4a07-4648-b997-d6d458228827",
   "metadata": {},
   "source": [
    "## Simulation Initialization\n",
    "\n",
    "1. Initialize a set $N_s$ of servicers\n",
    "2. Initialize a set $N_c$ of services (chains)\n",
    "3. Initialize a set $N_a$ of applications\n",
    "4. Initialize a set $N_g$ of gateways\n",
    "5. Initialize the network of applications - gateways - services - servicers\n",
    "6. Initialize the number of timesteps $T$ even\n",
    "7. Initialize default values $(\\mu_0, \\sigma_0)$ for the oracle price process\n",
    "8. Initialize the interarrival time between oracle prices to be _exactly_ 1, i.e. initially the oracle provides precisely one observation per timestep (day)\n",
    "\n"
   ]
  },
  {
   "cell_type": "markdown",
   "id": "146827a3-6f70-4107-8142-15cc244f03a7",
   "metadata": {},
   "source": [
    "## Simulation A - oracle interruption\n",
    "Simulation runs with default behavior for $T/2$ timesteps, to 'burn in' ecosystem profit/loss to servicers from services\n",
    "\n",
    "In timestep $T/2 + 1$:\n",
    "1. The oracle price process is permanently turned off--no new prices are provided to the ecosystem\n",
    "\n",
    "**Simulation then runs for the remaining $T/2$ timesteps, with the network using the last provided price, $p(T/2)$, as the price of USD/POKT.**\n",
    "\n"
   ]
  },
  {
   "cell_type": "markdown",
   "id": "7e93ac52-a01e-43db-9234-b6166d1fbfe1",
   "metadata": {},
   "source": [
    "## Simulation B - oracle delay\n",
    "Simulation runs with default behavior for $T/2$ timesteps, to 'burn in' ecosystem profit/loss to servicers from services\n",
    "\n",
    "In timestep $T/2 + 1$:\n",
    "1. The sweep parameter value for $m$ is used to generate an interarrival time realization $\\Delta t$ from the exponential distribution (floored to the nearest integer)--this corresponds to the number of timesteps the oracle price is fixed at its value in timestep $T/2$\n",
    "\n",
    "**Simulation then runs for $T/2 + \\lfloor \\Delta t \\rfloor$ timesteps, with the network using the last provided price, $p(T/2)$, as the price of USD/POKT.**\n",
    "\n",
    "Note that $\\lfloor \\Delta t \\rfloor$ may be greater than $T - T/2$--in that case, the oracle distortion is permanent, and the following may never occur (in which case the simulation ends in the state above).\n",
    "\n",
    "In timestep $T/2 + \\lfloor \\Delta t \\rfloor +1$:\n",
    "1. The interarrival time is returned to a fixed value of _exactly_ 1, i.e. one oracle price is provided every timestep\n",
    "\n",
    "\n",
    "**Simulation then runs for the remaining $T - T/2 - \\lfloor \\Delta t \\rfloor$ timesteps, with the network operating under the same conditions as the first $T/2$ timesteps.**\n"
   ]
  },
  {
   "cell_type": "markdown",
   "id": "f5f5fb76-c95e-4796-bb53-6cc591ee4c63",
   "metadata": {},
   "source": [
    "## Simulation c - oracle distortion\n",
    "Simulation runs with default behavior for $T/2$ timesteps, to 'burn in' ecosystem profit/loss to servicers from services\n",
    "\n",
    "In timestep $T/2 + 1$:\n",
    "1. The sweep parameter values $(\\mu, \\sigma)$ are used for the oracle price distribution, reflecting a departure from the 'true' values $(\\mu_0, \\sigma_0)$;\n",
    "2. The sweep parameter value for $m$ is used to generate an interarrival time realization $\\Delta t$ from the exponential distribution (floored to the nearest integer)--this corresponds to the number of timesteps the oracle price distortion is in effect.\n",
    "\n",
    "**Simulation then runs for $T/2 + \\lfloor \\Delta t \\rfloor$ timesteps, with the network using the distorted oracle price process to receive the price of USD/POKT.**\n",
    "\n",
    "Note that $\\lfloor \\Delta t \\rfloor$ may be greater than $T - T/2$--in that case, the oracle distortion is permanent, and the following may never occur (in which case the simulation ends in the state above).\n",
    "\n",
    "In timestep $T/2 + \\lfloor \\Delta t \\rfloor +1$:\n",
    "1. The oracle price distribution parameters are returned to $(\\mu_0, \\sigma_0)$;\n",
    "2. The interarrival time is returned to a fixed value of _exactly_ 1, i.e. one oracle price is provided every timestep\n",
    "\n",
    "\n",
    "**Simulation then runs for the remaining $T - T/2 - \\lfloor \\Delta t \\rfloor$ timesteps, with the network operating under the same conditions as the first $T/2$ timesteps.**\n"
   ]
  },
  {
   "cell_type": "markdown",
   "id": "8265c3ba-1b12-4f0b-ab7e-5c20bfc26fa5",
   "metadata": {},
   "source": [
    "## Full Grid Parameter Sweep Values (10 parameters in total)\n",
    "\n",
    "|  Name | Sweep Values | Units |\n",
    "| --- | ---| ---|\n",
    "| `RTTM` | (100, 150, 200) | uPOKT/relay |\n",
    "| `GFPR` | (20, 25, 30) | uPOKT/relay |\n",
    "| `AFPR` | (20, 25, 30) | uPOKT/relay |\n",
    "| `GMS`  | (1e5, 1.5e5, 2e5) | POKT ||\n",
    "| `AMS`  | (1e4, 1.5e4, 2e4)  | POKT |\n",
    "| `DAL`  | (0.05, 0.10, 0.15) | % |\n",
    "| `VAL`  | (0.01, 0.05, 0.10) | % |\n",
    "| $\\mu$  | (-4, -10, -20) | number |\n",
    "| $\\sigma$  | (1.0258966083412198, 3.612819377024821, 5.74912722515392) | number |\n",
    "| $m$  | (1, 0.10, 0.01) | number |\n",
    "\n",
    "**Total number of parameter constellations**:\n",
    "- Routine $A$: excludes $\\mu$, $\\sigma$, $m$ sweeps: $3^7 = 2,187$\n",
    "- Routine $B$: excludes $\\mu$, $\\sigma$ sweeps: $3^8 = 6,561$\n",
    "- Routine $C$: $3^10 = 59,049$\n",
    "\n",
    "**Total number of Monte Carlo runs per constellation**: ? 30\n",
    "\n",
    "**Total number of experiments**: 2.034 million"
   ]
  },
  {
   "cell_type": "markdown",
   "id": "7eda8110-91e6-4e3e-ad9a-bf640a516ea6",
   "metadata": {},
   "source": [
    "## Adaptive Grid Parameter Sweep Values (10 parameters in total)\n",
    "\n",
    "|  Name | Sweep Values | Units |\n",
    "| --- | ---| ---|\n",
    "| `RTTM` | (100, 200) | uPOKT/relay |\n",
    "| `GFPR` | (20, 30) | uPOKT/relay |\n",
    "| `AFPR` | (20, 30) | uPOKT/relay |\n",
    "| `GMS`  | (1e5, 2e5) | POKT ||\n",
    "| `AMS`  | (1e4, 2e4)  | POKT |\n",
    "| `DAL`  | (0.05, 0.15) | % |\n",
    "| `VAL`  | (0.01, 0.10) | % |\n",
    "| $\\mu$  | (-4, -10, -20) | number |\n",
    "| $\\sigma$  | (1.0258966083412198, 3.612819377024821, 5.74912722515392) | number |\n",
    "| $m$  | (1, 0.10, 0.01) | number |\n",
    "\n",
    "**Total number of parameter constellations**:\n",
    "- Routine $A$: excludes $\\mu$, $\\sigma$, $m$ sweeps: $2^7 = 128$\n",
    "- Routine $B$: excludes $\\mu$, $\\sigma$ sweeps: $2^7 \\times 3 = 384$\n",
    "- Routine $C$: $2^7 \\times 3^3 = 3,456$\n",
    "\n",
    "**Total number of Monte Carlo runs per constellation**: ? 30\n",
    "\n",
    "**Total number of experiments**: 119,040\n",
    "\n",
    "## Loop algorithm (as many times as is feasible given resource/time constraints)\n",
    "\n",
    "1. Run experiments\n",
    "2. Assess KPIs via threshold inequalities/sensitivity analysis\n",
    "3. Select representative 'best' constellation\n",
    "4. Generate new $(min,max)$ grid sweep values for each parameter around 'best' constellation values\n",
    "5. Loop--back to #1."
   ]
  },
  {
   "cell_type": "markdown",
   "id": "9a7c4e9e-e4d6-4b73-9e37-07f12b496470",
   "metadata": {},
   "source": [
    "*Note that in the above, the ranges for $\\mu$ and $\\sigma$ are based upon the surface given for a realistic oracle price (cf. https://docs.google.com/spreadsheets/d/1QYe6NzuiyimsXs5cT1BSM-UT1DtX_K38cOZsEFJOtdA/edit?usp=sharing):\n",
    "$$\\ln(0.031) \\simeq -3.473768074496991 = \\mu + \\frac{1}{2}\\sigma^2.$$\n",
    "_Pairwise_ (i.e. pairing up $\\mu_1$ with $\\sigma_1$, etc. from the resp. vectors of sweep values given) the sweep values lie on this surface--the _cross-pair_ realizations that occur from the simulation sweeps thus provide more extreme 'out of sample' alternative valuations of POKT in terms of USD. For example, pairing $\\mu_1 = -4$ with $\\sigma_3 = 5.74\\ldots$ yields an expected oracle price of c. USD $275469$, while pairing $\\mu_3 = -20$ with $\\sigma_1 = 1.02\\ldots$ gives an expectation c. USD $3e-9$.\n",
    "\n",
    "Thus, the 'canonical' pairings $(\\mu_i, \\sigma_i)$, $i = 1,2,3$ of the sweep values always provide measures of different scales/variances to the price process (\"distortions\"), _but the same expected value of the oracle price_, $\\bar p = 0.031$ USD/POKT."
   ]
  },
  {
   "cell_type": "code",
   "execution_count": null,
   "id": "4e19bdc5-e394-4b5e-a7af-5f603b6cf2bb",
   "metadata": {},
   "outputs": [],
   "source": []
  }
 ],
 "metadata": {
  "kernelspec": {
   "display_name": "Python 3 (ipykernel)",
   "language": "python",
   "name": "python3"
  },
  "language_info": {
   "codemirror_mode": {
    "name": "ipython",
    "version": 3
   },
   "file_extension": ".py",
   "mimetype": "text/x-python",
   "name": "python",
   "nbconvert_exporter": "python",
   "pygments_lexer": "ipython3",
   "version": "3.9.18"
  }
 },
 "nbformat": 4,
 "nbformat_minor": 5
}
