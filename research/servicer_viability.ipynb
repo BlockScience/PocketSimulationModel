{
 "cells": [
  {
   "cell_type": "markdown",
   "id": "68e43a6e-d612-460b-88c7-76e0fa7b3ce4",
   "metadata": {},
   "source": [
    "## Servicer Viability - Service (Chain) Growth\n",
    "\n",
    "- **Goal**: to understand the impact on servicer profitability of a change in the number of services available\n",
    "- **System Goals Targeted**:\n",
    "  - Economic Viability\n",
    "  - Long-Term Value Generation\n",
    "  - Accessibility\n",
    "- **Design**: create a stochastic model of servicer entry, conditional upon 1) the arrival of a new service (chain) into the ecosystem, 2) the response of applications to the arrival of a new service, and 3) the resulting profitability of a potential servicer entering the ecosystem\n",
    "- **Testing mechanism**:\n",
    "  - There is an arrival of a new service which initially has no servicers attached\n",
    "  - There is relay demand in response to this new service, potentially with some delay\n",
    "  - Servicers already in the ecosystem decide whether or not to relay to/from the new service\n",
    "  - If a servicer decides to connect to the new service, it may _disconnect_ from its lowest-profit service (no unstaking penalty if moving from one service to another)\n",
    "  - Potential servicers decide whether or not to enter the ecosystem\n",
    "  - Different block reward and fee structures are tested against the above\n",
    "- **KPIs**:\n",
    "  - Servicer NPV (KPI-1)\n",
    "  - Gateway NPV (KPI-3)\n",
    "  - POKT Circulating Supply (KPI-4)\n",
    "  - POKT Available Supply (KPI-5)\n",
    "  - Mint/burn rate (KPI-D)\n",
    "  - DAO Value Capture (KPI-10)\n",
    "  - Servicer Capital Costs (KPI-14)"
   ]
  },
  {
   "cell_type": "markdown",
   "id": "66223523-b76e-42b4-9333-9c6eac3dc2c4",
   "metadata": {},
   "source": [
    "## Protocol Parameters to be swept\n",
    "\n",
    "1. `RelaysToTokensMultiplier` (`RTTM`)\n",
    "2. `GatewayFeePerRelay` (`GFPR`)\n",
    "3. `ApplicationFeePerRelay` (`AFPR`, assumed different from `GFPR`)\n",
    "4. `GatewayMinimumStake` (`GMS`)\n",
    "5. `ApplicationMinimumStake` (`AMS`)\n",
    "6. `DAOAllocation` (`DAL`)\n",
    "7. `ValidatorAllocation` (`VAL`) \n",
    "8. `ServicerAllocation` (derived parameter, defined as 1 - `DAOAllocation` - `ValidatorAllocation`)"
   ]
  },
  {
   "cell_type": "markdown",
   "id": "4336933f-be86-4738-973b-c806d96ec40b",
   "metadata": {},
   "source": [
    "## Exogenous Parameters to be swept\n",
    "1. Probability of a servicer attaching to a new service in the timestep the new service arrives: $p_c \\in (0,1)$\n",
    "2. Probability of a servicer detaching from the lowest-revenue existing service they are attached to: $p_d \\in (0,1)$\n",
    "3. Probability that a servicer joins the network in a given timestep: $p_s \\in (0,1)$, where\n",
    "$p_s = \\bar p_s$ if **average servicer revenue expectations are positive for this timestep**, and $p_s = \\underline p_s$ otherwise, with $\\bar p_s \\geq \\underline p_s$."
   ]
  },
  {
   "cell_type": "markdown",
   "id": "68b70c0b-e8ad-4127-96b9-df8b2740b165",
   "metadata": {},
   "source": [
    "## Exogenous Distributions that are fixed for this scenario\n",
    "\n",
    "1. The probability distribution of relays requested by an application per day: $F^a(r; \\pi) \\in \\mathcal{F}$. Probability distribution (within the set of continuous probability distributions with bounded support $\\mathcal{F}$) of the number of relays per application per day (a random variable). This distribution is parameterized by a finite number of parameters $\\pi$, $|\\pi| < \\infty$. Example parameters could be e.g. moments of the distribution.\n",
    "\n",
    "    **For this scenario, the distribution is located in the function** `submit_relay_requests_ba_gamma()` [within model/boundary_actions/application_ba.py](https://github.com/BlockScience/PocketSimulationModel/blob/main/model/boundary_actions/application.py#L116) \n"
   ]
  },
  {
   "cell_type": "markdown",
   "id": "7a645a36-21b6-4bfd-bdf7-00934c730ffc",
   "metadata": {},
   "source": [
    "## Simulation Initialization\n",
    "\n",
    "1. Initialize a set $N_s$ of servicers\n",
    "2. Initialize a set $N_c$ of services (chains)\n",
    "3. Initialize a set $N_a$ of applications\n",
    "4. Initialize a set $N_g$ of gateways\n",
    "5. Initialize the network of applications - gateways - services - servicers\n",
    "6. Initialize the number of timesteps $T$\n"
   ]
  },
  {
   "cell_type": "markdown",
   "id": "234cfadf-e401-4292-b4fd-152c95a3fb04",
   "metadata": {},
   "source": [
    "## Simulation routine\n",
    "Simulation runs with default behavior for $T/2$ timesteps, to 'burn in' ecosystem profit/loss to servicers from services\n",
    "\n",
    "In timestep $T/2 + 1$:\n",
    "1. Instantiate a completely new service $C$, update $N_c$;\n",
    "2. For each servicer in $N_s$:\n",
    "  - **Attach** to $C$ with probability $p_c$;\n",
    "  - **Detach** from lowest profitable service $\\underline C$ with probability $p_d$\n",
    "3. For each application in $N_a$:\n",
    "   - Draw a relay demand realization $R^C$ from $F^a(r;\\pi)$ for the new service $C$\n",
    "\n",
    "**Simulation then runs for the remaining $T/2$ timesteps, with the network including the new service, and with a new servicer added probabilistically each timestep according to the value of $p_s$.**\n"
   ]
  },
  {
   "cell_type": "markdown",
   "id": "91f3509c-b434-49b5-8df3-166662f127be",
   "metadata": {},
   "source": [
    "Parameter Sweep Values (11 parameters in total)\n",
    "\n",
    "|  Name | Sweep Values | Units |\n",
    "| --- | ---| ---|\n",
    "| `RTTM` | (100, 150, 200) | uPOKT/relay |\n",
    "| `GFPR` | (20, 25, 30) | uPOKT/relay |\n",
    "| `AFPR` | (20, 25, 30) | uPOKT/relay |\n",
    "| `GMS`  | (1e5,1.5e5,2e5) | POKT |\n",
    "| `AMS`  | (1e2, 1e3, 1e4) ? | POKT |\n",
    "| `DAL`  | (0.05, 0.10, 0.15) | % |\n",
    "| `VAL`  | (0.01, 0.05, 0.10) | % |\n",
    "| $p_c$  | (0.1, 0.5, 0.9) | prob |\n",
    "| $p_d$  | (0.01, 0.05, 0.1) | prob |\n",
    "| $\\bar p_s$  | (0.1, 0.5, 0.9) | prob |\n",
    "| $\\underline p_s$  | (0.01, 0.05, 0.1) | prob |\n",
    "\n",
    "**Total number of parameter constellations**: $3^{11} = 177,147$\n",
    "\n",
    "**Total number of Monte Carlo runs per constellation**: ? 30\n",
    "\n",
    "**Total number of experiments**: 5.31441 million"
   ]
  }
 ],
 "metadata": {
  "kernelspec": {
   "display_name": "Python 3 (ipykernel)",
   "language": "python",
   "name": "python3"
  },
  "language_info": {
   "codemirror_mode": {
    "name": "ipython",
    "version": 3
   },
   "file_extension": ".py",
   "mimetype": "text/x-python",
   "name": "python",
   "nbconvert_exporter": "python",
   "pygments_lexer": "ipython3",
   "version": "3.9.18"
  }
 },
 "nbformat": 4,
 "nbformat_minor": 5
}
