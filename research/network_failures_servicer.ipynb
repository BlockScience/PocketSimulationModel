{
 "cells": [
  {
   "cell_type": "markdown",
   "id": "e5741c9b-699c-4ea4-b16b-1e9ddc675e8b",
   "metadata": {},
   "source": [
    "## Network Failures - Servicer\n",
    "\n",
    "- **Goal**: to understand the impact of parts of the servicer network 'going dark' on the ability of the network to reassign relay requests (work)\n",
    "- **System Goals Targeted**:\n",
    "  - Service Reliability\n",
    "  - Accessibility\n",
    "- **Design**: allow for groups of servicers to be rendered unavailable by 1) 'shutting down' by attribute, such as GeoZone, service type, etc., or 2) 'unlinking' servicers from services\n",
    "- **Testing mechanism**:\n",
    "  - All servicers of with a matching attribute do not perform the work they are allocated\n",
    "  - Allow for a random selection of servicers to lose their connection to a given service, for a certain duration (perhaps infinite)\n",
    "  - The overall loss in QoS is measured with respect to the 'self healing' properties of the network to reallocate work, by assessing \n",
    "    - Different servicer-service topologies (e.g. network densities)\n",
    "- **KPIs**:\n",
    "  - Servicer slashing cost (KPI-8)\n",
    "  - Servicer jailing opportunity cost (KPI-11)\n",
    "  - Network load balancing (KPI-C)\n",
    "  - Application relay cost per byte (KPI-6)"
   ]
  },
  {
   "cell_type": "markdown",
   "id": "65c237bb-7f20-4276-b401-b6bbe6242c78",
   "metadata": {},
   "source": [
    "## Protocol Parameters to be swept\n",
    "\n",
    "1. `SlashFractionDowntime` (`SFD`)\n",
    "2. `MaxChainsPerServicer` (`MCPS`)\n",
    "3. `DowntimeJailDuration` (`DJD`)\n",
    "4. `MaxJailedBlocks` (`MJB`)"
   ]
  },
  {
   "cell_type": "markdown",
   "id": "6cdfce9f-d5ec-4508-a18e-d7953bee7973",
   "metadata": {},
   "source": [
    "## Exogenous Parameters to be swept\n",
    "1. Servicer-to-service network density parameter: $\\delta \\in [0,1]$\n",
    "2. Attribute to condition upon for shutdown: $A$, with value taken from the set of servicer attributes (e.g. GeoZone, service type etc.)\n",
    "3. Duration of a service (chain) outage: $D$ (in days)"
   ]
  },
  {
   "cell_type": "markdown",
   "id": "71acf845-1885-438a-9b9f-2d17e89031ad",
   "metadata": {},
   "source": [
    "## Simulation Initialization\n",
    "\n",
    "1. Initialize a set $N_s$ of servicers\n",
    "2. Initialize a set $N_c$ of services (chains)\n",
    "3. Initialize a set $N_a$ of applications\n",
    "4. Initialize a set $N_g$ of gateways\n",
    "5. Initialize the network of applications - gateways - services - servicers\n",
    "    - Initialize to a particular servicer-to-service density, given by the sweep value of the $\\delta$ density parameter. This requires explicitly adding services (chains) to servicers until the density $\\delta$ is met. This in turn means adding services to servicers until the number of such connections, $N$, is equal to\n",
    "    $$N := \\lfloor \\delta \\times |N_s| \\times | N_c | \\rfloor,$$\n",
    "    where $\\lfloor \\cdot \\rfloor$ is the 'floor' operator (lowest nearest integer), and $| \\cdot |$ is the number of elements of the set.\n",
    "7. Initialize the number of timesteps $T$ even\n"
   ]
  },
  {
   "cell_type": "markdown",
   "id": "202a3780-d798-4554-bdee-f4cf61de81df",
   "metadata": {},
   "source": [
    "## Simulation routine A - servicer shutdown by attribute\n",
    "Simulation runs with default behavior for $T/2$ timesteps, to 'burn in' QoS when all servicers are operational\n",
    "\n",
    "In timestep $T/2 + 1$:\n",
    "1. For each servicer matching attribute $A$, remove all of their connections to services--these servicers are no longer active for the remainder of the simulation\n",
    "\n",
    "**Simulation then runs for the remaining $T/2$ timesteps, with the network operating only using servicers that do not match the selected attribute. Servicers which are no longer active are assessed their slashing and/or jailing penalties, as appropriate.**"
   ]
  },
  {
   "cell_type": "markdown",
   "id": "735b9c3b-7e7d-488a-a810-e7e46ba537ca",
   "metadata": {},
   "source": [
    "## Simulation routine B - random service shutdown\n",
    "Simulation runs with default behavior for $T/2$ timesteps, to 'burn in' QoS when all servicers are operational\n",
    "\n",
    "In timestep $T/2 + 1$:\n",
    "1. Randomly select one active service (chain) $C$, and remove all of its connections to servicers--these servicers are no longer able to access the affected service $C$ for $D$ timesteps\n",
    "\n",
    "**Simulation then runs for $T/2 + D$ timesteps, with the network operating without access to service $C$.**\n",
    "\n",
    "In timestep $T/2 + D + 1$:\n",
    "1. For inactive service $C$, restore all of its pre-existing connections to servicers--these servicers are now able to once again access service $C$\n",
    "\n",
    "**Simulation then runs for remaining $T - T/2 - D$ timesteps, with the network operating in the same topological state as in the first $T/2$ timesteps.**"
   ]
  },
  {
   "cell_type": "markdown",
   "id": "3946361a-1319-474d-93a1-999d9a6640e8",
   "metadata": {},
   "source": [
    "Parameter Sweep Values (7 parameters in total)\n",
    "\n",
    "|  Name | Sweep Values | Units |\n",
    "| --- | ---| ---|\n",
    "| `SFD` | (1e-10, 1e-6, 1e-1) | seconds |\n",
    "| `MCPS` | (1, 12, 20) | number |\n",
    "| `DJD` | (60, 3600, 28800) | seconds |\n",
    "| `MJB`  | (200,400,800) | days |\n",
    "| $\\delta$  | (0.1, 0.5, 1.) | % |\n",
    "| $A$  | ('Geozone', ?, ?) | string |\n",
    "| $D$  | (1, 7, $T$) | days |\n",
    "\n",
    "**Total number of parameter constellations**: \n",
    "  - Routine A: $3^{7} = 2,187$\n",
    "  - Routine B: $3^{6} = 729$ (excludes attribute $A$ sweep)\n",
    "\n",
    "**Total number of Monte Carlo runs per constellation**: ? 30\n",
    "\n",
    "**Total number of experiments**: 84,480"
   ]
  },
  {
   "cell_type": "code",
   "execution_count": null,
   "id": "c1421960-d76e-48a7-b8b9-b33f7ee14a3e",
   "metadata": {},
   "outputs": [],
   "source": []
  }
 ],
 "metadata": {
  "kernelspec": {
   "display_name": "Python 3 (ipykernel)",
   "language": "python",
   "name": "python3"
  },
  "language_info": {
   "codemirror_mode": {
    "name": "ipython",
    "version": 3
   },
   "file_extension": ".py",
   "mimetype": "text/x-python",
   "name": "python",
   "nbconvert_exporter": "python",
   "pygments_lexer": "ipython3",
   "version": "3.9.18"
  }
 },
 "nbformat": 4,
 "nbformat_minor": 5
}
