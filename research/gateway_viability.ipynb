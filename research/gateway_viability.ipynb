{
 "cells": [
  {
   "cell_type": "markdown",
   "id": "f9364f82-6134-412d-abcc-56a6b272941e",
   "metadata": {},
   "source": [
    "## Gateway Viability\n",
    "\n",
    "- **Goal**: to understand the economic incentives to become and to remain a gateway\n",
    "- **System Goals Targeted**:\n",
    "  - Economic Viability\n",
    "  - Accessibility\n",
    "- **Design**: create different demand-side circumstances (e.g. application growth, relay per application growth) that impact gateway profitability\n",
    "- **Testing mechanism**:\n",
    "  - Introduce different rates of arrival for applications into the ecosystem\n",
    "  - Introduce different relay traffic rates per application\n",
    "  - Assess the impact of different `TokenToRelaysMultiplier` (`TTRM`) values on gateway profitability, comparing revenue from being a gateway to revenue from being a servicer (potentially making `TTRM` different _for each service_ )\n",
    "  - Assess the impact of different gateway fees per relay (`GFPR`) on gateway profitability, comparing revenue from being a gateway to revenue from being a servicer\n",
    "  - Assess different minimum staking amounts as a barrier to entry\n",
    "- **KPIs**:\n",
    "  - Servicer NPV (KPI-1)\n",
    "  - Gateway NPV (KPI-3)\n",
    "  - Servicer Capital Costs per Unit of Reward (KPI-14)\n",
    "  - DAO value capture (KPI-10)"
   ]
  },
  {
   "cell_type": "markdown",
   "id": "6dc93893-47ce-466b-a4cb-a8c921523890",
   "metadata": {},
   "source": [
    "## Protocol Parameters to be swept\n",
    "\n",
    "1. `TokenToRelaysMultiplier` (`TTRM`)\n",
    "2. `GatewayFeePerRelay` (`GFPR`)\n",
    "3. `ApplicationFeePerRelay` (`AFPR`, assumed different from `GFPR`)\n",
    "4. `GatewayMinimumStake` (`GMS`)\n",
    "5. `ApplicationMinimumStake` (`AMS`)"
   ]
  },
  {
   "cell_type": "markdown",
   "id": "8579d34b-3ba8-41a8-ba4c-059632088846",
   "metadata": {},
   "source": [
    "## Exogenous Parameters to be swept\n",
    "1. Maximum number of applications in the simulation: [params[\"application_max_number\"]](https://github.com/BlockScience/PocketSimulationModel/blob/scenario-notebooks/model/boundary_actions/application.py#L15): $A$. Sweeping this parameter changes the arrival rate of applications by adjusting the time before the network is 'saturated'.\n",
    "2. Average arrival rate of the relay request process (cf. below): $\\pi_0$"
   ]
  },
  {
   "cell_type": "markdown",
   "id": "d6601955-aa25-4490-9bfd-e7afc52b5b02",
   "metadata": {},
   "source": [
    "## Exogenous Distributions that are fixed for this scenario (but may depend upon a parameter being swept)\n",
    "\n",
    "1. The probability distribution of relays requested by an application per day: $F^a(r; \\boldsymbol \\pi) \\in \\mathcal{F}$. Probability distribution (within the set of continuous probability distributions with bounded support $\\mathcal{F}$) of the number of relays per application per day (a random variable). This distribution is parameterized by a finite number of parameters $\\boldsymbol \\pi$, $|\\boldsymbol \\pi| < \\infty$. _One_ of these parameters, say $\\pi_0$, represents the arrival rate of relays over the course of one day.\n",
    "\n",
    "**For this scenario, the distribution is located in the function** `submit_relay_requests_ba_gamma()` [within model/boundary_actions/application_ba.py](https://github.com/BlockScience/PocketSimulationModel/blob/main/model/boundary_actions/application.py#L116) "
   ]
  },
  {
   "cell_type": "markdown",
   "id": "c8cb19cd-f6c8-4f1d-9005-87fd5c62e3cf",
   "metadata": {},
   "source": [
    "## Simulation Initialization\n",
    "\n",
    "1. Initialize a set $N_s$ of servicers\n",
    "2. Initialize a set $N_c$ of services (chains)\n",
    "3. Initialize a set $N_a$ of applications\n",
    "4. Initialize a set $N_g$ of gateways\n",
    "5. Initialize the network of applications - gateways - services - servicers\n",
    "6. Initialize the number of timesteps $T$"
   ]
  },
  {
   "cell_type": "markdown",
   "id": "e15372e9-8c53-45a7-bb9a-b2749b4fbb11",
   "metadata": {},
   "source": [
    "## Simulation routine\n",
    "\n",
    "**Each simulation runs as the \"default\", with different maximum number of applications, average arrival rate of requests, and other sweep parameter values.**\n"
   ]
  },
  {
   "cell_type": "markdown",
   "id": "d7965428-90ff-4f57-af65-77a54125cb2d",
   "metadata": {},
   "source": [
    "## Full Grid Parameter Sweep Values (7 parameters in total)\n",
    "\n",
    "|  Name | Sweep Values | Units |\n",
    "| --- | ---| ---|\n",
    "| `TTRM` | (25, 100, 400) | relay/uPOKT |\n",
    "| `GFPR` | (20, 25, 30) | uPOKT/relay |\n",
    "| `AFPR` | (20, 25, 30) | uPOKT/relay |\n",
    "| `GMS`  | (1e5, 1.5e5, 2e5) | POKT |\n",
    "| `AMS`  | (1e4, 1.5e4, 2e4)  | POKT |\n",
    "| $A$  | (1, 20, 100) | number |\n",
    "| $\\pi_0$  | (250, 25000, 250,000) ? | relays/day |\n",
    "\n",
    "**Total number of parameter constellations**: $3^{7} = 2,187$\n",
    "\n",
    "**Total number of Monte Carlo runs per constellation**: ? 30\n",
    "\n",
    "**Total number of experiments**: 65,610"
   ]
  },
  {
   "cell_type": "markdown",
   "id": "e934936e-2eb9-4aa0-8e6f-1d9ad5481f20",
   "metadata": {},
   "source": [
    "## Adaptive Grid Parameter Sweep Values (7 parameters in total)\n",
    "\n",
    "|  Name | Sweep Values | Units |\n",
    "| --- | ---| ---|\n",
    "| `TTRM` | (25, 400) | relay/uPOKT |\n",
    "| `GFPR` | (20, 30) | uPOKT/relay |\n",
    "| `AFPR` | (20, 30) | uPOKT/relay |\n",
    "| `GMS`  | (1e5, 2e5) | POKT |\n",
    "| `AMS`  | (1e4, 2e4)  | POKT |\n",
    "| $A$  | (1, 20, 100) | number |\n",
    "| $\\pi_0$  | (250, 25000, 250,000) ? | relays/day |\n",
    "\n",
    "**Total number of parameter constellations**: $2^{5} \\times 3^2 = 288$\n",
    "\n",
    "**Total number of Monte Carlo runs per constellation**: ? 30\n",
    "\n",
    "**Total number of experiments**: 8,640\n",
    "\n",
    "## Loop algorithm (as many times as is feasible given resource/time constraints)\n",
    "\n",
    "1. Run experiments\n",
    "2. Assess KPIs via threshold inequalities/sensitivity analysis\n",
    "3. Select representative 'best' constellation\n",
    "4. Generate new $(min,max)$ grid sweep values for each parameter around 'best' constellation values\n",
    "5. Loop--back to #1."
   ]
  },
  {
   "cell_type": "code",
   "execution_count": null,
   "id": "58201cb4-47fd-4f17-b018-b25d706cfb97",
   "metadata": {},
   "outputs": [],
   "source": []
  }
 ],
 "metadata": {
  "kernelspec": {
   "display_name": "Python 3 (ipykernel)",
   "language": "python",
   "name": "python3"
  },
  "language_info": {
   "codemirror_mode": {
    "name": "ipython",
    "version": 3
   },
   "file_extension": ".py",
   "mimetype": "text/x-python",
   "name": "python",
   "nbconvert_exporter": "python",
   "pygments_lexer": "ipython3",
   "version": "3.9.18"
  }
 },
 "nbformat": 4,
 "nbformat_minor": 5
}
