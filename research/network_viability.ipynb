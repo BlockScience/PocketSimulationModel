{
 "cells": [
  {
   "cell_type": "markdown",
   "id": "4910b332-78d4-4c34-8e0e-4558a4b98198",
   "metadata": {},
   "source": [
    "## Network Viability - Rewards and Fees\n",
    "\n",
    "- **Goal**: to understand the impact(s) of 1) changing the servicer block reward allocation amount, and 2) changing the gateway/application fee amounts, on supply-side profitability under different demand-side growth regimes. \n",
    "- **System Goals Targeted**:\n",
    "  - Economic Viability\n",
    "  - Long-Term Value Generation\n",
    "  - Accessibility\n",
    "- **Design**: create a series of demand-side growth scenarios, and for a given network topology assess supply-side profitability\n",
    "- **Testing mechanism**:\n",
    "  - There is a growth process for relay demand\n",
    "    - For a single service (\"one chain is on fire or is crashing\")\n",
    "    - For multiple services (\"sector boom or bust\")\n",
    "  - Different block reward and fee structures are tested against the above\n",
    "- **KPIs**:\n",
    "  - Servicer NPV (KPI-1)\n",
    "  - Gateway NPV (KPI-3)\n",
    "  - POKT Circulating Supply (KPI-4)\n",
    "  - POKT Available Supply (KPI-5)\n",
    "  - Mint/burn rate (KPI-D)\n",
    "  - Application relay cost per byte (KPI-6)\n",
    "  - DAO value capture (KPI-10)"
   ]
  },
  {
   "cell_type": "markdown",
   "id": "1fab8d96-c795-4fbe-8b97-6e3522d17002",
   "metadata": {},
   "source": [
    "## Protocol Parameters to be swept\n",
    "\n",
    "1. `RelaysToTokensMultiplier` (`RTTM`)\n",
    "2. `GatewayFeePerRelay` (`GFPR`)\n",
    "3. `ApplicationFeePerRelay` (`AFPR`, assumed different from `GFPR`)\n",
    "4. `GatewayMinimumStake` (`GMS`)\n",
    "5. `ApplicationMinimumStake` (`AMS`)\n",
    "6. `DAOAllocation` (`DAL`)\n",
    "7. `ValidatorAllocation` (`VAL`) \n",
    "8. `ServicerAllocation` (derived parameter, defined as 1 - `DAOAllocation` - `ValidatorAllocation`)"
   ]
  },
  {
   "cell_type": "markdown",
   "id": "9a2e6daa-f542-47f7-a25f-fd4fcb3fde6f",
   "metadata": {
    "jp-MarkdownHeadingCollapsed": true
   },
   "source": [
    "## Exogenous Parameters to be swept\n",
    "1. Average arrival rate of the relay arrival process (cf. below): $\\pi_0$\n",
    "    - For a single service demanded by applications (i.e. rate is only adjusted for one particular service)\n",
    "    - For multiple services demanded by applications (i.e. rate is adjusted for many services)\n",
    "2. Probability of a servicer linking to a service: [params[\"service_linking_probability_normal\"]](https://github.com/BlockScience/PocketSimulationModel/blob/main/model/config/params.py): $p_{link} \\in (0,1]$\n",
    "3. Number of services to be affected by the average relay arrival rate adjustment: $C$\n"
   ]
  },
  {
   "cell_type": "markdown",
   "id": "6b1998ec-5a32-4335-9098-bc6b77f5e530",
   "metadata": {},
   "source": [
    "## Exogenous Distributions that are fixed for this scenario (but may depend upon a parameter being swept)\n",
    "\n",
    "1. The probability distribution of relays requested by an application per day: $F^a(r; \\boldsymbol \\pi) \\in \\mathcal{F}$. Probability distribution (within the set of continuous probability distributions with bounded support $\\mathcal{F}$) of the number of relays per application per day (a random variable). This distribution is parameterized by a finite number of parameters $\\boldsymbol \\pi$, $|\\boldsymbol \\pi| < \\infty$. _One_ of these parameters, say $\\pi_0$, represents the arrival rate of relays over the course of one day. This parameter is changed halfway through each simulation (see below). \n",
    "\n",
    "**For this scenario, the distribution is located in the function** `submit_relay_requests_ba_gamma()` [within model/boundary_actions/application_ba.py](https://github.com/BlockScience/PocketSimulationModel/blob/main/model/boundary_actions/application.py#L116) "
   ]
  },
  {
   "cell_type": "markdown",
   "id": "ad856d3a-ed55-41f3-a9d5-260b3c1c1952",
   "metadata": {},
   "source": [
    "## Simulation Initialization\n",
    "\n",
    "1. Initialize a set $N_s$ of servicers\n",
    "2. Initialize a set $N_c$ of services (chains)\n",
    "3. Initialize a set $N_a$ of applications\n",
    "4. Initialize a set $N_g$ of gateways\n",
    "5. Initialize the network of applications - gateways - services - servicers\n",
    "6. Initialize the number of timesteps $T$\n",
    "7. Initialize the number of services affected by the relay adjustment: $C$\n"
   ]
  },
  {
   "cell_type": "markdown",
   "id": "e7fc9454-1ebb-4197-89e1-081e38ebc96d",
   "metadata": {},
   "source": [
    "## Simulation routine, service demand change\n",
    "Simulation runs with default behavior for $T/2$ timesteps, to 'burn in' ecosystem token flows\n",
    "\n",
    "In timestep $T/2 + 1$:\n",
    "1. Randomly draw without replacement $C$ services from $N_c$. For each of these services (or this service, if $C = 1$), adjust the relay demand by using one of the sweep values for the average arrival rate $\\pi_0$. Call the resulting distribution parameter vector $\\boldsymbol{\\pi}^*$.\n",
    "2. For each application in $N_a$:\n",
    "   - For each service $c$ from the $C$ services that were affected by the relay adjustment: \n",
    "     - Draw a relay demand realization $R(c)$ from $F^a(r;\\boldsymbol{\\pi}^*)$\n",
    "   - Draw the remaining relay demand realizations from $F^a(r;\\boldsymbol \\pi)$ using the default parameter values $\\boldsymbol \\pi$.\n",
    "\n",
    "**Simulation then runs for the remaining $T/2$ timesteps, with the network using the new average arrival rate value for the $C$ affected services.**\n"
   ]
  },
  {
   "cell_type": "markdown",
   "id": "ff9b7f79-ce27-4122-a5eb-99bff6345b53",
   "metadata": {},
   "source": [
    "## Full Grid Parameter Sweep Values (10 parameters in total)\n",
    "\n",
    "|  Name | Sweep Values | Units |\n",
    "| --- | ---| ---|\n",
    "| `RTTM` | (100, 150, 200) | uPOKT/relay |\n",
    "| `GFPR` | (20, 25, 30) | uPOKT/relay |\n",
    "| `AFPR` | (20, 25, 30) | uPOKT/relay |\n",
    "| `GMS`  | (1e5, 1.5e5, 2e5) | POKT |\n",
    "| `AMS`  | (1e4, 1.5e4, 2e4)  | POKT |\n",
    "| `DAL`  | (0.05, 0.10, 0.15) | % |\n",
    "| `VAL`  | (0.01, 0.05, 0.10) | % |\n",
    "| $\\pi_0$  | (250, 25000, 250,000) ? | relays/day |\n",
    "| $p_{link}$  | (0.001, 0.01, 0.1) | prob |\n",
    "| $C$  | (1, 3, 5) | number |\n",
    "\n",
    "**Total number of parameter constellations**: $3^{10} = 59,049$\n",
    "\n",
    "**Total number of Monte Carlo runs per constellation**: ? 30\n",
    "\n",
    "**Total number of experiments**: 1.77147 million"
   ]
  },
  {
   "cell_type": "markdown",
   "id": "625f9752-5bee-4b7c-873f-67db72136c7c",
   "metadata": {},
   "source": [
    "## Adaptive Grid Parameter Sweep Values (10 parameters in total)\n",
    "\n",
    "|  Name | Sweep Values | Units |\n",
    "| --- | ---| ---|\n",
    "| `RTTM` | (100, 200) | uPOKT/relay |\n",
    "| `GFPR` | (20, 30) | uPOKT/relay |\n",
    "| `AFPR` | (20, 30) | uPOKT/relay |\n",
    "| `GMS`  | (1e5, 2e5) | POKT |\n",
    "| `AMS`  | (1e4, 2e4)  | POKT |\n",
    "| `DAL`  | (0.05, 0.15) | % |\n",
    "| `VAL`  | (0.01, 0.10) | % |\n",
    "| $\\pi_0$  | (250, 25000, 250,000) ? | relays/day |\n",
    "| $p_{link}$  | (0.001, 0.01, 0.1) | prob |\n",
    "| $C$  | (1, 3, 5) | number |\n",
    "\n",
    "**Total number of parameter constellations**: $2^{7} \\times 3^3 = 3,456$\n",
    "\n",
    "**Total number of Monte Carlo runs per constellation**: ? 30\n",
    "\n",
    "**Total number of experiments**: 103,680\n",
    "\n",
    "## Loop algorithm (as many times as is feasible given resource/time constraints)\n",
    "\n",
    "1. Run experiments\n",
    "2. Assess KPIs via threshold inequalities/sensitivity analysis\n",
    "3. Select representative 'best' constellation\n",
    "4. Generate new $(min,max)$ grid sweep values for each parameter around 'best' constellation values\n",
    "5. Loop--back to #1."
   ]
  },
  {
   "cell_type": "code",
   "execution_count": null,
   "id": "607a228a-6db9-407b-bf32-3058433dc501",
   "metadata": {},
   "outputs": [],
   "source": []
  }
 ],
 "metadata": {
  "kernelspec": {
   "display_name": "Python 3 (ipykernel)",
   "language": "python",
   "name": "python3"
  },
  "language_info": {
   "codemirror_mode": {
    "name": "ipython",
    "version": 3
   },
   "file_extension": ".py",
   "mimetype": "text/x-python",
   "name": "python",
   "nbconvert_exporter": "python",
   "pygments_lexer": "ipython3",
   "version": "3.9.18"
  }
 },
 "nbformat": 4,
 "nbformat_minor": 5
}
